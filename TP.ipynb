{
 "cells": [
  {
   "cell_type": "code",
   "execution_count": 111,
   "id": "f8b8d720-4feb-40b7-a6cc-35b62ad6f421",
   "metadata": {},
   "outputs": [
    {
     "data": {
      "text/html": [
       "\n",
       "            <div>\n",
       "                <p><b>SparkSession - in-memory</b></p>\n",
       "                \n",
       "        <div>\n",
       "            <p><b>SparkContext</b></p>\n",
       "\n",
       "            <p><a href=\"http://10.0.0.242:4040\">Spark UI</a></p>\n",
       "\n",
       "            <dl>\n",
       "              <dt>Version</dt>\n",
       "                <dd><code>v3.2.0</code></dd>\n",
       "              <dt>Master</dt>\n",
       "                <dd><code>local[*]</code></dd>\n",
       "              <dt>AppName</dt>\n",
       "                <dd><code>TP</code></dd>\n",
       "            </dl>\n",
       "        </div>\n",
       "        \n",
       "            </div>\n",
       "        "
      ],
      "text/plain": [
       "<pyspark.sql.session.SparkSession at 0x2c87fa744f0>"
      ]
     },
     "execution_count": 111,
     "metadata": {},
     "output_type": "execute_result"
    }
   ],
   "source": [
    "# Importing the necessary modules\n",
    "import findspark\n",
    "findspark.init()\n",
    "\n",
    "# Initialize a SparkSession\n",
    "from pyspark.sql import SparkSession\n",
    "\n",
    "# Creating SparkSession\n",
    "spark = SparkSession.builder.appName('TP').getOrCreate()\n",
    "\n",
    "# Calling the session variable object\n",
    "spark"
   ]
  },
  {
   "cell_type": "markdown",
   "id": "9349b33b",
   "metadata": {},
   "source": [
    "Loading data sets"
   ]
  },
  {
   "cell_type": "code",
   "execution_count": 112,
   "id": "d845c259-a3b7-46fe-a989-6392ad24c3ce",
   "metadata": {},
   "outputs": [],
   "source": [
    "netflix_url = \"https://raw.githubusercontent.com/AmandaClinnie/DS625-TeamProject/main/netflix_titles.csv\"\n",
    "disney_url = \"https://raw.githubusercontent.com/AmandaClinnie/DS625-TeamProject/main/disney_plus_titles.csv\"\n",
    "\n",
    "from pyspark import SparkFiles\n",
    "spark.sparkContext.addFile(netflix_url)\n",
    "spark.sparkContext.addFile(disney_url)\n",
    "\n",
    "netflix_df = spark.read.csv(\"file:///\"+SparkFiles.get(\"netflix_titles.csv\"), header=True, inferSchema= True)\n",
    "disney_df = spark.read.csv(\"file:///\"+SparkFiles.get(\"disney_plus_titles.csv\"), header=True, inferSchema= True)"
   ]
  },
  {
   "cell_type": "code",
   "execution_count": 113,
   "id": "78dd188a-306b-4a3e-b15a-75745ed1acd4",
   "metadata": {},
   "outputs": [
    {
     "name": "stdout",
     "output_type": "stream",
     "text": [
      "root\n",
      " |-- show_id: string (nullable = true)\n",
      " |-- type: string (nullable = true)\n",
      " |-- title: string (nullable = true)\n",
      " |-- director: string (nullable = true)\n",
      " |-- cast: string (nullable = true)\n",
      " |-- country: string (nullable = true)\n",
      " |-- date_added: string (nullable = true)\n",
      " |-- release_year: string (nullable = true)\n",
      " |-- rating: string (nullable = true)\n",
      " |-- duration: string (nullable = true)\n",
      " |-- listed_in: string (nullable = true)\n",
      " |-- description: string (nullable = true)\n",
      "\n",
      "root\n",
      " |-- show_id: string (nullable = true)\n",
      " |-- type: string (nullable = true)\n",
      " |-- title: string (nullable = true)\n",
      " |-- director: string (nullable = true)\n",
      " |-- cast: string (nullable = true)\n",
      " |-- country: string (nullable = true)\n",
      " |-- date_added: string (nullable = true)\n",
      " |-- release_year: string (nullable = true)\n",
      " |-- rating: string (nullable = true)\n",
      " |-- duration: string (nullable = true)\n",
      " |-- listed_in: string (nullable = true)\n",
      " |-- description: string (nullable = true)\n",
      "\n"
     ]
    }
   ],
   "source": [
    "netflix_df.printSchema()\n",
    "disney_df.printSchema()"
   ]
  },
  {
   "cell_type": "code",
   "execution_count": 114,
   "id": "5c6f6d42-d52d-4bc4-8294-4d981f36ca6f",
   "metadata": {},
   "outputs": [
    {
     "name": "stdout",
     "output_type": "stream",
     "text": [
      "+-------+-------+--------------------+---------------+--------------------+-------------+------------------+------------+------+---------+--------------------+--------------------+\n",
      "|show_id|   type|               title|       director|                cast|      country|        date_added|release_year|rating| duration|           listed_in|         description|\n",
      "+-------+-------+--------------------+---------------+--------------------+-------------+------------------+------------+------+---------+--------------------+--------------------+\n",
      "|     s1|  Movie|Dick Johnson Is Dead|Kirsten Johnson|                null|United States|September 25, 2021|        2020| PG-13|   90 min|       Documentaries|As her father nea...|\n",
      "|     s2|TV Show|       Blood & Water|           null|Ama Qamata, Khosi...| South Africa|September 24, 2021|        2021| TV-MA|2 Seasons|International TV ...|After crossing pa...|\n",
      "|     s3|TV Show|           Ganglands|Julien Leclercq|Sami Bouajila, Tr...|         null|September 24, 2021|        2021| TV-MA| 1 Season|Crime TV Shows, I...|To protect his fa...|\n",
      "+-------+-------+--------------------+---------------+--------------------+-------------+------------------+------------+------+---------+--------------------+--------------------+\n",
      "only showing top 3 rows\n",
      "\n",
      "+-------+-----+--------------------+--------------------+--------------------+-------------+-----------------+------------+------+--------+--------------------+--------------------+\n",
      "|show_id| type|               title|            director|                cast|      country|       date_added|release_year|rating|duration|           listed_in|         description|\n",
      "+-------+-----+--------------------+--------------------+--------------------+-------------+-----------------+------------+------+--------+--------------------+--------------------+\n",
      "|     s1|Movie|Duck the Halls: A...|Alonso Ramirez Ra...|Chris Diamantopou...|         null|November 26, 2021|        2016|  TV-G|  23 min|   Animation, Family|Join Mickey and t...|\n",
      "|     s2|Movie|Ernest Saves Chri...|         John Cherry|Jim Varney, Noell...|         null|November 26, 2021|        1988|    PG|  91 min|              Comedy|Santa Claus passe...|\n",
      "|     s3|Movie|Ice Age: A Mammot...|        Karen Disher|Raymond Albert Ro...|United States|November 26, 2021|        2011|  TV-G|  23 min|Animation, Comedy...|Sid the Sloth is ...|\n",
      "+-------+-----+--------------------+--------------------+--------------------+-------------+-----------------+------------+------+--------+--------------------+--------------------+\n",
      "only showing top 3 rows\n",
      "\n"
     ]
    }
   ],
   "source": [
    "netflix_df.show(3)\n",
    "disney_df.show(3)"
   ]
  },
  {
   "cell_type": "code",
   "execution_count": 115,
   "id": "8c67cbed-ccc5-40a7-8cd6-1c1c86127cc0",
   "metadata": {},
   "outputs": [],
   "source": [
    "netflix_df.createOrReplaceTempView(\"Netflix\")\n",
    "disney_df.createOrReplaceTempView(\"Disney\")"
   ]
  },
  {
   "cell_type": "markdown",
   "id": "4a967c24",
   "metadata": {},
   "source": [
    "# Data Cleaning"
   ]
  },
  {
   "cell_type": "code",
   "execution_count": 116,
   "id": "049e914d-da12-4681-b99b-5290294b952f",
   "metadata": {},
   "outputs": [],
   "source": [
    "# remove (do not select) show_id and date_added columns\n",
    "# convert columns with multiple values to arrays\n",
    "netflix_clean = spark.sql(\"SELECT type, \\\n",
    "                  title, \\\n",
    "                  SPLIT(director, ',') AS director, \\\n",
    "                  SPLIT(cast, ',') AS cast, \\\n",
    "                  SPLIT(country, ',') AS country, \\\n",
    "                  release_year, \\\n",
    "                  rating, \\\n",
    "                  duration, \\\n",
    "                  SPLIT(listed_in, ',') AS listed_in, \\\n",
    "                  description \\\n",
    "                  FROM Netflix\")\n",
    "netflix_clean.createOrReplaceTempView(\"Netflix1\")\n",
    "\n",
    "disney_clean = spark.sql(\"SELECT type, \\\n",
    "                  title, \\\n",
    "                  SPLIT(director, ',') AS director, \\\n",
    "                  SPLIT(cast, ',') AS cast, \\\n",
    "                  SPLIT(country, ',') AS country, \\\n",
    "                  release_year, \\\n",
    "                  rating, \\\n",
    "                  duration, \\\n",
    "                  SPLIT(listed_in, ',') AS listed_in, \\\n",
    "                  description \\\n",
    "                  FROM Disney\")\n",
    "disney_clean.createOrReplaceTempView(\"Disney1\")"
   ]
  },
  {
   "cell_type": "code",
   "execution_count": 117,
   "id": "c0152fcf-7c38-4da6-ab44-c3f747bed655",
   "metadata": {},
   "outputs": [
    {
     "name": "stdout",
     "output_type": "stream",
     "text": [
      "+----------------+---------+---------+--------------------------------------------------------+-----------------------------------------------------+\n",
      "|title           |duration |duration |listed_in                                               |listed_in                                            |\n",
      "+----------------+---------+---------+--------------------------------------------------------+-----------------------------------------------------+\n",
      "|PJ Masks        |3 Seasons|5 Seasons|[Kids' TV]                                              |[Action-Adventure,  Animation,  Kids]                |\n",
      "|Once Upon a Time|1 Season |7 Seasons|[International TV Shows,  Romantic TV Shows,  TV Dramas]|[Action-Adventure,  Fantasy,  Soap Opera / Melodrama]|\n",
      "|Gigantosaurus   |1 Season |2 Seasons|[Kids' TV]                                              |[Action-Adventure,  Animation,  Kids]                |\n",
      "|Becoming        |89 min   |1 Season |[Documentaries]                                         |[Anthology,  Docuseries,  Family]                    |\n",
      "|Genius          |96 min   |86 min   |[Dramas,  Independent Movies,  International Movies]    |[Comedy,  Coming of Age]                             |\n",
      "+----------------+---------+---------+--------------------------------------------------------+-----------------------------------------------------+\n",
      "only showing top 5 rows\n",
      "\n"
     ]
    }
   ],
   "source": [
    "# test duration and listed_in columns to see if they vary between platforms\n",
    "overlap = spark.sql(\"SELECT Netflix1.title, Netflix1.duration, Disney1.duration,\\\n",
    "                     Netflix1.listed_in, Disney1.listed_in FROM Netflix1 \\\n",
    "                     INNER JOIN Disney1 ON Netflix1.title = Disney1.title\")\n",
    "overlap.show(5, truncate=False)\n",
    "# there is variation - worth keeping each dataset separate"
   ]
  },
  {
   "cell_type": "code",
   "execution_count": 118,
   "id": "2769df0a-2dbf-4cf4-8363-7aea61876ac0",
   "metadata": {},
   "outputs": [
    {
     "name": "stdout",
     "output_type": "stream",
     "text": [
      "+----------+\n",
      "|type_nulls|\n",
      "+----------+\n",
      "|         1|\n",
      "+----------+\n",
      "\n",
      "+-----------+\n",
      "|title_nulls|\n",
      "+-----------+\n",
      "|          2|\n",
      "+-----------+\n",
      "\n",
      "+--------------+\n",
      "|director_nulls|\n",
      "+--------------+\n",
      "|          2636|\n",
      "+--------------+\n",
      "\n",
      "+----------+\n",
      "|cast_nulls|\n",
      "+----------+\n",
      "|       826|\n",
      "+----------+\n",
      "\n",
      "+-------------+\n",
      "|country_nulls|\n",
      "+-------------+\n",
      "|          832|\n",
      "+-------------+\n",
      "\n",
      "+------------------+\n",
      "|release_year_nulls|\n",
      "+------------------+\n",
      "|                 2|\n",
      "+------------------+\n",
      "\n",
      "+------------+\n",
      "|rating_nulls|\n",
      "+------------+\n",
      "|           6|\n",
      "+------------+\n",
      "\n",
      "+--------------+\n",
      "|duration_nulls|\n",
      "+--------------+\n",
      "|             5|\n",
      "+--------------+\n",
      "\n",
      "+---------------+\n",
      "|listed_in_nulls|\n",
      "+---------------+\n",
      "|              3|\n",
      "+---------------+\n",
      "\n",
      "+-----------------+\n",
      "|desctiption_nulls|\n",
      "+-----------------+\n",
      "|                3|\n",
      "+-----------------+\n",
      "\n"
     ]
    }
   ],
   "source": [
    "netflix_nulls = spark.sql(\"SELECT COUNT (*) AS type_nulls FROM Netflix1 WHERE type IS NULL\")\n",
    "netflix_nulls.show()\n",
    "\n",
    "netflix_nulls = spark.sql(\"SELECT COUNT (*) AS title_nulls FROM Netflix1 WHERE title IS NULL\")\n",
    "netflix_nulls.show()\n",
    "\n",
    "netflix_nulls = spark.sql(\"SELECT COUNT (*) AS director_nulls FROM Netflix1 WHERE director IS NULL\")\n",
    "netflix_nulls.show()\n",
    "\n",
    "netflix_nulls = spark.sql(\"SELECT COUNT (*) AS cast_nulls FROM Netflix1 WHERE cast IS NULL\")\n",
    "netflix_nulls.show()\n",
    "\n",
    "netflix_nulls = spark.sql(\"SELECT COUNT (*) AS country_nulls FROM Netflix1 WHERE country IS NULL\")\n",
    "netflix_nulls.show()\n",
    "\n",
    "netflix_nulls = spark.sql(\"SELECT COUNT (*) AS release_year_nulls FROM Netflix1 WHERE release_year IS NULL\")\n",
    "netflix_nulls.show()\n",
    "\n",
    "netflix_nulls = spark.sql(\"SELECT COUNT (*) AS rating_nulls FROM Netflix1 WHERE rating IS NULL\")\n",
    "netflix_nulls.show()\n",
    "\n",
    "netflix_nulls = spark.sql(\"SELECT COUNT (*) AS duration_nulls FROM Netflix1 WHERE duration IS NULL\")\n",
    "netflix_nulls.show()\n",
    "\n",
    "netflix_nulls = spark.sql(\"SELECT COUNT (*) AS listed_in_nulls FROM Netflix1 WHERE listed_in IS NULL\")\n",
    "netflix_nulls.show()\n",
    "\n",
    "netflix_nulls = spark.sql(\"SELECT COUNT (*) AS desctiption_nulls FROM Netflix1 WHERE description IS NULL\")\n",
    "netflix_nulls.show()"
   ]
  },
  {
   "cell_type": "code",
   "execution_count": 119,
   "id": "f073564e-92e1-4acd-87e3-980b10591238",
   "metadata": {},
   "outputs": [],
   "source": [
    "# remove rows for columns having <10 null values\n",
    "# director, cast & country columns not as important to be NOT NULL/\n",
    "#  can be dealt with later\n",
    "netflix_clean_nulls = spark.sql(\"SELECT type, \\\n",
    "                  title, \\\n",
    "                  director, \\\n",
    "                  cast, \\\n",
    "                  country, \\\n",
    "                  release_year, \\\n",
    "                  rating, \\\n",
    "                  duration, \\\n",
    "                  listed_in, \\\n",
    "                  description \\\n",
    "                  FROM Netflix1 \\\n",
    "                  WHERE type IS NOT NULL AND \\\n",
    "                  title IS NOT NULL AND \\\n",
    "                  release_year IS NOT NULL AND \\\n",
    "                  rating IS NOT NULL AND \\\n",
    "                  duration IS NOT NULL AND \\\n",
    "                  listed_in IS NOT NULL AND \\\n",
    "                  description IS NOT NULL\")\n",
    "netflix_clean_nulls.createOrReplaceTempView(\"Netflix2\")"
   ]
  },
  {
   "cell_type": "code",
   "execution_count": 120,
   "id": "0514f349-3e36-48da-9a16-60d2628641f0",
   "metadata": {},
   "outputs": [
    {
     "name": "stdout",
     "output_type": "stream",
     "text": [
      "+----------+\n",
      "|type_nulls|\n",
      "+----------+\n",
      "|         0|\n",
      "+----------+\n",
      "\n",
      "+-----------+\n",
      "|title_nulls|\n",
      "+-----------+\n",
      "|          0|\n",
      "+-----------+\n",
      "\n",
      "+--------------+\n",
      "|director_nulls|\n",
      "+--------------+\n",
      "|           473|\n",
      "+--------------+\n",
      "\n",
      "+----------+\n",
      "|cast_nulls|\n",
      "+----------+\n",
      "|       190|\n",
      "+----------+\n",
      "\n",
      "+-------------+\n",
      "|country_nulls|\n",
      "+-------------+\n",
      "|          218|\n",
      "+-------------+\n",
      "\n",
      "+------------------+\n",
      "|release_year_nulls|\n",
      "+------------------+\n",
      "|                 0|\n",
      "+------------------+\n",
      "\n",
      "+------------+\n",
      "|rating_nulls|\n",
      "+------------+\n",
      "|           3|\n",
      "+------------+\n",
      "\n",
      "+--------------+\n",
      "|duration_nulls|\n",
      "+--------------+\n",
      "|             0|\n",
      "+--------------+\n",
      "\n",
      "+---------------+\n",
      "|listed_in_nulls|\n",
      "+---------------+\n",
      "|              1|\n",
      "+---------------+\n",
      "\n",
      "+-----------------+\n",
      "|desctiption_nulls|\n",
      "+-----------------+\n",
      "|                0|\n",
      "+-----------------+\n",
      "\n"
     ]
    }
   ],
   "source": [
    "disney_nulls = spark.sql(\"SELECT COUNT (*) AS type_nulls FROM Disney1 WHERE type IS NULL\")\n",
    "disney_nulls.show()\n",
    "\n",
    "disney_nulls = spark.sql(\"SELECT COUNT (*) AS title_nulls FROM Disney1 WHERE title IS NULL\")\n",
    "disney_nulls.show()\n",
    "\n",
    "disney_nulls = spark.sql(\"SELECT COUNT (*) AS director_nulls FROM Disney1 WHERE director IS NULL\")\n",
    "disney_nulls.show()\n",
    "\n",
    "disney_nulls = spark.sql(\"SELECT COUNT (*) AS cast_nulls FROM Disney1 WHERE cast IS NULL\")\n",
    "disney_nulls.show()\n",
    "\n",
    "disney_nulls = spark.sql(\"SELECT COUNT (*) AS country_nulls FROM Disney1 WHERE country IS NULL\")\n",
    "disney_nulls.show()\n",
    "\n",
    "disney_nulls = spark.sql(\"SELECT COUNT (*) AS release_year_nulls FROM Disney1 WHERE release_year IS NULL\")\n",
    "disney_nulls.show()\n",
    "\n",
    "disney_nulls = spark.sql(\"SELECT COUNT (*) AS rating_nulls FROM Disney1 WHERE rating IS NULL\")\n",
    "disney_nulls.show()\n",
    "\n",
    "disney_nulls = spark.sql(\"SELECT COUNT (*) AS duration_nulls FROM Disney1 WHERE duration IS NULL\")\n",
    "disney_nulls.show()\n",
    "\n",
    "disney_nulls = spark.sql(\"SELECT COUNT (*) AS listed_in_nulls FROM Disney1 WHERE listed_in IS NULL\")\n",
    "disney_nulls.show()\n",
    "\n",
    "disney_nulls = spark.sql(\"SELECT COUNT (*) AS desctiption_nulls FROM Disney1 WHERE description IS NULL\")\n",
    "disney_nulls.show()"
   ]
  },
  {
   "cell_type": "code",
   "execution_count": 121,
   "id": "a597bf44-bc88-47be-b643-1b028a744d99",
   "metadata": {},
   "outputs": [],
   "source": [
    "# remove rows for columns having <10 null values\n",
    "# director, cast & country columns not as important to be NOT NULL/\n",
    "#  can be dealt with later\n",
    "disney_clean_nulls = spark.sql(\"SELECT type, \\\n",
    "                  title, \\\n",
    "                  director, \\\n",
    "                  cast, \\\n",
    "                  country, \\\n",
    "                  release_year, \\\n",
    "                  rating, \\\n",
    "                  duration, \\\n",
    "                  listed_in, \\\n",
    "                  description \\\n",
    "                  FROM Disney1 \\\n",
    "                  WHERE rating IS NOT NULL AND \\\n",
    "                  listed_in IS NOT NULL\")\n",
    "disney_clean_nulls.createOrReplaceTempView(\"Disney2\")"
   ]
  },
  {
   "cell_type": "markdown",
   "id": "d32f0ecf-9695-4b2b-b970-e37f119c10e5",
   "metadata": {},
   "source": [
    "NETFLIX table: Netflix2\n",
    "\n",
    "DISNEY table: Disney2"
   ]
  },
  {
   "cell_type": "code",
   "execution_count": 122,
   "id": "c25f192f-4060-444f-9aa6-8093cdc247a9",
   "metadata": {},
   "outputs": [
    {
     "name": "stdout",
     "output_type": "stream",
     "text": [
      "+--------+\n",
      "|count(1)|\n",
      "+--------+\n",
      "|    8799|\n",
      "+--------+\n",
      "\n",
      "+--------+\n",
      "|count(1)|\n",
      "+--------+\n",
      "|    1446|\n",
      "+--------+\n",
      "\n"
     ]
    }
   ],
   "source": [
    "# table counts\n",
    "spark.sql(\"SELECT COUNT (*) FROM Netflix2\").show()\n",
    "spark.sql(\"SELECT COUNT (*) FROM Disney2\").show()"
   ]
  },
  {
   "cell_type": "markdown",
   "id": "904129e9",
   "metadata": {},
   "source": [
    "# Data Exploration and Analysis"
   ]
  },
  {
   "cell_type": "code",
   "execution_count": 123,
   "id": "c4c3d883",
   "metadata": {},
   "outputs": [
    {
     "name": "stdout",
     "output_type": "stream",
     "text": [
      "+-------+--------------------+--------------------+--------------------+--------------------+------------+------+----------+--------------------+--------------------+\n",
      "|   type|               title|            director|                cast|             country|release_year|rating|  duration|           listed_in|         description|\n",
      "+-------+--------------------+--------------------+--------------------+--------------------+------------+------+----------+--------------------+--------------------+\n",
      "|  Movie|Duck the Halls: A...|[Alonso Ramirez R...|[Chris Diamantopo...|                null|        2016|  TV-G|    23 min|[Animation,  Family]|Join Mickey and t...|\n",
      "|  Movie|Ernest Saves Chri...|       [John Cherry]|[Jim Varney,  Noe...|                null|        1988|    PG|    91 min|            [Comedy]|Santa Claus passe...|\n",
      "|  Movie|Ice Age: A Mammot...|      [Karen Disher]|[Raymond Albert R...|     [United States]|        2011|  TV-G|    23 min|[Animation,  Come...|Sid the Sloth is ...|\n",
      "|  Movie|The Queen Family ...|   [Hamish Hamilton]|[Darren Criss,  A...|                null|        2021| TV-PG|    41 min|           [Musical]|This is real life...|\n",
      "|  Movie|   Becoming Cousteau|        [Liz Garbus]|[Jacques Yves Cou...|     [United States]|        2021| PG-13|    94 min|[Biographical,  D...|An inside look at...|\n",
      "|TV Show|             Hawkeye|                null|[Jeremy Renner,  ...|                null|        2021| TV-14|  1 Season|[Action-Adventure...|Clint Barton/Hawk...|\n",
      "|TV Show|Port Protection A...|                null|[Gary Muehlberger...|     [United States]|        2015| TV-14| 2 Seasons|[Docuseries,  Rea...|Residents of Port...|\n",
      "|TV Show|Secrets of the Zo...|                null|[Dr. Ray Ball,  D...|     [United States]|        2019| TV-PG| 2 Seasons|[Animals & Nature...|A day in the life...|\n",
      "|  Movie|A Muppets Christm...|  [Kirk R. Thatcher]|[Steve Whitmire, ...|     [United States]|        2008|     G|    45 min|[Comedy,  Family,...|Celebrate the hol...|\n",
      "|  Movie|Adventure Thru th...|        [John Gleim]|[Don Hahn,  Kathr...|                null|        2020| TV-PG|    59 min|       [Documentary]|Explore the treas...|\n",
      "|  Movie|  Puppy for Hanukkah|                null|                null|                null|        2020|  TV-G|     4 min|[Comedy,  Family,...|\"Check out Daveed...|\n",
      "|  Movie|     The Pixar Story|     [Leslie Iwerks]|[Stacy Keach,  Jo...|     [United States]|        2007|     G|    91 min|[Documentary,  Fa...|A groundbreaking ...|\n",
      "|TV Show|Dr. Oakley, Yukon...|                null|[Dr. Michelle Oak...|     [United States]|        2013| TV-PG|10 Seasons|[Action-Adventure...|Meet Dr. Michelle...|\n",
      "|  Movie|America the Beaut...|                null| [Michael B. Jordan]|                null|        2021| TV-PG|     2 min|  [Animals & Nature]|Epic, grand portr...|\n",
      "|  Movie|             Baymax!|                null|                null|                null|        2021|  TV-G|     1 min|         [Animation]|“Baymax!” premier...|\n",
      "|  Movie|        Ciao Alberto|    [McKenna Harris]|[Jack Dylan Graze...|                null|        2021| TV-PG|     8 min|[Animation,  Come...|Fun-loving sea mo...|\n",
      "|TV Show|  Disney Fancy Nancy|                null|[Mia Jenness,  Al...|[United States,  ...|        2018| TV-PG| 3 Seasons|  [Animation,  Kids]|Nancy makes every...|\n",
      "|TV Show|  Disney Intertwined|                null|[Carolina Domenec...|                null|        2021| TV-PG|  1 Season|[Comedy,  Coming ...|Allegra is ready ...|\n",
      "|  Movie|           Enchanted|        [Kevin Lima]|[Amy Adams,  Patr...|     [United States]|        2007|    PG|   110 min|[Comedy,  Family,...|An animated princ...|\n",
      "|  Movie|               Feast|   [Patrick Osborne]|[Stephen Apostoli...|     [United States]|        2014|     G|     8 min|[Animation,  Come...|One man's love li...|\n",
      "+-------+--------------------+--------------------+--------------------+--------------------+------------+------+----------+--------------------+--------------------+\n",
      "only showing top 20 rows\n",
      "\n"
     ]
    }
   ],
   "source": [
    "spark.sql(\"SELECT * FROM Disney2\").show()"
   ]
  },
  {
   "cell_type": "code",
   "execution_count": 124,
   "id": "df2d368b",
   "metadata": {},
   "outputs": [
    {
     "name": "stdout",
     "output_type": "stream",
     "text": [
      "+------------------------------+\n",
      "|Number_of_PG_Movies_On_Netflix|\n",
      "+------------------------------+\n",
      "|                           286|\n",
      "+------------------------------+\n",
      "\n",
      "+-----------------------------+\n",
      "|Number_of_PG_Movies_On_Disney|\n",
      "+-----------------------------+\n",
      "|                          234|\n",
      "+-----------------------------+\n",
      "\n"
     ]
    }
   ],
   "source": [
    "spark.sql(\"SELECT COUNT (*) AS Number_of_PG_Movies_On_Netflix FROM Netflix2 WHERE rating == 'PG' AND type == 'Movie'\").show()\n",
    "spark.sql(\"SELECT COUNT (*) AS Number_of_PG_Movies_On_Disney FROM Disney2 WHERE rating == 'PG'AND type == 'Movie'\").show()"
   ]
  },
  {
   "cell_type": "code",
   "execution_count": 125,
   "id": "1b997c4e",
   "metadata": {},
   "outputs": [
    {
     "name": "stdout",
     "output_type": "stream",
     "text": [
      "+-----------------+---------------------------+\n",
      "|           rating|Number_of_Movies_On_Netflix|\n",
      "+-----------------+---------------------------+\n",
      "|            TV-MA|                       2052|\n",
      "|            TV-14|                       1426|\n",
      "|                R|                        794|\n",
      "|            TV-PG|                        539|\n",
      "|            PG-13|                        489|\n",
      "|               PG|                        286|\n",
      "|            TV-Y7|                        139|\n",
      "|             TV-Y|                        131|\n",
      "|             TV-G|                        126|\n",
      "|               NR|                         75|\n",
      "|                G|                         41|\n",
      "|         TV-Y7-FV|                          5|\n",
      "|               UR|                          3|\n",
      "|            NC-17|                          3|\n",
      "|             2021|                          2|\n",
      "| November 1, 2020|                          1|\n",
      "| Shavidee Trotter|                          1|\n",
      "|    Maury Chaykin|                          1|\n",
      "|             2017|                          1|\n",
      "|             2019|                          1|\n",
      "+-----------------+---------------------------+\n",
      "only showing top 20 rows\n",
      "\n"
     ]
    }
   ],
   "source": [
    "mpaaNetflix = spark.sql(\"SELECT rating, COUNT (*) AS Number_of_Movies_On_Netflix FROM Netflix2 WHERE type == 'Movie' GROUP BY rating ORDER BY Number_of_Movies_On_Netflix DESC\")\n",
    "\n",
    "mpaaNetflix.show()"
   ]
  },
  {
   "cell_type": "code",
   "execution_count": 126,
   "id": "48dff87f",
   "metadata": {},
   "outputs": [
    {
     "name": "stdout",
     "output_type": "stream",
     "text": [
      "+--------------------+--------+\n",
      "|               title|duration|\n",
      "+--------------------+--------+\n",
      "|Duck the Halls: A...|  23 min|\n",
      "|Ernest Saves Chri...|  91 min|\n",
      "|Ice Age: A Mammot...|  23 min|\n",
      "|The Queen Family ...|  41 min|\n",
      "|   Becoming Cousteau|  94 min|\n",
      "|A Muppets Christm...|  45 min|\n",
      "|Adventure Thru th...|  59 min|\n",
      "|  Puppy for Hanukkah|   4 min|\n",
      "|     The Pixar Story|  91 min|\n",
      "|America the Beaut...|   2 min|\n",
      "|             Baymax!|   1 min|\n",
      "|        Ciao Alberto|   8 min|\n",
      "|           Enchanted| 110 min|\n",
      "|               Feast|   8 min|\n",
      "|        Frozen Fever|  11 min|\n",
      "|        Get a Horse!|   7 min|\n",
      "|Home Sweet Home A...|  95 min|\n",
      "|       Jungle Cruise| 129 min|\n",
      "|Limitless with Ch...|   2 min|\n",
      "|Marvel Studios’ 2...|  14 min|\n",
      "+--------------------+--------+\n",
      "only showing top 20 rows\n",
      "\n"
     ]
    }
   ],
   "source": [
    "Disney_Movies = spark.sql(\"SELECT title, duration FROM Disney2 WHERE type == 'Movie'\")\n",
    "\n",
    "Disney_Movies.show()"
   ]
  },
  {
   "cell_type": "code",
   "execution_count": 127,
   "id": "7afe9112",
   "metadata": {},
   "outputs": [],
   "source": [
    "from pyspark.sql.functions import col, concat_ws"
   ]
  },
  {
   "cell_type": "code",
   "execution_count": 128,
   "id": "cf0c1759",
   "metadata": {},
   "outputs": [],
   "source": [
    "disneyEDA = disney_clean_nulls"
   ]
  },
  {
   "cell_type": "code",
   "execution_count": 140,
   "id": "5c26b795",
   "metadata": {},
   "outputs": [
    {
     "name": "stdout",
     "output_type": "stream",
     "text": [
      "root\n",
      " |-- type: string (nullable = true)\n",
      " |-- title: string (nullable = true)\n",
      " |-- director: string (nullable = false)\n",
      " |-- cast: string (nullable = false)\n",
      " |-- country: string (nullable = false)\n",
      " |-- release_year: string (nullable = true)\n",
      " |-- rating: string (nullable = true)\n",
      " |-- duration: string (nullable = true)\n",
      " |-- listed_in: string (nullable = false)\n",
      " |-- description: string (nullable = true)\n",
      "\n"
     ]
    }
   ],
   "source": [
    "disneyEDA = disneyEDA.withColumn(\"director\", concat_ws(\",\", col(\"director\")))\n",
    "disneyEDA = disneyEDA.withColumn(\"cast\", concat_ws(\",\", col(\"cast\")))\n",
    "disneyEDA = disneyEDA.withColumn(\"country\", concat_ws(\",\", col(\"country\")))\n",
    "disneyEDA = disneyEDA.withColumn(\"listed_in\", concat_ws(\",\", col(\"listed_in\")))\n",
    "disneyEDA.printSchema()\n",
    "\n",
    "disneyEDA.createOrReplaceTempView(\"DisneyEDA\")"
   ]
  },
  {
   "cell_type": "code",
   "execution_count": 141,
   "id": "cf674ce5",
   "metadata": {},
   "outputs": [
    {
     "name": "stdout",
     "output_type": "stream",
     "text": [
      "+-------+--------------------+--------------------+--------------------+--------------------+------------+------+----------+--------------------+--------------------+\n",
      "|   type|               title|            director|                cast|             country|release_year|rating|  duration|           listed_in|         description|\n",
      "+-------+--------------------+--------------------+--------------------+--------------------+------------+------+----------+--------------------+--------------------+\n",
      "|  Movie|Duck the Halls: A...|Alonso Ramirez Ra...|Chris Diamantopou...|                    |        2016|  TV-G|    23 min|  Animation,  Family|Join Mickey and t...|\n",
      "|  Movie|Ernest Saves Chri...|         John Cherry|Jim Varney,  Noel...|                    |        1988|    PG|    91 min|              Comedy|Santa Claus passe...|\n",
      "|  Movie|Ice Age: A Mammot...|        Karen Disher|Raymond Albert Ro...|       United States|        2011|  TV-G|    23 min|Animation,  Comed...|Sid the Sloth is ...|\n",
      "|  Movie|The Queen Family ...|     Hamish Hamilton|Darren Criss,  Ad...|                    |        2021| TV-PG|    41 min|             Musical|This is real life...|\n",
      "|  Movie|   Becoming Cousteau|          Liz Garbus|Jacques Yves Cous...|       United States|        2021| PG-13|    94 min|Biographical,  Do...|An inside look at...|\n",
      "|TV Show|             Hawkeye|                    |Jeremy Renner,  H...|                    |        2021| TV-14|  1 Season|Action-Adventure,...|Clint Barton/Hawk...|\n",
      "|TV Show|Port Protection A...|                    |Gary Muehlberger,...|       United States|        2015| TV-14| 2 Seasons|Docuseries,  Real...|Residents of Port...|\n",
      "|TV Show|Secrets of the Zo...|                    |Dr. Ray Ball,  Dr...|       United States|        2019| TV-PG| 2 Seasons|Animals & Nature,...|A day in the life...|\n",
      "|  Movie|A Muppets Christm...|    Kirk R. Thatcher|Steve Whitmire,  ...|       United States|        2008|     G|    45 min|Comedy,  Family, ...|Celebrate the hol...|\n",
      "|  Movie|Adventure Thru th...|          John Gleim|Don Hahn,  Kathry...|                    |        2020| TV-PG|    59 min|         Documentary|Explore the treas...|\n",
      "|  Movie|  Puppy for Hanukkah|                    |                    |                    |        2020|  TV-G|     4 min|Comedy,  Family, ...|\"Check out Daveed...|\n",
      "|  Movie|     The Pixar Story|       Leslie Iwerks|Stacy Keach,  Joh...|       United States|        2007|     G|    91 min|Documentary,  Family|A groundbreaking ...|\n",
      "|TV Show|Dr. Oakley, Yukon...|                    |Dr. Michelle Oakl...|       United States|        2013| TV-PG|10 Seasons|Action-Adventure,...|Meet Dr. Michelle...|\n",
      "|  Movie|America the Beaut...|                    |   Michael B. Jordan|                    |        2021| TV-PG|     2 min|    Animals & Nature|Epic, grand portr...|\n",
      "|  Movie|             Baymax!|                    |                    |                    |        2021|  TV-G|     1 min|           Animation|“Baymax!” premier...|\n",
      "|  Movie|        Ciao Alberto|      McKenna Harris|Jack Dylan Grazer...|                    |        2021| TV-PG|     8 min|Animation,  Comed...|Fun-loving sea mo...|\n",
      "|TV Show|  Disney Fancy Nancy|                    |Mia Jenness,  Aly...|United States,  C...|        2018| TV-PG| 3 Seasons|    Animation,  Kids|Nancy makes every...|\n",
      "|TV Show|  Disney Intertwined|                    |Carolina Domenech...|                    |        2021| TV-PG|  1 Season|Comedy,  Coming o...|Allegra is ready ...|\n",
      "|  Movie|           Enchanted|          Kevin Lima|Amy Adams,  Patri...|       United States|        2007|    PG|   110 min|Comedy,  Family, ...|An animated princ...|\n",
      "|  Movie|               Feast|     Patrick Osborne|Stephen Apostolin...|       United States|        2014|     G|     8 min|Animation,  Comed...|One man's love li...|\n",
      "+-------+--------------------+--------------------+--------------------+--------------------+------------+------+----------+--------------------+--------------------+\n",
      "only showing top 20 rows\n",
      "\n"
     ]
    }
   ],
   "source": [
    "spark.sql(\"SELECT * FROM DisneyEDA\").show()"
   ]
  },
  {
   "cell_type": "code",
   "execution_count": 142,
   "id": "959c4ab0",
   "metadata": {},
   "outputs": [
    {
     "name": "stdout",
     "output_type": "stream",
     "text": [
      "+-----+--------------------+-----------+--------------------+-------+------------+------+--------+---------+--------------------+\n",
      "| type|               title|   director|                cast|country|release_year|rating|duration|listed_in|         description|\n",
      "+-----+--------------------+-----------+--------------------+-------+------------+------+--------+---------+--------------------+\n",
      "|Movie|Ernest Saves Chri...|John Cherry|Jim Varney,  Noel...|       |        1988|    PG|  91 min|   Comedy|Santa Claus passe...|\n",
      "+-----+--------------------+-----------+--------------------+-------+------------+------+--------+---------+--------------------+\n",
      "\n"
     ]
    }
   ],
   "source": [
    "disneyEDA.where(col(\"director\") == \"John Cherry\").show()"
   ]
  },
  {
   "cell_type": "code",
   "execution_count": 143,
   "id": "5a0f9786",
   "metadata": {},
   "outputs": [
    {
     "name": "stdout",
     "output_type": "stream",
     "text": [
      "+-----------------+--------------------------+\n",
      "|           rating|Number_of_Movies_On_Disney|\n",
      "+-----------------+--------------------------+\n",
      "|                G|                       253|\n",
      "|               PG|                       234|\n",
      "|             TV-G|                       233|\n",
      "|            TV-PG|                       181|\n",
      "|            PG-13|                        66|\n",
      "|            TV-14|                        37|\n",
      "|            TV-Y7|                        36|\n",
      "|         TV-Y7-FV|                         6|\n",
      "|             TV-Y|                         3|\n",
      "|December 25, 2020|                         1|\n",
      "+-----------------+--------------------------+\n",
      "\n"
     ]
    }
   ],
   "source": [
    "mpaaDisney = spark.sql(\"SELECT rating, COUNT (*) AS Number_of_Movies_On_Disney FROM Disney2 WHERE type == 'Movie' GROUP BY rating ORDER BY Number_of_Movies_On_Disney DESC\")\n",
    "\n",
    "mpaaDisney.show()"
   ]
  },
  {
   "cell_type": "code",
   "execution_count": 144,
   "id": "24cf6a41",
   "metadata": {},
   "outputs": [
    {
     "name": "stdout",
     "output_type": "stream",
     "text": [
      "+-------+--------------------+------------+--------------------+--------------------+------------+------+---------+---------+--------------------+\n",
      "|   type|               title|    director|                cast|             country|release_year|rating| duration|listed_in|         description|\n",
      "+-------+--------------------+------------+--------------------+--------------------+------------+------+---------+---------+--------------------+\n",
      "|  Movie|Ernest Saves Chri...| John Cherry|Jim Varney,  Noel...|                    |        1988|    PG|   91 min|   Comedy|Santa Claus passe...|\n",
      "|  Movie|Just Roll With It...|            |Tobie Windham,  S...|                    |        2019|     G|   52 min|   Comedy|The Bennett-Blatt...|\n",
      "|  Movie|Far Away From Rav...|            |Raven-Symoné,  Is...|                    |        2021|  TV-G|   11 min|   Comedy|Our gang is off f...|\n",
      "|TV Show|  Wander Over Yonder|            |Jack McBrayer,  A...|United States,  C...|        2013| TV-Y7|2 Seasons|   Comedy|Best friends trav...|\n",
      "|TV Show|   Pickle and Peanut|            |Johnny Pemberton,...|       United States|        2015| TV-Y7|2 Seasons|   Comedy|The freewheeling ...|\n",
      "|  Movie|           You Again|Andy Fickman|Kristen Bell,  Si...|       United States|        2010|    PG|  106 min|   Comedy|An unlikely reuni...|\n",
      "|  Movie|        Big Business|Jim Abrahams|Bette Midler,  Li...|       United States|        1988|    PG|   98 min|   Comedy|Two sets of ident...|\n",
      "|TV Show|The Muppets (Series)|            |Bill Barretta,  D...|       United States|        2015| TV-PG| 1 Season|   Comedy|\"\"\"The Muppets\"\" ...|\n",
      "+-------+--------------------+------------+--------------------+--------------------+------------+------+---------+---------+--------------------+\n",
      "\n"
     ]
    }
   ],
   "source": [
    "disneyEDA.where(col(\"listed_in\") == \"Comedy\").show()"
   ]
  },
  {
   "cell_type": "code",
   "execution_count": 133,
   "id": "ef6547fe",
   "metadata": {},
   "outputs": [
    {
     "ename": "AnalysisException",
     "evalue": "expression 'disneyeda.listed_in' is neither present in the group by, nor is it an aggregate function. Add to group by or wrap in first() (or first_value) if you don't care which value you get.;\n'Sort ['Number_of_Movies_On_Disney DESC NULLS LAST], true\n+- Aggregate [rating#3313], [listed_in#3942, count(1) AS Numbers_per_Genre#4083L]\n   +- Filter (type#3306 = Movie)\n      +- SubqueryAlias disneyeda\n         +- View (`DisneyEDA`, [type#3306,title#3307,director#3909,cast#3920,country#3931,release_year#3312,rating#3313,duration#3314,listed_in#3942,description#3316])\n            +- Project [type#3306, title#3307, director#3909, cast#3920, country#3931, release_year#3312, rating#3313, duration#3314, concat_ws(, , listed_in#3468) AS listed_in#3942, description#3316]\n               +- Project [type#3306, title#3307, director#3909, cast#3920, concat_ws(, , country#3467) AS country#3931, release_year#3312, rating#3313, duration#3314, listed_in#3468, description#3316]\n                  +- Project [type#3306, title#3307, director#3909, concat_ws(, , cast#3466) AS cast#3920, country#3467, release_year#3312, rating#3313, duration#3314, listed_in#3468, description#3316]\n                     +- Project [type#3306, title#3307, concat_ws(, , director#3465) AS director#3909, cast#3466, country#3467, release_year#3312, rating#3313, duration#3314, listed_in#3468, description#3316]\n                        +- Project [type#3306, title#3307, director#3465, cast#3466, country#3467, release_year#3312, rating#3313, duration#3314, listed_in#3468, description#3316]\n                           +- Filter (isnotnull(rating#3313) AND isnotnull(listed_in#3468))\n                              +- SubqueryAlias disney1\n                                 +- View (`Disney1`, [type#3306,title#3307,director#3465,cast#3466,country#3467,release_year#3312,rating#3313,duration#3314,listed_in#3468,description#3316])\n                                    +- Project [type#3306, title#3307, split(director#3308, ,, -1) AS director#3465, split(cast#3309, ,, -1) AS cast#3466, split(country#3310, ,, -1) AS country#3467, release_year#3312, rating#3313, duration#3314, split(listed_in#3315, ,, -1) AS listed_in#3468, description#3316]\n                                       +- SubqueryAlias disney\n                                          +- View (`Disney`, [show_id#3305,type#3306,title#3307,director#3308,cast#3309,country#3310,date_added#3311,release_year#3312,rating#3313,duration#3314,listed_in#3315,description#3316])\n                                             +- Relation [show_id#3305,type#3306,title#3307,director#3308,cast#3309,country#3310,date_added#3311,release_year#3312,rating#3313,duration#3314,listed_in#3315,description#3316] csv\n",
     "output_type": "error",
     "traceback": [
      "\u001b[1;31m---------------------------------------------------------------------------\u001b[0m",
      "\u001b[1;31mAnalysisException\u001b[0m                         Traceback (most recent call last)",
      "\u001b[1;32mc:\\Users\\taylo\\Desktop\\School\\DS625\\Module 7\\DS625-TeamProject\\TP.ipynb Cell 27'\u001b[0m in \u001b[0;36m<module>\u001b[1;34m\u001b[0m\n\u001b[1;32m----> <a href='vscode-notebook-cell:/c%3A/Users/taylo/Desktop/School/DS625/Module%207/DS625-TeamProject/TP.ipynb#ch0000072?line=0'>1</a>\u001b[0m spark\u001b[39m.\u001b[39;49msql(\u001b[39m\"\u001b[39;49m\u001b[39mSELECT listed_in, COUNT (*) AS Numbers_per_Genre FROM DisneyEDA WHERE type == \u001b[39;49m\u001b[39m'\u001b[39;49m\u001b[39mMovie\u001b[39;49m\u001b[39m'\u001b[39;49m\u001b[39m GROUP BY rating ORDER BY Number_of_Movies_On_Disney DESC\u001b[39;49m\u001b[39m\"\u001b[39;49m)\u001b[39m.\u001b[39mshow()\n",
      "File \u001b[1;32mC:\\Python\\lib\\site-packages\\pyspark\\sql\\session.py:723\u001b[0m, in \u001b[0;36mSparkSession.sql\u001b[1;34m(self, sqlQuery)\u001b[0m\n\u001b[0;32m    <a href='file:///c%3A/Python/lib/site-packages/pyspark/sql/session.py?line=706'>707</a>\u001b[0m \u001b[39mdef\u001b[39;00m \u001b[39msql\u001b[39m(\u001b[39mself\u001b[39m, sqlQuery):\n\u001b[0;32m    <a href='file:///c%3A/Python/lib/site-packages/pyspark/sql/session.py?line=707'>708</a>\u001b[0m     \u001b[39m\"\"\"Returns a :class:`DataFrame` representing the result of the given query.\u001b[39;00m\n\u001b[0;32m    <a href='file:///c%3A/Python/lib/site-packages/pyspark/sql/session.py?line=708'>709</a>\u001b[0m \n\u001b[0;32m    <a href='file:///c%3A/Python/lib/site-packages/pyspark/sql/session.py?line=709'>710</a>\u001b[0m \u001b[39m    .. versionadded:: 2.0.0\u001b[39;00m\n\u001b[1;32m   (...)\u001b[0m\n\u001b[0;32m    <a href='file:///c%3A/Python/lib/site-packages/pyspark/sql/session.py?line=720'>721</a>\u001b[0m \u001b[39m    [Row(f1=1, f2='row1'), Row(f1=2, f2='row2'), Row(f1=3, f2='row3')]\u001b[39;00m\n\u001b[0;32m    <a href='file:///c%3A/Python/lib/site-packages/pyspark/sql/session.py?line=721'>722</a>\u001b[0m \u001b[39m    \"\"\"\u001b[39;00m\n\u001b[1;32m--> <a href='file:///c%3A/Python/lib/site-packages/pyspark/sql/session.py?line=722'>723</a>\u001b[0m     \u001b[39mreturn\u001b[39;00m DataFrame(\u001b[39mself\u001b[39;49m\u001b[39m.\u001b[39;49m_jsparkSession\u001b[39m.\u001b[39;49msql(sqlQuery), \u001b[39mself\u001b[39m\u001b[39m.\u001b[39m_wrapped)\n",
      "File \u001b[1;32mC:\\Python\\lib\\site-packages\\py4j\\java_gateway.py:1309\u001b[0m, in \u001b[0;36mJavaMember.__call__\u001b[1;34m(self, *args)\u001b[0m\n\u001b[0;32m   <a href='file:///c%3A/Python/lib/site-packages/py4j/java_gateway.py?line=1302'>1303</a>\u001b[0m command \u001b[39m=\u001b[39m proto\u001b[39m.\u001b[39mCALL_COMMAND_NAME \u001b[39m+\u001b[39m\\\n\u001b[0;32m   <a href='file:///c%3A/Python/lib/site-packages/py4j/java_gateway.py?line=1303'>1304</a>\u001b[0m     \u001b[39mself\u001b[39m\u001b[39m.\u001b[39mcommand_header \u001b[39m+\u001b[39m\\\n\u001b[0;32m   <a href='file:///c%3A/Python/lib/site-packages/py4j/java_gateway.py?line=1304'>1305</a>\u001b[0m     args_command \u001b[39m+\u001b[39m\\\n\u001b[0;32m   <a href='file:///c%3A/Python/lib/site-packages/py4j/java_gateway.py?line=1305'>1306</a>\u001b[0m     proto\u001b[39m.\u001b[39mEND_COMMAND_PART\n\u001b[0;32m   <a href='file:///c%3A/Python/lib/site-packages/py4j/java_gateway.py?line=1307'>1308</a>\u001b[0m answer \u001b[39m=\u001b[39m \u001b[39mself\u001b[39m\u001b[39m.\u001b[39mgateway_client\u001b[39m.\u001b[39msend_command(command)\n\u001b[1;32m-> <a href='file:///c%3A/Python/lib/site-packages/py4j/java_gateway.py?line=1308'>1309</a>\u001b[0m return_value \u001b[39m=\u001b[39m get_return_value(\n\u001b[0;32m   <a href='file:///c%3A/Python/lib/site-packages/py4j/java_gateway.py?line=1309'>1310</a>\u001b[0m     answer, \u001b[39mself\u001b[39;49m\u001b[39m.\u001b[39;49mgateway_client, \u001b[39mself\u001b[39;49m\u001b[39m.\u001b[39;49mtarget_id, \u001b[39mself\u001b[39;49m\u001b[39m.\u001b[39;49mname)\n\u001b[0;32m   <a href='file:///c%3A/Python/lib/site-packages/py4j/java_gateway.py?line=1311'>1312</a>\u001b[0m \u001b[39mfor\u001b[39;00m temp_arg \u001b[39min\u001b[39;00m temp_args:\n\u001b[0;32m   <a href='file:///c%3A/Python/lib/site-packages/py4j/java_gateway.py?line=1312'>1313</a>\u001b[0m     temp_arg\u001b[39m.\u001b[39m_detach()\n",
      "File \u001b[1;32mC:\\Python\\lib\\site-packages\\pyspark\\sql\\utils.py:117\u001b[0m, in \u001b[0;36mcapture_sql_exception.<locals>.deco\u001b[1;34m(*a, **kw)\u001b[0m\n\u001b[0;32m    <a href='file:///c%3A/Python/lib/site-packages/pyspark/sql/utils.py?line=112'>113</a>\u001b[0m converted \u001b[39m=\u001b[39m convert_exception(e\u001b[39m.\u001b[39mjava_exception)\n\u001b[0;32m    <a href='file:///c%3A/Python/lib/site-packages/pyspark/sql/utils.py?line=113'>114</a>\u001b[0m \u001b[39mif\u001b[39;00m \u001b[39mnot\u001b[39;00m \u001b[39misinstance\u001b[39m(converted, UnknownException):\n\u001b[0;32m    <a href='file:///c%3A/Python/lib/site-packages/pyspark/sql/utils.py?line=114'>115</a>\u001b[0m     \u001b[39m# Hide where the exception came from that shows a non-Pythonic\u001b[39;00m\n\u001b[0;32m    <a href='file:///c%3A/Python/lib/site-packages/pyspark/sql/utils.py?line=115'>116</a>\u001b[0m     \u001b[39m# JVM exception message.\u001b[39;00m\n\u001b[1;32m--> <a href='file:///c%3A/Python/lib/site-packages/pyspark/sql/utils.py?line=116'>117</a>\u001b[0m     \u001b[39mraise\u001b[39;00m converted \u001b[39mfrom\u001b[39;00m \u001b[39mNone\u001b[39m\n\u001b[0;32m    <a href='file:///c%3A/Python/lib/site-packages/pyspark/sql/utils.py?line=117'>118</a>\u001b[0m \u001b[39melse\u001b[39;00m:\n\u001b[0;32m    <a href='file:///c%3A/Python/lib/site-packages/pyspark/sql/utils.py?line=118'>119</a>\u001b[0m     \u001b[39mraise\u001b[39;00m\n",
      "\u001b[1;31mAnalysisException\u001b[0m: expression 'disneyeda.listed_in' is neither present in the group by, nor is it an aggregate function. Add to group by or wrap in first() (or first_value) if you don't care which value you get.;\n'Sort ['Number_of_Movies_On_Disney DESC NULLS LAST], true\n+- Aggregate [rating#3313], [listed_in#3942, count(1) AS Numbers_per_Genre#4083L]\n   +- Filter (type#3306 = Movie)\n      +- SubqueryAlias disneyeda\n         +- View (`DisneyEDA`, [type#3306,title#3307,director#3909,cast#3920,country#3931,release_year#3312,rating#3313,duration#3314,listed_in#3942,description#3316])\n            +- Project [type#3306, title#3307, director#3909, cast#3920, country#3931, release_year#3312, rating#3313, duration#3314, concat_ws(, , listed_in#3468) AS listed_in#3942, description#3316]\n               +- Project [type#3306, title#3307, director#3909, cast#3920, concat_ws(, , country#3467) AS country#3931, release_year#3312, rating#3313, duration#3314, listed_in#3468, description#3316]\n                  +- Project [type#3306, title#3307, director#3909, concat_ws(, , cast#3466) AS cast#3920, country#3467, release_year#3312, rating#3313, duration#3314, listed_in#3468, description#3316]\n                     +- Project [type#3306, title#3307, concat_ws(, , director#3465) AS director#3909, cast#3466, country#3467, release_year#3312, rating#3313, duration#3314, listed_in#3468, description#3316]\n                        +- Project [type#3306, title#3307, director#3465, cast#3466, country#3467, release_year#3312, rating#3313, duration#3314, listed_in#3468, description#3316]\n                           +- Filter (isnotnull(rating#3313) AND isnotnull(listed_in#3468))\n                              +- SubqueryAlias disney1\n                                 +- View (`Disney1`, [type#3306,title#3307,director#3465,cast#3466,country#3467,release_year#3312,rating#3313,duration#3314,listed_in#3468,description#3316])\n                                    +- Project [type#3306, title#3307, split(director#3308, ,, -1) AS director#3465, split(cast#3309, ,, -1) AS cast#3466, split(country#3310, ,, -1) AS country#3467, release_year#3312, rating#3313, duration#3314, split(listed_in#3315, ,, -1) AS listed_in#3468, description#3316]\n                                       +- SubqueryAlias disney\n                                          +- View (`Disney`, [show_id#3305,type#3306,title#3307,director#3308,cast#3309,country#3310,date_added#3311,release_year#3312,rating#3313,duration#3314,listed_in#3315,description#3316])\n                                             +- Relation [show_id#3305,type#3306,title#3307,director#3308,cast#3309,country#3310,date_added#3311,release_year#3312,rating#3313,duration#3314,listed_in#3315,description#3316] csv\n"
     ]
    }
   ],
   "source": [
    "spark.sql(\"SELECT listed_in, COUNT (*) AS Numbers_per_Genre FROM DisneyEDA WHERE type == 'Movie' GROUP BY rating ORDER BY Number_of_Movies_On_Disney DESC\").show()"
   ]
  },
  {
   "cell_type": "code",
   "execution_count": null,
   "id": "2dae9b6f",
   "metadata": {},
   "outputs": [
    {
     "ename": "AnalysisException",
     "evalue": "Undefined function: 'ARRAY_TO_STRING'. This function is neither a registered temporary function nor a permanent function registered in the database 'default'.; line 1 pos 7",
     "output_type": "error",
     "traceback": [
      "\u001b[1;31m---------------------------------------------------------------------------\u001b[0m",
      "\u001b[1;31mAnalysisException\u001b[0m                         Traceback (most recent call last)",
      "\u001b[1;32mc:\\Users\\taylo\\Desktop\\School\\DS625\\Module 7\\DS625-TeamProject\\TP.ipynb Cell 21'\u001b[0m in \u001b[0;36m<module>\u001b[1;34m\u001b[0m\n\u001b[1;32m----> <a href='vscode-notebook-cell:/c%3A/Users/taylo/Desktop/School/DS625/Module%207/DS625-TeamProject/TP.ipynb#ch0000071?line=0'>1</a>\u001b[0m Cat_Disney \u001b[39m=\u001b[39m spark\u001b[39m.\u001b[39;49msql(\u001b[39m\"\u001b[39;49m\u001b[39mSELECT ARRAY_TO_STRING(listed_in, \u001b[39;49m\u001b[39m'\u001b[39;49m\u001b[39m, \u001b[39;49m\u001b[39m'\u001b[39;49m\u001b[39m) AS String_Categories FROM Disney2\u001b[39;49m\u001b[39m\"\u001b[39;49m)\n",
      "File \u001b[1;32mC:\\Python\\lib\\site-packages\\pyspark\\sql\\session.py:723\u001b[0m, in \u001b[0;36mSparkSession.sql\u001b[1;34m(self, sqlQuery)\u001b[0m\n\u001b[0;32m    <a href='file:///c%3A/Python/lib/site-packages/pyspark/sql/session.py?line=706'>707</a>\u001b[0m \u001b[39mdef\u001b[39;00m \u001b[39msql\u001b[39m(\u001b[39mself\u001b[39m, sqlQuery):\n\u001b[0;32m    <a href='file:///c%3A/Python/lib/site-packages/pyspark/sql/session.py?line=707'>708</a>\u001b[0m     \u001b[39m\"\"\"Returns a :class:`DataFrame` representing the result of the given query.\u001b[39;00m\n\u001b[0;32m    <a href='file:///c%3A/Python/lib/site-packages/pyspark/sql/session.py?line=708'>709</a>\u001b[0m \n\u001b[0;32m    <a href='file:///c%3A/Python/lib/site-packages/pyspark/sql/session.py?line=709'>710</a>\u001b[0m \u001b[39m    .. versionadded:: 2.0.0\u001b[39;00m\n\u001b[1;32m   (...)\u001b[0m\n\u001b[0;32m    <a href='file:///c%3A/Python/lib/site-packages/pyspark/sql/session.py?line=720'>721</a>\u001b[0m \u001b[39m    [Row(f1=1, f2='row1'), Row(f1=2, f2='row2'), Row(f1=3, f2='row3')]\u001b[39;00m\n\u001b[0;32m    <a href='file:///c%3A/Python/lib/site-packages/pyspark/sql/session.py?line=721'>722</a>\u001b[0m \u001b[39m    \"\"\"\u001b[39;00m\n\u001b[1;32m--> <a href='file:///c%3A/Python/lib/site-packages/pyspark/sql/session.py?line=722'>723</a>\u001b[0m     \u001b[39mreturn\u001b[39;00m DataFrame(\u001b[39mself\u001b[39;49m\u001b[39m.\u001b[39;49m_jsparkSession\u001b[39m.\u001b[39;49msql(sqlQuery), \u001b[39mself\u001b[39m\u001b[39m.\u001b[39m_wrapped)\n",
      "File \u001b[1;32mC:\\Python\\lib\\site-packages\\py4j\\java_gateway.py:1309\u001b[0m, in \u001b[0;36mJavaMember.__call__\u001b[1;34m(self, *args)\u001b[0m\n\u001b[0;32m   <a href='file:///c%3A/Python/lib/site-packages/py4j/java_gateway.py?line=1302'>1303</a>\u001b[0m command \u001b[39m=\u001b[39m proto\u001b[39m.\u001b[39mCALL_COMMAND_NAME \u001b[39m+\u001b[39m\\\n\u001b[0;32m   <a href='file:///c%3A/Python/lib/site-packages/py4j/java_gateway.py?line=1303'>1304</a>\u001b[0m     \u001b[39mself\u001b[39m\u001b[39m.\u001b[39mcommand_header \u001b[39m+\u001b[39m\\\n\u001b[0;32m   <a href='file:///c%3A/Python/lib/site-packages/py4j/java_gateway.py?line=1304'>1305</a>\u001b[0m     args_command \u001b[39m+\u001b[39m\\\n\u001b[0;32m   <a href='file:///c%3A/Python/lib/site-packages/py4j/java_gateway.py?line=1305'>1306</a>\u001b[0m     proto\u001b[39m.\u001b[39mEND_COMMAND_PART\n\u001b[0;32m   <a href='file:///c%3A/Python/lib/site-packages/py4j/java_gateway.py?line=1307'>1308</a>\u001b[0m answer \u001b[39m=\u001b[39m \u001b[39mself\u001b[39m\u001b[39m.\u001b[39mgateway_client\u001b[39m.\u001b[39msend_command(command)\n\u001b[1;32m-> <a href='file:///c%3A/Python/lib/site-packages/py4j/java_gateway.py?line=1308'>1309</a>\u001b[0m return_value \u001b[39m=\u001b[39m get_return_value(\n\u001b[0;32m   <a href='file:///c%3A/Python/lib/site-packages/py4j/java_gateway.py?line=1309'>1310</a>\u001b[0m     answer, \u001b[39mself\u001b[39;49m\u001b[39m.\u001b[39;49mgateway_client, \u001b[39mself\u001b[39;49m\u001b[39m.\u001b[39;49mtarget_id, \u001b[39mself\u001b[39;49m\u001b[39m.\u001b[39;49mname)\n\u001b[0;32m   <a href='file:///c%3A/Python/lib/site-packages/py4j/java_gateway.py?line=1311'>1312</a>\u001b[0m \u001b[39mfor\u001b[39;00m temp_arg \u001b[39min\u001b[39;00m temp_args:\n\u001b[0;32m   <a href='file:///c%3A/Python/lib/site-packages/py4j/java_gateway.py?line=1312'>1313</a>\u001b[0m     temp_arg\u001b[39m.\u001b[39m_detach()\n",
      "File \u001b[1;32mC:\\Python\\lib\\site-packages\\pyspark\\sql\\utils.py:117\u001b[0m, in \u001b[0;36mcapture_sql_exception.<locals>.deco\u001b[1;34m(*a, **kw)\u001b[0m\n\u001b[0;32m    <a href='file:///c%3A/Python/lib/site-packages/pyspark/sql/utils.py?line=112'>113</a>\u001b[0m converted \u001b[39m=\u001b[39m convert_exception(e\u001b[39m.\u001b[39mjava_exception)\n\u001b[0;32m    <a href='file:///c%3A/Python/lib/site-packages/pyspark/sql/utils.py?line=113'>114</a>\u001b[0m \u001b[39mif\u001b[39;00m \u001b[39mnot\u001b[39;00m \u001b[39misinstance\u001b[39m(converted, UnknownException):\n\u001b[0;32m    <a href='file:///c%3A/Python/lib/site-packages/pyspark/sql/utils.py?line=114'>115</a>\u001b[0m     \u001b[39m# Hide where the exception came from that shows a non-Pythonic\u001b[39;00m\n\u001b[0;32m    <a href='file:///c%3A/Python/lib/site-packages/pyspark/sql/utils.py?line=115'>116</a>\u001b[0m     \u001b[39m# JVM exception message.\u001b[39;00m\n\u001b[1;32m--> <a href='file:///c%3A/Python/lib/site-packages/pyspark/sql/utils.py?line=116'>117</a>\u001b[0m     \u001b[39mraise\u001b[39;00m converted \u001b[39mfrom\u001b[39;00m \u001b[39mNone\u001b[39m\n\u001b[0;32m    <a href='file:///c%3A/Python/lib/site-packages/pyspark/sql/utils.py?line=117'>118</a>\u001b[0m \u001b[39melse\u001b[39;00m:\n\u001b[0;32m    <a href='file:///c%3A/Python/lib/site-packages/pyspark/sql/utils.py?line=118'>119</a>\u001b[0m     \u001b[39mraise\u001b[39;00m\n",
      "\u001b[1;31mAnalysisException\u001b[0m: Undefined function: 'ARRAY_TO_STRING'. This function is neither a registered temporary function nor a permanent function registered in the database 'default'.; line 1 pos 7"
     ]
    }
   ],
   "source": [
    "#Future iterations will have this query working so that we can search the 'listed_in' array for the total count of different types of genres per platform. \n",
    "\n",
    "#Cat_Disney = spark.sql(\"SELECT ARRAY_TO_STRING(listed_in, ', ') AS String_Categories FROM Disney2\")"
   ]
  },
  {
   "cell_type": "markdown",
   "id": "3f939e5b",
   "metadata": {},
   "source": [
    "# Machine learning method selection, model training, and model evaluation"
   ]
  },
  {
   "cell_type": "code",
   "execution_count": null,
   "id": "bb9f3faa-d975-4edf-afc4-326b22157f0c",
   "metadata": {},
   "outputs": [],
   "source": [
    "# Importing necessary modules\n",
    "\n",
    "from pyspark.ml.feature import (CountVectorizer, RegexTokenizer, StopWordsRemover, IDF, StringIndexer)\n",
    "\n",
    "from pyspark.ml.classification import NaiveBayes\n",
    "from pyspark.ml.evaluation import MulticlassClassificationEvaluator\n",
    "from pyspark.ml.feature import VectorAssembler\n",
    "from pyspark.sql.functions import col"
   ]
  },
  {
   "cell_type": "markdown",
   "id": "1cb58ff2",
   "metadata": {},
   "source": [
    "Disney Data"
   ]
  },
  {
   "cell_type": "code",
   "execution_count": null,
   "id": "bca6d00b",
   "metadata": {},
   "outputs": [
    {
     "name": "stdout",
     "output_type": "stream",
     "text": [
      "+--------------------+--------------------+--------------------+------+--------------------+--------------------+\n",
      "|               title|            director|                cast|rating|           listed_in|         description|\n",
      "+--------------------+--------------------+--------------------+------+--------------------+--------------------+\n",
      "|Duck the Halls: A...|[Alonso Ramirez R...|[Chris Diamantopo...|  TV-G|[Animation,  Family]|Join Mickey and t...|\n",
      "|Ernest Saves Chri...|       [John Cherry]|[Jim Varney,  Noe...|    PG|            [Comedy]|Santa Claus passe...|\n",
      "|Ice Age: A Mammot...|      [Karen Disher]|[Raymond Albert R...|  TV-G|[Animation,  Come...|Sid the Sloth is ...|\n",
      "+--------------------+--------------------+--------------------+------+--------------------+--------------------+\n",
      "only showing top 3 rows\n",
      "\n"
     ]
    }
   ],
   "source": [
    "Disney3 = disney_clean_nulls.select(\"title\", \"director\", \"cast\", \"rating\", \"listed_in\", \"description\")\n",
    "Disney3.show(3)"
   ]
  },
  {
   "cell_type": "code",
   "execution_count": null,
   "id": "f46babf6",
   "metadata": {},
   "outputs": [
    {
     "name": "stdout",
     "output_type": "stream",
     "text": [
      "+-----------------+\n",
      "|           rating|\n",
      "+-----------------+\n",
      "|             TV-Y|\n",
      "|December 25, 2020|\n",
      "|               PG|\n",
      "|    United States|\n",
      "|         TV-Y7-FV|\n",
      "|            TV-PG|\n",
      "|                G|\n",
      "|            TV-14|\n",
      "|             TV-G|\n",
      "|            TV-Y7|\n",
      "|            PG-13|\n",
      "+-----------------+\n",
      "\n"
     ]
    }
   ],
   "source": [
    "Disney3.select(\"rating\").distinct().show()"
   ]
  },
  {
   "cell_type": "code",
   "execution_count": null,
   "id": "e9137f7a",
   "metadata": {},
   "outputs": [
    {
     "name": "stdout",
     "output_type": "stream",
     "text": [
      "+--------------------+\n",
      "|           listed_in|\n",
      "+--------------------+\n",
      "|[Musical,  Romanc...|\n",
      "|[Family,  Fantasy...|\n",
      "|[Biographical,  D...|\n",
      "|   [Drama,  Fantasy]|\n",
      "|[Coming of Age,  ...|\n",
      "|[Comedy,  Coming ...|\n",
      "|[Drama,  Music,  ...|\n",
      "|[Comedy,  Family,...|\n",
      "|[Action-Adventure...|\n",
      "|[Documentary,  Fa...|\n",
      "|[Animation,  Fami...|\n",
      "|[Animation,  Family]|\n",
      "|[Docuseries,  Fam...|\n",
      "|[Animation,  Fami...|\n",
      "|[Biographical,  H...|\n",
      "|[Docuseries,  Sci...|\n",
      "|[Animation,  Kids...|\n",
      "|[Animation,  Kids...|\n",
      "|[Action-Adventure...|\n",
      "|              [2016]|\n",
      "+--------------------+\n",
      "only showing top 20 rows\n",
      "\n"
     ]
    }
   ],
   "source": [
    "Disney3.select(\"listed_in\").distinct().show()"
   ]
  },
  {
   "cell_type": "markdown",
   "id": "6cb230b7",
   "metadata": {},
   "source": [
    "Natural Language Processing"
   ]
  },
  {
   "cell_type": "code",
   "execution_count": null,
   "id": "a3bcaa81",
   "metadata": {},
   "outputs": [
    {
     "name": "stdout",
     "output_type": "stream",
     "text": [
      "+--------------------+--------------------+--------------------+------+--------------------+--------------------+------------+\n",
      "|               title|            director|                cast|rating|           listed_in|         description|title_length|\n",
      "+--------------------+--------------------+--------------------+------+--------------------+--------------------+------------+\n",
      "|Duck the Halls: A...|[Alonso Ramirez R...|[Chris Diamantopo...|  TV-G|[Animation,  Family]|Join Mickey and t...|          48|\n",
      "|Ernest Saves Chri...|       [John Cherry]|[Jim Varney,  Noe...|    PG|            [Comedy]|Santa Claus passe...|          22|\n",
      "|Ice Age: A Mammot...|      [Karen Disher]|[Raymond Albert R...|  TV-G|[Animation,  Come...|Sid the Sloth is ...|          28|\n",
      "+--------------------+--------------------+--------------------+------+--------------------+--------------------+------------+\n",
      "only showing top 3 rows\n",
      "\n"
     ]
    }
   ],
   "source": [
    "from pyspark.sql.functions import length\n",
    "\n",
    "Disney4 = Disney3.withColumn('title_length', length(Disney3['title']))\n",
    "Disney4.show(3)"
   ]
  },
  {
   "cell_type": "code",
   "execution_count": null,
   "id": "63012f4b",
   "metadata": {},
   "outputs": [
    {
     "name": "stdout",
     "output_type": "stream",
     "text": [
      "+--------------------+--------------------+--------------------+------+--------------------+--------------------+------------+--------------------+\n",
      "|               title|            director|                cast|rating|           listed_in|         description|title_length|        Disney_words|\n",
      "+--------------------+--------------------+--------------------+------+--------------------+--------------------+------------+--------------------+\n",
      "|Duck the Halls: A...|[Alonso Ramirez R...|[Chris Diamantopo...|  TV-G|[Animation,  Family]|Join Mickey and t...|          48|[duck, the, halls...|\n",
      "|Ernest Saves Chri...|       [John Cherry]|[Jim Varney,  Noe...|    PG|            [Comedy]|Santa Claus passe...|          22|[ernest, saves, c...|\n",
      "|Ice Age: A Mammot...|      [Karen Disher]|[Raymond Albert R...|  TV-G|[Animation,  Come...|Sid the Sloth is ...|          28|[ice, age, a, mam...|\n",
      "+--------------------+--------------------+--------------------+------+--------------------+--------------------+------------+--------------------+\n",
      "only showing top 3 rows\n",
      "\n",
      "+------------------------------------------------+------------------------------------+---------------------------------------------------------------------------------------------------+------+-----------------------------+--------------------------------------------------+------------+--------------------------------------------------------+------------------------------------------------------------+\n",
      "|title                                           |director                            |cast                                                                                               |rating|listed_in                    |description                                       |title_length|Disney_words                                            |Disney_tokens                                               |\n",
      "+------------------------------------------------+------------------------------------+---------------------------------------------------------------------------------------------------+------+-----------------------------+--------------------------------------------------+------------+--------------------------------------------------------+------------------------------------------------------------+\n",
      "|Duck the Halls: A Mickey Mouse Christmas Special|[Alonso Ramirez Ramos,  Dave Wasson]|[Chris Diamantopoulos,  Tony Anselmo,  Tress MacNeille,  Bill Farmer,  Russi Taylor,  Corey Burton]|TV-G  |[Animation,  Family]         |Join Mickey and the gang as they duck the halls!  |48          |[duck, the, halls, a, mickey, mouse, christmas, special]|[join, mickey, and, the, gang, as, they, duck, the, halls]  |\n",
      "|Ernest Saves Christmas                          |[John Cherry]                       |[Jim Varney,  Noelle Parker,  Douglas Seale]                                                       |PG    |[Comedy]                     |Santa Claus passes his magic bag to a new St. Nic.|22          |[ernest, saves, christmas]                              |[santa, claus, passes, his, magic, bag, to, a, new, st, nic]|\n",
      "|Ice Age: A Mammoth Christmas                    |[Karen Disher]                      |[Raymond Albert Romano,  John Leguizamo,  Denis Leary,  Queen Latifah]                             |TV-G  |[Animation,  Comedy,  Family]|Sid the Sloth is on Santa's naughty list.         |28          |[ice, age, a, mammoth, christmas]                       |[sid, the, sloth, is, on, santa, s, naughty, list]          |\n",
      "+------------------------------------------------+------------------------------------+---------------------------------------------------------------------------------------------------+------+-----------------------------+--------------------------------------------------+------------+--------------------------------------------------------+------------------------------------------------------------+\n",
      "only showing top 3 rows\n",
      "\n"
     ]
    }
   ],
   "source": [
    "# Tokenize words in title column\n",
    "tokenizer1 = RegexTokenizer(inputCol= 'title', outputCol='Disney_words', pattern='\\\\W')\n",
    "tokenized = tokenizer1.transform(Disney4)\n",
    "tokenized.show(3)\n",
    "\n",
    "# Tokenize words in description column\n",
    "tokenizer2 = RegexTokenizer(inputCol= 'description', outputCol='Disney_tokens', pattern='\\\\W')\n",
    "tokenized2 = tokenizer2.transform(tokenized)\n",
    "tokenized2.show(3, truncate=False)"
   ]
  },
  {
   "cell_type": "code",
   "execution_count": null,
   "id": "4d081de5",
   "metadata": {},
   "outputs": [],
   "source": [
    "# Remove stopwords in tokenized Disney_words column\n",
    "Disney_remover = StopWordsRemover(inputCol='Disney_words', outputCol='filtered_title')\n",
    "removed_Dis = Disney_remover.transform(tokenized2)\n",
    "\n",
    "# Processing title column\n",
    "Disney_cv = CountVectorizer(inputCol='filtered_title', outputCol='vec_title')\n",
    "Disney_idf = IDF(inputCol='vec_title', outputCol='Disney_tfidf')\n",
    "Disney_numeric = StringIndexer(inputCol='rating', outputCol='label')\n",
    "Disney_Assembler = VectorAssembler(inputCols=['Disney_tfidf','title_length'], outputCol='features')"
   ]
  },
  {
   "cell_type": "code",
   "execution_count": null,
   "id": "98c32abe",
   "metadata": {},
   "outputs": [],
   "source": [
    "from pyspark.ml import Pipeline\n",
    "\n",
    "# Creaing data pipeline\n",
    "Disney_pipeline = Pipeline(stages=[Disney_numeric, tokenizer1, Disney_remover, Disney_cv, Disney_idf, Disney_Assembler])\n",
    "                        #tokenizer2, remover2, Disney_cv2, Disney_idf2, Disney_Assembler2])"
   ]
  },
  {
   "cell_type": "code",
   "execution_count": null,
   "id": "b18ff753",
   "metadata": {},
   "outputs": [],
   "source": [
    "Disney_fit = Disney_pipeline.fit(Disney4)\n",
    "Disney_clean = Disney_fit.transform(Disney4)\n",
    "Disney_cleaned = Disney_clean.select('label', 'features')"
   ]
  },
  {
   "cell_type": "code",
   "execution_count": null,
   "id": "d793f018",
   "metadata": {},
   "outputs": [
    {
     "name": "stdout",
     "output_type": "stream",
     "text": [
      "root\n",
      " |-- title: string (nullable = true)\n",
      " |-- director: array (nullable = true)\n",
      " |    |-- element: string (containsNull = true)\n",
      " |-- cast: array (nullable = true)\n",
      " |    |-- element: string (containsNull = true)\n",
      " |-- rating: string (nullable = true)\n",
      " |-- listed_in: array (nullable = true)\n",
      " |    |-- element: string (containsNull = true)\n",
      " |-- description: string (nullable = true)\n",
      " |-- title_length: integer (nullable = true)\n",
      "\n"
     ]
    }
   ],
   "source": [
    "Disney4.printSchema()"
   ]
  },
  {
   "cell_type": "code",
   "execution_count": null,
   "id": "26b31520",
   "metadata": {},
   "outputs": [
    {
     "name": "stdout",
     "output_type": "stream",
     "text": [
      "+-----+--------------------+\n",
      "|label|            features|\n",
      "+-----+--------------------+\n",
      "|  0.0|(1857,[8,14,37,55...|\n",
      "|  3.0|(1857,[14,1574,16...|\n",
      "|  0.0|(1857,[14,59,96,1...|\n",
      "|  1.0|(1857,[58,173,590...|\n",
      "|  6.0|(1857,[370,1579,1...|\n",
      "|  5.0|(1857,[1035,1856]...|\n",
      "|  5.0|(1857,[243,607,13...|\n",
      "|  1.0|(1857,[18,122,139...|\n",
      "|  2.0|(1857,[14,41,112,...|\n",
      "|  1.0|(1857,[0,72,98,50...|\n",
      "|  0.0|(1857,[273,1434,1...|\n",
      "|  2.0|(1857,[6,153,1856...|\n",
      "|  1.0|(1857,[77,464,111...|\n",
      "|  1.0|(1857,[30,670,185...|\n",
      "|  0.0|(1857,[681,1856],...|\n",
      "|  1.0|(1857,[764,1710,1...|\n",
      "|  1.0|(1857,[0,255,534,...|\n",
      "|  1.0|(1857,[0,1630,185...|\n",
      "|  3.0|(1857,[385,1856],...|\n",
      "|  2.0|(1857,[1217,1856]...|\n",
      "+-----+--------------------+\n",
      "only showing top 20 rows\n",
      "\n"
     ]
    }
   ],
   "source": [
    "Disney_cleaned.show()"
   ]
  },
  {
   "cell_type": "markdown",
   "id": "06f80c3b",
   "metadata": {},
   "source": [
    "Naive Bayes Classifier"
   ]
  },
  {
   "cell_type": "code",
   "execution_count": null,
   "id": "0b13d6e9",
   "metadata": {},
   "outputs": [],
   "source": [
    "# Building the model\n",
    "NB = NaiveBayes()"
   ]
  },
  {
   "cell_type": "code",
   "execution_count": null,
   "id": "ede95fbb",
   "metadata": {},
   "outputs": [],
   "source": [
    "# Splitting data into training and testing datasets \n",
    "Disney_train, Disney_test = Disney_cleaned.randomSplit([0.7, 0.3])"
   ]
  },
  {
   "cell_type": "code",
   "execution_count": null,
   "id": "f6291248",
   "metadata": {},
   "outputs": [
    {
     "name": "stdout",
     "output_type": "stream",
     "text": [
      "+-----+--------------------+--------------------+--------------------+----------+\n",
      "|label|            features|       rawPrediction|         probability|prediction|\n",
      "+-----+--------------------+--------------------+--------------------+----------+\n",
      "|  0.0|(1857,[0,2,3,83,8...|[-229.95900817051...|[1.0,4.8196007405...|       0.0|\n",
      "|  0.0|(1857,[0,5,7,92,2...|[-183.18002788181...|[0.99999221576372...|       0.0|\n",
      "|  0.0|(1857,[0,19,20,93...|[-213.16206845596...|[1.25255600188760...|       4.0|\n",
      "|  0.0|(1857,[0,21,57,53...|[-162.49305310703...|[0.94508801908285...|       0.0|\n",
      "|  0.0|(1857,[0,68,127,6...|[-292.98431580888...|[0.78644590774862...|       0.0|\n",
      "+-----+--------------------+--------------------+--------------------+----------+\n",
      "only showing top 5 rows\n",
      "\n"
     ]
    }
   ],
   "source": [
    "# Fitting the Naive Bayes model\n",
    "Disney_model = NB.fit(Disney_train)\n",
    "Disney_results = Disney_model.transform(Disney_test)\n",
    "Disney_results.show(5)"
   ]
  },
  {
   "cell_type": "markdown",
   "id": "05f71f1e",
   "metadata": {},
   "source": [
    "Model Evaluation"
   ]
  },
  {
   "cell_type": "code",
   "execution_count": null,
   "id": "79c7338f",
   "metadata": {},
   "outputs": [],
   "source": [
    "# Evaluating NB model\n",
    "accuracy_eval = MulticlassClassificationEvaluator()\n",
    "\n"
   ]
  },
  {
   "cell_type": "code",
   "execution_count": null,
   "id": "9db65a9d",
   "metadata": {},
   "outputs": [
    {
     "name": "stdout",
     "output_type": "stream",
     "text": [
      "0.31365669539226243\n"
     ]
    }
   ],
   "source": [
    "accuracy = accuracy_eval.evaluate(Disney_results)\n",
    "print(accuracy)"
   ]
  },
  {
   "cell_type": "markdown",
   "id": "a461c924",
   "metadata": {},
   "source": [
    "Building model on rating as label and description column as feature"
   ]
  },
  {
   "cell_type": "code",
   "execution_count": null,
   "id": "6aeb75d1",
   "metadata": {},
   "outputs": [],
   "source": [
    "# Remove stopwords in tokenized Disney_tokens column\n",
    "remover2 = StopWordsRemover(inputCol='Disney_tokens', outputCol='filtered_description')\n",
    "removed_Disney = remover2.transform(removed_Dis)\n",
    "\n",
    "# Processing description column\n",
    "Disney_cv2 = CountVectorizer(inputCol='filtered_description', outputCol='vec_description')\n",
    "Disney_idf2 = IDF(inputCol='vec_description', outputCol='Disney_tfidf2')\n",
    "Disney_numeric2 = StringIndexer(inputCol='rating', outputCol='label')\n",
    "Disney_Assembler2 = VectorAssembler(inputCols=['Disney_tfidf2','title_length'], outputCol='features')"
   ]
  },
  {
   "cell_type": "code",
   "execution_count": null,
   "id": "0a90e7cd",
   "metadata": {},
   "outputs": [],
   "source": [
    "# Creaing data pipeline\n",
    "Disney_pipeline = Pipeline(stages=[Disney_numeric2, tokenizer2, remover2, Disney_cv2, Disney_idf2, Disney_Assembler2])                        "
   ]
  },
  {
   "cell_type": "code",
   "execution_count": null,
   "id": "5e4d7527",
   "metadata": {},
   "outputs": [],
   "source": [
    "Disney_fit2 = Disney_pipeline.fit(Disney4)\n",
    "Disney_clean2 = Disney_fit2.transform(Disney4)\n",
    "Disney_cleaned2 = Disney_clean2.select('label', 'features')"
   ]
  },
  {
   "cell_type": "code",
   "execution_count": null,
   "id": "17670f0b",
   "metadata": {},
   "outputs": [],
   "source": [
    "# Splitting data into training and testing datasets \n",
    "Disney_train2, Disney_test2 = Disney_cleaned2.randomSplit([0.7, 0.3])"
   ]
  },
  {
   "cell_type": "code",
   "execution_count": null,
   "id": "a05ad06a",
   "metadata": {},
   "outputs": [
    {
     "name": "stdout",
     "output_type": "stream",
     "text": [
      "+-----+--------------------+--------------------+--------------------+----------+\n",
      "|label|            features|       rawPrediction|         probability|prediction|\n",
      "+-----+--------------------+--------------------+--------------------+----------+\n",
      "|  0.0|(4373,[0,1,2,5,67...|[-242.71330949420...|[0.99641633732020...|       0.0|\n",
      "|  0.0|(4373,[0,1,2,9,22...|[-232.57516558639...|[1.0,6.6110834025...|       0.0|\n",
      "|  0.0|(4373,[0,1,2,12,1...|[-501.15865178004...|[2.06211318685915...|       2.0|\n",
      "|  0.0|(4373,[0,1,2,15,4...|[-250.02229672676...|[0.99984179332652...|       0.0|\n",
      "|  0.0|(4373,[0,1,2,15,5...|[-373.99031338740...|[0.11321624378265...|       4.0|\n",
      "+-----+--------------------+--------------------+--------------------+----------+\n",
      "only showing top 5 rows\n",
      "\n"
     ]
    }
   ],
   "source": [
    "# Fitting the Naive Bayes model\n",
    "Disney_model2 = NB.fit(Disney_train2)\n",
    "Disney_results2 = Disney_model2.transform(Disney_test2)\n",
    "Disney_results2.show(5)"
   ]
  },
  {
   "cell_type": "code",
   "execution_count": null,
   "id": "87e70f16",
   "metadata": {},
   "outputs": [
    {
     "name": "stdout",
     "output_type": "stream",
     "text": [
      "0.3184445591365627\n"
     ]
    }
   ],
   "source": [
    "# Evaluating NB model\n",
    "accuracy2 = accuracy_eval.evaluate(Disney_results2)\n",
    "print(accuracy2)"
   ]
  },
  {
   "cell_type": "markdown",
   "id": "3f34e318",
   "metadata": {},
   "source": [
    "Netflix Data"
   ]
  },
  {
   "cell_type": "code",
   "execution_count": null,
   "id": "001946c3",
   "metadata": {},
   "outputs": [
    {
     "name": "stdout",
     "output_type": "stream",
     "text": [
      "+--------------------+--------------------+--------------------+------+--------------------+--------------------+\n",
      "|               title|            director|                cast|rating|           listed_in|         description|\n",
      "+--------------------+--------------------+--------------------+------+--------------------+--------------------+\n",
      "|Dick Johnson Is Dead|   [Kirsten Johnson]|                null| PG-13|     [Documentaries]|As her father nea...|\n",
      "|       Blood & Water|                null|[Ama Qamata,  Kho...| TV-MA|[International TV...|After crossing pa...|\n",
      "|           Ganglands|   [Julien Leclercq]|[Sami Bouajila,  ...| TV-MA|[Crime TV Shows, ...|To protect his fa...|\n",
      "|Jailbirds New Orl...|                null|                null| TV-MA|[Docuseries,  Rea...|Feuds, flirtation...|\n",
      "|        Kota Factory|                null|[Mayur More,  Jit...| TV-MA|[International TV...|In a city of coac...|\n",
      "|       Midnight Mass|     [Mike Flanagan]|[Kate Siegel,  Za...| TV-MA|[TV Dramas,  TV H...|The arrival of a ...|\n",
      "|My Little Pony: A...|[Robert Cullen,  ...|[Vanessa Hudgens,...|    PG|[Children & Famil...|Equestria's divid...|\n",
      "|             Sankofa|      [Haile Gerima]|[Kofi Ghanaba,  O...| TV-MA|[Dramas,  Indepen...|On a photo shoot ...|\n",
      "|The Great British...|   [Andy Devonshire]|[Mel Giedroyc,  S...| TV-14|[British TV Shows...|A talented batch ...|\n",
      "|        The Starling|    [Theodore Melfi]|[Melissa McCarthy...| PG-13| [Comedies,  Dramas]|A woman adjusting...|\n",
      "|Vendetta: Truth, ...|                null|                null| TV-MA|[Crime TV Shows, ...|\"Sicily boasts a ...|\n",
      "|    Bangkok Breaking| [Kongkiat Komesiri]|[Sukollawat Kanar...| TV-MA|[Crime TV Shows, ...|Struggling to ear...|\n",
      "|        Je Suis Karl|[Christian Schwoc...|[Luna Wedler,  Ja...| TV-MA|[Dramas,  Interna...|After most of her...|\n",
      "|Confessions of an...|     [Bruno Garotti]|[Klara Castanho, ...| TV-PG|[Children & Famil...|When the clever b...|\n",
      "|Crime Stories: In...|                null|                null| TV-MA|[British TV Shows...|Cameras following...|\n",
      "|   Dear White People|                null|[Logan Browning, ...| TV-MA|[TV Comedies,  TV...|\"Students of colo...|\n",
      "|Europe's Most Dan...|[Pedro de Echave ...|                null| TV-MA|[Documentaries,  ...|Declassified docu...|\n",
      "|     Falsa identidad|                null|[Luis Ernesto Fra...| TV-MA|[Crime TV Shows, ...|Strangers Diego a...|\n",
      "|           Intrusion|        [Adam Salky]|[Freida Pinto,  L...| TV-14|         [Thrillers]|After a deadly ho...|\n",
      "|              Jaguar|                null|[Blanca Suárez,  ...| TV-MA|[International TV...|In the 1960s, a H...|\n",
      "+--------------------+--------------------+--------------------+------+--------------------+--------------------+\n",
      "only showing top 20 rows\n",
      "\n"
     ]
    }
   ],
   "source": [
    "Netflix3 = netflix_clean_nulls.select(\"title\", \"director\", \"cast\", \"rating\", \"listed_in\", \"description\")\n",
    "Netflix3.show()"
   ]
  },
  {
   "cell_type": "code",
   "execution_count": null,
   "id": "08a59124",
   "metadata": {},
   "outputs": [
    {
     "name": "stdout",
     "output_type": "stream",
     "text": [
      "+--------------------+\n",
      "|              rating|\n",
      "+--------------------+\n",
      "|    November 1, 2020|\n",
      "|    Shavidee Trotter|\n",
      "|       Adriane Lenox|\n",
      "|                TV-Y|\n",
      "|       Maury Chaykin|\n",
      "|                2019|\n",
      "|                2017|\n",
      "|                  UR|\n",
      "| Keppy Ekpenyong ...|\n",
      "|      Benn Northover|\n",
      "|                  PG|\n",
      "|         Jide Kosoko|\n",
      "|               TV-MA|\n",
      "|     Jowharah Jones\"|\n",
      "|            TV-Y7-FV|\n",
      "|                2006|\n",
      "|      Itziar Aizpuru|\n",
      "|                  NR|\n",
      "|               TV-PG|\n",
      "|               NC-17|\n",
      "+--------------------+\n",
      "only showing top 20 rows\n",
      "\n"
     ]
    }
   ],
   "source": [
    "Netflix3.select(\"rating\").distinct().show()"
   ]
  },
  {
   "cell_type": "code",
   "execution_count": null,
   "id": "aaa2eade",
   "metadata": {},
   "outputs": [
    {
     "name": "stdout",
     "output_type": "stream",
     "text": [
      "+--------------------+\n",
      "|           listed_in|\n",
      "+--------------------+\n",
      "|[Kids' TV,  Korea...|\n",
      "|[Comedies,  Drama...|\n",
      "|[Kids' TV,  TV Th...|\n",
      "|[International TV...|\n",
      "|[TV Dramas,  TV S...|\n",
      "|[Action & Adventu...|\n",
      "|[Classic Movies, ...|\n",
      "|[Classic Movies, ...|\n",
      "|            [71 min]|\n",
      "|[ Janeane Garofalo\"]|\n",
      "|[Crime TV Shows, ...|\n",
      "|[Comedies,  Inter...|\n",
      "|[Kids' TV,  TV Sc...|\n",
      "|[Comedies,  Music...|\n",
      "|     [ Margaret Cho]|\n",
      "|[Action & Adventure]|\n",
      "|[Action & Adventu...|\n",
      "|[Comedies,  Roman...|\n",
      "|[Action & Adventu...|\n",
      "|[Independent Movi...|\n",
      "|[Reality TV,  TV ...|\n",
      "|[Anime Features, ...|\n",
      "|[Action & Adventu...|\n",
      "|     [Documentaries]|\n",
      "|[British TV Shows...|\n",
      "|          [TV Shows]|\n",
      "|[Crime TV Shows, ...|\n",
      "|[TV Dramas,  TV S...|\n",
      "|[British TV Shows...|\n",
      "|[Comedies,  Cult ...|\n",
      "|[Dramas,  Interna...|\n",
      "|[Kids' TV,  Reali...|\n",
      "|          [Comedies]|\n",
      "|[Comedies,  LGBTQ...|\n",
      "|[Action & Adventu...|\n",
      "|[International Mo...|\n",
      "|[Documentaries,  ...|\n",
      "|[Children & Famil...|\n",
      "|[Dramas,  Faith &...|\n",
      "|[TV Comedies,  TV...|\n",
      "|[International TV...|\n",
      "|[Classic Movies, ...|\n",
      "|[Comedies,  Drama...|\n",
      "|[Dramas,  Interna...|\n",
      "|[Horror Movies,  ...|\n",
      "|[Action & Adventu...|\n",
      "|[Docuseries,  Sci...|\n",
      "|[Action & Adventu...|\n",
      "|[Comedies,  Sport...|\n",
      "|[British TV Shows...|\n",
      "+--------------------+\n",
      "only showing top 50 rows\n",
      "\n"
     ]
    }
   ],
   "source": [
    "Netflix3.select(\"listed_in\").distinct().show(50)"
   ]
  },
  {
   "cell_type": "markdown",
   "id": "7a5f9b2e",
   "metadata": {},
   "source": [
    "Natural Language Processing"
   ]
  },
  {
   "cell_type": "code",
   "execution_count": null,
   "id": "38b45026",
   "metadata": {},
   "outputs": [
    {
     "name": "stdout",
     "output_type": "stream",
     "text": [
      "+--------------------+-----------------+--------------------+------+--------------------+--------------------+------------+\n",
      "|               title|         director|                cast|rating|           listed_in|         description|title_length|\n",
      "+--------------------+-----------------+--------------------+------+--------------------+--------------------+------------+\n",
      "|Dick Johnson Is Dead|[Kirsten Johnson]|                null| PG-13|     [Documentaries]|As her father nea...|          20|\n",
      "|       Blood & Water|             null|[Ama Qamata,  Kho...| TV-MA|[International TV...|After crossing pa...|          13|\n",
      "|           Ganglands|[Julien Leclercq]|[Sami Bouajila,  ...| TV-MA|[Crime TV Shows, ...|To protect his fa...|           9|\n",
      "+--------------------+-----------------+--------------------+------+--------------------+--------------------+------------+\n",
      "only showing top 3 rows\n",
      "\n"
     ]
    }
   ],
   "source": [
    "Netflix4 = Netflix3.withColumn('title_length', length(Netflix3['title']))\n",
    "Netflix4.show(3)"
   ]
  },
  {
   "cell_type": "code",
   "execution_count": null,
   "id": "f412a51f",
   "metadata": {},
   "outputs": [
    {
     "name": "stdout",
     "output_type": "stream",
     "text": [
      "+--------------------+-----------------+--------------------+------+--------------------+--------------------+--------------------+--------------------+\n",
      "|               title|         director|                cast|rating|           listed_in|         description|           Net_words|          Net_tokens|\n",
      "+--------------------+-----------------+--------------------+------+--------------------+--------------------+--------------------+--------------------+\n",
      "|Dick Johnson Is Dead|[Kirsten Johnson]|                null| PG-13|     [Documentaries]|As her father nea...|[dick, johnson, i...|[as, her, father,...|\n",
      "|       Blood & Water|             null|[Ama Qamata,  Kho...| TV-MA|[International TV...|After crossing pa...|      [blood, water]|[after, crossing,...|\n",
      "|           Ganglands|[Julien Leclercq]|[Sami Bouajila,  ...| TV-MA|[Crime TV Shows, ...|To protect his fa...|         [ganglands]|[to, protect, his...|\n",
      "+--------------------+-----------------+--------------------+------+--------------------+--------------------+--------------------+--------------------+\n",
      "only showing top 3 rows\n",
      "\n"
     ]
    }
   ],
   "source": [
    "# Tokenize words in title column\n",
    "reg_tokenizer3 = RegexTokenizer(inputCol=\"title\", outputCol=\"Net_words\", pattern='\\\\W')\n",
    "reg_tokenized3 = reg_tokenizer3.transform(Netflix3)\n",
    "\n",
    "# Tokenize words in description column\n",
    "reg_tokenizer4 = RegexTokenizer(inputCol=\"description\", outputCol=\"Net_tokens\", pattern='\\\\W')\n",
    "reg_tokenized4 = reg_tokenizer4.transform(reg_tokenized3)\n",
    "\n",
    "reg_tokenized4.show(3)"
   ]
  },
  {
   "cell_type": "markdown",
   "id": "85572865",
   "metadata": {},
   "source": [
    "Running model on Netflix title column"
   ]
  },
  {
   "cell_type": "code",
   "execution_count": null,
   "id": "0a29229a",
   "metadata": {},
   "outputs": [],
   "source": [
    "# Remove stopwords in tokenized words column\n",
    "Netflix_remover = StopWordsRemover(inputCol='Net_words', outputCol='filtered_title')\n",
    "Netflix_removed = Netflix_remover.transform(reg_tokenized4)\n",
    "\n",
    "# Processing title column\n",
    "Netflix_cv = CountVectorizer(inputCol='filtered_title', outputCol='vec_title')\n",
    "Netflix_idf = IDF(inputCol='vec_title', outputCol='Netflix_tfidf')\n",
    "Netflix_numeric = StringIndexer(inputCol='rating', outputCol='label')\n",
    "Netflix_Assembler = VectorAssembler(inputCols=['Netflix_tfidf','title_length'], outputCol='features')"
   ]
  },
  {
   "cell_type": "code",
   "execution_count": null,
   "id": "71227674",
   "metadata": {},
   "outputs": [],
   "source": [
    "# Creaing data pipeline\n",
    "Netflix_pipeline = Pipeline(stages=[Netflix_numeric, reg_tokenizer3, Netflix_remover, Netflix_cv, Netflix_idf, Netflix_Assembler])   "
   ]
  },
  {
   "cell_type": "code",
   "execution_count": null,
   "id": "faf27e95",
   "metadata": {},
   "outputs": [],
   "source": [
    "Netflix_fit = Netflix_pipeline.fit(Netflix4)\n",
    "Netflix_clean = Netflix_fit.transform(Netflix4)\n",
    "Netflix_cleaned = Netflix_clean.select('label', 'features')"
   ]
  },
  {
   "cell_type": "code",
   "execution_count": null,
   "id": "1d41a23a",
   "metadata": {},
   "outputs": [],
   "source": [
    "# Splitting data into training and testing datasets \n",
    "Netflix_train, Netflix_test = Netflix_cleaned.randomSplit([0.7, 0.3])"
   ]
  },
  {
   "cell_type": "code",
   "execution_count": null,
   "id": "cb453db2",
   "metadata": {},
   "outputs": [
    {
     "name": "stdout",
     "output_type": "stream",
     "text": [
      "+-----+--------------------+--------------------+--------------------+----------+\n",
      "|label|            features|       rawPrediction|         probability|prediction|\n",
      "+-----+--------------------+--------------------+--------------------+----------+\n",
      "|  0.0|(8786,[0,20,647,8...|[-144.45849150106...|[0.12605895213653...|       3.0|\n",
      "|  0.0|(8786,[0,66,2204,...|[-177.13516515002...|[4.07007478021616...|       3.0|\n",
      "|  0.0|(8786,[0,84,8785]...|[-80.544169003394...|[0.52318537125980...|       0.0|\n",
      "|  0.0|(8786,[0,118,252,...|[-359.23519907900...|[3.23195326480116...|       2.0|\n",
      "|  0.0|(8786,[0,133,6712...|[-191.56860061772...|[2.39103688144098...|       1.0|\n",
      "+-----+--------------------+--------------------+--------------------+----------+\n",
      "only showing top 5 rows\n",
      "\n"
     ]
    }
   ],
   "source": [
    "# Fitting the Naive Bayes model 3\n",
    "Netflix_model = NB.fit(Netflix_train)\n",
    "Netflix_results = Netflix_model.transform(Netflix_test)\n",
    "Netflix_results.show(5)"
   ]
  },
  {
   "cell_type": "markdown",
   "id": "995c61f9",
   "metadata": {},
   "source": [
    "Model Evaluation"
   ]
  },
  {
   "cell_type": "code",
   "execution_count": null,
   "id": "8fdd5b07",
   "metadata": {},
   "outputs": [
    {
     "name": "stdout",
     "output_type": "stream",
     "text": [
      "0.26000183701534946\n"
     ]
    }
   ],
   "source": [
    "# Evaluating NB model 3\n",
    "accuracy3 = accuracy_eval.evaluate(Netflix_results)\n",
    "print(accuracy3)"
   ]
  },
  {
   "cell_type": "markdown",
   "id": "2daef332",
   "metadata": {},
   "source": [
    "Running NB model on Netflix description column"
   ]
  },
  {
   "cell_type": "code",
   "execution_count": null,
   "id": "69c394a1",
   "metadata": {},
   "outputs": [],
   "source": [
    "# Remove stopwords in tokenized Net_tokens column\n",
    "Netflix_remover2 = StopWordsRemover(inputCol='Net_tokens', outputCol='filtered_description')\n",
    "removed_Netflix = Netflix_remover2.transform(Netflix_removed)\n",
    "\n",
    "# Processing Netflix description column\n",
    "Netflix_cv2 = CountVectorizer(inputCol='filtered_description', outputCol='vec_description')\n",
    "Netflix_idf2 = IDF(inputCol='vec_description', outputCol='Netflix_tfidf2')\n",
    "Netflix_numeric2 = StringIndexer(inputCol='rating', outputCol='label')\n",
    "Netflix_Assembler2 = VectorAssembler(inputCols=['Netflix_tfidf2','title_length'], outputCol='features')"
   ]
  },
  {
   "cell_type": "code",
   "execution_count": null,
   "id": "000d4cdc",
   "metadata": {},
   "outputs": [],
   "source": [
    "# Creaing data pipeline\n",
    "Netflix_pipeline2 = Pipeline(stages=[Netflix_numeric2, reg_tokenizer4, Netflix_remover2, Netflix_cv2, Netflix_idf2, Netflix_Assembler2]) "
   ]
  },
  {
   "cell_type": "code",
   "execution_count": null,
   "id": "7eccb454",
   "metadata": {},
   "outputs": [],
   "source": [
    "Netflix_fit2 = Netflix_pipeline2.fit(Netflix4)\n",
    "Netflix_clean2 = Netflix_fit2.transform(Netflix4)\n",
    "Netflix_cleaned2 = Netflix_clean2.select('label', 'features')"
   ]
  },
  {
   "cell_type": "code",
   "execution_count": null,
   "id": "cef0cf16",
   "metadata": {},
   "outputs": [],
   "source": [
    "# Splitting data into training and testing datasets \n",
    "Netflix_train2, Netflix_test2 = Netflix_cleaned2.randomSplit([0.7, 0.3])"
   ]
  },
  {
   "cell_type": "code",
   "execution_count": null,
   "id": "8ccbf2fd",
   "metadata": {},
   "outputs": [
    {
     "name": "stdout",
     "output_type": "stream",
     "text": [
      "+-----+--------------------+--------------------+--------------------+----------+\n",
      "|label|            features|       rawPrediction|         probability|prediction|\n",
      "+-----+--------------------+--------------------+--------------------+----------+\n",
      "|  0.0|(18945,[0,1,2,31,...|[-766.77022193784...|[7.50329261185532...|       7.0|\n",
      "|  0.0|(18945,[0,1,3,5,5...|[-475.13439675149...|[0.98916199485655...|       0.0|\n",
      "|  0.0|(18945,[0,1,5,14,...|[-822.10202701101...|[4.46218591872811...|       1.0|\n",
      "|  0.0|(18945,[0,1,6,7,2...|[-685.37529936071...|[0.99854775688450...|       0.0|\n",
      "|  0.0|(18945,[0,1,7,71,...|[-922.98813040495...|[6.52090137644311...|       3.0|\n",
      "+-----+--------------------+--------------------+--------------------+----------+\n",
      "only showing top 5 rows\n",
      "\n"
     ]
    }
   ],
   "source": [
    "# Fitting the Naive Bayes model 4\n",
    "Netflix_model2 = NB.fit(Netflix_train2)\n",
    "Netflix_results2 = Netflix_model2.transform(Netflix_test2)\n",
    "Netflix_results2.show(5)"
   ]
  },
  {
   "cell_type": "markdown",
   "id": "6048825b",
   "metadata": {},
   "source": [
    "Model Evaluation"
   ]
  },
  {
   "cell_type": "code",
   "execution_count": null,
   "id": "60b49604",
   "metadata": {},
   "outputs": [
    {
     "name": "stdout",
     "output_type": "stream",
     "text": [
      "0.33649694273013475\n"
     ]
    }
   ],
   "source": [
    "# Evaluating NB model 4\n",
    "accuracy4 = accuracy_eval.evaluate(Netflix_results2)\n",
    "print(accuracy4)"
   ]
  }
 ],
 "metadata": {
  "kernelspec": {
   "display_name": "Python 3 (ipykernel)",
   "language": "python",
   "name": "python3"
  },
  "language_info": {
   "codemirror_mode": {
    "name": "ipython",
    "version": 3
   },
   "file_extension": ".py",
   "mimetype": "text/x-python",
   "name": "python",
   "nbconvert_exporter": "python",
   "pygments_lexer": "ipython3",
   "version": "3.8.3"
  }
 },
 "nbformat": 4,
 "nbformat_minor": 5
}
