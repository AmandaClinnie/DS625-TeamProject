{
 "cells": [
  {
   "cell_type": "code",
   "execution_count": 1,
   "id": "f8b8d720-4feb-40b7-a6cc-35b62ad6f421",
   "metadata": {},
   "outputs": [
    {
     "data": {
      "text/html": [
       "\n",
       "            <div>\n",
       "                <p><b>SparkSession - in-memory</b></p>\n",
       "                \n",
       "        <div>\n",
       "            <p><b>SparkContext</b></p>\n",
       "\n",
       "            <p><a href=\"http://CatDesktop:4040\">Spark UI</a></p>\n",
       "\n",
       "            <dl>\n",
       "              <dt>Version</dt>\n",
       "                <dd><code>v3.2.0</code></dd>\n",
       "              <dt>Master</dt>\n",
       "                <dd><code>local[*]</code></dd>\n",
       "              <dt>AppName</dt>\n",
       "                <dd><code>TP</code></dd>\n",
       "            </dl>\n",
       "        </div>\n",
       "        \n",
       "            </div>\n",
       "        "
      ],
      "text/plain": [
       "<pyspark.sql.session.SparkSession at 0x1acfadcb6d0>"
      ]
     },
     "execution_count": 1,
     "metadata": {},
     "output_type": "execute_result"
    }
   ],
   "source": [
    "# Importing the necessary modules\n",
    "import findspark\n",
    "findspark.init()\n",
    "\n",
    "# Initialize a SparkSession\n",
    "from pyspark.sql import SparkSession\n",
    "\n",
    "# Creating SparkSession\n",
    "spark = SparkSession.builder.appName('TP').getOrCreate()\n",
    "\n",
    "# Calling the session variable object\n",
    "spark"
   ]
  },
  {
   "cell_type": "markdown",
   "id": "9349b33b",
   "metadata": {},
   "source": [
    "Loading data sets"
   ]
  },
  {
   "cell_type": "code",
   "execution_count": 2,
   "id": "d845c259-a3b7-46fe-a989-6392ad24c3ce",
   "metadata": {},
   "outputs": [],
   "source": [
    "netflix_url = \"https://raw.githubusercontent.com/AmandaClinnie/DS625-TeamProject/main/netflix_titles.csv\"\n",
    "disney_url = \"https://raw.githubusercontent.com/AmandaClinnie/DS625-TeamProject/main/disney_plus_titles.csv\"\n",
    "\n",
    "from pyspark import SparkFiles\n",
    "spark.sparkContext.addFile(netflix_url)\n",
    "spark.sparkContext.addFile(disney_url)\n",
    "\n",
    "netflix_df = spark.read.csv(\"file:///\"+SparkFiles.get(\"netflix_titles.csv\"), header=True, inferSchema= True)\n",
    "disney_df = spark.read.csv(\"file:///\"+SparkFiles.get(\"disney_plus_titles.csv\"), header=True, inferSchema= True)"
   ]
  },
  {
   "cell_type": "code",
   "execution_count": 3,
   "id": "78dd188a-306b-4a3e-b15a-75745ed1acd4",
   "metadata": {},
   "outputs": [
    {
     "name": "stdout",
     "output_type": "stream",
     "text": [
      "root\n",
      " |-- show_id: string (nullable = true)\n",
      " |-- type: string (nullable = true)\n",
      " |-- title: string (nullable = true)\n",
      " |-- director: string (nullable = true)\n",
      " |-- cast: string (nullable = true)\n",
      " |-- country: string (nullable = true)\n",
      " |-- date_added: string (nullable = true)\n",
      " |-- release_year: string (nullable = true)\n",
      " |-- rating: string (nullable = true)\n",
      " |-- duration: string (nullable = true)\n",
      " |-- listed_in: string (nullable = true)\n",
      " |-- description: string (nullable = true)\n",
      "\n",
      "root\n",
      " |-- show_id: string (nullable = true)\n",
      " |-- type: string (nullable = true)\n",
      " |-- title: string (nullable = true)\n",
      " |-- director: string (nullable = true)\n",
      " |-- cast: string (nullable = true)\n",
      " |-- country: string (nullable = true)\n",
      " |-- date_added: string (nullable = true)\n",
      " |-- release_year: string (nullable = true)\n",
      " |-- rating: string (nullable = true)\n",
      " |-- duration: string (nullable = true)\n",
      " |-- listed_in: string (nullable = true)\n",
      " |-- description: string (nullable = true)\n",
      "\n"
     ]
    }
   ],
   "source": [
    "netflix_df.printSchema()\n",
    "disney_df.printSchema()"
   ]
  },
  {
   "cell_type": "code",
   "execution_count": 4,
   "id": "5c6f6d42-d52d-4bc4-8294-4d981f36ca6f",
   "metadata": {},
   "outputs": [
    {
     "name": "stdout",
     "output_type": "stream",
     "text": [
      "+-------+-------+--------------------+---------------+--------------------+-------------+------------------+------------+------+---------+--------------------+--------------------+\n",
      "|show_id|   type|               title|       director|                cast|      country|        date_added|release_year|rating| duration|           listed_in|         description|\n",
      "+-------+-------+--------------------+---------------+--------------------+-------------+------------------+------------+------+---------+--------------------+--------------------+\n",
      "|     s1|  Movie|Dick Johnson Is Dead|Kirsten Johnson|                null|United States|September 25, 2021|        2020| PG-13|   90 min|       Documentaries|As her father nea...|\n",
      "|     s2|TV Show|       Blood & Water|           null|Ama Qamata, Khosi...| South Africa|September 24, 2021|        2021| TV-MA|2 Seasons|International TV ...|After crossing pa...|\n",
      "|     s3|TV Show|           Ganglands|Julien Leclercq|Sami Bouajila, Tr...|         null|September 24, 2021|        2021| TV-MA| 1 Season|Crime TV Shows, I...|To protect his fa...|\n",
      "+-------+-------+--------------------+---------------+--------------------+-------------+------------------+------------+------+---------+--------------------+--------------------+\n",
      "only showing top 3 rows\n",
      "\n",
      "+-------+-----+--------------------+--------------------+--------------------+-------------+-----------------+------------+------+--------+--------------------+--------------------+\n",
      "|show_id| type|               title|            director|                cast|      country|       date_added|release_year|rating|duration|           listed_in|         description|\n",
      "+-------+-----+--------------------+--------------------+--------------------+-------------+-----------------+------------+------+--------+--------------------+--------------------+\n",
      "|     s1|Movie|Duck the Halls: A...|Alonso Ramirez Ra...|Chris Diamantopou...|         null|November 26, 2021|        2016|  TV-G|  23 min|   Animation, Family|Join Mickey and t...|\n",
      "|     s2|Movie|Ernest Saves Chri...|         John Cherry|Jim Varney, Noell...|         null|November 26, 2021|        1988|    PG|  91 min|              Comedy|Santa Claus passe...|\n",
      "|     s3|Movie|Ice Age: A Mammot...|        Karen Disher|Raymond Albert Ro...|United States|November 26, 2021|        2011|  TV-G|  23 min|Animation, Comedy...|Sid the Sloth is ...|\n",
      "+-------+-----+--------------------+--------------------+--------------------+-------------+-----------------+------------+------+--------+--------------------+--------------------+\n",
      "only showing top 3 rows\n",
      "\n"
     ]
    }
   ],
   "source": [
    "netflix_df.show(3)\n",
    "disney_df.show(3)"
   ]
  },
  {
   "cell_type": "code",
   "execution_count": 5,
   "id": "8c67cbed-ccc5-40a7-8cd6-1c1c86127cc0",
   "metadata": {},
   "outputs": [],
   "source": [
    "netflix_df.createOrReplaceTempView(\"Netflix\")\n",
    "disney_df.createOrReplaceTempView(\"Disney\")"
   ]
  },
  {
   "cell_type": "markdown",
   "id": "4a967c24",
   "metadata": {},
   "source": [
    "# Data Cleaning"
   ]
  },
  {
   "cell_type": "code",
   "execution_count": 6,
   "id": "049e914d-da12-4681-b99b-5290294b952f",
   "metadata": {},
   "outputs": [],
   "source": [
    "# remove (do not select) show_id and date_added columns\n",
    "# convert columns with multiple values to arrays\n",
    "netflix_clean = spark.sql(\"SELECT type, \\\n",
    "                  title, \\\n",
    "                  SPLIT(director, ',') AS director, \\\n",
    "                  SPLIT(cast, ',') AS cast, \\\n",
    "                  SPLIT(country, ',') AS country, \\\n",
    "                  release_year, \\\n",
    "                  rating, \\\n",
    "                  duration, \\\n",
    "                  SPLIT(listed_in, ',') AS listed_in, \\\n",
    "                  description \\\n",
    "                  FROM Netflix\")\n",
    "netflix_clean.createOrReplaceTempView(\"Netflix1\")\n",
    "\n",
    "disney_clean = spark.sql(\"SELECT type, \\\n",
    "                  title, \\\n",
    "                  SPLIT(director, ',') AS director, \\\n",
    "                  SPLIT(cast, ',') AS cast, \\\n",
    "                  SPLIT(country, ',') AS country, \\\n",
    "                  release_year, \\\n",
    "                  rating, \\\n",
    "                  duration, \\\n",
    "                  SPLIT(listed_in, ',') AS listed_in, \\\n",
    "                  description \\\n",
    "                  FROM Disney\")\n",
    "disney_clean.createOrReplaceTempView(\"Disney1\")"
   ]
  },
  {
   "cell_type": "code",
   "execution_count": 7,
   "id": "c0152fcf-7c38-4da6-ab44-c3f747bed655",
   "metadata": {},
   "outputs": [
    {
     "name": "stdout",
     "output_type": "stream",
     "text": [
      "+----------------+---------+---------+--------------------------------------------------------+-----------------------------------------------------+\n",
      "|title           |duration |duration |listed_in                                               |listed_in                                            |\n",
      "+----------------+---------+---------+--------------------------------------------------------+-----------------------------------------------------+\n",
      "|PJ Masks        |3 Seasons|5 Seasons|[Kids' TV]                                              |[Action-Adventure,  Animation,  Kids]                |\n",
      "|Once Upon a Time|1 Season |7 Seasons|[International TV Shows,  Romantic TV Shows,  TV Dramas]|[Action-Adventure,  Fantasy,  Soap Opera / Melodrama]|\n",
      "|Gigantosaurus   |1 Season |2 Seasons|[Kids' TV]                                              |[Action-Adventure,  Animation,  Kids]                |\n",
      "|Becoming        |89 min   |1 Season |[Documentaries]                                         |[Anthology,  Docuseries,  Family]                    |\n",
      "|Genius          |96 min   |86 min   |[Dramas,  Independent Movies,  International Movies]    |[Comedy,  Coming of Age]                             |\n",
      "+----------------+---------+---------+--------------------------------------------------------+-----------------------------------------------------+\n",
      "only showing top 5 rows\n",
      "\n"
     ]
    }
   ],
   "source": [
    "# test duration and listed_in columns to see if they vary between platforms\n",
    "overlap = spark.sql(\"SELECT Netflix1.title, Netflix1.duration, Disney1.duration,\\\n",
    "                     Netflix1.listed_in, Disney1.listed_in FROM Netflix1 \\\n",
    "                     INNER JOIN Disney1 ON Netflix1.title = Disney1.title\")\n",
    "overlap.show(5, truncate=False)\n",
    "# there is variation - worth keeping each dataset separate"
   ]
  },
  {
   "cell_type": "code",
   "execution_count": 8,
   "id": "2769df0a-2dbf-4cf4-8363-7aea61876ac0",
   "metadata": {},
   "outputs": [
    {
     "name": "stdout",
     "output_type": "stream",
     "text": [
      "+----------+\n",
      "|type_nulls|\n",
      "+----------+\n",
      "|         1|\n",
      "+----------+\n",
      "\n",
      "+-----------+\n",
      "|title_nulls|\n",
      "+-----------+\n",
      "|          2|\n",
      "+-----------+\n",
      "\n",
      "+--------------+\n",
      "|director_nulls|\n",
      "+--------------+\n",
      "|          2636|\n",
      "+--------------+\n",
      "\n",
      "+----------+\n",
      "|cast_nulls|\n",
      "+----------+\n",
      "|       826|\n",
      "+----------+\n",
      "\n",
      "+-------------+\n",
      "|country_nulls|\n",
      "+-------------+\n",
      "|          832|\n",
      "+-------------+\n",
      "\n",
      "+------------------+\n",
      "|release_year_nulls|\n",
      "+------------------+\n",
      "|                 2|\n",
      "+------------------+\n",
      "\n",
      "+------------+\n",
      "|rating_nulls|\n",
      "+------------+\n",
      "|           6|\n",
      "+------------+\n",
      "\n",
      "+--------------+\n",
      "|duration_nulls|\n",
      "+--------------+\n",
      "|             5|\n",
      "+--------------+\n",
      "\n",
      "+---------------+\n",
      "|listed_in_nulls|\n",
      "+---------------+\n",
      "|              3|\n",
      "+---------------+\n",
      "\n",
      "+-----------------+\n",
      "|desctiption_nulls|\n",
      "+-----------------+\n",
      "|                3|\n",
      "+-----------------+\n",
      "\n"
     ]
    }
   ],
   "source": [
    "netflix_nulls = spark.sql(\"SELECT COUNT (*) AS type_nulls FROM Netflix1 WHERE type IS NULL\")\n",
    "netflix_nulls.show()\n",
    "\n",
    "netflix_nulls = spark.sql(\"SELECT COUNT (*) AS title_nulls FROM Netflix1 WHERE title IS NULL\")\n",
    "netflix_nulls.show()\n",
    "\n",
    "netflix_nulls = spark.sql(\"SELECT COUNT (*) AS director_nulls FROM Netflix1 WHERE director IS NULL\")\n",
    "netflix_nulls.show()\n",
    "\n",
    "netflix_nulls = spark.sql(\"SELECT COUNT (*) AS cast_nulls FROM Netflix1 WHERE cast IS NULL\")\n",
    "netflix_nulls.show()\n",
    "\n",
    "netflix_nulls = spark.sql(\"SELECT COUNT (*) AS country_nulls FROM Netflix1 WHERE country IS NULL\")\n",
    "netflix_nulls.show()\n",
    "\n",
    "netflix_nulls = spark.sql(\"SELECT COUNT (*) AS release_year_nulls FROM Netflix1 WHERE release_year IS NULL\")\n",
    "netflix_nulls.show()\n",
    "\n",
    "netflix_nulls = spark.sql(\"SELECT COUNT (*) AS rating_nulls FROM Netflix1 WHERE rating IS NULL\")\n",
    "netflix_nulls.show()\n",
    "\n",
    "netflix_nulls = spark.sql(\"SELECT COUNT (*) AS duration_nulls FROM Netflix1 WHERE duration IS NULL\")\n",
    "netflix_nulls.show()\n",
    "\n",
    "netflix_nulls = spark.sql(\"SELECT COUNT (*) AS listed_in_nulls FROM Netflix1 WHERE listed_in IS NULL\")\n",
    "netflix_nulls.show()\n",
    "\n",
    "netflix_nulls = spark.sql(\"SELECT COUNT (*) AS desctiption_nulls FROM Netflix1 WHERE description IS NULL\")\n",
    "netflix_nulls.show()"
   ]
  },
  {
   "cell_type": "code",
   "execution_count": 9,
   "id": "f073564e-92e1-4acd-87e3-980b10591238",
   "metadata": {},
   "outputs": [],
   "source": [
    "# remove rows for columns having <10 null values\n",
    "# director, cast & country columns not as important to be NOT NULL/\n",
    "#  can be dealt with later\n",
    "netflix_clean_nulls = spark.sql(\"SELECT type, \\\n",
    "                  title, \\\n",
    "                  director, \\\n",
    "                  cast, \\\n",
    "                  country, \\\n",
    "                  release_year, \\\n",
    "                  rating, \\\n",
    "                  duration, \\\n",
    "                  listed_in, \\\n",
    "                  description \\\n",
    "                  FROM Netflix1 \\\n",
    "                  WHERE type IS NOT NULL AND \\\n",
    "                  title IS NOT NULL AND \\\n",
    "                  release_year IS NOT NULL AND \\\n",
    "                  rating IS NOT NULL AND \\\n",
    "                  duration IS NOT NULL AND \\\n",
    "                  listed_in IS NOT NULL AND \\\n",
    "                  description IS NOT NULL\")\n",
    "netflix_clean_nulls.createOrReplaceTempView(\"Netflix2\")"
   ]
  },
  {
   "cell_type": "code",
   "execution_count": 10,
   "id": "0514f349-3e36-48da-9a16-60d2628641f0",
   "metadata": {},
   "outputs": [
    {
     "name": "stdout",
     "output_type": "stream",
     "text": [
      "+----------+\n",
      "|type_nulls|\n",
      "+----------+\n",
      "|         0|\n",
      "+----------+\n",
      "\n",
      "+-----------+\n",
      "|title_nulls|\n",
      "+-----------+\n",
      "|          0|\n",
      "+-----------+\n",
      "\n",
      "+--------------+\n",
      "|director_nulls|\n",
      "+--------------+\n",
      "|           473|\n",
      "+--------------+\n",
      "\n",
      "+----------+\n",
      "|cast_nulls|\n",
      "+----------+\n",
      "|       190|\n",
      "+----------+\n",
      "\n",
      "+-------------+\n",
      "|country_nulls|\n",
      "+-------------+\n",
      "|          218|\n",
      "+-------------+\n",
      "\n",
      "+------------------+\n",
      "|release_year_nulls|\n",
      "+------------------+\n",
      "|                 0|\n",
      "+------------------+\n",
      "\n",
      "+------------+\n",
      "|rating_nulls|\n",
      "+------------+\n",
      "|           3|\n",
      "+------------+\n",
      "\n",
      "+--------------+\n",
      "|duration_nulls|\n",
      "+--------------+\n",
      "|             0|\n",
      "+--------------+\n",
      "\n",
      "+---------------+\n",
      "|listed_in_nulls|\n",
      "+---------------+\n",
      "|              1|\n",
      "+---------------+\n",
      "\n",
      "+-----------------+\n",
      "|desctiption_nulls|\n",
      "+-----------------+\n",
      "|                0|\n",
      "+-----------------+\n",
      "\n"
     ]
    }
   ],
   "source": [
    "disney_nulls = spark.sql(\"SELECT COUNT (*) AS type_nulls FROM Disney1 WHERE type IS NULL\")\n",
    "disney_nulls.show()\n",
    "\n",
    "disney_nulls = spark.sql(\"SELECT COUNT (*) AS title_nulls FROM Disney1 WHERE title IS NULL\")\n",
    "disney_nulls.show()\n",
    "\n",
    "disney_nulls = spark.sql(\"SELECT COUNT (*) AS director_nulls FROM Disney1 WHERE director IS NULL\")\n",
    "disney_nulls.show()\n",
    "\n",
    "disney_nulls = spark.sql(\"SELECT COUNT (*) AS cast_nulls FROM Disney1 WHERE cast IS NULL\")\n",
    "disney_nulls.show()\n",
    "\n",
    "disney_nulls = spark.sql(\"SELECT COUNT (*) AS country_nulls FROM Disney1 WHERE country IS NULL\")\n",
    "disney_nulls.show()\n",
    "\n",
    "disney_nulls = spark.sql(\"SELECT COUNT (*) AS release_year_nulls FROM Disney1 WHERE release_year IS NULL\")\n",
    "disney_nulls.show()\n",
    "\n",
    "disney_nulls = spark.sql(\"SELECT COUNT (*) AS rating_nulls FROM Disney1 WHERE rating IS NULL\")\n",
    "disney_nulls.show()\n",
    "\n",
    "disney_nulls = spark.sql(\"SELECT COUNT (*) AS duration_nulls FROM Disney1 WHERE duration IS NULL\")\n",
    "disney_nulls.show()\n",
    "\n",
    "disney_nulls = spark.sql(\"SELECT COUNT (*) AS listed_in_nulls FROM Disney1 WHERE listed_in IS NULL\")\n",
    "disney_nulls.show()\n",
    "\n",
    "disney_nulls = spark.sql(\"SELECT COUNT (*) AS desctiption_nulls FROM Disney1 WHERE description IS NULL\")\n",
    "disney_nulls.show()"
   ]
  },
  {
   "cell_type": "code",
   "execution_count": 11,
   "id": "a597bf44-bc88-47be-b643-1b028a744d99",
   "metadata": {},
   "outputs": [],
   "source": [
    "# remove rows for columns having <10 null values\n",
    "# director, cast & country columns not as important to be NOT NULL/\n",
    "#  can be dealt with later\n",
    "disney_clean_nulls = spark.sql(\"SELECT type, \\\n",
    "                  title, \\\n",
    "                  director, \\\n",
    "                  cast, \\\n",
    "                  country, \\\n",
    "                  release_year, \\\n",
    "                  rating, \\\n",
    "                  duration, \\\n",
    "                  listed_in, \\\n",
    "                  description \\\n",
    "                  FROM Disney1 \\\n",
    "                  WHERE rating IS NOT NULL AND \\\n",
    "                  listed_in IS NOT NULL\")\n",
    "disney_clean_nulls.createOrReplaceTempView(\"Disney2\")"
   ]
  },
  {
   "cell_type": "markdown",
   "id": "d32f0ecf-9695-4b2b-b970-e37f119c10e5",
   "metadata": {},
   "source": [
    "NETFLIX table: Netflix2\n",
    "\n",
    "DISNEY table: Disney2"
   ]
  },
  {
   "cell_type": "code",
   "execution_count": 12,
   "id": "c25f192f-4060-444f-9aa6-8093cdc247a9",
   "metadata": {},
   "outputs": [
    {
     "name": "stdout",
     "output_type": "stream",
     "text": [
      "+--------+\n",
      "|count(1)|\n",
      "+--------+\n",
      "|    8799|\n",
      "+--------+\n",
      "\n",
      "+--------+\n",
      "|count(1)|\n",
      "+--------+\n",
      "|    1446|\n",
      "+--------+\n",
      "\n"
     ]
    }
   ],
   "source": [
    "# table counts\n",
    "spark.sql(\"SELECT COUNT (*) FROM Netflix2\").show()\n",
    "spark.sql(\"SELECT COUNT (*) FROM Disney2\").show()"
   ]
  },
  {
   "cell_type": "markdown",
   "id": "904129e9",
   "metadata": {},
   "source": [
    "# Data Exploration and Analysis"
   ]
  },
  {
   "cell_type": "code",
   "execution_count": 13,
   "id": "c4c3d883",
   "metadata": {},
   "outputs": [
    {
     "name": "stdout",
     "output_type": "stream",
     "text": [
      "+-------+--------------------+--------------------+--------------------+--------------------+------------+------+----------+--------------------+--------------------+\n",
      "|   type|               title|            director|                cast|             country|release_year|rating|  duration|           listed_in|         description|\n",
      "+-------+--------------------+--------------------+--------------------+--------------------+------------+------+----------+--------------------+--------------------+\n",
      "|  Movie|Duck the Halls: A...|[Alonso Ramirez R...|[Chris Diamantopo...|                null|        2016|  TV-G|    23 min|[Animation,  Family]|Join Mickey and t...|\n",
      "|  Movie|Ernest Saves Chri...|       [John Cherry]|[Jim Varney,  Noe...|                null|        1988|    PG|    91 min|            [Comedy]|Santa Claus passe...|\n",
      "|  Movie|Ice Age: A Mammot...|      [Karen Disher]|[Raymond Albert R...|     [United States]|        2011|  TV-G|    23 min|[Animation,  Come...|Sid the Sloth is ...|\n",
      "|  Movie|The Queen Family ...|   [Hamish Hamilton]|[Darren Criss,  A...|                null|        2021| TV-PG|    41 min|           [Musical]|This is real life...|\n",
      "|  Movie|   Becoming Cousteau|        [Liz Garbus]|[Jacques Yves Cou...|     [United States]|        2021| PG-13|    94 min|[Biographical,  D...|An inside look at...|\n",
      "|TV Show|             Hawkeye|                null|[Jeremy Renner,  ...|                null|        2021| TV-14|  1 Season|[Action-Adventure...|Clint Barton/Hawk...|\n",
      "|TV Show|Port Protection A...|                null|[Gary Muehlberger...|     [United States]|        2015| TV-14| 2 Seasons|[Docuseries,  Rea...|Residents of Port...|\n",
      "|TV Show|Secrets of the Zo...|                null|[Dr. Ray Ball,  D...|     [United States]|        2019| TV-PG| 2 Seasons|[Animals & Nature...|A day in the life...|\n",
      "|  Movie|A Muppets Christm...|  [Kirk R. Thatcher]|[Steve Whitmire, ...|     [United States]|        2008|     G|    45 min|[Comedy,  Family,...|Celebrate the hol...|\n",
      "|  Movie|Adventure Thru th...|        [John Gleim]|[Don Hahn,  Kathr...|                null|        2020| TV-PG|    59 min|       [Documentary]|Explore the treas...|\n",
      "|  Movie|  Puppy for Hanukkah|                null|                null|                null|        2020|  TV-G|     4 min|[Comedy,  Family,...|\"Check out Daveed...|\n",
      "|  Movie|     The Pixar Story|     [Leslie Iwerks]|[Stacy Keach,  Jo...|     [United States]|        2007|     G|    91 min|[Documentary,  Fa...|A groundbreaking ...|\n",
      "|TV Show|Dr. Oakley, Yukon...|                null|[Dr. Michelle Oak...|     [United States]|        2013| TV-PG|10 Seasons|[Action-Adventure...|Meet Dr. Michelle...|\n",
      "|  Movie|America the Beaut...|                null| [Michael B. Jordan]|                null|        2021| TV-PG|     2 min|  [Animals & Nature]|Epic, grand portr...|\n",
      "|  Movie|             Baymax!|                null|                null|                null|        2021|  TV-G|     1 min|         [Animation]|“Baymax!” premier...|\n",
      "|  Movie|        Ciao Alberto|    [McKenna Harris]|[Jack Dylan Graze...|                null|        2021| TV-PG|     8 min|[Animation,  Come...|Fun-loving sea mo...|\n",
      "|TV Show|  Disney Fancy Nancy|                null|[Mia Jenness,  Al...|[United States,  ...|        2018| TV-PG| 3 Seasons|  [Animation,  Kids]|Nancy makes every...|\n",
      "|TV Show|  Disney Intertwined|                null|[Carolina Domenec...|                null|        2021| TV-PG|  1 Season|[Comedy,  Coming ...|Allegra is ready ...|\n",
      "|  Movie|           Enchanted|        [Kevin Lima]|[Amy Adams,  Patr...|     [United States]|        2007|    PG|   110 min|[Comedy,  Family,...|An animated princ...|\n",
      "|  Movie|               Feast|   [Patrick Osborne]|[Stephen Apostoli...|     [United States]|        2014|     G|     8 min|[Animation,  Come...|One man's love li...|\n",
      "+-------+--------------------+--------------------+--------------------+--------------------+------------+------+----------+--------------------+--------------------+\n",
      "only showing top 20 rows\n",
      "\n"
     ]
    }
   ],
   "source": [
    "spark.sql(\"SELECT * FROM Disney2\").show()"
   ]
  },
  {
   "cell_type": "code",
   "execution_count": 14,
   "id": "df2d368b",
   "metadata": {},
   "outputs": [
    {
     "name": "stdout",
     "output_type": "stream",
     "text": [
      "+------------------------------+\n",
      "|Number_of_PG_Movies_On_Netflix|\n",
      "+------------------------------+\n",
      "|                           286|\n",
      "+------------------------------+\n",
      "\n",
      "+-----------------------------+\n",
      "|Number_of_PG_Movies_On_Disney|\n",
      "+-----------------------------+\n",
      "|                          234|\n",
      "+-----------------------------+\n",
      "\n"
     ]
    }
   ],
   "source": [
    "spark.sql(\"SELECT COUNT (*) AS Number_of_PG_Movies_On_Netflix FROM Netflix2 WHERE rating == 'PG' AND type == 'Movie'\").show()\n",
    "spark.sql(\"SELECT COUNT (*) AS Number_of_PG_Movies_On_Disney FROM Disney2 WHERE rating == 'PG'AND type == 'Movie'\").show()"
   ]
  },
  {
   "cell_type": "code",
   "execution_count": 15,
   "id": "1b997c4e",
   "metadata": {},
   "outputs": [
    {
     "name": "stdout",
     "output_type": "stream",
     "text": [
      "+-----------------+---------------------------+\n",
      "|           rating|Number_of_Movies_On_Netflix|\n",
      "+-----------------+---------------------------+\n",
      "|            TV-MA|                       2052|\n",
      "|            TV-14|                       1426|\n",
      "|                R|                        794|\n",
      "|            TV-PG|                        539|\n",
      "|            PG-13|                        489|\n",
      "|               PG|                        286|\n",
      "|            TV-Y7|                        139|\n",
      "|             TV-Y|                        131|\n",
      "|             TV-G|                        126|\n",
      "|               NR|                         75|\n",
      "|                G|                         41|\n",
      "|         TV-Y7-FV|                          5|\n",
      "|               UR|                          3|\n",
      "|            NC-17|                          3|\n",
      "|             2021|                          2|\n",
      "| November 1, 2020|                          1|\n",
      "| Shavidee Trotter|                          1|\n",
      "|    Maury Chaykin|                          1|\n",
      "|             2017|                          1|\n",
      "|             2019|                          1|\n",
      "+-----------------+---------------------------+\n",
      "only showing top 20 rows\n",
      "\n"
     ]
    }
   ],
   "source": [
    "mpaaNetflix = spark.sql(\"SELECT rating, COUNT (*) AS Number_of_Movies_On_Netflix FROM Netflix2 WHERE type == 'Movie' GROUP BY rating ORDER BY Number_of_Movies_On_Netflix DESC\")\n",
    "\n",
    "mpaaNetflix.show()"
   ]
  },
  {
   "cell_type": "code",
   "execution_count": 16,
   "id": "48dff87f",
   "metadata": {},
   "outputs": [
    {
     "name": "stdout",
     "output_type": "stream",
     "text": [
      "+--------------------+--------+\n",
      "|               title|duration|\n",
      "+--------------------+--------+\n",
      "|Duck the Halls: A...|  23 min|\n",
      "|Ernest Saves Chri...|  91 min|\n",
      "|Ice Age: A Mammot...|  23 min|\n",
      "|The Queen Family ...|  41 min|\n",
      "|   Becoming Cousteau|  94 min|\n",
      "|A Muppets Christm...|  45 min|\n",
      "|Adventure Thru th...|  59 min|\n",
      "|  Puppy for Hanukkah|   4 min|\n",
      "|     The Pixar Story|  91 min|\n",
      "|America the Beaut...|   2 min|\n",
      "|             Baymax!|   1 min|\n",
      "|        Ciao Alberto|   8 min|\n",
      "|           Enchanted| 110 min|\n",
      "|               Feast|   8 min|\n",
      "|        Frozen Fever|  11 min|\n",
      "|        Get a Horse!|   7 min|\n",
      "|Home Sweet Home A...|  95 min|\n",
      "|       Jungle Cruise| 129 min|\n",
      "|Limitless with Ch...|   2 min|\n",
      "|Marvel Studios’ 2...|  14 min|\n",
      "+--------------------+--------+\n",
      "only showing top 20 rows\n",
      "\n"
     ]
    }
   ],
   "source": [
    "Disney_Movies = spark.sql(\"SELECT title, duration FROM Disney2 WHERE type == 'Movie'\")\n",
    "\n",
    "Disney_Movies.show()"
   ]
  },
  {
   "cell_type": "code",
   "execution_count": 17,
   "id": "7afe9112",
   "metadata": {},
   "outputs": [],
   "source": [
    "from pyspark.sql.functions import col, concat_ws"
   ]
  },
  {
   "cell_type": "code",
   "execution_count": 18,
   "id": "cf0c1759",
   "metadata": {},
   "outputs": [],
   "source": [
    "disneyEDA = disney_clean_nulls"
   ]
  },
  {
   "cell_type": "code",
   "execution_count": 19,
   "id": "5c26b795",
   "metadata": {},
   "outputs": [
    {
     "name": "stdout",
     "output_type": "stream",
     "text": [
      "root\n",
      " |-- type: string (nullable = true)\n",
      " |-- title: string (nullable = true)\n",
      " |-- director: string (nullable = false)\n",
      " |-- cast: string (nullable = false)\n",
      " |-- country: string (nullable = false)\n",
      " |-- release_year: string (nullable = true)\n",
      " |-- rating: string (nullable = true)\n",
      " |-- duration: string (nullable = true)\n",
      " |-- listed_in: string (nullable = false)\n",
      " |-- description: string (nullable = true)\n",
      "\n"
     ]
    }
   ],
   "source": [
    "disneyEDA = disneyEDA.withColumn(\"director\", concat_ws(\",\", col(\"director\")))\n",
    "disneyEDA = disneyEDA.withColumn(\"cast\", concat_ws(\",\", col(\"cast\")))\n",
    "disneyEDA = disneyEDA.withColumn(\"country\", concat_ws(\",\", col(\"country\")))\n",
    "disneyEDA = disneyEDA.withColumn(\"listed_in\", concat_ws(\",\", col(\"listed_in\")))\n",
    "disneyEDA.printSchema()\n",
    "\n",
    "disneyEDA.createOrReplaceTempView(\"DisneyEDA\")"
   ]
  },
  {
   "cell_type": "code",
   "execution_count": 20,
   "id": "cf674ce5",
   "metadata": {},
   "outputs": [
    {
     "name": "stdout",
     "output_type": "stream",
     "text": [
      "+-------+--------------------+--------------------+--------------------+--------------------+------------+------+----------+--------------------+--------------------+\n",
      "|   type|               title|            director|                cast|             country|release_year|rating|  duration|           listed_in|         description|\n",
      "+-------+--------------------+--------------------+--------------------+--------------------+------------+------+----------+--------------------+--------------------+\n",
      "|  Movie|Duck the Halls: A...|Alonso Ramirez Ra...|Chris Diamantopou...|                    |        2016|  TV-G|    23 min|   Animation, Family|Join Mickey and t...|\n",
      "|  Movie|Ernest Saves Chri...|         John Cherry|Jim Varney, Noell...|                    |        1988|    PG|    91 min|              Comedy|Santa Claus passe...|\n",
      "|  Movie|Ice Age: A Mammot...|        Karen Disher|Raymond Albert Ro...|       United States|        2011|  TV-G|    23 min|Animation, Comedy...|Sid the Sloth is ...|\n",
      "|  Movie|The Queen Family ...|     Hamish Hamilton|Darren Criss, Ada...|                    |        2021| TV-PG|    41 min|             Musical|This is real life...|\n",
      "|  Movie|   Becoming Cousteau|          Liz Garbus|Jacques Yves Cous...|       United States|        2021| PG-13|    94 min|Biographical, Doc...|An inside look at...|\n",
      "|TV Show|             Hawkeye|                    |Jeremy Renner, Ha...|                    |        2021| TV-14|  1 Season|Action-Adventure,...|Clint Barton/Hawk...|\n",
      "|TV Show|Port Protection A...|                    |Gary Muehlberger,...|       United States|        2015| TV-14| 2 Seasons|Docuseries, Reali...|Residents of Port...|\n",
      "|TV Show|Secrets of the Zo...|                    |Dr. Ray Ball, Dr....|       United States|        2019| TV-PG| 2 Seasons|Animals & Nature,...|A day in the life...|\n",
      "|  Movie|A Muppets Christm...|    Kirk R. Thatcher|Steve Whitmire, D...|       United States|        2008|     G|    45 min|Comedy, Family, M...|Celebrate the hol...|\n",
      "|  Movie|Adventure Thru th...|          John Gleim|Don Hahn, Kathryn...|                    |        2020| TV-PG|    59 min|         Documentary|Explore the treas...|\n",
      "|  Movie|  Puppy for Hanukkah|                    |                    |                    |        2020|  TV-G|     4 min|Comedy, Family, M...|\"Check out Daveed...|\n",
      "|  Movie|     The Pixar Story|       Leslie Iwerks|Stacy Keach, John...|       United States|        2007|     G|    91 min| Documentary, Family|A groundbreaking ...|\n",
      "|TV Show|Dr. Oakley, Yukon...|                    |Dr. Michelle Oakl...|       United States|        2013| TV-PG|10 Seasons|Action-Adventure,...|Meet Dr. Michelle...|\n",
      "|  Movie|America the Beaut...|                    |   Michael B. Jordan|                    |        2021| TV-PG|     2 min|    Animals & Nature|Epic, grand portr...|\n",
      "|  Movie|             Baymax!|                    |                    |                    |        2021|  TV-G|     1 min|           Animation|“Baymax!” premier...|\n",
      "|  Movie|        Ciao Alberto|      McKenna Harris|Jack Dylan Grazer...|                    |        2021| TV-PG|     8 min|Animation, Comedy...|Fun-loving sea mo...|\n",
      "|TV Show|  Disney Fancy Nancy|                    |Mia Jenness, Alys...|United States, Ca...|        2018| TV-PG| 3 Seasons|     Animation, Kids|Nancy makes every...|\n",
      "|TV Show|  Disney Intertwined|                    |Carolina Domenech...|                    |        2021| TV-PG|  1 Season|Comedy, Coming of...|Allegra is ready ...|\n",
      "|  Movie|           Enchanted|          Kevin Lima|Amy Adams, Patric...|       United States|        2007|    PG|   110 min|Comedy, Family, F...|An animated princ...|\n",
      "|  Movie|               Feast|     Patrick Osborne|Stephen Apostolin...|       United States|        2014|     G|     8 min|Animation, Comedy...|One man's love li...|\n",
      "+-------+--------------------+--------------------+--------------------+--------------------+------------+------+----------+--------------------+--------------------+\n",
      "only showing top 20 rows\n",
      "\n"
     ]
    }
   ],
   "source": [
    "spark.sql(\"SELECT * FROM DisneyEDA\").show()"
   ]
  },
  {
   "cell_type": "code",
   "execution_count": 21,
   "id": "959c4ab0",
   "metadata": {},
   "outputs": [
    {
     "name": "stdout",
     "output_type": "stream",
     "text": [
      "+-----+--------------------+-----------+--------------------+-------+------------+------+--------+---------+--------------------+\n",
      "| type|               title|   director|                cast|country|release_year|rating|duration|listed_in|         description|\n",
      "+-----+--------------------+-----------+--------------------+-------+------------+------+--------+---------+--------------------+\n",
      "|Movie|Ernest Saves Chri...|John Cherry|Jim Varney, Noell...|       |        1988|    PG|  91 min|   Comedy|Santa Claus passe...|\n",
      "+-----+--------------------+-----------+--------------------+-------+------------+------+--------+---------+--------------------+\n",
      "\n"
     ]
    }
   ],
   "source": [
    "disneyEDA.where(col(\"director\") == \"John Cherry\").show()"
   ]
  },
  {
   "cell_type": "code",
   "execution_count": 22,
   "id": "5a0f9786",
   "metadata": {},
   "outputs": [
    {
     "name": "stdout",
     "output_type": "stream",
     "text": [
      "+-----------------+--------------------------+\n",
      "|           rating|Number_of_Movies_On_Disney|\n",
      "+-----------------+--------------------------+\n",
      "|                G|                       253|\n",
      "|               PG|                       234|\n",
      "|             TV-G|                       233|\n",
      "|            TV-PG|                       181|\n",
      "|            PG-13|                        66|\n",
      "|            TV-14|                        37|\n",
      "|            TV-Y7|                        36|\n",
      "|         TV-Y7-FV|                         6|\n",
      "|             TV-Y|                         3|\n",
      "|December 25, 2020|                         1|\n",
      "+-----------------+--------------------------+\n",
      "\n"
     ]
    }
   ],
   "source": [
    "mpaaDisney = spark.sql(\"SELECT rating, COUNT (*) AS Number_of_Movies_On_Disney FROM Disney2 WHERE type == 'Movie' GROUP BY rating ORDER BY Number_of_Movies_On_Disney DESC\")\n",
    "\n",
    "mpaaDisney.show()"
   ]
  },
  {
   "cell_type": "code",
   "execution_count": 23,
   "id": "24cf6a41",
   "metadata": {},
   "outputs": [
    {
     "name": "stdout",
     "output_type": "stream",
     "text": [
      "+-------+--------------------+------------+--------------------+--------------------+------------+------+---------+---------+--------------------+\n",
      "|   type|               title|    director|                cast|             country|release_year|rating| duration|listed_in|         description|\n",
      "+-------+--------------------+------------+--------------------+--------------------+------------+------+---------+---------+--------------------+\n",
      "|  Movie|Ernest Saves Chri...| John Cherry|Jim Varney, Noell...|                    |        1988|    PG|   91 min|   Comedy|Santa Claus passe...|\n",
      "|  Movie|Just Roll With It...|            |Tobie Windham, Su...|                    |        2019|     G|   52 min|   Comedy|The Bennett-Blatt...|\n",
      "|  Movie|Far Away From Rav...|            |Raven-Symoné, Iss...|                    |        2021|  TV-G|   11 min|   Comedy|Our gang is off f...|\n",
      "|TV Show|  Wander Over Yonder|            |Jack McBrayer, Ap...|United States, Ca...|        2013| TV-Y7|2 Seasons|   Comedy|Best friends trav...|\n",
      "|TV Show|   Pickle and Peanut|            |Johnny Pemberton,...|       United States|        2015| TV-Y7|2 Seasons|   Comedy|The freewheeling ...|\n",
      "|  Movie|           You Again|Andy Fickman|Kristen Bell, Sig...|       United States|        2010|    PG|  106 min|   Comedy|An unlikely reuni...|\n",
      "|  Movie|        Big Business|Jim Abrahams|Bette Midler, Lil...|       United States|        1988|    PG|   98 min|   Comedy|Two sets of ident...|\n",
      "|TV Show|The Muppets (Series)|            |Bill Barretta, Da...|       United States|        2015| TV-PG| 1 Season|   Comedy|\"\"\"The Muppets\"\" ...|\n",
      "+-------+--------------------+------------+--------------------+--------------------+------------+------+---------+---------+--------------------+\n",
      "\n"
     ]
    }
   ],
   "source": [
    "disneyEDA.where(col(\"listed_in\") == \"Comedy\").show()"
   ]
  },
  {
   "cell_type": "code",
   "execution_count": 24,
   "id": "ef6547fe",
   "metadata": {},
   "outputs": [
    {
     "ename": "AnalysisException",
     "evalue": "expression 'disneyeda.listed_in' is neither present in the group by, nor is it an aggregate function. Add to group by or wrap in first() (or first_value) if you don't care which value you get.;\n'Sort ['Number_of_Movies_On_Disney DESC NULLS LAST], true\n+- Aggregate [rating#64], [listed_in#693, count(1) AS Numbers_per_Genre#885L]\n   +- Filter (type#57 = Movie)\n      +- SubqueryAlias disneyeda\n         +- View (`DisneyEDA`, [type#57,title#58,director#660,cast#671,country#682,release_year#63,rating#64,duration#65,listed_in#693,description#67])\n            +- Project [type#57, title#58, director#660, cast#671, country#682, release_year#63, rating#64, duration#65, concat_ws(,, listed_in#219) AS listed_in#693, description#67]\n               +- Project [type#57, title#58, director#660, cast#671, concat_ws(,, country#218) AS country#682, release_year#63, rating#64, duration#65, listed_in#219, description#67]\n                  +- Project [type#57, title#58, director#660, concat_ws(,, cast#217) AS cast#671, country#218, release_year#63, rating#64, duration#65, listed_in#219, description#67]\n                     +- Project [type#57, title#58, concat_ws(,, director#216) AS director#660, cast#217, country#218, release_year#63, rating#64, duration#65, listed_in#219, description#67]\n                        +- Project [type#57, title#58, director#216, cast#217, country#218, release_year#63, rating#64, duration#65, listed_in#219, description#67]\n                           +- Filter (isnotnull(rating#64) AND isnotnull(listed_in#219))\n                              +- SubqueryAlias disney1\n                                 +- View (`Disney1`, [type#57,title#58,director#216,cast#217,country#218,release_year#63,rating#64,duration#65,listed_in#219,description#67])\n                                    +- Project [type#57, title#58, split(director#59, ,, -1) AS director#216, split(cast#60, ,, -1) AS cast#217, split(country#61, ,, -1) AS country#218, release_year#63, rating#64, duration#65, split(listed_in#66, ,, -1) AS listed_in#219, description#67]\n                                       +- SubqueryAlias disney\n                                          +- View (`Disney`, [show_id#56,type#57,title#58,director#59,cast#60,country#61,date_added#62,release_year#63,rating#64,duration#65,listed_in#66,description#67])\n                                             +- Relation [show_id#56,type#57,title#58,director#59,cast#60,country#61,date_added#62,release_year#63,rating#64,duration#65,listed_in#66,description#67] csv\n",
     "output_type": "error",
     "traceback": [
      "\u001b[1;31m---------------------------------------------------------------------------\u001b[0m",
      "\u001b[1;31mAnalysisException\u001b[0m                         Traceback (most recent call last)",
      "\u001b[1;32m~\\AppData\\Local\\Temp/ipykernel_42572/1688509994.py\u001b[0m in \u001b[0;36m<module>\u001b[1;34m\u001b[0m\n\u001b[1;32m----> 1\u001b[1;33m \u001b[0mspark\u001b[0m\u001b[1;33m.\u001b[0m\u001b[0msql\u001b[0m\u001b[1;33m(\u001b[0m\u001b[1;34m\"SELECT listed_in, COUNT (*) AS Numbers_per_Genre FROM DisneyEDA WHERE type == 'Movie' GROUP BY rating ORDER BY Number_of_Movies_On_Disney DESC\"\u001b[0m\u001b[1;33m)\u001b[0m\u001b[1;33m.\u001b[0m\u001b[0mshow\u001b[0m\u001b[1;33m(\u001b[0m\u001b[1;33m)\u001b[0m\u001b[1;33m\u001b[0m\u001b[1;33m\u001b[0m\u001b[0m\n\u001b[0m",
      "\u001b[1;32m~\\AppData\\Roaming\\Python\\Python38\\site-packages\\pyspark\\sql\\session.py\u001b[0m in \u001b[0;36msql\u001b[1;34m(self, sqlQuery)\u001b[0m\n\u001b[0;32m    721\u001b[0m         \u001b[1;33m[\u001b[0m\u001b[0mRow\u001b[0m\u001b[1;33m(\u001b[0m\u001b[0mf1\u001b[0m\u001b[1;33m=\u001b[0m\u001b[1;36m1\u001b[0m\u001b[1;33m,\u001b[0m \u001b[0mf2\u001b[0m\u001b[1;33m=\u001b[0m\u001b[1;34m'row1'\u001b[0m\u001b[1;33m)\u001b[0m\u001b[1;33m,\u001b[0m \u001b[0mRow\u001b[0m\u001b[1;33m(\u001b[0m\u001b[0mf1\u001b[0m\u001b[1;33m=\u001b[0m\u001b[1;36m2\u001b[0m\u001b[1;33m,\u001b[0m \u001b[0mf2\u001b[0m\u001b[1;33m=\u001b[0m\u001b[1;34m'row2'\u001b[0m\u001b[1;33m)\u001b[0m\u001b[1;33m,\u001b[0m \u001b[0mRow\u001b[0m\u001b[1;33m(\u001b[0m\u001b[0mf1\u001b[0m\u001b[1;33m=\u001b[0m\u001b[1;36m3\u001b[0m\u001b[1;33m,\u001b[0m \u001b[0mf2\u001b[0m\u001b[1;33m=\u001b[0m\u001b[1;34m'row3'\u001b[0m\u001b[1;33m)\u001b[0m\u001b[1;33m]\u001b[0m\u001b[1;33m\u001b[0m\u001b[1;33m\u001b[0m\u001b[0m\n\u001b[0;32m    722\u001b[0m         \"\"\"\n\u001b[1;32m--> 723\u001b[1;33m         \u001b[1;32mreturn\u001b[0m \u001b[0mDataFrame\u001b[0m\u001b[1;33m(\u001b[0m\u001b[0mself\u001b[0m\u001b[1;33m.\u001b[0m\u001b[0m_jsparkSession\u001b[0m\u001b[1;33m.\u001b[0m\u001b[0msql\u001b[0m\u001b[1;33m(\u001b[0m\u001b[0msqlQuery\u001b[0m\u001b[1;33m)\u001b[0m\u001b[1;33m,\u001b[0m \u001b[0mself\u001b[0m\u001b[1;33m.\u001b[0m\u001b[0m_wrapped\u001b[0m\u001b[1;33m)\u001b[0m\u001b[1;33m\u001b[0m\u001b[1;33m\u001b[0m\u001b[0m\n\u001b[0m\u001b[0;32m    724\u001b[0m \u001b[1;33m\u001b[0m\u001b[0m\n\u001b[0;32m    725\u001b[0m     \u001b[1;32mdef\u001b[0m \u001b[0mtable\u001b[0m\u001b[1;33m(\u001b[0m\u001b[0mself\u001b[0m\u001b[1;33m,\u001b[0m \u001b[0mtableName\u001b[0m\u001b[1;33m)\u001b[0m\u001b[1;33m:\u001b[0m\u001b[1;33m\u001b[0m\u001b[1;33m\u001b[0m\u001b[0m\n",
      "\u001b[1;32m~\\AppData\\Roaming\\Python\\Python38\\site-packages\\py4j\\java_gateway.py\u001b[0m in \u001b[0;36m__call__\u001b[1;34m(self, *args)\u001b[0m\n\u001b[0;32m   1307\u001b[0m \u001b[1;33m\u001b[0m\u001b[0m\n\u001b[0;32m   1308\u001b[0m         \u001b[0manswer\u001b[0m \u001b[1;33m=\u001b[0m \u001b[0mself\u001b[0m\u001b[1;33m.\u001b[0m\u001b[0mgateway_client\u001b[0m\u001b[1;33m.\u001b[0m\u001b[0msend_command\u001b[0m\u001b[1;33m(\u001b[0m\u001b[0mcommand\u001b[0m\u001b[1;33m)\u001b[0m\u001b[1;33m\u001b[0m\u001b[1;33m\u001b[0m\u001b[0m\n\u001b[1;32m-> 1309\u001b[1;33m         return_value = get_return_value(\n\u001b[0m\u001b[0;32m   1310\u001b[0m             answer, self.gateway_client, self.target_id, self.name)\n\u001b[0;32m   1311\u001b[0m \u001b[1;33m\u001b[0m\u001b[0m\n",
      "\u001b[1;32m~\\AppData\\Roaming\\Python\\Python38\\site-packages\\pyspark\\sql\\utils.py\u001b[0m in \u001b[0;36mdeco\u001b[1;34m(*a, **kw)\u001b[0m\n\u001b[0;32m    115\u001b[0m                 \u001b[1;31m# Hide where the exception came from that shows a non-Pythonic\u001b[0m\u001b[1;33m\u001b[0m\u001b[1;33m\u001b[0m\u001b[1;33m\u001b[0m\u001b[0m\n\u001b[0;32m    116\u001b[0m                 \u001b[1;31m# JVM exception message.\u001b[0m\u001b[1;33m\u001b[0m\u001b[1;33m\u001b[0m\u001b[1;33m\u001b[0m\u001b[0m\n\u001b[1;32m--> 117\u001b[1;33m                 \u001b[1;32mraise\u001b[0m \u001b[0mconverted\u001b[0m \u001b[1;32mfrom\u001b[0m \u001b[1;32mNone\u001b[0m\u001b[1;33m\u001b[0m\u001b[1;33m\u001b[0m\u001b[0m\n\u001b[0m\u001b[0;32m    118\u001b[0m             \u001b[1;32melse\u001b[0m\u001b[1;33m:\u001b[0m\u001b[1;33m\u001b[0m\u001b[1;33m\u001b[0m\u001b[0m\n\u001b[0;32m    119\u001b[0m                 \u001b[1;32mraise\u001b[0m\u001b[1;33m\u001b[0m\u001b[1;33m\u001b[0m\u001b[0m\n",
      "\u001b[1;31mAnalysisException\u001b[0m: expression 'disneyeda.listed_in' is neither present in the group by, nor is it an aggregate function. Add to group by or wrap in first() (or first_value) if you don't care which value you get.;\n'Sort ['Number_of_Movies_On_Disney DESC NULLS LAST], true\n+- Aggregate [rating#64], [listed_in#693, count(1) AS Numbers_per_Genre#885L]\n   +- Filter (type#57 = Movie)\n      +- SubqueryAlias disneyeda\n         +- View (`DisneyEDA`, [type#57,title#58,director#660,cast#671,country#682,release_year#63,rating#64,duration#65,listed_in#693,description#67])\n            +- Project [type#57, title#58, director#660, cast#671, country#682, release_year#63, rating#64, duration#65, concat_ws(,, listed_in#219) AS listed_in#693, description#67]\n               +- Project [type#57, title#58, director#660, cast#671, concat_ws(,, country#218) AS country#682, release_year#63, rating#64, duration#65, listed_in#219, description#67]\n                  +- Project [type#57, title#58, director#660, concat_ws(,, cast#217) AS cast#671, country#218, release_year#63, rating#64, duration#65, listed_in#219, description#67]\n                     +- Project [type#57, title#58, concat_ws(,, director#216) AS director#660, cast#217, country#218, release_year#63, rating#64, duration#65, listed_in#219, description#67]\n                        +- Project [type#57, title#58, director#216, cast#217, country#218, release_year#63, rating#64, duration#65, listed_in#219, description#67]\n                           +- Filter (isnotnull(rating#64) AND isnotnull(listed_in#219))\n                              +- SubqueryAlias disney1\n                                 +- View (`Disney1`, [type#57,title#58,director#216,cast#217,country#218,release_year#63,rating#64,duration#65,listed_in#219,description#67])\n                                    +- Project [type#57, title#58, split(director#59, ,, -1) AS director#216, split(cast#60, ,, -1) AS cast#217, split(country#61, ,, -1) AS country#218, release_year#63, rating#64, duration#65, split(listed_in#66, ,, -1) AS listed_in#219, description#67]\n                                       +- SubqueryAlias disney\n                                          +- View (`Disney`, [show_id#56,type#57,title#58,director#59,cast#60,country#61,date_added#62,release_year#63,rating#64,duration#65,listed_in#66,description#67])\n                                             +- Relation [show_id#56,type#57,title#58,director#59,cast#60,country#61,date_added#62,release_year#63,rating#64,duration#65,listed_in#66,description#67] csv\n"
     ]
    }
   ],
   "source": [
    "spark.sql(\"SELECT listed_in, COUNT (*) AS Numbers_per_Genre FROM DisneyEDA WHERE type == 'Movie' GROUP BY rating ORDER BY Number_of_Movies_On_Disney DESC\").show()"
   ]
  },
  {
   "cell_type": "code",
   "execution_count": null,
   "id": "2dae9b6f",
   "metadata": {},
   "outputs": [
    {
     "ename": "AnalysisException",
     "evalue": "Undefined function: 'ARRAY_TO_STRING'. This function is neither a registered temporary function nor a permanent function registered in the database 'default'.; line 1 pos 7",
     "output_type": "error",
     "traceback": [
      "\u001b[1;31m---------------------------------------------------------------------------\u001b[0m",
      "\u001b[1;31mAnalysisException\u001b[0m                         Traceback (most recent call last)",
      "\u001b[1;32mc:\\Users\\taylo\\Desktop\\School\\DS625\\Module 7\\DS625-TeamProject\\TP.ipynb Cell 21'\u001b[0m in \u001b[0;36m<module>\u001b[1;34m\u001b[0m\n\u001b[1;32m----> <a href='vscode-notebook-cell:/c%3A/Users/taylo/Desktop/School/DS625/Module%207/DS625-TeamProject/TP.ipynb#ch0000071?line=0'>1</a>\u001b[0m Cat_Disney \u001b[39m=\u001b[39m spark\u001b[39m.\u001b[39;49msql(\u001b[39m\"\u001b[39;49m\u001b[39mSELECT ARRAY_TO_STRING(listed_in, \u001b[39;49m\u001b[39m'\u001b[39;49m\u001b[39m, \u001b[39;49m\u001b[39m'\u001b[39;49m\u001b[39m) AS String_Categories FROM Disney2\u001b[39;49m\u001b[39m\"\u001b[39;49m)\n",
      "File \u001b[1;32mC:\\Python\\lib\\site-packages\\pyspark\\sql\\session.py:723\u001b[0m, in \u001b[0;36mSparkSession.sql\u001b[1;34m(self, sqlQuery)\u001b[0m\n\u001b[0;32m    <a href='file:///c%3A/Python/lib/site-packages/pyspark/sql/session.py?line=706'>707</a>\u001b[0m \u001b[39mdef\u001b[39;00m \u001b[39msql\u001b[39m(\u001b[39mself\u001b[39m, sqlQuery):\n\u001b[0;32m    <a href='file:///c%3A/Python/lib/site-packages/pyspark/sql/session.py?line=707'>708</a>\u001b[0m     \u001b[39m\"\"\"Returns a :class:`DataFrame` representing the result of the given query.\u001b[39;00m\n\u001b[0;32m    <a href='file:///c%3A/Python/lib/site-packages/pyspark/sql/session.py?line=708'>709</a>\u001b[0m \n\u001b[0;32m    <a href='file:///c%3A/Python/lib/site-packages/pyspark/sql/session.py?line=709'>710</a>\u001b[0m \u001b[39m    .. versionadded:: 2.0.0\u001b[39;00m\n\u001b[1;32m   (...)\u001b[0m\n\u001b[0;32m    <a href='file:///c%3A/Python/lib/site-packages/pyspark/sql/session.py?line=720'>721</a>\u001b[0m \u001b[39m    [Row(f1=1, f2='row1'), Row(f1=2, f2='row2'), Row(f1=3, f2='row3')]\u001b[39;00m\n\u001b[0;32m    <a href='file:///c%3A/Python/lib/site-packages/pyspark/sql/session.py?line=721'>722</a>\u001b[0m \u001b[39m    \"\"\"\u001b[39;00m\n\u001b[1;32m--> <a href='file:///c%3A/Python/lib/site-packages/pyspark/sql/session.py?line=722'>723</a>\u001b[0m     \u001b[39mreturn\u001b[39;00m DataFrame(\u001b[39mself\u001b[39;49m\u001b[39m.\u001b[39;49m_jsparkSession\u001b[39m.\u001b[39;49msql(sqlQuery), \u001b[39mself\u001b[39m\u001b[39m.\u001b[39m_wrapped)\n",
      "File \u001b[1;32mC:\\Python\\lib\\site-packages\\py4j\\java_gateway.py:1309\u001b[0m, in \u001b[0;36mJavaMember.__call__\u001b[1;34m(self, *args)\u001b[0m\n\u001b[0;32m   <a href='file:///c%3A/Python/lib/site-packages/py4j/java_gateway.py?line=1302'>1303</a>\u001b[0m command \u001b[39m=\u001b[39m proto\u001b[39m.\u001b[39mCALL_COMMAND_NAME \u001b[39m+\u001b[39m\\\n\u001b[0;32m   <a href='file:///c%3A/Python/lib/site-packages/py4j/java_gateway.py?line=1303'>1304</a>\u001b[0m     \u001b[39mself\u001b[39m\u001b[39m.\u001b[39mcommand_header \u001b[39m+\u001b[39m\\\n\u001b[0;32m   <a href='file:///c%3A/Python/lib/site-packages/py4j/java_gateway.py?line=1304'>1305</a>\u001b[0m     args_command \u001b[39m+\u001b[39m\\\n\u001b[0;32m   <a href='file:///c%3A/Python/lib/site-packages/py4j/java_gateway.py?line=1305'>1306</a>\u001b[0m     proto\u001b[39m.\u001b[39mEND_COMMAND_PART\n\u001b[0;32m   <a href='file:///c%3A/Python/lib/site-packages/py4j/java_gateway.py?line=1307'>1308</a>\u001b[0m answer \u001b[39m=\u001b[39m \u001b[39mself\u001b[39m\u001b[39m.\u001b[39mgateway_client\u001b[39m.\u001b[39msend_command(command)\n\u001b[1;32m-> <a href='file:///c%3A/Python/lib/site-packages/py4j/java_gateway.py?line=1308'>1309</a>\u001b[0m return_value \u001b[39m=\u001b[39m get_return_value(\n\u001b[0;32m   <a href='file:///c%3A/Python/lib/site-packages/py4j/java_gateway.py?line=1309'>1310</a>\u001b[0m     answer, \u001b[39mself\u001b[39;49m\u001b[39m.\u001b[39;49mgateway_client, \u001b[39mself\u001b[39;49m\u001b[39m.\u001b[39;49mtarget_id, \u001b[39mself\u001b[39;49m\u001b[39m.\u001b[39;49mname)\n\u001b[0;32m   <a href='file:///c%3A/Python/lib/site-packages/py4j/java_gateway.py?line=1311'>1312</a>\u001b[0m \u001b[39mfor\u001b[39;00m temp_arg \u001b[39min\u001b[39;00m temp_args:\n\u001b[0;32m   <a href='file:///c%3A/Python/lib/site-packages/py4j/java_gateway.py?line=1312'>1313</a>\u001b[0m     temp_arg\u001b[39m.\u001b[39m_detach()\n",
      "File \u001b[1;32mC:\\Python\\lib\\site-packages\\pyspark\\sql\\utils.py:117\u001b[0m, in \u001b[0;36mcapture_sql_exception.<locals>.deco\u001b[1;34m(*a, **kw)\u001b[0m\n\u001b[0;32m    <a href='file:///c%3A/Python/lib/site-packages/pyspark/sql/utils.py?line=112'>113</a>\u001b[0m converted \u001b[39m=\u001b[39m convert_exception(e\u001b[39m.\u001b[39mjava_exception)\n\u001b[0;32m    <a href='file:///c%3A/Python/lib/site-packages/pyspark/sql/utils.py?line=113'>114</a>\u001b[0m \u001b[39mif\u001b[39;00m \u001b[39mnot\u001b[39;00m \u001b[39misinstance\u001b[39m(converted, UnknownException):\n\u001b[0;32m    <a href='file:///c%3A/Python/lib/site-packages/pyspark/sql/utils.py?line=114'>115</a>\u001b[0m     \u001b[39m# Hide where the exception came from that shows a non-Pythonic\u001b[39;00m\n\u001b[0;32m    <a href='file:///c%3A/Python/lib/site-packages/pyspark/sql/utils.py?line=115'>116</a>\u001b[0m     \u001b[39m# JVM exception message.\u001b[39;00m\n\u001b[1;32m--> <a href='file:///c%3A/Python/lib/site-packages/pyspark/sql/utils.py?line=116'>117</a>\u001b[0m     \u001b[39mraise\u001b[39;00m converted \u001b[39mfrom\u001b[39;00m \u001b[39mNone\u001b[39m\n\u001b[0;32m    <a href='file:///c%3A/Python/lib/site-packages/pyspark/sql/utils.py?line=117'>118</a>\u001b[0m \u001b[39melse\u001b[39;00m:\n\u001b[0;32m    <a href='file:///c%3A/Python/lib/site-packages/pyspark/sql/utils.py?line=118'>119</a>\u001b[0m     \u001b[39mraise\u001b[39;00m\n",
      "\u001b[1;31mAnalysisException\u001b[0m: Undefined function: 'ARRAY_TO_STRING'. This function is neither a registered temporary function nor a permanent function registered in the database 'default'.; line 1 pos 7"
     ]
    }
   ],
   "source": [
    "#Future iterations will have this query working so that we can search the 'listed_in' array for the total count of different types of genres per platform. \n",
    "\n",
    "#Cat_Disney = spark.sql(\"SELECT ARRAY_TO_STRING(listed_in, ', ') AS String_Categories FROM Disney2\")"
   ]
  },
  {
   "cell_type": "markdown",
   "id": "3f939e5b",
   "metadata": {},
   "source": [
    "# Machine learning method selection, model training, and model evaluation"
   ]
  },
  {
   "cell_type": "code",
   "execution_count": 25,
   "id": "bb9f3faa-d975-4edf-afc4-326b22157f0c",
   "metadata": {},
   "outputs": [],
   "source": [
    "# Importing necessary modules\n",
    "\n",
    "from pyspark.ml.feature import (CountVectorizer, RegexTokenizer, StopWordsRemover, IDF, StringIndexer)\n",
    "\n",
    "from pyspark.ml.classification import NaiveBayes\n",
    "from pyspark.ml.evaluation import MulticlassClassificationEvaluator\n",
    "from pyspark.ml.feature import VectorAssembler\n",
    "from pyspark.sql.functions import col"
   ]
  },
  {
   "cell_type": "markdown",
   "id": "1cb58ff2",
   "metadata": {},
   "source": [
    "Disney Data"
   ]
  },
  {
   "cell_type": "code",
   "execution_count": 26,
   "id": "bca6d00b",
   "metadata": {},
   "outputs": [
    {
     "name": "stdout",
     "output_type": "stream",
     "text": [
      "+-------+--------------------+--------------------+--------------------+------+--------------------+--------------------+\n",
      "|   type|               title|            director|                cast|rating|           listed_in|         description|\n",
      "+-------+--------------------+--------------------+--------------------+------+--------------------+--------------------+\n",
      "|  Movie|Duck the Halls: A...|[Alonso Ramirez R...|[Chris Diamantopo...|  TV-G|[Animation,  Family]|Join Mickey and t...|\n",
      "|  Movie|Ernest Saves Chri...|       [John Cherry]|[Jim Varney,  Noe...|    PG|            [Comedy]|Santa Claus passe...|\n",
      "|  Movie|Ice Age: A Mammot...|      [Karen Disher]|[Raymond Albert R...|  TV-G|[Animation,  Come...|Sid the Sloth is ...|\n",
      "|  Movie|The Queen Family ...|   [Hamish Hamilton]|[Darren Criss,  A...| TV-PG|           [Musical]|This is real life...|\n",
      "|  Movie|   Becoming Cousteau|        [Liz Garbus]|[Jacques Yves Cou...| PG-13|[Biographical,  D...|An inside look at...|\n",
      "|TV Show|             Hawkeye|                null|[Jeremy Renner,  ...| TV-14|[Action-Adventure...|Clint Barton/Hawk...|\n",
      "|TV Show|Port Protection A...|                null|[Gary Muehlberger...| TV-14|[Docuseries,  Rea...|Residents of Port...|\n",
      "|TV Show|Secrets of the Zo...|                null|[Dr. Ray Ball,  D...| TV-PG|[Animals & Nature...|A day in the life...|\n",
      "|  Movie|A Muppets Christm...|  [Kirk R. Thatcher]|[Steve Whitmire, ...|     G|[Comedy,  Family,...|Celebrate the hol...|\n",
      "|  Movie|Adventure Thru th...|        [John Gleim]|[Don Hahn,  Kathr...| TV-PG|       [Documentary]|Explore the treas...|\n",
      "|  Movie|  Puppy for Hanukkah|                null|                null|  TV-G|[Comedy,  Family,...|\"Check out Daveed...|\n",
      "|  Movie|     The Pixar Story|     [Leslie Iwerks]|[Stacy Keach,  Jo...|     G|[Documentary,  Fa...|A groundbreaking ...|\n",
      "|TV Show|Dr. Oakley, Yukon...|                null|[Dr. Michelle Oak...| TV-PG|[Action-Adventure...|Meet Dr. Michelle...|\n",
      "|  Movie|America the Beaut...|                null| [Michael B. Jordan]| TV-PG|  [Animals & Nature]|Epic, grand portr...|\n",
      "|  Movie|             Baymax!|                null|                null|  TV-G|         [Animation]|“Baymax!” premier...|\n",
      "|  Movie|        Ciao Alberto|    [McKenna Harris]|[Jack Dylan Graze...| TV-PG|[Animation,  Come...|Fun-loving sea mo...|\n",
      "|TV Show|  Disney Fancy Nancy|                null|[Mia Jenness,  Al...| TV-PG|  [Animation,  Kids]|Nancy makes every...|\n",
      "|TV Show|  Disney Intertwined|                null|[Carolina Domenec...| TV-PG|[Comedy,  Coming ...|Allegra is ready ...|\n",
      "|  Movie|           Enchanted|        [Kevin Lima]|[Amy Adams,  Patr...|    PG|[Comedy,  Family,...|An animated princ...|\n",
      "|  Movie|               Feast|   [Patrick Osborne]|[Stephen Apostoli...|     G|[Animation,  Come...|One man's love li...|\n",
      "+-------+--------------------+--------------------+--------------------+------+--------------------+--------------------+\n",
      "only showing top 20 rows\n",
      "\n"
     ]
    }
   ],
   "source": [
    "# Selecting a subset of the Disney dataset \n",
    "Disney3 = disney_clean_nulls.select(\"type\", \"title\", \"director\", \"cast\", \"rating\", \"listed_in\", \"description\")\n",
    "Disney3.show()"
   ]
  },
  {
   "cell_type": "code",
   "execution_count": 27,
   "id": "ea2fc1c6",
   "metadata": {},
   "outputs": [
    {
     "name": "stdout",
     "output_type": "stream",
     "text": [
      "+-------+\n",
      "|   type|\n",
      "+-------+\n",
      "|TV Show|\n",
      "|  Movie|\n",
      "+-------+\n",
      "\n"
     ]
    }
   ],
   "source": [
    "# Checking distinct elements from the type feature and potentially use it as the label for NaiveBayes model\n",
    "Disney3.select(\"type\").distinct().show()"
   ]
  },
  {
   "cell_type": "code",
   "execution_count": 28,
   "id": "f46babf6",
   "metadata": {},
   "outputs": [
    {
     "name": "stdout",
     "output_type": "stream",
     "text": [
      "+-----------------+\n",
      "|           rating|\n",
      "+-----------------+\n",
      "|             TV-Y|\n",
      "|December 25, 2020|\n",
      "|               PG|\n",
      "|    United States|\n",
      "|         TV-Y7-FV|\n",
      "|            TV-PG|\n",
      "|                G|\n",
      "|            TV-14|\n",
      "|             TV-G|\n",
      "|            TV-Y7|\n",
      "|            PG-13|\n",
      "+-----------------+\n",
      "\n"
     ]
    }
   ],
   "source": [
    "# Checking distinct elements from the rating feature and potentially use it as the label for NaiveBayes model\n",
    "Disney3.select(\"rating\").distinct().show()"
   ]
  },
  {
   "cell_type": "code",
   "execution_count": 29,
   "id": "e9137f7a",
   "metadata": {},
   "outputs": [
    {
     "name": "stdout",
     "output_type": "stream",
     "text": [
      "+--------------------+\n",
      "|           listed_in|\n",
      "+--------------------+\n",
      "|[Musical,  Romanc...|\n",
      "|[Family,  Fantasy...|\n",
      "|[Biographical,  D...|\n",
      "|   [Drama,  Fantasy]|\n",
      "|[Coming of Age,  ...|\n",
      "|[Comedy,  Coming ...|\n",
      "|[Drama,  Music,  ...|\n",
      "|[Comedy,  Family,...|\n",
      "|[Action-Adventure...|\n",
      "|[Documentary,  Fa...|\n",
      "|[Animation,  Fami...|\n",
      "|[Animation,  Family]|\n",
      "|[Docuseries,  Fam...|\n",
      "|[Animation,  Fami...|\n",
      "|[Biographical,  H...|\n",
      "|[Docuseries,  Sci...|\n",
      "|[Animation,  Kids...|\n",
      "|[Animation,  Kids...|\n",
      "|[Action-Adventure...|\n",
      "|              [2016]|\n",
      "+--------------------+\n",
      "only showing top 20 rows\n",
      "\n"
     ]
    }
   ],
   "source": [
    "# Checking distinct elements from the genre feature and potentially use it as the label for NaiveBayes model\n",
    "Disney3.select(\"listed_in\").distinct().show()"
   ]
  },
  {
   "cell_type": "markdown",
   "id": "6cb230b7",
   "metadata": {},
   "source": [
    "Natural Language Processing"
   ]
  },
  {
   "cell_type": "code",
   "execution_count": 30,
   "id": "a3bcaa81",
   "metadata": {},
   "outputs": [
    {
     "name": "stdout",
     "output_type": "stream",
     "text": [
      "+-----+--------------------+--------------------+--------------------+------+--------------------+--------------------+------------+\n",
      "| type|               title|            director|                cast|rating|           listed_in|         description|title_length|\n",
      "+-----+--------------------+--------------------+--------------------+------+--------------------+--------------------+------------+\n",
      "|Movie|Duck the Halls: A...|[Alonso Ramirez R...|[Chris Diamantopo...|  TV-G|[Animation,  Family]|Join Mickey and t...|          48|\n",
      "|Movie|Ernest Saves Chri...|       [John Cherry]|[Jim Varney,  Noe...|    PG|            [Comedy]|Santa Claus passe...|          22|\n",
      "|Movie|Ice Age: A Mammot...|      [Karen Disher]|[Raymond Albert R...|  TV-G|[Animation,  Come...|Sid the Sloth is ...|          28|\n",
      "+-----+--------------------+--------------------+--------------------+------+--------------------+--------------------+------------+\n",
      "only showing top 3 rows\n",
      "\n"
     ]
    }
   ],
   "source": [
    "from pyspark.sql.functions import length\n",
    "\n",
    "# Using title length for transforming features later on\n",
    "Disney4 = Disney3.withColumn('title_length', length(Disney3['title']))\n",
    "Disney4.show(3)"
   ]
  },
  {
   "cell_type": "code",
   "execution_count": 31,
   "id": "a4b7dd7f",
   "metadata": {},
   "outputs": [
    {
     "name": "stdout",
     "output_type": "stream",
     "text": [
      "+-----+--------------------+--------------------+--------------------+------+--------------------+--------------------+------------+------------------+\n",
      "| type|               title|            director|                cast|rating|           listed_in|         description|title_length|description_length|\n",
      "+-----+--------------------+--------------------+--------------------+------+--------------------+--------------------+------------+------------------+\n",
      "|Movie|Duck the Halls: A...|[Alonso Ramirez R...|[Chris Diamantopo...|  TV-G|[Animation,  Family]|Join Mickey and t...|          48|                48|\n",
      "|Movie|Ernest Saves Chri...|       [John Cherry]|[Jim Varney,  Noe...|    PG|            [Comedy]|Santa Claus passe...|          22|                50|\n",
      "|Movie|Ice Age: A Mammot...|      [Karen Disher]|[Raymond Albert R...|  TV-G|[Animation,  Come...|Sid the Sloth is ...|          28|                41|\n",
      "+-----+--------------------+--------------------+--------------------+------+--------------------+--------------------+------------+------------------+\n",
      "only showing top 3 rows\n",
      "\n"
     ]
    }
   ],
   "source": [
    "# Using description length for transforming features later on\n",
    "Disney5 = Disney4.withColumn('description_length', length(Disney4['description']))\n",
    "Disney5.show(3)"
   ]
  },
  {
   "cell_type": "code",
   "execution_count": 32,
   "id": "63012f4b",
   "metadata": {},
   "outputs": [
    {
     "name": "stdout",
     "output_type": "stream",
     "text": [
      "+-----+--------------------+--------------------+--------------------+------+--------------------+--------------------+------------+------------------+--------------------+\n",
      "| type|               title|            director|                cast|rating|           listed_in|         description|title_length|description_length|        Disney_words|\n",
      "+-----+--------------------+--------------------+--------------------+------+--------------------+--------------------+------------+------------------+--------------------+\n",
      "|Movie|Duck the Halls: A...|[Alonso Ramirez R...|[Chris Diamantopo...|  TV-G|[Animation,  Family]|Join Mickey and t...|          48|                48|[duck, the, halls...|\n",
      "|Movie|Ernest Saves Chri...|       [John Cherry]|[Jim Varney,  Noe...|    PG|            [Comedy]|Santa Claus passe...|          22|                50|[ernest, saves, c...|\n",
      "|Movie|Ice Age: A Mammot...|      [Karen Disher]|[Raymond Albert R...|  TV-G|[Animation,  Come...|Sid the Sloth is ...|          28|                41|[ice, age, a, mam...|\n",
      "|Movie|The Queen Family ...|   [Hamish Hamilton]|[Darren Criss,  A...| TV-PG|           [Musical]|This is real life...|          26|                36|[the, queen, fami...|\n",
      "|Movie|   Becoming Cousteau|        [Liz Garbus]|[Jacques Yves Cou...| PG-13|[Biographical,  D...|An inside look at...|          17|                73|[becoming, cousteau]|\n",
      "+-----+--------------------+--------------------+--------------------+------+--------------------+--------------------+------------+------------------+--------------------+\n",
      "only showing top 5 rows\n",
      "\n",
      "+-------+--------------------+--------------------+--------------------+------+--------------------+--------------------+------------+------------------+--------------------+--------------------+\n",
      "|   type|               title|            director|                cast|rating|           listed_in|         description|title_length|description_length|        Disney_words|       Disney_tokens|\n",
      "+-------+--------------------+--------------------+--------------------+------+--------------------+--------------------+------------+------------------+--------------------+--------------------+\n",
      "|  Movie|Duck the Halls: A...|[Alonso Ramirez R...|[Chris Diamantopo...|  TV-G|[Animation,  Family]|Join Mickey and t...|          48|                48|[duck, the, halls...|[join, mickey, an...|\n",
      "|  Movie|Ernest Saves Chri...|       [John Cherry]|[Jim Varney,  Noe...|    PG|            [Comedy]|Santa Claus passe...|          22|                50|[ernest, saves, c...|[santa, claus, pa...|\n",
      "|  Movie|Ice Age: A Mammot...|      [Karen Disher]|[Raymond Albert R...|  TV-G|[Animation,  Come...|Sid the Sloth is ...|          28|                41|[ice, age, a, mam...|[sid, the, sloth,...|\n",
      "|  Movie|The Queen Family ...|   [Hamish Hamilton]|[Darren Criss,  A...| TV-PG|           [Musical]|This is real life...|          26|                36|[the, queen, fami...|[this, is, real, ...|\n",
      "|  Movie|   Becoming Cousteau|        [Liz Garbus]|[Jacques Yves Cou...| PG-13|[Biographical,  D...|An inside look at...|          17|                73|[becoming, cousteau]|[an, inside, look...|\n",
      "|TV Show|             Hawkeye|                null|[Jeremy Renner,  ...| TV-14|[Action-Adventure...|Clint Barton/Hawk...|           7|                99|           [hawkeye]|[clint, barton, h...|\n",
      "|TV Show|Port Protection A...|                null|[Gary Muehlberger...| TV-14|[Docuseries,  Rea...|Residents of Port...|          22|                93|[port, protection...|[residents, of, p...|\n",
      "|TV Show|Secrets of the Zo...|                null|[Dr. Ray Ball,  D...| TV-PG|[Animals & Nature...|A day in the life...|          25|                75|[secrets, of, the...|[a, day, in, the,...|\n",
      "|  Movie|A Muppets Christm...|  [Kirk R. Thatcher]|[Steve Whitmire, ...|     G|[Comedy,  Family,...|Celebrate the hol...|          37|                60|[a, muppets, chri...|[celebrate, the, ...|\n",
      "|  Movie|Adventure Thru th...|        [John Gleim]|[Don Hahn,  Kathr...| TV-PG|       [Documentary]|Explore the treas...|          39|                67|[adventure, thru,...|[explore, the, tr...|\n",
      "|  Movie|  Puppy for Hanukkah|                null|                null|  TV-G|[Comedy,  Family,...|\"Check out Daveed...|          18|                70|[puppy, for, hanu...|[check, out, dave...|\n",
      "|  Movie|     The Pixar Story|     [Leslie Iwerks]|[Stacy Keach,  Jo...|     G|[Documentary,  Fa...|A groundbreaking ...|          15|                64| [the, pixar, story]|[a, groundbreakin...|\n",
      "|TV Show|Dr. Oakley, Yukon...|                null|[Dr. Michelle Oak...| TV-PG|[Action-Adventure...|Meet Dr. Michelle...|          21|                87|[dr, oakley, yuko...|[meet, dr, michel...|\n",
      "|  Movie|America the Beaut...|                null| [Michael B. Jordan]| TV-PG|  [Animals & Nature]|Epic, grand portr...|          21|                99|[america, the, be...|[epic, grand, por...|\n",
      "|  Movie|             Baymax!|                null|                null|  TV-G|         [Animation]|“Baymax!” premier...|           7|                43|            [baymax]|[baymax, premiere...|\n",
      "|  Movie|        Ciao Alberto|    [McKenna Harris]|[Jack Dylan Graze...| TV-PG|[Animation,  Come...|Fun-loving sea mo...|          12|                98|     [ciao, alberto]|[fun, loving, sea...|\n",
      "|TV Show|  Disney Fancy Nancy|                null|[Mia Jenness,  Al...| TV-PG|  [Animation,  Kids]|Nancy makes every...|          18|                36|[disney, fancy, n...|[nancy, makes, ev...|\n",
      "|TV Show|  Disney Intertwined|                null|[Carolina Domenec...| TV-PG|[Comedy,  Coming ...|Allegra is ready ...|          18|                64|[disney, intertwi...|[allegra, is, rea...|\n",
      "|  Movie|           Enchanted|        [Kevin Lima]|[Amy Adams,  Patr...|    PG|[Comedy,  Family,...|An animated princ...|           9|                72|         [enchanted]|[an, animated, pr...|\n",
      "|  Movie|               Feast|   [Patrick Osborne]|[Stephen Apostoli...|     G|[Animation,  Come...|One man's love li...|           5|                53|             [feast]|[one, man, s, lov...|\n",
      "+-------+--------------------+--------------------+--------------------+------+--------------------+--------------------+------------+------------------+--------------------+--------------------+\n",
      "only showing top 20 rows\n",
      "\n"
     ]
    }
   ],
   "source": [
    "# Tokenize words in title column\n",
    "tokenizer1 = RegexTokenizer(inputCol= 'title', outputCol='Disney_words', pattern='\\\\W')\n",
    "tokenized = tokenizer1.transform(Disney5)\n",
    "tokenized.show(5)\n",
    "\n",
    "# Tokenize words in description column\n",
    "tokenizer2 = RegexTokenizer(inputCol= 'description', outputCol='Disney_tokens', pattern='\\\\W')\n",
    "tokenized2 = tokenizer2.transform(tokenized)\n",
    "tokenized2.show()"
   ]
  },
  {
   "cell_type": "code",
   "execution_count": 33,
   "id": "4d081de5",
   "metadata": {},
   "outputs": [],
   "source": [
    "# Remove stopwords in tokenized Disney_words column\n",
    "Disney_remover = StopWordsRemover(inputCol='Disney_words', outputCol='filtered_title')\n",
    "removed_Dis = Disney_remover.transform(tokenized2)\n",
    "\n",
    "# Processing title column\n",
    "Disney_cv = CountVectorizer(inputCol='filtered_title', outputCol='vec_title')\n",
    "Disney_idf = IDF(inputCol='vec_title', outputCol='Disney_tfidf')\n",
    "Disney_numeric = StringIndexer(inputCol='rating', outputCol='label')\n",
    "Disney_Assembler = VectorAssembler(inputCols=['Disney_tfidf','title_length'], outputCol='features')"
   ]
  },
  {
   "cell_type": "code",
   "execution_count": 34,
   "id": "c366ed13",
   "metadata": {},
   "outputs": [
    {
     "name": "stdout",
     "output_type": "stream",
     "text": [
      "+-------+--------------------+--------------------+--------------------+------+--------------------+--------------------+------------+------------------+--------------------+--------------------+--------------------+\n",
      "|   type|               title|            director|                cast|rating|           listed_in|         description|title_length|description_length|        Disney_words|       Disney_tokens|      filtered_title|\n",
      "+-------+--------------------+--------------------+--------------------+------+--------------------+--------------------+------------+------------------+--------------------+--------------------+--------------------+\n",
      "|  Movie|Duck the Halls: A...|[Alonso Ramirez R...|[Chris Diamantopo...|  TV-G|[Animation,  Family]|Join Mickey and t...|          48|                48|[duck, the, halls...|[join, mickey, an...|[duck, halls, mic...|\n",
      "|  Movie|Ernest Saves Chri...|       [John Cherry]|[Jim Varney,  Noe...|    PG|            [Comedy]|Santa Claus passe...|          22|                50|[ernest, saves, c...|[santa, claus, pa...|[ernest, saves, c...|\n",
      "|  Movie|Ice Age: A Mammot...|      [Karen Disher]|[Raymond Albert R...|  TV-G|[Animation,  Come...|Sid the Sloth is ...|          28|                41|[ice, age, a, mam...|[sid, the, sloth,...|[ice, age, mammot...|\n",
      "|  Movie|The Queen Family ...|   [Hamish Hamilton]|[Darren Criss,  A...| TV-PG|           [Musical]|This is real life...|          26|                36|[the, queen, fami...|[this, is, real, ...|[queen, family, s...|\n",
      "|  Movie|   Becoming Cousteau|        [Liz Garbus]|[Jacques Yves Cou...| PG-13|[Biographical,  D...|An inside look at...|          17|                73|[becoming, cousteau]|[an, inside, look...|[becoming, cousteau]|\n",
      "|TV Show|             Hawkeye|                null|[Jeremy Renner,  ...| TV-14|[Action-Adventure...|Clint Barton/Hawk...|           7|                99|           [hawkeye]|[clint, barton, h...|           [hawkeye]|\n",
      "|TV Show|Port Protection A...|                null|[Gary Muehlberger...| TV-14|[Docuseries,  Rea...|Residents of Port...|          22|                93|[port, protection...|[residents, of, p...|[port, protection...|\n",
      "|TV Show|Secrets of the Zo...|                null|[Dr. Ray Ball,  D...| TV-PG|[Animals & Nature...|A day in the life...|          25|                75|[secrets, of, the...|[a, day, in, the,...|[secrets, zoo, ta...|\n",
      "|  Movie|A Muppets Christm...|  [Kirk R. Thatcher]|[Steve Whitmire, ...|     G|[Comedy,  Family,...|Celebrate the hol...|          37|                60|[a, muppets, chri...|[celebrate, the, ...|[muppets, christm...|\n",
      "|  Movie|Adventure Thru th...|        [John Gleim]|[Don Hahn,  Kathr...| TV-PG|       [Documentary]|Explore the treas...|          39|                67|[adventure, thru,...|[explore, the, tr...|[adventure, thru,...|\n",
      "|  Movie|  Puppy for Hanukkah|                null|                null|  TV-G|[Comedy,  Family,...|\"Check out Daveed...|          18|                70|[puppy, for, hanu...|[check, out, dave...|   [puppy, hanukkah]|\n",
      "|  Movie|     The Pixar Story|     [Leslie Iwerks]|[Stacy Keach,  Jo...|     G|[Documentary,  Fa...|A groundbreaking ...|          15|                64| [the, pixar, story]|[a, groundbreakin...|      [pixar, story]|\n",
      "|TV Show|Dr. Oakley, Yukon...|                null|[Dr. Michelle Oak...| TV-PG|[Action-Adventure...|Meet Dr. Michelle...|          21|                87|[dr, oakley, yuko...|[meet, dr, michel...|[dr, oakley, yuko...|\n",
      "|  Movie|America the Beaut...|                null| [Michael B. Jordan]| TV-PG|  [Animals & Nature]|Epic, grand portr...|          21|                99|[america, the, be...|[epic, grand, por...|[america, beautiful]|\n",
      "|  Movie|             Baymax!|                null|                null|  TV-G|         [Animation]|“Baymax!” premier...|           7|                43|            [baymax]|[baymax, premiere...|            [baymax]|\n",
      "|  Movie|        Ciao Alberto|    [McKenna Harris]|[Jack Dylan Graze...| TV-PG|[Animation,  Come...|Fun-loving sea mo...|          12|                98|     [ciao, alberto]|[fun, loving, sea...|     [ciao, alberto]|\n",
      "|TV Show|  Disney Fancy Nancy|                null|[Mia Jenness,  Al...| TV-PG|  [Animation,  Kids]|Nancy makes every...|          18|                36|[disney, fancy, n...|[nancy, makes, ev...|[disney, fancy, n...|\n",
      "|TV Show|  Disney Intertwined|                null|[Carolina Domenec...| TV-PG|[Comedy,  Coming ...|Allegra is ready ...|          18|                64|[disney, intertwi...|[allegra, is, rea...|[disney, intertwi...|\n",
      "|  Movie|           Enchanted|        [Kevin Lima]|[Amy Adams,  Patr...|    PG|[Comedy,  Family,...|An animated princ...|           9|                72|         [enchanted]|[an, animated, pr...|         [enchanted]|\n",
      "|  Movie|               Feast|   [Patrick Osborne]|[Stephen Apostoli...|     G|[Animation,  Come...|One man's love li...|           5|                53|             [feast]|[one, man, s, lov...|             [feast]|\n",
      "+-------+--------------------+--------------------+--------------------+------+--------------------+--------------------+------------+------------------+--------------------+--------------------+--------------------+\n",
      "only showing top 20 rows\n",
      "\n"
     ]
    }
   ],
   "source": [
    "removed_Dis.show()"
   ]
  },
  {
   "cell_type": "code",
   "execution_count": 35,
   "id": "98c32abe",
   "metadata": {},
   "outputs": [],
   "source": [
    "from pyspark.ml import Pipeline\n",
    "\n",
    "# Creaing data pipeline\n",
    "Disney_pipeline = Pipeline(stages=[Disney_numeric, tokenizer1, Disney_remover, Disney_cv, Disney_idf, Disney_Assembler])\n",
    "                        #tokenizer2, remover2, Disney_cv2, Disney_idf2, Disney_Assembler2])"
   ]
  },
  {
   "cell_type": "code",
   "execution_count": 36,
   "id": "b18ff753",
   "metadata": {},
   "outputs": [],
   "source": [
    "Disney_fit = Disney_pipeline.fit(Disney4)\n",
    "Disney_clean = Disney_fit.transform(Disney4)\n",
    "Disney_cleaned = Disney_clean.select('label', 'features')"
   ]
  },
  {
   "cell_type": "code",
   "execution_count": 37,
   "id": "d793f018",
   "metadata": {},
   "outputs": [
    {
     "name": "stdout",
     "output_type": "stream",
     "text": [
      "root\n",
      " |-- type: string (nullable = true)\n",
      " |-- title: string (nullable = true)\n",
      " |-- director: array (nullable = true)\n",
      " |    |-- element: string (containsNull = true)\n",
      " |-- cast: array (nullable = true)\n",
      " |    |-- element: string (containsNull = true)\n",
      " |-- rating: string (nullable = true)\n",
      " |-- listed_in: array (nullable = true)\n",
      " |    |-- element: string (containsNull = true)\n",
      " |-- description: string (nullable = true)\n",
      " |-- title_length: integer (nullable = true)\n",
      "\n"
     ]
    }
   ],
   "source": [
    "Disney4.printSchema()"
   ]
  },
  {
   "cell_type": "code",
   "execution_count": 38,
   "id": "26b31520",
   "metadata": {},
   "outputs": [
    {
     "name": "stdout",
     "output_type": "stream",
     "text": [
      "+-----+--------------------+\n",
      "|label|            features|\n",
      "+-----+--------------------+\n",
      "|  0.0|(1857,[8,14,37,55...|\n",
      "|  3.0|(1857,[14,1574,16...|\n",
      "|  0.0|(1857,[14,59,96,1...|\n",
      "|  1.0|(1857,[58,173,590...|\n",
      "|  6.0|(1857,[370,1579,1...|\n",
      "|  5.0|(1857,[1035,1856]...|\n",
      "|  5.0|(1857,[243,607,13...|\n",
      "|  1.0|(1857,[18,122,139...|\n",
      "|  2.0|(1857,[14,41,112,...|\n",
      "|  1.0|(1857,[0,72,98,50...|\n",
      "|  0.0|(1857,[273,1434,1...|\n",
      "|  2.0|(1857,[6,153,1856...|\n",
      "|  1.0|(1857,[77,464,111...|\n",
      "|  1.0|(1857,[30,670,185...|\n",
      "|  0.0|(1857,[681,1856],...|\n",
      "|  1.0|(1857,[764,1710,1...|\n",
      "|  1.0|(1857,[0,255,534,...|\n",
      "|  1.0|(1857,[0,1630,185...|\n",
      "|  3.0|(1857,[385,1856],...|\n",
      "|  2.0|(1857,[1217,1856]...|\n",
      "+-----+--------------------+\n",
      "only showing top 20 rows\n",
      "\n"
     ]
    }
   ],
   "source": [
    "Disney_cleaned.show()"
   ]
  },
  {
   "cell_type": "markdown",
   "id": "06f80c3b",
   "metadata": {},
   "source": [
    "Naive Bayes Classifier"
   ]
  },
  {
   "cell_type": "code",
   "execution_count": 39,
   "id": "0b13d6e9",
   "metadata": {},
   "outputs": [],
   "source": [
    "# Building the model\n",
    "NB = NaiveBayes()"
   ]
  },
  {
   "cell_type": "markdown",
   "id": "ad15fe16",
   "metadata": {},
   "source": [
    "Model 1: Building on title column as feature and rating as label"
   ]
  },
  {
   "cell_type": "code",
   "execution_count": 40,
   "id": "ede95fbb",
   "metadata": {},
   "outputs": [],
   "source": [
    "# Splitting data into training and testing datasets \n",
    "Disney_train, Disney_test = Disney_cleaned.randomSplit([0.7, 0.3])"
   ]
  },
  {
   "cell_type": "code",
   "execution_count": 41,
   "id": "f6291248",
   "metadata": {},
   "outputs": [
    {
     "name": "stdout",
     "output_type": "stream",
     "text": [
      "+-----+--------------------+--------------------+--------------------+----------+\n",
      "|label|            features|       rawPrediction|         probability|prediction|\n",
      "+-----+--------------------+--------------------+--------------------+----------+\n",
      "|  0.0|(1857,[0,2,3,83,8...|[-250.26463649834...|[0.99999999999998...|       0.0|\n",
      "|  0.0|(1857,[0,4,476,18...|[-95.768741046180...|[0.99999797919978...|       0.0|\n",
      "|  0.0|(1857,[0,5,83,89,...|[-260.63130301867...|[0.99991545273035...|       0.0|\n",
      "|  0.0|(1857,[0,5,471,48...|[-176.59500127053...|[4.04320022593981...|       4.0|\n",
      "|  0.0|(1857,[0,16,475,1...|[-125.80367541815...|[4.45077599871312...|       1.0|\n",
      "|  0.0|(1857,[0,33,206,1...|[-178.72335693063...|[8.11643088316265...|       1.0|\n",
      "|  0.0|(1857,[0,45,1823,...|[-130.33636765100...|[0.00260460241839...|       1.0|\n",
      "|  0.0|(1857,[0,68,127,6...|[-324.06766428117...|[5.43652794402738...|       2.0|\n",
      "|  0.0|(1857,[0,184,194,...|[-391.17010746441...|[5.02431725408388...|       7.0|\n",
      "|  0.0|(1857,[0,191,357,...|[-327.23204385117...|[6.78057939865079...|       1.0|\n",
      "|  0.0|(1857,[0,200,322,...|[-116.17472371210...|[0.99999999027223...|       0.0|\n",
      "|  0.0|(1857,[0,309,310,...|[-188.94453173359...|[0.99986116882672...|       0.0|\n",
      "|  0.0|(1857,[0,341,1385...|[-144.38270229048...|[6.24589053917921...|       2.0|\n",
      "|  0.0|(1857,[0,417,1856...|[-81.863549753244...|[0.00232842051304...|       2.0|\n",
      "|  0.0|(1857,[0,659,1856...|[-92.593414283076...|[0.34295524874728...|       0.0|\n",
      "|  0.0|(1857,[0,702,1359...|[-149.97282436568...|[0.00828259518515...|       7.0|\n",
      "|  0.0|(1857,[1,83,89,20...|[-180.15408310256...|[0.99994625511504...|       0.0|\n",
      "|  0.0|(1857,[2,3,657,73...|[-196.34785508465...|[5.21999741499258...|       4.0|\n",
      "|  0.0|(1857,[4,29,47,57...|[-130.51495830640...|[0.99999999988624...|       0.0|\n",
      "|  0.0|(1857,[7,8,37,290...|[-160.96390191224...|[1.02570907639802...|       1.0|\n",
      "+-----+--------------------+--------------------+--------------------+----------+\n",
      "only showing top 20 rows\n",
      "\n"
     ]
    }
   ],
   "source": [
    "# Fitting the Naive Bayes model\n",
    "Disney_model = NB.fit(Disney_train)\n",
    "Disney_results = Disney_model.transform(Disney_test)\n",
    "Disney_results.show()"
   ]
  },
  {
   "cell_type": "markdown",
   "id": "05f71f1e",
   "metadata": {},
   "source": [
    "Model Evaluation"
   ]
  },
  {
   "cell_type": "code",
   "execution_count": 43,
   "id": "79c7338f",
   "metadata": {},
   "outputs": [
    {
     "name": "stdout",
     "output_type": "stream",
     "text": [
      "0.36342123533350773\n"
     ]
    }
   ],
   "source": [
    "# Evaluating NB model\n",
    "accuracy_eval = MulticlassClassificationEvaluator()\n",
    "\n",
    "accuracy = accuracy_eval.evaluate(Disney_results)\n",
    "print(accuracy)"
   ]
  },
  {
   "cell_type": "markdown",
   "id": "a461c924",
   "metadata": {},
   "source": [
    "Model 2: Building model on rating as label and description column as feature"
   ]
  },
  {
   "cell_type": "code",
   "execution_count": 44,
   "id": "6aeb75d1",
   "metadata": {},
   "outputs": [],
   "source": [
    "# Remove stopwords in tokenized Disney_tokens column\n",
    "remover2 = StopWordsRemover(inputCol='Disney_tokens', outputCol='filtered_description')\n",
    "removed_Disney = remover2.transform(removed_Dis)\n",
    "\n",
    "# Processing description column\n",
    "Disney_cv2 = CountVectorizer(inputCol='filtered_description', outputCol='vec_description')\n",
    "Disney_idf2 = IDF(inputCol='vec_description', outputCol='Disney_tfidf2')\n",
    "Disney_numeric2 = StringIndexer(inputCol='rating', outputCol='label')\n",
    "Disney_Assembler2 = VectorAssembler(inputCols=['Disney_tfidf2','description_length'], outputCol='features')"
   ]
  },
  {
   "cell_type": "code",
   "execution_count": 45,
   "id": "ee89a31e",
   "metadata": {},
   "outputs": [
    {
     "name": "stdout",
     "output_type": "stream",
     "text": [
      "+-------+--------------------+--------------------+--------------------+------+--------------------+--------------------+------------+------------------+--------------------+--------------------+--------------------+--------------------+\n",
      "|   type|               title|            director|                cast|rating|           listed_in|         description|title_length|description_length|        Disney_words|       Disney_tokens|      filtered_title|filtered_description|\n",
      "+-------+--------------------+--------------------+--------------------+------+--------------------+--------------------+------------+------------------+--------------------+--------------------+--------------------+--------------------+\n",
      "|  Movie|Duck the Halls: A...|[Alonso Ramirez R...|[Chris Diamantopo...|  TV-G|[Animation,  Family]|Join Mickey and t...|          48|                48|[duck, the, halls...|[join, mickey, an...|[duck, halls, mic...|[join, mickey, ga...|\n",
      "|  Movie|Ernest Saves Chri...|       [John Cherry]|[Jim Varney,  Noe...|    PG|            [Comedy]|Santa Claus passe...|          22|                50|[ernest, saves, c...|[santa, claus, pa...|[ernest, saves, c...|[santa, claus, pa...|\n",
      "|  Movie|Ice Age: A Mammot...|      [Karen Disher]|[Raymond Albert R...|  TV-G|[Animation,  Come...|Sid the Sloth is ...|          28|                41|[ice, age, a, mam...|[sid, the, sloth,...|[ice, age, mammot...|[sid, sloth, sant...|\n",
      "|  Movie|The Queen Family ...|   [Hamish Hamilton]|[Darren Criss,  A...| TV-PG|           [Musical]|This is real life...|          26|                36|[the, queen, fami...|[this, is, real, ...|[queen, family, s...|[real, life, fant...|\n",
      "|  Movie|   Becoming Cousteau|        [Liz Garbus]|[Jacques Yves Cou...| PG-13|[Biographical,  D...|An inside look at...|          17|                73|[becoming, cousteau]|[an, inside, look...|[becoming, cousteau]|[inside, look, le...|\n",
      "|TV Show|             Hawkeye|                null|[Jeremy Renner,  ...| TV-14|[Action-Adventure...|Clint Barton/Hawk...|           7|                99|           [hawkeye]|[clint, barton, h...|           [hawkeye]|[clint, barton, h...|\n",
      "|TV Show|Port Protection A...|                null|[Gary Muehlberger...| TV-14|[Docuseries,  Rea...|Residents of Port...|          22|                93|[port, protection...|[residents, of, p...|[port, protection...|[residents, port,...|\n",
      "|TV Show|Secrets of the Zo...|                null|[Dr. Ray Ball,  D...| TV-PG|[Animals & Nature...|A day in the life...|          25|                75|[secrets, of, the...|[a, day, in, the,...|[secrets, zoo, ta...|[day, life, zoota...|\n",
      "|  Movie|A Muppets Christm...|  [Kirk R. Thatcher]|[Steve Whitmire, ...|     G|[Comedy,  Family,...|Celebrate the hol...|          37|                60|[a, muppets, chri...|[celebrate, the, ...|[muppets, christm...|[celebrate, holid...|\n",
      "|  Movie|Adventure Thru th...|        [John Gleim]|[Don Hahn,  Kathr...| TV-PG|       [Documentary]|Explore the treas...|          39|                67|[adventure, thru,...|[explore, the, tr...|[adventure, thru,...|[explore, treasur...|\n",
      "|  Movie|  Puppy for Hanukkah|                null|                null|  TV-G|[Comedy,  Family,...|\"Check out Daveed...|          18|                70|[puppy, for, hanu...|[check, out, dave...|   [puppy, hanukkah]|[check, daveed, d...|\n",
      "|  Movie|     The Pixar Story|     [Leslie Iwerks]|[Stacy Keach,  Jo...|     G|[Documentary,  Fa...|A groundbreaking ...|          15|                64| [the, pixar, story]|[a, groundbreakin...|      [pixar, story]|[groundbreaking, ...|\n",
      "|TV Show|Dr. Oakley, Yukon...|                null|[Dr. Michelle Oak...| TV-PG|[Action-Adventure...|Meet Dr. Michelle...|          21|                87|[dr, oakley, yuko...|[meet, dr, michel...|[dr, oakley, yuko...|[meet, dr, michel...|\n",
      "|  Movie|America the Beaut...|                null| [Michael B. Jordan]| TV-PG|  [Animals & Nature]|Epic, grand portr...|          21|                99|[america, the, be...|[epic, grand, por...|[america, beautiful]|[epic, grand, por...|\n",
      "|  Movie|             Baymax!|                null|                null|  TV-G|         [Animation]|“Baymax!” premier...|           7|                43|            [baymax]|[baymax, premiere...|            [baymax]|[baymax, premiere...|\n",
      "|  Movie|        Ciao Alberto|    [McKenna Harris]|[Jack Dylan Graze...| TV-PG|[Animation,  Come...|Fun-loving sea mo...|          12|                98|     [ciao, alberto]|[fun, loving, sea...|     [ciao, alberto]|[fun, loving, sea...|\n",
      "|TV Show|  Disney Fancy Nancy|                null|[Mia Jenness,  Al...| TV-PG|  [Animation,  Kids]|Nancy makes every...|          18|                36|[disney, fancy, n...|[nancy, makes, ev...|[disney, fancy, n...|[nancy, makes, ev...|\n",
      "|TV Show|  Disney Intertwined|                null|[Carolina Domenec...| TV-PG|[Comedy,  Coming ...|Allegra is ready ...|          18|                64|[disney, intertwi...|[allegra, is, rea...|[disney, intertwi...|[allegra, ready, ...|\n",
      "|  Movie|           Enchanted|        [Kevin Lima]|[Amy Adams,  Patr...|    PG|[Comedy,  Family,...|An animated princ...|           9|                72|         [enchanted]|[an, animated, pr...|         [enchanted]|[animated, prince...|\n",
      "|  Movie|               Feast|   [Patrick Osborne]|[Stephen Apostoli...|     G|[Animation,  Come...|One man's love li...|           5|                53|             [feast]|[one, man, s, lov...|             [feast]|[one, man, love, ...|\n",
      "+-------+--------------------+--------------------+--------------------+------+--------------------+--------------------+------------+------------------+--------------------+--------------------+--------------------+--------------------+\n",
      "only showing top 20 rows\n",
      "\n"
     ]
    }
   ],
   "source": [
    "removed_Disney.show()"
   ]
  },
  {
   "cell_type": "code",
   "execution_count": 46,
   "id": "0a90e7cd",
   "metadata": {},
   "outputs": [],
   "source": [
    "# Creaing data pipeline\n",
    "Disney_pipeline = Pipeline(stages=[Disney_numeric2, tokenizer2, remover2, Disney_cv2, Disney_idf2, Disney_Assembler2])                        "
   ]
  },
  {
   "cell_type": "code",
   "execution_count": 47,
   "id": "5e4d7527",
   "metadata": {},
   "outputs": [
    {
     "name": "stdout",
     "output_type": "stream",
     "text": [
      "+-----+--------------------+\n",
      "|label|            features|\n",
      "+-----+--------------------+\n",
      "|  0.0|(4373,[15,21,83,1...|\n",
      "|  3.0|(4373,[4,121,144,...|\n",
      "|  0.0|(4373,[121,1169,1...|\n",
      "|  1.0|(4373,[6,114,445,...|\n",
      "|  6.0|(4373,[6,49,134,2...|\n",
      "|  5.0|(4373,[8,11,1438,...|\n",
      "|  5.0|(4373,[8,314,937,...|\n",
      "|  1.0|(4373,[6,47,124,5...|\n",
      "|  2.0|(4373,[167,279,30...|\n",
      "|  1.0|(4373,[3,103,108,...|\n",
      "|  0.0|(4373,[61,304,614...|\n",
      "|  2.0|(4373,[97,424,609...|\n",
      "|  1.0|(4373,[75,89,185,...|\n",
      "|  1.0|(4373,[63,72,74,1...|\n",
      "|  0.0|(4373,[3,138,335,...|\n",
      "|  1.0|(4373,[126,164,18...|\n",
      "|  1.0|(4373,[47,124,160...|\n",
      "|  1.0|(4373,[120,372,39...|\n",
      "|  3.0|(4373,[5,47,95,10...|\n",
      "|  2.0|(4373,[6,23,29,30...|\n",
      "+-----+--------------------+\n",
      "only showing top 20 rows\n",
      "\n"
     ]
    }
   ],
   "source": [
    "Disney_fit2 = Disney_pipeline.fit(Disney5)\n",
    "Disney_clean2 = Disney_fit2.transform(Disney5)\n",
    "Disney_cleaned2 = Disney_clean2.select('label', 'features')\n",
    "\n",
    "Disney_cleaned2.show()"
   ]
  },
  {
   "cell_type": "code",
   "execution_count": 48,
   "id": "17670f0b",
   "metadata": {},
   "outputs": [],
   "source": [
    "# Splitting data into training and testing datasets \n",
    "Disney_train2, Disney_test2 = Disney_cleaned2.randomSplit([0.7, 0.3])"
   ]
  },
  {
   "cell_type": "code",
   "execution_count": 49,
   "id": "a05ad06a",
   "metadata": {},
   "outputs": [
    {
     "name": "stdout",
     "output_type": "stream",
     "text": [
      "+-----+--------------------+--------------------+--------------------+----------+\n",
      "|label|            features|       rawPrediction|         probability|prediction|\n",
      "+-----+--------------------+--------------------+--------------------+----------+\n",
      "|  0.0|(4373,[0,1,2,10,1...|[-370.71417130580...|[0.99996863372767...|       0.0|\n",
      "|  0.0|(4373,[0,1,2,15,3...|[-433.50051836201...|[0.00168744117837...|       1.0|\n",
      "|  0.0|(4373,[0,1,2,15,5...|[-230.29199845379...|[0.99999999998630...|       0.0|\n",
      "|  0.0|(4373,[0,1,2,15,5...|[-376.40130856950...|[0.99999999999997...|       0.0|\n",
      "|  0.0|(4373,[0,1,2,24,4...|[-529.36860523520...|[0.99999999999999...|       0.0|\n",
      "|  0.0|(4373,[0,1,2,24,5...|[-359.31344164380...|[0.99991390574259...|       0.0|\n",
      "|  0.0|(4373,[0,1,2,24,5...|[-329.80746626618...|[2.02048251846267...|       2.0|\n",
      "|  0.0|(4373,[0,1,2,24,1...|[-402.12882325415...|[2.56354734406296...|       2.0|\n",
      "|  0.0|(4373,[0,1,2,24,2...|[-430.62260395438...|[4.07675365721737...|       1.0|\n",
      "|  0.0|(4373,[0,1,2,24,2...|[-249.64137640178...|[0.99999925025599...|       0.0|\n",
      "|  0.0|(4373,[0,1,2,24,2...|[-424.42166539991...|[3.25506770157423...|       2.0|\n",
      "|  0.0|(4373,[0,1,2,24,3...|[-504.99046853017...|[0.68647059272055...|       0.0|\n",
      "|  0.0|(4373,[0,1,2,38,1...|[-492.43088914417...|[0.05916583322903...|       1.0|\n",
      "|  0.0|(4373,[0,1,2,40,1...|[-414.79938151346...|[0.91476150488518...|       0.0|\n",
      "|  0.0|(4373,[0,1,2,67,1...|[-397.43875332014...|[0.99999998697851...|       0.0|\n",
      "|  0.0|(4373,[0,1,2,67,4...|[-279.08117858617...|[0.41635605548875...|       2.0|\n",
      "|  0.0|(4373,[0,1,2,67,4...|[-448.37517407340...|[0.70937477993232...|       0.0|\n",
      "|  0.0|(4373,[0,1,2,67,6...|[-288.55728365045...|[0.99999982255484...|       0.0|\n",
      "|  0.0|(4373,[0,1,2,78,9...|[-523.29519703687...|[2.32252885375884...|       2.0|\n",
      "|  0.0|(4373,[0,1,2,204,...|[-329.35704379503...|[0.99999999999997...|       0.0|\n",
      "+-----+--------------------+--------------------+--------------------+----------+\n",
      "only showing top 20 rows\n",
      "\n"
     ]
    }
   ],
   "source": [
    "# Fitting the Naive Bayes model\n",
    "Disney_model2 = NB.fit(Disney_train2)\n",
    "Disney_results2 = Disney_model2.transform(Disney_test2)\n",
    "Disney_results2.show()"
   ]
  },
  {
   "cell_type": "code",
   "execution_count": 50,
   "id": "87e70f16",
   "metadata": {},
   "outputs": [
    {
     "name": "stdout",
     "output_type": "stream",
     "text": [
      "0.34993173574575764\n"
     ]
    }
   ],
   "source": [
    "# Evaluating NB model\n",
    "accuracy2 = accuracy_eval.evaluate(Disney_results2)\n",
    "print(accuracy2)"
   ]
  },
  {
   "cell_type": "markdown",
   "id": "3f34e318",
   "metadata": {},
   "source": [
    "Netflix Data"
   ]
  },
  {
   "cell_type": "code",
   "execution_count": 51,
   "id": "001946c3",
   "metadata": {},
   "outputs": [
    {
     "name": "stdout",
     "output_type": "stream",
     "text": [
      "+-------+--------------------+--------------------+--------------------+------+--------------------+--------------------+\n",
      "|   type|               title|            director|                cast|rating|           listed_in|         description|\n",
      "+-------+--------------------+--------------------+--------------------+------+--------------------+--------------------+\n",
      "|  Movie|Dick Johnson Is Dead|   [Kirsten Johnson]|                null| PG-13|     [Documentaries]|As her father nea...|\n",
      "|TV Show|       Blood & Water|                null|[Ama Qamata,  Kho...| TV-MA|[International TV...|After crossing pa...|\n",
      "|TV Show|           Ganglands|   [Julien Leclercq]|[Sami Bouajila,  ...| TV-MA|[Crime TV Shows, ...|To protect his fa...|\n",
      "|TV Show|Jailbirds New Orl...|                null|                null| TV-MA|[Docuseries,  Rea...|Feuds, flirtation...|\n",
      "|TV Show|        Kota Factory|                null|[Mayur More,  Jit...| TV-MA|[International TV...|In a city of coac...|\n",
      "|TV Show|       Midnight Mass|     [Mike Flanagan]|[Kate Siegel,  Za...| TV-MA|[TV Dramas,  TV H...|The arrival of a ...|\n",
      "|  Movie|My Little Pony: A...|[Robert Cullen,  ...|[Vanessa Hudgens,...|    PG|[Children & Famil...|Equestria's divid...|\n",
      "|  Movie|             Sankofa|      [Haile Gerima]|[Kofi Ghanaba,  O...| TV-MA|[Dramas,  Indepen...|On a photo shoot ...|\n",
      "|TV Show|The Great British...|   [Andy Devonshire]|[Mel Giedroyc,  S...| TV-14|[British TV Shows...|A talented batch ...|\n",
      "|  Movie|        The Starling|    [Theodore Melfi]|[Melissa McCarthy...| PG-13| [Comedies,  Dramas]|A woman adjusting...|\n",
      "|TV Show|Vendetta: Truth, ...|                null|                null| TV-MA|[Crime TV Shows, ...|\"Sicily boasts a ...|\n",
      "|TV Show|    Bangkok Breaking| [Kongkiat Komesiri]|[Sukollawat Kanar...| TV-MA|[Crime TV Shows, ...|Struggling to ear...|\n",
      "|  Movie|        Je Suis Karl|[Christian Schwoc...|[Luna Wedler,  Ja...| TV-MA|[Dramas,  Interna...|After most of her...|\n",
      "|  Movie|Confessions of an...|     [Bruno Garotti]|[Klara Castanho, ...| TV-PG|[Children & Famil...|When the clever b...|\n",
      "|TV Show|Crime Stories: In...|                null|                null| TV-MA|[British TV Shows...|Cameras following...|\n",
      "|TV Show|   Dear White People|                null|[Logan Browning, ...| TV-MA|[TV Comedies,  TV...|\"Students of colo...|\n",
      "|  Movie|Europe's Most Dan...|[Pedro de Echave ...|                null| TV-MA|[Documentaries,  ...|Declassified docu...|\n",
      "|TV Show|     Falsa identidad|                null|[Luis Ernesto Fra...| TV-MA|[Crime TV Shows, ...|Strangers Diego a...|\n",
      "|  Movie|           Intrusion|        [Adam Salky]|[Freida Pinto,  L...| TV-14|         [Thrillers]|After a deadly ho...|\n",
      "|TV Show|              Jaguar|                null|[Blanca Suárez,  ...| TV-MA|[International TV...|In the 1960s, a H...|\n",
      "+-------+--------------------+--------------------+--------------------+------+--------------------+--------------------+\n",
      "only showing top 20 rows\n",
      "\n"
     ]
    }
   ],
   "source": [
    "Netflix3 = netflix_clean_nulls.select(\"type\", \"title\", \"director\", \"cast\", \"rating\", \"listed_in\", \"description\")\n",
    "Netflix3.show()"
   ]
  },
  {
   "cell_type": "code",
   "execution_count": 52,
   "id": "08a59124",
   "metadata": {},
   "outputs": [
    {
     "name": "stdout",
     "output_type": "stream",
     "text": [
      "+--------------------+\n",
      "|              rating|\n",
      "+--------------------+\n",
      "|    November 1, 2020|\n",
      "|    Shavidee Trotter|\n",
      "|       Adriane Lenox|\n",
      "|                TV-Y|\n",
      "|       Maury Chaykin|\n",
      "|                2019|\n",
      "|                2017|\n",
      "|                  UR|\n",
      "| Keppy Ekpenyong ...|\n",
      "|      Benn Northover|\n",
      "|                  PG|\n",
      "|         Jide Kosoko|\n",
      "|               TV-MA|\n",
      "|     Jowharah Jones\"|\n",
      "|            TV-Y7-FV|\n",
      "|                2006|\n",
      "|      Itziar Aizpuru|\n",
      "|                  NR|\n",
      "|               TV-PG|\n",
      "|               NC-17|\n",
      "+--------------------+\n",
      "only showing top 20 rows\n",
      "\n"
     ]
    }
   ],
   "source": [
    "Netflix3.select(\"rating\").distinct().show()"
   ]
  },
  {
   "cell_type": "code",
   "execution_count": 53,
   "id": "aaa2eade",
   "metadata": {},
   "outputs": [
    {
     "name": "stdout",
     "output_type": "stream",
     "text": [
      "+--------------------+\n",
      "|           listed_in|\n",
      "+--------------------+\n",
      "|[Kids' TV,  Korea...|\n",
      "|[Comedies,  Drama...|\n",
      "|[Kids' TV,  TV Th...|\n",
      "|[International TV...|\n",
      "|[TV Dramas,  TV S...|\n",
      "|[Action & Adventu...|\n",
      "|[Classic Movies, ...|\n",
      "|[Classic Movies, ...|\n",
      "|            [71 min]|\n",
      "|[ Janeane Garofalo\"]|\n",
      "|[Crime TV Shows, ...|\n",
      "|[Comedies,  Inter...|\n",
      "|[Kids' TV,  TV Sc...|\n",
      "|[Comedies,  Music...|\n",
      "|     [ Margaret Cho]|\n",
      "|[Action & Adventure]|\n",
      "|[Action & Adventu...|\n",
      "|[Comedies,  Roman...|\n",
      "|[Action & Adventu...|\n",
      "|[Independent Movi...|\n",
      "+--------------------+\n",
      "only showing top 20 rows\n",
      "\n"
     ]
    }
   ],
   "source": [
    "Netflix3.select(\"listed_in\").distinct().show()"
   ]
  },
  {
   "cell_type": "markdown",
   "id": "7a5f9b2e",
   "metadata": {},
   "source": [
    "Natural Language Processing"
   ]
  },
  {
   "cell_type": "code",
   "execution_count": 54,
   "id": "38b45026",
   "metadata": {},
   "outputs": [
    {
     "name": "stdout",
     "output_type": "stream",
     "text": [
      "+-------+--------------------+--------------------+--------------------+------+--------------------+--------------------+------------+\n",
      "|   type|               title|            director|                cast|rating|           listed_in|         description|title_length|\n",
      "+-------+--------------------+--------------------+--------------------+------+--------------------+--------------------+------------+\n",
      "|  Movie|Dick Johnson Is Dead|   [Kirsten Johnson]|                null| PG-13|     [Documentaries]|As her father nea...|          20|\n",
      "|TV Show|       Blood & Water|                null|[Ama Qamata,  Kho...| TV-MA|[International TV...|After crossing pa...|          13|\n",
      "|TV Show|           Ganglands|   [Julien Leclercq]|[Sami Bouajila,  ...| TV-MA|[Crime TV Shows, ...|To protect his fa...|           9|\n",
      "|TV Show|Jailbirds New Orl...|                null|                null| TV-MA|[Docuseries,  Rea...|Feuds, flirtation...|          21|\n",
      "|TV Show|        Kota Factory|                null|[Mayur More,  Jit...| TV-MA|[International TV...|In a city of coac...|          12|\n",
      "|TV Show|       Midnight Mass|     [Mike Flanagan]|[Kate Siegel,  Za...| TV-MA|[TV Dramas,  TV H...|The arrival of a ...|          13|\n",
      "|  Movie|My Little Pony: A...|[Robert Cullen,  ...|[Vanessa Hudgens,...|    PG|[Children & Famil...|Equestria's divid...|          32|\n",
      "|  Movie|             Sankofa|      [Haile Gerima]|[Kofi Ghanaba,  O...| TV-MA|[Dramas,  Indepen...|On a photo shoot ...|           7|\n",
      "|TV Show|The Great British...|   [Andy Devonshire]|[Mel Giedroyc,  S...| TV-14|[British TV Shows...|A talented batch ...|          29|\n",
      "|  Movie|        The Starling|    [Theodore Melfi]|[Melissa McCarthy...| PG-13| [Comedies,  Dramas]|A woman adjusting...|          12|\n",
      "|TV Show|Vendetta: Truth, ...|                null|                null| TV-MA|[Crime TV Shows, ...|\"Sicily boasts a ...|          35|\n",
      "|TV Show|    Bangkok Breaking| [Kongkiat Komesiri]|[Sukollawat Kanar...| TV-MA|[Crime TV Shows, ...|Struggling to ear...|          16|\n",
      "|  Movie|        Je Suis Karl|[Christian Schwoc...|[Luna Wedler,  Ja...| TV-MA|[Dramas,  Interna...|After most of her...|          12|\n",
      "|  Movie|Confessions of an...|     [Bruno Garotti]|[Klara Castanho, ...| TV-PG|[Children & Famil...|When the clever b...|          32|\n",
      "|TV Show|Crime Stories: In...|                null|                null| TV-MA|[British TV Shows...|Cameras following...|          31|\n",
      "|TV Show|   Dear White People|                null|[Logan Browning, ...| TV-MA|[TV Comedies,  TV...|\"Students of colo...|          17|\n",
      "|  Movie|Europe's Most Dan...|[Pedro de Echave ...|                null| TV-MA|[Documentaries,  ...|Declassified docu...|          51|\n",
      "|TV Show|     Falsa identidad|                null|[Luis Ernesto Fra...| TV-MA|[Crime TV Shows, ...|Strangers Diego a...|          15|\n",
      "|  Movie|           Intrusion|        [Adam Salky]|[Freida Pinto,  L...| TV-14|         [Thrillers]|After a deadly ho...|           9|\n",
      "|TV Show|              Jaguar|                null|[Blanca Suárez,  ...| TV-MA|[International TV...|In the 1960s, a H...|           6|\n",
      "+-------+--------------------+--------------------+--------------------+------+--------------------+--------------------+------------+\n",
      "only showing top 20 rows\n",
      "\n"
     ]
    }
   ],
   "source": [
    "Netflix4 = Netflix3.withColumn('title_length', length(Netflix3['title']))\n",
    "Netflix4.show()"
   ]
  },
  {
   "cell_type": "code",
   "execution_count": 55,
   "id": "a61f1fba",
   "metadata": {},
   "outputs": [
    {
     "name": "stdout",
     "output_type": "stream",
     "text": [
      "+-------+--------------------+--------------------+--------------------+------+--------------------+--------------------+------------+------------------+\n",
      "|   type|               title|            director|                cast|rating|           listed_in|         description|title_length|description_length|\n",
      "+-------+--------------------+--------------------+--------------------+------+--------------------+--------------------+------------+------------------+\n",
      "|  Movie|Dick Johnson Is Dead|   [Kirsten Johnson]|                null| PG-13|     [Documentaries]|As her father nea...|          20|               152|\n",
      "|TV Show|       Blood & Water|                null|[Ama Qamata,  Kho...| TV-MA|[International TV...|After crossing pa...|          13|               147|\n",
      "|TV Show|           Ganglands|   [Julien Leclercq]|[Sami Bouajila,  ...| TV-MA|[Crime TV Shows, ...|To protect his fa...|           9|               146|\n",
      "|TV Show|Jailbirds New Orl...|                null|                null| TV-MA|[Docuseries,  Rea...|Feuds, flirtation...|          21|               147|\n",
      "|TV Show|        Kota Factory|                null|[Mayur More,  Jit...| TV-MA|[International TV...|In a city of coac...|          12|               152|\n",
      "|TV Show|       Midnight Mass|     [Mike Flanagan]|[Kate Siegel,  Za...| TV-MA|[TV Dramas,  TV H...|The arrival of a ...|          13|               152|\n",
      "|  Movie|My Little Pony: A...|[Robert Cullen,  ...|[Vanessa Hudgens,...|    PG|[Children & Famil...|Equestria's divid...|          32|               153|\n",
      "|  Movie|             Sankofa|      [Haile Gerima]|[Kofi Ghanaba,  O...| TV-MA|[Dramas,  Indepen...|On a photo shoot ...|           7|               151|\n",
      "|TV Show|The Great British...|   [Andy Devonshire]|[Mel Giedroyc,  S...| TV-14|[British TV Shows...|A talented batch ...|          29|               144|\n",
      "|  Movie|        The Starling|    [Theodore Melfi]|[Melissa McCarthy...| PG-13| [Comedies,  Dramas]|A woman adjusting...|          12|               151|\n",
      "|TV Show|Vendetta: Truth, ...|                null|                null| TV-MA|[Crime TV Shows, ...|\"Sicily boasts a ...|          35|               156|\n",
      "|TV Show|    Bangkok Breaking| [Kongkiat Komesiri]|[Sukollawat Kanar...| TV-MA|[Crime TV Shows, ...|Struggling to ear...|          16|               131|\n",
      "|  Movie|        Je Suis Karl|[Christian Schwoc...|[Luna Wedler,  Ja...| TV-MA|[Dramas,  Interna...|After most of her...|          12|               141|\n",
      "|  Movie|Confessions of an...|     [Bruno Garotti]|[Klara Castanho, ...| TV-PG|[Children & Famil...|When the clever b...|          32|               147|\n",
      "|TV Show|Crime Stories: In...|                null|                null| TV-MA|[British TV Shows...|Cameras following...|          31|               150|\n",
      "|TV Show|   Dear White People|                null|[Logan Browning, ...| TV-MA|[TV Comedies,  TV...|\"Students of colo...|          17|               152|\n",
      "|  Movie|Europe's Most Dan...|[Pedro de Echave ...|                null| TV-MA|[Documentaries,  ...|Declassified docu...|          51|               150|\n",
      "|TV Show|     Falsa identidad|                null|[Luis Ernesto Fra...| TV-MA|[Crime TV Shows, ...|Strangers Diego a...|          15|               147|\n",
      "|  Movie|           Intrusion|        [Adam Salky]|[Freida Pinto,  L...| TV-14|         [Thrillers]|After a deadly ho...|           9|               149|\n",
      "|TV Show|              Jaguar|                null|[Blanca Suárez,  ...| TV-MA|[International TV...|In the 1960s, a H...|           6|               138|\n",
      "+-------+--------------------+--------------------+--------------------+------+--------------------+--------------------+------------+------------------+\n",
      "only showing top 20 rows\n",
      "\n"
     ]
    }
   ],
   "source": [
    "# Using description length for transforming features later on\n",
    "Netflix5 = Netflix4.withColumn('description_length', length(Netflix4['description']))\n",
    "Netflix5.show()"
   ]
  },
  {
   "cell_type": "code",
   "execution_count": 56,
   "id": "f412a51f",
   "metadata": {},
   "outputs": [
    {
     "name": "stdout",
     "output_type": "stream",
     "text": [
      "+-------+--------------------+--------------------+--------------------+------+--------------------+--------------------+------------+------------------+--------------------+--------------------+\n",
      "|   type|               title|            director|                cast|rating|           listed_in|         description|title_length|description_length|           Net_words|          Net_tokens|\n",
      "+-------+--------------------+--------------------+--------------------+------+--------------------+--------------------+------------+------------------+--------------------+--------------------+\n",
      "|  Movie|Dick Johnson Is Dead|   [Kirsten Johnson]|                null| PG-13|     [Documentaries]|As her father nea...|          20|               152|[dick, johnson, i...|[as, her, father,...|\n",
      "|TV Show|       Blood & Water|                null|[Ama Qamata,  Kho...| TV-MA|[International TV...|After crossing pa...|          13|               147|      [blood, water]|[after, crossing,...|\n",
      "|TV Show|           Ganglands|   [Julien Leclercq]|[Sami Bouajila,  ...| TV-MA|[Crime TV Shows, ...|To protect his fa...|           9|               146|         [ganglands]|[to, protect, his...|\n",
      "|TV Show|Jailbirds New Orl...|                null|                null| TV-MA|[Docuseries,  Rea...|Feuds, flirtation...|          21|               147|[jailbirds, new, ...|[feuds, flirtatio...|\n",
      "|TV Show|        Kota Factory|                null|[Mayur More,  Jit...| TV-MA|[International TV...|In a city of coac...|          12|               152|     [kota, factory]|[in, a, city, of,...|\n",
      "|TV Show|       Midnight Mass|     [Mike Flanagan]|[Kate Siegel,  Za...| TV-MA|[TV Dramas,  TV H...|The arrival of a ...|          13|               152|    [midnight, mass]|[the, arrival, of...|\n",
      "|  Movie|My Little Pony: A...|[Robert Cullen,  ...|[Vanessa Hudgens,...|    PG|[Children & Famil...|Equestria's divid...|          32|               153|[my, little, pony...|[equestria, s, di...|\n",
      "|  Movie|             Sankofa|      [Haile Gerima]|[Kofi Ghanaba,  O...| TV-MA|[Dramas,  Indepen...|On a photo shoot ...|           7|               151|           [sankofa]|[on, a, photo, sh...|\n",
      "|TV Show|The Great British...|   [Andy Devonshire]|[Mel Giedroyc,  S...| TV-14|[British TV Shows...|A talented batch ...|          29|               144|[the, great, brit...|[a, talented, bat...|\n",
      "|  Movie|        The Starling|    [Theodore Melfi]|[Melissa McCarthy...| PG-13| [Comedies,  Dramas]|A woman adjusting...|          12|               151|     [the, starling]|[a, woman, adjust...|\n",
      "|TV Show|Vendetta: Truth, ...|                null|                null| TV-MA|[Crime TV Shows, ...|\"Sicily boasts a ...|          35|               156|[vendetta, truth,...|[sicily, boasts, ...|\n",
      "|TV Show|    Bangkok Breaking| [Kongkiat Komesiri]|[Sukollawat Kanar...| TV-MA|[Crime TV Shows, ...|Struggling to ear...|          16|               131| [bangkok, breaking]|[struggling, to, ...|\n",
      "|  Movie|        Je Suis Karl|[Christian Schwoc...|[Luna Wedler,  Ja...| TV-MA|[Dramas,  Interna...|After most of her...|          12|               141|    [je, suis, karl]|[after, most, of,...|\n",
      "|  Movie|Confessions of an...|     [Bruno Garotti]|[Klara Castanho, ...| TV-PG|[Children & Famil...|When the clever b...|          32|               147|[confessions, of,...|[when, the, cleve...|\n",
      "|TV Show|Crime Stories: In...|                null|                null| TV-MA|[British TV Shows...|Cameras following...|          31|               150|[crime, stories, ...|[cameras, followi...|\n",
      "|TV Show|   Dear White People|                null|[Logan Browning, ...| TV-MA|[TV Comedies,  TV...|\"Students of colo...|          17|               152|[dear, white, peo...|[students, of, co...|\n",
      "|  Movie|Europe's Most Dan...|[Pedro de Echave ...|                null| TV-MA|[Documentaries,  ...|Declassified docu...|          51|               150|[europe, s, most,...|[declassified, do...|\n",
      "|TV Show|     Falsa identidad|                null|[Luis Ernesto Fra...| TV-MA|[Crime TV Shows, ...|Strangers Diego a...|          15|               147|  [falsa, identidad]|[strangers, diego...|\n",
      "|  Movie|           Intrusion|        [Adam Salky]|[Freida Pinto,  L...| TV-14|         [Thrillers]|After a deadly ho...|           9|               149|         [intrusion]|[after, a, deadly...|\n",
      "|TV Show|              Jaguar|                null|[Blanca Suárez,  ...| TV-MA|[International TV...|In the 1960s, a H...|           6|               138|            [jaguar]|[in, the, 1960s, ...|\n",
      "+-------+--------------------+--------------------+--------------------+------+--------------------+--------------------+------------+------------------+--------------------+--------------------+\n",
      "only showing top 20 rows\n",
      "\n"
     ]
    }
   ],
   "source": [
    "# Tokenize words in title column\n",
    "reg_tokenizer3 = RegexTokenizer(inputCol=\"title\", outputCol=\"Net_words\", pattern='\\\\W')\n",
    "reg_tokenized3 = reg_tokenizer3.transform(Netflix5)\n",
    "\n",
    "# Tokenize words in description column\n",
    "reg_tokenizer4 = RegexTokenizer(inputCol=\"description\", outputCol=\"Net_tokens\", pattern='\\\\W')\n",
    "reg_tokenized4 = reg_tokenizer4.transform(reg_tokenized3)\n",
    "\n",
    "reg_tokenized4.show()"
   ]
  },
  {
   "cell_type": "markdown",
   "id": "85572865",
   "metadata": {},
   "source": [
    "Model 3: Running model on Netflix title column"
   ]
  },
  {
   "cell_type": "code",
   "execution_count": 57,
   "id": "0a29229a",
   "metadata": {},
   "outputs": [],
   "source": [
    "# Remove stopwords in tokenized words column\n",
    "Netflix_remover = StopWordsRemover(inputCol='Net_words', outputCol='filtered_title')\n",
    "Netflix_removed = Netflix_remover.transform(reg_tokenized4)\n",
    "\n",
    "# Processing title column\n",
    "Netflix_cv = CountVectorizer(inputCol='filtered_title', outputCol='vec_title')\n",
    "Netflix_idf = IDF(inputCol='vec_title', outputCol='Netflix_tfidf')\n",
    "Netflix_numeric = StringIndexer(inputCol='rating', outputCol='label')\n",
    "Netflix_Assembler = VectorAssembler(inputCols=['Netflix_tfidf','title_length'], outputCol='features')"
   ]
  },
  {
   "cell_type": "code",
   "execution_count": 58,
   "id": "71227674",
   "metadata": {},
   "outputs": [],
   "source": [
    "# Creaing data pipeline\n",
    "Netflix_pipeline = Pipeline(stages=[Netflix_numeric, reg_tokenizer3, Netflix_remover, Netflix_cv, Netflix_idf, Netflix_Assembler])   "
   ]
  },
  {
   "cell_type": "code",
   "execution_count": 59,
   "id": "faf27e95",
   "metadata": {},
   "outputs": [],
   "source": [
    "Netflix_fit = Netflix_pipeline.fit(Netflix5)\n",
    "Netflix_clean = Netflix_fit.transform(Netflix5)\n",
    "Netflix_cleaned = Netflix_clean.select('label', 'features')"
   ]
  },
  {
   "cell_type": "code",
   "execution_count": 60,
   "id": "263a118d",
   "metadata": {},
   "outputs": [
    {
     "name": "stdout",
     "output_type": "stream",
     "text": [
      "+-----+--------------------+\n",
      "|label|            features|\n",
      "+-----+--------------------+\n",
      "|  4.0|(8786,[87,853,140...|\n",
      "|  0.0|(8786,[89,159,878...|\n",
      "|  0.0|(8786,[4587,8785]...|\n",
      "|  0.0|(8786,[27,2626,81...|\n",
      "|  0.0|(8786,[479,4220,8...|\n",
      "|  0.0|(8786,[218,7991,8...|\n",
      "|  7.0|(8786,[9,27,281,3...|\n",
      "|  0.0|(8786,[5022,8785]...|\n",
      "|  1.0|(8786,[40,49,627,...|\n",
      "|  4.0|(8786,[5318,8785]...|\n",
      "|  0.0|(8786,[244,659,11...|\n",
      "|  0.0|(8786,[158,344,87...|\n",
      "|  0.0|(8786,[4031,6413,...|\n",
      "|  2.0|(8786,[21,608,472...|\n",
      "|  0.0|(8786,[37,107,326...|\n",
      "|  0.0|(8786,[82,110,257...|\n",
      "|  0.0|(8786,[2,358,587,...|\n",
      "|  0.0|(8786,[6946,8473,...|\n",
      "|  1.0|(8786,[3122,8785]...|\n",
      "|  0.0|(8786,[6244,8785]...|\n",
      "+-----+--------------------+\n",
      "only showing top 20 rows\n",
      "\n"
     ]
    }
   ],
   "source": [
    "Netflix_cleaned.show()"
   ]
  },
  {
   "cell_type": "code",
   "execution_count": 61,
   "id": "1d41a23a",
   "metadata": {},
   "outputs": [],
   "source": [
    "# Splitting data into training and testing datasets \n",
    "Netflix_train, Netflix_test = Netflix_cleaned.randomSplit([0.7, 0.3])"
   ]
  },
  {
   "cell_type": "code",
   "execution_count": 62,
   "id": "cb453db2",
   "metadata": {},
   "outputs": [
    {
     "name": "stdout",
     "output_type": "stream",
     "text": [
      "+-----+--------------------+--------------------+--------------------+----------+\n",
      "|label|            features|       rawPrediction|         probability|prediction|\n",
      "+-----+--------------------+--------------------+--------------------+----------+\n",
      "|  0.0|(8786,[0,4,312,54...|[-422.55556751590...|[0.02054461564010...|       3.0|\n",
      "|  0.0|(8786,[0,6,8785],...|[-72.425223320185...|[0.01457534079314...|       1.0|\n",
      "|  0.0|(8786,[0,14,84,87...|[-119.62419440733...|[0.97948807490998...|       0.0|\n",
      "|  0.0|(8786,[0,164,1431...|[-155.27498788950...|[0.99999543425453...|       0.0|\n",
      "|  0.0|(8786,[0,253,319,...|[-230.03252039036...|[0.00123258439503...|       3.0|\n",
      "|  0.0|(8786,[0,570,8785...|[-119.17176491163...|[6.58156795231826...|       1.0|\n",
      "|  0.0|(8786,[0,825,8785...|[-92.903863744284...|[0.99999999832510...|       0.0|\n",
      "|  0.0|(8786,[0,1883,878...|[-126.43116802309...|[0.00691842135593...|       1.0|\n",
      "|  0.0|(8786,[0,4117,878...|[-128.65878605641...|[0.00240130998946...|       2.0|\n",
      "|  0.0|(8786,[0,8785],[3...|[-33.117078613616...|[0.18712088067294...|       1.0|\n",
      "|  0.0|(8786,[0,8785],[3...|[-35.507074983385...|[0.21717970076225...|       1.0|\n",
      "|  0.0|(8786,[1,7,16,125...|[-290.87621594836...|[0.85804207950638...|       0.0|\n",
      "|  0.0|(8786,[1,16,8785]...|[-74.228908305292...|[0.79008307678782...|       0.0|\n",
      "|  0.0|(8786,[1,19,1159,...|[-137.72832865181...|[0.99999999989418...|       0.0|\n",
      "|  0.0|(8786,[1,76,130,8...|[-131.49769723801...|[0.99407340533632...|       0.0|\n",
      "|  0.0|(8786,[1,93,1049,...|[-181.47856967790...|[5.62404248130329...|       8.0|\n",
      "|  0.0|(8786,[1,335,390,...|[-157.44382683909...|[8.17102675814274...|       3.0|\n",
      "|  0.0|(8786,[1,550,8785...|[-95.411959448330...|[0.99999940543391...|       0.0|\n",
      "|  0.0|(8786,[1,570,1679...|[-210.03102888956...|[2.50219556696798...|       7.0|\n",
      "|  0.0|(8786,[1,2662,533...|[-208.45285152526...|[0.03173053908080...|       7.0|\n",
      "+-----+--------------------+--------------------+--------------------+----------+\n",
      "only showing top 20 rows\n",
      "\n"
     ]
    }
   ],
   "source": [
    "# Fitting the Naive Bayes model 3\n",
    "Netflix_model = NB.fit(Netflix_train)\n",
    "Netflix_results = Netflix_model.transform(Netflix_test)\n",
    "Netflix_results.show()"
   ]
  },
  {
   "cell_type": "code",
   "execution_count": 63,
   "id": "560c6409",
   "metadata": {},
   "outputs": [
    {
     "name": "stdout",
     "output_type": "stream",
     "text": [
      "+-----+\n",
      "|label|\n",
      "+-----+\n",
      "|  8.0|\n",
      "|  0.0|\n",
      "|  7.0|\n",
      "|  1.0|\n",
      "| 25.0|\n",
      "|  4.0|\n",
      "| 31.0|\n",
      "| 11.0|\n",
      "| 22.0|\n",
      "|  3.0|\n",
      "| 19.0|\n",
      "|  2.0|\n",
      "| 10.0|\n",
      "| 13.0|\n",
      "|  6.0|\n",
      "|  5.0|\n",
      "|  9.0|\n",
      "| 16.0|\n",
      "+-----+\n",
      "\n"
     ]
    }
   ],
   "source": [
    "Netflix_results.select(\"label\").distinct().show()"
   ]
  },
  {
   "cell_type": "markdown",
   "id": "995c61f9",
   "metadata": {},
   "source": [
    "Model Evaluation"
   ]
  },
  {
   "cell_type": "code",
   "execution_count": 65,
   "id": "8fdd5b07",
   "metadata": {},
   "outputs": [
    {
     "name": "stdout",
     "output_type": "stream",
     "text": [
      "0.26067613494454384\n"
     ]
    }
   ],
   "source": [
    "# Evaluating NB model 3\n",
    "accuracy3 = accuracy_eval.evaluate(Netflix_results)\n",
    "print(accuracy3)"
   ]
  },
  {
   "cell_type": "markdown",
   "id": "2daef332",
   "metadata": {},
   "source": [
    "Model 4: Running NB model on Netflix description column"
   ]
  },
  {
   "cell_type": "code",
   "execution_count": 66,
   "id": "69c394a1",
   "metadata": {},
   "outputs": [],
   "source": [
    "# Remove stopwords in tokenized Net_tokens column\n",
    "Netflix_remover2 = StopWordsRemover(inputCol='Net_tokens', outputCol='filtered_description')\n",
    "removed_Netflix = Netflix_remover2.transform(Netflix_removed)\n",
    "\n",
    "# Processing Netflix description column\n",
    "Netflix_cv2 = CountVectorizer(inputCol='filtered_description', outputCol='vec_description')\n",
    "Netflix_idf2 = IDF(inputCol='vec_description', outputCol='Netflix_tfidf2')\n",
    "Netflix_numeric2 = StringIndexer(inputCol='rating', outputCol='label')\n",
    "Netflix_Assembler2 = VectorAssembler(inputCols=['Netflix_tfidf2','description_length'], outputCol='features')"
   ]
  },
  {
   "cell_type": "code",
   "execution_count": 67,
   "id": "000d4cdc",
   "metadata": {},
   "outputs": [],
   "source": [
    "# Creaing data pipeline\n",
    "Netflix_pipeline2 = Pipeline(stages=[Netflix_numeric2, reg_tokenizer4, Netflix_remover2, Netflix_cv2, Netflix_idf2, Netflix_Assembler2]) "
   ]
  },
  {
   "cell_type": "code",
   "execution_count": 68,
   "id": "7eccb454",
   "metadata": {},
   "outputs": [],
   "source": [
    "Netflix_fit2 = Netflix_pipeline2.fit(Netflix5)\n",
    "Netflix_clean2 = Netflix_fit2.transform(Netflix5)\n",
    "Netflix_cleaned2 = Netflix_clean2.select('label', 'features')"
   ]
  },
  {
   "cell_type": "code",
   "execution_count": 69,
   "id": "f33886bc",
   "metadata": {},
   "outputs": [
    {
     "name": "stdout",
     "output_type": "stream",
     "text": [
      "+-----+--------------------+\n",
      "|label|            features|\n",
      "+-----+--------------------+\n",
      "|  4.0|(18945,[0,16,22,4...|\n",
      "|  0.0|(18945,[15,33,35,...|\n",
      "|  0.0|(18945,[3,41,42,9...|\n",
      "|  0.0|(18945,[2,11,56,1...|\n",
      "|  0.0|(18945,[0,9,31,68...|\n",
      "|  0.0|(18945,[1,33,258,...|\n",
      "|  7.0|(18945,[121,163,1...|\n",
      "|  0.0|(18945,[29,43,46,...|\n",
      "|  1.0|(18945,[52,114,18...|\n",
      "|  4.0|(18945,[0,8,14,62...|\n",
      "|  0.0|(18945,[55,224,24...|\n",
      "|  0.0|(18945,[5,10,147,...|\n",
      "|  0.0|(18945,[1,3,8,25,...|\n",
      "|  2.0|(18945,[2,15,238,...|\n",
      "|  0.0|(18945,[40,55,85,...|\n",
      "|  0.0|(18945,[0,105,178...|\n",
      "|  0.0|(18945,[0,4,432,5...|\n",
      "|  0.0|(18945,[17,73,95,...|\n",
      "|  1.0|(18945,[2,17,47,7...|\n",
      "|  0.0|(18945,[25,182,23...|\n",
      "+-----+--------------------+\n",
      "only showing top 20 rows\n",
      "\n"
     ]
    }
   ],
   "source": [
    "Netflix_cleaned2.show()"
   ]
  },
  {
   "cell_type": "code",
   "execution_count": 70,
   "id": "cef0cf16",
   "metadata": {},
   "outputs": [],
   "source": [
    "# Splitting data into training and testing datasets \n",
    "Netflix_train2, Netflix_test2 = Netflix_cleaned2.randomSplit([0.7, 0.3])"
   ]
  },
  {
   "cell_type": "code",
   "execution_count": 71,
   "id": "8ccbf2fd",
   "metadata": {},
   "outputs": [
    {
     "name": "stdout",
     "output_type": "stream",
     "text": [
      "+-----+--------------------+--------------------+--------------------+----------+\n",
      "|label|            features|       rawPrediction|         probability|prediction|\n",
      "+-----+--------------------+--------------------+--------------------+----------+\n",
      "|  0.0|(18945,[0,1,2,7,1...|[-952.43473994728...|[1.09076549002074...|       1.0|\n",
      "|  0.0|(18945,[0,1,3,11,...|[-684.70114788446...|[0.62922102577005...|       0.0|\n",
      "|  0.0|(18945,[0,1,4,5,1...|[-970.53553121675...|[3.87261065726891...|       1.0|\n",
      "|  0.0|(18945,[0,1,5,447...|[-875.80711268951...|[5.86659002565289...|       2.0|\n",
      "|  0.0|(18945,[0,1,6,7,2...|[-772.14922556965...|[0.99999999999929...|       0.0|\n",
      "|  0.0|(18945,[0,1,7,117...|[-792.09281212905...|[3.88752047821577...|       1.0|\n",
      "|  0.0|(18945,[0,1,19,23...|[-808.96081916887...|[5.57810074752518...|       1.0|\n",
      "|  0.0|(18945,[0,1,37,48...|[-741.82117087272...|[8.7849288147328E...|       1.0|\n",
      "|  0.0|(18945,[0,2,5,14,...|[-649.29069434911...|[1.90660114104433...|       1.0|\n",
      "|  0.0|(18945,[0,2,9,19,...|[-895.36737029178...|[1.97600961040868...|       1.0|\n",
      "|  0.0|(18945,[0,2,18,38...|[-915.14717078134...|[0.99999999999999...|       0.0|\n",
      "|  0.0|(18945,[0,2,28,36...|[-1227.1982885794...|[0.99999999982699...|       0.0|\n",
      "|  0.0|(18945,[0,2,29,60...|[-1170.5541460649...|[4.72698841010391...|       4.0|\n",
      "|  0.0|(18945,[0,2,31,33...|[-814.12965965316...|[2.40536782849711...|       1.0|\n",
      "|  0.0|(18945,[0,2,65,96...|[-786.86361302529...|[1.0,1.5554226695...|       0.0|\n",
      "|  0.0|(18945,[0,3,5,46,...|[-790.01137604361...|[0.79453879517390...|       0.0|\n",
      "|  0.0|(18945,[0,3,5,93,...|[-774.59027960580...|[1.35488902454358...|       1.0|\n",
      "|  0.0|(18945,[0,3,10,19...|[-859.54568621465...|[0.01281369225979...|       1.0|\n",
      "|  0.0|(18945,[0,3,22,64...|[-669.79451128381...|[0.60749474358693...|       0.0|\n",
      "|  0.0|(18945,[0,3,94,13...|[-768.49144665652...|[0.99999713055073...|       0.0|\n",
      "+-----+--------------------+--------------------+--------------------+----------+\n",
      "only showing top 20 rows\n",
      "\n"
     ]
    }
   ],
   "source": [
    "# Fitting the Naive Bayes model 4\n",
    "Netflix_model2 = NB.fit(Netflix_train2)\n",
    "Netflix_results2 = Netflix_model2.transform(Netflix_test2)\n",
    "Netflix_results2.show()"
   ]
  },
  {
   "cell_type": "markdown",
   "id": "6048825b",
   "metadata": {},
   "source": [
    "Model Evaluation"
   ]
  },
  {
   "cell_type": "code",
   "execution_count": 72,
   "id": "60b49604",
   "metadata": {},
   "outputs": [
    {
     "name": "stdout",
     "output_type": "stream",
     "text": [
      "0.35312534580917576\n"
     ]
    }
   ],
   "source": [
    "# Evaluating NB model 4\n",
    "accuracy4 = accuracy_eval.evaluate(Netflix_results2)\n",
    "print(accuracy4)"
   ]
  }
 ],
 "metadata": {
  "kernelspec": {
   "display_name": "Python 3 (ipykernel)",
   "language": "python",
   "name": "python3"
  },
  "language_info": {
   "codemirror_mode": {
    "name": "ipython",
    "version": 3
   },
   "file_extension": ".py",
   "mimetype": "text/x-python",
   "name": "python",
   "nbconvert_exporter": "python",
   "pygments_lexer": "ipython3",
   "version": "3.8.7"
  }
 },
 "nbformat": 4,
 "nbformat_minor": 5
}
