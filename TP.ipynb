{
 "cells": [
  {
   "cell_type": "code",
   "execution_count": 1,
   "id": "f8b8d720-4feb-40b7-a6cc-35b62ad6f421",
   "metadata": {},
   "outputs": [
    {
     "data": {
      "text/html": [
       "\n",
       "            <div>\n",
       "                <p><b>SparkSession - in-memory</b></p>\n",
       "                \n",
       "        <div>\n",
       "            <p><b>SparkContext</b></p>\n",
       "\n",
       "            <p><a href=\"http://CatDesktop:4040\">Spark UI</a></p>\n",
       "\n",
       "            <dl>\n",
       "              <dt>Version</dt>\n",
       "                <dd><code>v3.2.0</code></dd>\n",
       "              <dt>Master</dt>\n",
       "                <dd><code>local[*]</code></dd>\n",
       "              <dt>AppName</dt>\n",
       "                <dd><code>TP</code></dd>\n",
       "            </dl>\n",
       "        </div>\n",
       "        \n",
       "            </div>\n",
       "        "
      ],
      "text/plain": [
       "<pyspark.sql.session.SparkSession at 0x1ed7b4bb6d0>"
      ]
     },
     "execution_count": 1,
     "metadata": {},
     "output_type": "execute_result"
    }
   ],
   "source": [
    "# Importing the necessary modules\n",
    "import findspark\n",
    "findspark.init()\n",
    "\n",
    "# Initialize a SparkSession\n",
    "from pyspark.sql import SparkSession\n",
    "\n",
    "# Creating SparkSession\n",
    "spark = SparkSession.builder.appName('TP').getOrCreate()\n",
    "\n",
    "# Calling the session variable object\n",
    "spark"
   ]
  },
  {
   "cell_type": "markdown",
   "id": "9349b33b",
   "metadata": {},
   "source": [
    "Loading data sets"
   ]
  },
  {
   "cell_type": "code",
   "execution_count": 2,
   "id": "d845c259-a3b7-46fe-a989-6392ad24c3ce",
   "metadata": {},
   "outputs": [],
   "source": [
    "netflix_url = \"https://raw.githubusercontent.com/AmandaClinnie/DS625-TeamProject/main/netflix_titles.csv\"\n",
    "disney_url = \"https://raw.githubusercontent.com/AmandaClinnie/DS625-TeamProject/main/disney_plus_titles.csv\"\n",
    "\n",
    "from pyspark import SparkFiles\n",
    "spark.sparkContext.addFile(netflix_url)\n",
    "spark.sparkContext.addFile(disney_url)\n",
    "\n",
    "netflix_df = spark.read.csv(\"file:///\"+SparkFiles.get(\"netflix_titles.csv\"), header=True, inferSchema= True)\n",
    "disney_df = spark.read.csv(\"file:///\"+SparkFiles.get(\"disney_plus_titles.csv\"), header=True, inferSchema= True)"
   ]
  },
  {
   "cell_type": "code",
   "execution_count": 3,
   "id": "78dd188a-306b-4a3e-b15a-75745ed1acd4",
   "metadata": {},
   "outputs": [
    {
     "name": "stdout",
     "output_type": "stream",
     "text": [
      "root\n",
      " |-- show_id: string (nullable = true)\n",
      " |-- type: string (nullable = true)\n",
      " |-- title: string (nullable = true)\n",
      " |-- director: string (nullable = true)\n",
      " |-- cast: string (nullable = true)\n",
      " |-- country: string (nullable = true)\n",
      " |-- date_added: string (nullable = true)\n",
      " |-- release_year: string (nullable = true)\n",
      " |-- rating: string (nullable = true)\n",
      " |-- duration: string (nullable = true)\n",
      " |-- listed_in: string (nullable = true)\n",
      " |-- description: string (nullable = true)\n",
      "\n",
      "root\n",
      " |-- show_id: string (nullable = true)\n",
      " |-- type: string (nullable = true)\n",
      " |-- title: string (nullable = true)\n",
      " |-- director: string (nullable = true)\n",
      " |-- cast: string (nullable = true)\n",
      " |-- country: string (nullable = true)\n",
      " |-- date_added: string (nullable = true)\n",
      " |-- release_year: string (nullable = true)\n",
      " |-- rating: string (nullable = true)\n",
      " |-- duration: string (nullable = true)\n",
      " |-- listed_in: string (nullable = true)\n",
      " |-- description: string (nullable = true)\n",
      "\n"
     ]
    }
   ],
   "source": [
    "netflix_df.printSchema()\n",
    "disney_df.printSchema()"
   ]
  },
  {
   "cell_type": "code",
   "execution_count": 4,
   "id": "5c6f6d42-d52d-4bc4-8294-4d981f36ca6f",
   "metadata": {},
   "outputs": [
    {
     "name": "stdout",
     "output_type": "stream",
     "text": [
      "+-------+-------+--------------------+---------------+--------------------+-------------+------------------+------------+------+---------+--------------------+--------------------+\n",
      "|show_id|   type|               title|       director|                cast|      country|        date_added|release_year|rating| duration|           listed_in|         description|\n",
      "+-------+-------+--------------------+---------------+--------------------+-------------+------------------+------------+------+---------+--------------------+--------------------+\n",
      "|     s1|  Movie|Dick Johnson Is Dead|Kirsten Johnson|                null|United States|September 25, 2021|        2020| PG-13|   90 min|       Documentaries|As her father nea...|\n",
      "|     s2|TV Show|       Blood & Water|           null|Ama Qamata, Khosi...| South Africa|September 24, 2021|        2021| TV-MA|2 Seasons|International TV ...|After crossing pa...|\n",
      "|     s3|TV Show|           Ganglands|Julien Leclercq|Sami Bouajila, Tr...|         null|September 24, 2021|        2021| TV-MA| 1 Season|Crime TV Shows, I...|To protect his fa...|\n",
      "+-------+-------+--------------------+---------------+--------------------+-------------+------------------+------------+------+---------+--------------------+--------------------+\n",
      "only showing top 3 rows\n",
      "\n",
      "+-------+-----+--------------------+--------------------+--------------------+-------------+-----------------+------------+------+--------+--------------------+--------------------+\n",
      "|show_id| type|               title|            director|                cast|      country|       date_added|release_year|rating|duration|           listed_in|         description|\n",
      "+-------+-----+--------------------+--------------------+--------------------+-------------+-----------------+------------+------+--------+--------------------+--------------------+\n",
      "|     s1|Movie|Duck the Halls: A...|Alonso Ramirez Ra...|Chris Diamantopou...|         null|November 26, 2021|        2016|  TV-G|  23 min|   Animation, Family|Join Mickey and t...|\n",
      "|     s2|Movie|Ernest Saves Chri...|         John Cherry|Jim Varney, Noell...|         null|November 26, 2021|        1988|    PG|  91 min|              Comedy|Santa Claus passe...|\n",
      "|     s3|Movie|Ice Age: A Mammot...|        Karen Disher|Raymond Albert Ro...|United States|November 26, 2021|        2011|  TV-G|  23 min|Animation, Comedy...|Sid the Sloth is ...|\n",
      "+-------+-----+--------------------+--------------------+--------------------+-------------+-----------------+------------+------+--------+--------------------+--------------------+\n",
      "only showing top 3 rows\n",
      "\n"
     ]
    }
   ],
   "source": [
    "netflix_df.show(3)\n",
    "disney_df.show(3)"
   ]
  },
  {
   "cell_type": "code",
   "execution_count": 5,
   "id": "8c67cbed-ccc5-40a7-8cd6-1c1c86127cc0",
   "metadata": {},
   "outputs": [],
   "source": [
    "netflix_df.createOrReplaceTempView(\"Netflix\")\n",
    "disney_df.createOrReplaceTempView(\"Disney\")"
   ]
  },
  {
   "cell_type": "markdown",
   "id": "4a967c24",
   "metadata": {},
   "source": [
    "# Data Cleaning"
   ]
  },
  {
   "cell_type": "code",
   "execution_count": 6,
   "id": "049e914d-da12-4681-b99b-5290294b952f",
   "metadata": {},
   "outputs": [],
   "source": [
    "# remove (do not select) show_id and date_added columns\n",
    "# convert columns with multiple values to arrays\n",
    "netflix_clean = spark.sql(\"SELECT type, \\\n",
    "                  title, \\\n",
    "                  SPLIT(director, ',') AS director, \\\n",
    "                  SPLIT(cast, ',') AS cast, \\\n",
    "                  SPLIT(country, ',') AS country, \\\n",
    "                  release_year, \\\n",
    "                  rating, \\\n",
    "                  duration, \\\n",
    "                  SPLIT(listed_in, ',') AS listed_in, \\\n",
    "                  description \\\n",
    "                  FROM Netflix\")\n",
    "netflix_clean.createOrReplaceTempView(\"Netflix1\")\n",
    "\n",
    "disney_clean = spark.sql(\"SELECT type, \\\n",
    "                  title, \\\n",
    "                  SPLIT(director, ',') AS director, \\\n",
    "                  SPLIT(cast, ',') AS cast, \\\n",
    "                  SPLIT(country, ',') AS country, \\\n",
    "                  release_year, \\\n",
    "                  rating, \\\n",
    "                  duration, \\\n",
    "                  SPLIT(listed_in, ',') AS listed_in, \\\n",
    "                  description \\\n",
    "                  FROM Disney\")\n",
    "disney_clean.createOrReplaceTempView(\"Disney1\")"
   ]
  },
  {
   "cell_type": "code",
   "execution_count": 7,
   "id": "c0152fcf-7c38-4da6-ab44-c3f747bed655",
   "metadata": {},
   "outputs": [
    {
     "name": "stdout",
     "output_type": "stream",
     "text": [
      "+----------------+---------+---------+--------------------------------------------------------+-----------------------------------------------------+\n",
      "|title           |duration |duration |listed_in                                               |listed_in                                            |\n",
      "+----------------+---------+---------+--------------------------------------------------------+-----------------------------------------------------+\n",
      "|PJ Masks        |3 Seasons|5 Seasons|[Kids' TV]                                              |[Action-Adventure,  Animation,  Kids]                |\n",
      "|Once Upon a Time|1 Season |7 Seasons|[International TV Shows,  Romantic TV Shows,  TV Dramas]|[Action-Adventure,  Fantasy,  Soap Opera / Melodrama]|\n",
      "|Gigantosaurus   |1 Season |2 Seasons|[Kids' TV]                                              |[Action-Adventure,  Animation,  Kids]                |\n",
      "|Becoming        |89 min   |1 Season |[Documentaries]                                         |[Anthology,  Docuseries,  Family]                    |\n",
      "|Genius          |96 min   |86 min   |[Dramas,  Independent Movies,  International Movies]    |[Comedy,  Coming of Age]                             |\n",
      "+----------------+---------+---------+--------------------------------------------------------+-----------------------------------------------------+\n",
      "only showing top 5 rows\n",
      "\n"
     ]
    }
   ],
   "source": [
    "# test duration and listed_in columns to see if they vary between platforms\n",
    "overlap = spark.sql(\"SELECT Netflix1.title, Netflix1.duration, Disney1.duration,\\\n",
    "                     Netflix1.listed_in, Disney1.listed_in FROM Netflix1 \\\n",
    "                     INNER JOIN Disney1 ON Netflix1.title = Disney1.title\")\n",
    "overlap.show(5, truncate=False)\n",
    "# there is variation - worth keeping each dataset separate"
   ]
  },
  {
   "cell_type": "code",
   "execution_count": 8,
   "id": "2769df0a-2dbf-4cf4-8363-7aea61876ac0",
   "metadata": {},
   "outputs": [
    {
     "name": "stdout",
     "output_type": "stream",
     "text": [
      "+----------+\n",
      "|type_nulls|\n",
      "+----------+\n",
      "|         1|\n",
      "+----------+\n",
      "\n",
      "+-----------+\n",
      "|title_nulls|\n",
      "+-----------+\n",
      "|          2|\n",
      "+-----------+\n",
      "\n",
      "+--------------+\n",
      "|director_nulls|\n",
      "+--------------+\n",
      "|          2636|\n",
      "+--------------+\n",
      "\n",
      "+----------+\n",
      "|cast_nulls|\n",
      "+----------+\n",
      "|       826|\n",
      "+----------+\n",
      "\n",
      "+-------------+\n",
      "|country_nulls|\n",
      "+-------------+\n",
      "|          832|\n",
      "+-------------+\n",
      "\n",
      "+------------------+\n",
      "|release_year_nulls|\n",
      "+------------------+\n",
      "|                 2|\n",
      "+------------------+\n",
      "\n",
      "+------------+\n",
      "|rating_nulls|\n",
      "+------------+\n",
      "|           6|\n",
      "+------------+\n",
      "\n",
      "+--------------+\n",
      "|duration_nulls|\n",
      "+--------------+\n",
      "|             5|\n",
      "+--------------+\n",
      "\n",
      "+---------------+\n",
      "|listed_in_nulls|\n",
      "+---------------+\n",
      "|              3|\n",
      "+---------------+\n",
      "\n",
      "+-----------------+\n",
      "|desctiption_nulls|\n",
      "+-----------------+\n",
      "|                3|\n",
      "+-----------------+\n",
      "\n"
     ]
    }
   ],
   "source": [
    "netflix_nulls = spark.sql(\"SELECT COUNT (*) AS type_nulls FROM Netflix1 WHERE type IS NULL\")\n",
    "netflix_nulls.show()\n",
    "\n",
    "netflix_nulls = spark.sql(\"SELECT COUNT (*) AS title_nulls FROM Netflix1 WHERE title IS NULL\")\n",
    "netflix_nulls.show()\n",
    "\n",
    "netflix_nulls = spark.sql(\"SELECT COUNT (*) AS director_nulls FROM Netflix1 WHERE director IS NULL\")\n",
    "netflix_nulls.show()\n",
    "\n",
    "netflix_nulls = spark.sql(\"SELECT COUNT (*) AS cast_nulls FROM Netflix1 WHERE cast IS NULL\")\n",
    "netflix_nulls.show()\n",
    "\n",
    "netflix_nulls = spark.sql(\"SELECT COUNT (*) AS country_nulls FROM Netflix1 WHERE country IS NULL\")\n",
    "netflix_nulls.show()\n",
    "\n",
    "netflix_nulls = spark.sql(\"SELECT COUNT (*) AS release_year_nulls FROM Netflix1 WHERE release_year IS NULL\")\n",
    "netflix_nulls.show()\n",
    "\n",
    "netflix_nulls = spark.sql(\"SELECT COUNT (*) AS rating_nulls FROM Netflix1 WHERE rating IS NULL\")\n",
    "netflix_nulls.show()\n",
    "\n",
    "netflix_nulls = spark.sql(\"SELECT COUNT (*) AS duration_nulls FROM Netflix1 WHERE duration IS NULL\")\n",
    "netflix_nulls.show()\n",
    "\n",
    "netflix_nulls = spark.sql(\"SELECT COUNT (*) AS listed_in_nulls FROM Netflix1 WHERE listed_in IS NULL\")\n",
    "netflix_nulls.show()\n",
    "\n",
    "netflix_nulls = spark.sql(\"SELECT COUNT (*) AS desctiption_nulls FROM Netflix1 WHERE description IS NULL\")\n",
    "netflix_nulls.show()"
   ]
  },
  {
   "cell_type": "code",
   "execution_count": 9,
   "id": "f073564e-92e1-4acd-87e3-980b10591238",
   "metadata": {},
   "outputs": [],
   "source": [
    "# remove rows for columns having <10 null values\n",
    "# director, cast & country columns not as important to be NOT NULL/\n",
    "#  can be dealt with later\n",
    "netflix_clean_nulls = spark.sql(\"SELECT type, \\\n",
    "                  title, \\\n",
    "                  director, \\\n",
    "                  cast, \\\n",
    "                  country, \\\n",
    "                  release_year, \\\n",
    "                  rating, \\\n",
    "                  duration, \\\n",
    "                  listed_in, \\\n",
    "                  description \\\n",
    "                  FROM Netflix1 \\\n",
    "                  WHERE type IS NOT NULL AND \\\n",
    "                  title IS NOT NULL AND \\\n",
    "                  release_year IS NOT NULL AND \\\n",
    "                  rating IS NOT NULL AND \\\n",
    "                  duration IS NOT NULL AND \\\n",
    "                  listed_in IS NOT NULL AND \\\n",
    "                  description IS NOT NULL\")\n",
    "netflix_clean_nulls.createOrReplaceTempView(\"Netflix2\")"
   ]
  },
  {
   "cell_type": "code",
   "execution_count": 10,
   "id": "0514f349-3e36-48da-9a16-60d2628641f0",
   "metadata": {},
   "outputs": [
    {
     "name": "stdout",
     "output_type": "stream",
     "text": [
      "+----------+\n",
      "|type_nulls|\n",
      "+----------+\n",
      "|         0|\n",
      "+----------+\n",
      "\n",
      "+-----------+\n",
      "|title_nulls|\n",
      "+-----------+\n",
      "|          0|\n",
      "+-----------+\n",
      "\n",
      "+--------------+\n",
      "|director_nulls|\n",
      "+--------------+\n",
      "|           473|\n",
      "+--------------+\n",
      "\n",
      "+----------+\n",
      "|cast_nulls|\n",
      "+----------+\n",
      "|       190|\n",
      "+----------+\n",
      "\n",
      "+-------------+\n",
      "|country_nulls|\n",
      "+-------------+\n",
      "|          218|\n",
      "+-------------+\n",
      "\n",
      "+------------------+\n",
      "|release_year_nulls|\n",
      "+------------------+\n",
      "|                 0|\n",
      "+------------------+\n",
      "\n",
      "+------------+\n",
      "|rating_nulls|\n",
      "+------------+\n",
      "|           3|\n",
      "+------------+\n",
      "\n",
      "+--------------+\n",
      "|duration_nulls|\n",
      "+--------------+\n",
      "|             0|\n",
      "+--------------+\n",
      "\n",
      "+---------------+\n",
      "|listed_in_nulls|\n",
      "+---------------+\n",
      "|              1|\n",
      "+---------------+\n",
      "\n",
      "+-----------------+\n",
      "|desctiption_nulls|\n",
      "+-----------------+\n",
      "|                0|\n",
      "+-----------------+\n",
      "\n"
     ]
    }
   ],
   "source": [
    "disney_nulls = spark.sql(\"SELECT COUNT (*) AS type_nulls FROM Disney1 WHERE type IS NULL\")\n",
    "disney_nulls.show()\n",
    "\n",
    "disney_nulls = spark.sql(\"SELECT COUNT (*) AS title_nulls FROM Disney1 WHERE title IS NULL\")\n",
    "disney_nulls.show()\n",
    "\n",
    "disney_nulls = spark.sql(\"SELECT COUNT (*) AS director_nulls FROM Disney1 WHERE director IS NULL\")\n",
    "disney_nulls.show()\n",
    "\n",
    "disney_nulls = spark.sql(\"SELECT COUNT (*) AS cast_nulls FROM Disney1 WHERE cast IS NULL\")\n",
    "disney_nulls.show()\n",
    "\n",
    "disney_nulls = spark.sql(\"SELECT COUNT (*) AS country_nulls FROM Disney1 WHERE country IS NULL\")\n",
    "disney_nulls.show()\n",
    "\n",
    "disney_nulls = spark.sql(\"SELECT COUNT (*) AS release_year_nulls FROM Disney1 WHERE release_year IS NULL\")\n",
    "disney_nulls.show()\n",
    "\n",
    "disney_nulls = spark.sql(\"SELECT COUNT (*) AS rating_nulls FROM Disney1 WHERE rating IS NULL\")\n",
    "disney_nulls.show()\n",
    "\n",
    "disney_nulls = spark.sql(\"SELECT COUNT (*) AS duration_nulls FROM Disney1 WHERE duration IS NULL\")\n",
    "disney_nulls.show()\n",
    "\n",
    "disney_nulls = spark.sql(\"SELECT COUNT (*) AS listed_in_nulls FROM Disney1 WHERE listed_in IS NULL\")\n",
    "disney_nulls.show()\n",
    "\n",
    "disney_nulls = spark.sql(\"SELECT COUNT (*) AS desctiption_nulls FROM Disney1 WHERE description IS NULL\")\n",
    "disney_nulls.show()"
   ]
  },
  {
   "cell_type": "code",
   "execution_count": 11,
   "id": "a597bf44-bc88-47be-b643-1b028a744d99",
   "metadata": {},
   "outputs": [],
   "source": [
    "# remove rows for columns having <10 null values\n",
    "# director, cast & country columns not as important to be NOT NULL/\n",
    "#  can be dealt with later\n",
    "disney_clean_nulls = spark.sql(\"SELECT type, \\\n",
    "                  title, \\\n",
    "                  director, \\\n",
    "                  cast, \\\n",
    "                  country, \\\n",
    "                  release_year, \\\n",
    "                  rating, \\\n",
    "                  duration, \\\n",
    "                  listed_in, \\\n",
    "                  description \\\n",
    "                  FROM Disney1 \\\n",
    "                  WHERE rating IS NOT NULL AND \\\n",
    "                  listed_in IS NOT NULL\")\n",
    "disney_clean_nulls.createOrReplaceTempView(\"Disney2\")"
   ]
  },
  {
   "cell_type": "markdown",
   "id": "d32f0ecf-9695-4b2b-b970-e37f119c10e5",
   "metadata": {},
   "source": [
    "NETFLIX table: Netflix2\n",
    "\n",
    "DISNEY table: Disney2"
   ]
  },
  {
   "cell_type": "code",
   "execution_count": 12,
   "id": "c25f192f-4060-444f-9aa6-8093cdc247a9",
   "metadata": {},
   "outputs": [
    {
     "name": "stdout",
     "output_type": "stream",
     "text": [
      "+--------+\n",
      "|count(1)|\n",
      "+--------+\n",
      "|    8799|\n",
      "+--------+\n",
      "\n",
      "+--------+\n",
      "|count(1)|\n",
      "+--------+\n",
      "|    1446|\n",
      "+--------+\n",
      "\n"
     ]
    }
   ],
   "source": [
    "# table counts\n",
    "spark.sql(\"SELECT COUNT (*) FROM Netflix2\").show()\n",
    "spark.sql(\"SELECT COUNT (*) FROM Disney2\").show()"
   ]
  },
  {
   "cell_type": "markdown",
   "id": "904129e9",
   "metadata": {},
   "source": [
    "# Data Exploration and Analysis"
   ]
  },
  {
   "cell_type": "code",
   "execution_count": null,
   "id": "c4c3d883",
   "metadata": {},
   "outputs": [],
   "source": []
  },
  {
   "cell_type": "markdown",
   "id": "3f939e5b",
   "metadata": {},
   "source": [
    "# Machine learning method selection and model training"
   ]
  },
  {
   "cell_type": "code",
   "execution_count": 14,
   "id": "bb9f3faa-d975-4edf-afc4-326b22157f0c",
   "metadata": {},
   "outputs": [],
   "source": [
    "# Importing necessary modules\n",
    "\n",
    "from pyspark.ml.feature import (CountVectorizer, RegexTokenizer, StopWordsRemover, IDF, StringIndexer)\n",
    "\n",
    "from pyspark.ml.classification import NaiveBayes\n",
    "from pyspark.ml.evaluation import MulticlassClassificationEvaluator\n",
    "from pyspark.ml.feature import VectorAssembler"
   ]
  },
  {
   "cell_type": "markdown",
   "id": "1cb58ff2",
   "metadata": {},
   "source": [
    "Disney Data"
   ]
  },
  {
   "cell_type": "code",
   "execution_count": 15,
   "id": "bca6d00b",
   "metadata": {},
   "outputs": [
    {
     "name": "stdout",
     "output_type": "stream",
     "text": [
      "+--------------------+--------------------+--------------------+------+--------------------+--------------------+\n",
      "|               title|            director|                cast|rating|           listed_in|         description|\n",
      "+--------------------+--------------------+--------------------+------+--------------------+--------------------+\n",
      "|Duck the Halls: A...|[Alonso Ramirez R...|[Chris Diamantopo...|  TV-G|[Animation,  Family]|Join Mickey and t...|\n",
      "|Ernest Saves Chri...|       [John Cherry]|[Jim Varney,  Noe...|    PG|            [Comedy]|Santa Claus passe...|\n",
      "|Ice Age: A Mammot...|      [Karen Disher]|[Raymond Albert R...|  TV-G|[Animation,  Come...|Sid the Sloth is ...|\n",
      "+--------------------+--------------------+--------------------+------+--------------------+--------------------+\n",
      "only showing top 3 rows\n",
      "\n"
     ]
    }
   ],
   "source": [
    "Disney3 = disney_clean_nulls.select(\"title\", \"director\", \"cast\", \"rating\", \"listed_in\", \"description\")\n",
    "Disney3.show(3)"
   ]
  },
  {
   "cell_type": "code",
   "execution_count": 16,
   "id": "f46babf6",
   "metadata": {},
   "outputs": [
    {
     "name": "stdout",
     "output_type": "stream",
     "text": [
      "+-----------------+\n",
      "|           rating|\n",
      "+-----------------+\n",
      "|             TV-Y|\n",
      "|December 25, 2020|\n",
      "|               PG|\n",
      "|    United States|\n",
      "|         TV-Y7-FV|\n",
      "|            TV-PG|\n",
      "|                G|\n",
      "|            TV-14|\n",
      "|             TV-G|\n",
      "|            TV-Y7|\n",
      "|            PG-13|\n",
      "+-----------------+\n",
      "\n"
     ]
    }
   ],
   "source": [
    "Disney3.select(\"rating\").distinct().show()"
   ]
  },
  {
   "cell_type": "code",
   "execution_count": 17,
   "id": "e9137f7a",
   "metadata": {},
   "outputs": [
    {
     "name": "stdout",
     "output_type": "stream",
     "text": [
      "+--------------------+\n",
      "|           listed_in|\n",
      "+--------------------+\n",
      "|[Musical,  Romanc...|\n",
      "|[Family,  Fantasy...|\n",
      "|[Biographical,  D...|\n",
      "|   [Drama,  Fantasy]|\n",
      "|[Coming of Age,  ...|\n",
      "|[Comedy,  Coming ...|\n",
      "|[Drama,  Music,  ...|\n",
      "|[Comedy,  Family,...|\n",
      "|[Action-Adventure...|\n",
      "|[Documentary,  Fa...|\n",
      "|[Animation,  Fami...|\n",
      "|[Animation,  Family]|\n",
      "|[Docuseries,  Fam...|\n",
      "|[Animation,  Fami...|\n",
      "|[Biographical,  H...|\n",
      "|[Docuseries,  Sci...|\n",
      "|[Animation,  Kids...|\n",
      "|[Animation,  Kids...|\n",
      "|[Action-Adventure...|\n",
      "|              [2016]|\n",
      "+--------------------+\n",
      "only showing top 20 rows\n",
      "\n"
     ]
    }
   ],
   "source": [
    "Disney3.select(\"listed_in\").distinct().show()"
   ]
  },
  {
   "cell_type": "markdown",
   "id": "6cb230b7",
   "metadata": {},
   "source": [
    "Natural Language Processing"
   ]
  },
  {
   "cell_type": "code",
   "execution_count": 18,
   "id": "a3bcaa81",
   "metadata": {},
   "outputs": [
    {
     "name": "stdout",
     "output_type": "stream",
     "text": [
      "+--------------------+--------------------+--------------------+------+--------------------+--------------------+------------+\n",
      "|               title|            director|                cast|rating|           listed_in|         description|title_length|\n",
      "+--------------------+--------------------+--------------------+------+--------------------+--------------------+------------+\n",
      "|Duck the Halls: A...|[Alonso Ramirez R...|[Chris Diamantopo...|  TV-G|[Animation,  Family]|Join Mickey and t...|          48|\n",
      "|Ernest Saves Chri...|       [John Cherry]|[Jim Varney,  Noe...|    PG|            [Comedy]|Santa Claus passe...|          22|\n",
      "|Ice Age: A Mammot...|      [Karen Disher]|[Raymond Albert R...|  TV-G|[Animation,  Come...|Sid the Sloth is ...|          28|\n",
      "+--------------------+--------------------+--------------------+------+--------------------+--------------------+------------+\n",
      "only showing top 3 rows\n",
      "\n"
     ]
    }
   ],
   "source": [
    "from pyspark.sql.functions import length\n",
    "\n",
    "Disney4 = Disney3.withColumn('title_length', length(Disney3['title']))\n",
    "Disney4.show(3)"
   ]
  },
  {
   "cell_type": "code",
   "execution_count": 19,
   "id": "63012f4b",
   "metadata": {},
   "outputs": [
    {
     "name": "stdout",
     "output_type": "stream",
     "text": [
      "+--------------------+--------------------+--------------------+------+--------------------+--------------------+------------+--------------------+\n",
      "|               title|            director|                cast|rating|           listed_in|         description|title_length|        Disney_words|\n",
      "+--------------------+--------------------+--------------------+------+--------------------+--------------------+------------+--------------------+\n",
      "|Duck the Halls: A...|[Alonso Ramirez R...|[Chris Diamantopo...|  TV-G|[Animation,  Family]|Join Mickey and t...|          48|[duck, the, halls...|\n",
      "|Ernest Saves Chri...|       [John Cherry]|[Jim Varney,  Noe...|    PG|            [Comedy]|Santa Claus passe...|          22|[ernest, saves, c...|\n",
      "|Ice Age: A Mammot...|      [Karen Disher]|[Raymond Albert R...|  TV-G|[Animation,  Come...|Sid the Sloth is ...|          28|[ice, age, a, mam...|\n",
      "+--------------------+--------------------+--------------------+------+--------------------+--------------------+------------+--------------------+\n",
      "only showing top 3 rows\n",
      "\n",
      "+------------------------------------------------+------------------------------------+---------------------------------------------------------------------------------------------------+------+-----------------------------+--------------------------------------------------+------------+--------------------------------------------------------+------------------------------------------------------------+\n",
      "|title                                           |director                            |cast                                                                                               |rating|listed_in                    |description                                       |title_length|Disney_words                                            |Disney_tokens                                               |\n",
      "+------------------------------------------------+------------------------------------+---------------------------------------------------------------------------------------------------+------+-----------------------------+--------------------------------------------------+------------+--------------------------------------------------------+------------------------------------------------------------+\n",
      "|Duck the Halls: A Mickey Mouse Christmas Special|[Alonso Ramirez Ramos,  Dave Wasson]|[Chris Diamantopoulos,  Tony Anselmo,  Tress MacNeille,  Bill Farmer,  Russi Taylor,  Corey Burton]|TV-G  |[Animation,  Family]         |Join Mickey and the gang as they duck the halls!  |48          |[duck, the, halls, a, mickey, mouse, christmas, special]|[join, mickey, and, the, gang, as, they, duck, the, halls]  |\n",
      "|Ernest Saves Christmas                          |[John Cherry]                       |[Jim Varney,  Noelle Parker,  Douglas Seale]                                                       |PG    |[Comedy]                     |Santa Claus passes his magic bag to a new St. Nic.|22          |[ernest, saves, christmas]                              |[santa, claus, passes, his, magic, bag, to, a, new, st, nic]|\n",
      "|Ice Age: A Mammoth Christmas                    |[Karen Disher]                      |[Raymond Albert Romano,  John Leguizamo,  Denis Leary,  Queen Latifah]                             |TV-G  |[Animation,  Comedy,  Family]|Sid the Sloth is on Santa's naughty list.         |28          |[ice, age, a, mammoth, christmas]                       |[sid, the, sloth, is, on, santa, s, naughty, list]          |\n",
      "+------------------------------------------------+------------------------------------+---------------------------------------------------------------------------------------------------+------+-----------------------------+--------------------------------------------------+------------+--------------------------------------------------------+------------------------------------------------------------+\n",
      "only showing top 3 rows\n",
      "\n"
     ]
    }
   ],
   "source": [
    "# Tokenize words in title column\n",
    "tokenizer1 = RegexTokenizer(inputCol= 'title', outputCol='Disney_words', pattern='\\\\W')\n",
    "tokenized = tokenizer1.transform(Disney4)\n",
    "tokenized.show(3)\n",
    "\n",
    "# Tokenize words in description column\n",
    "tokenizer2 = RegexTokenizer(inputCol= 'description', outputCol='Disney_tokens', pattern='\\\\W')\n",
    "tokenized2 = tokenizer2.transform(tokenized)\n",
    "tokenized2.show(3, truncate=False)"
   ]
  },
  {
   "cell_type": "code",
   "execution_count": 43,
   "id": "4d081de5",
   "metadata": {},
   "outputs": [],
   "source": [
    "# Remove stopwords in tokenized Disney_words column\n",
    "Disney_remover = StopWordsRemover(inputCol='Disney_words', outputCol='filtered_title')\n",
    "removed_Dis = Disney_remover.transform(tokenized2)\n",
    "\n",
    "# Processing title column\n",
    "Disney_cv = CountVectorizer(inputCol='filtered_title', outputCol='vec_title')\n",
    "Disney_idf = IDF(inputCol='vec_title', outputCol='Disney_tfidf')\n",
    "Disney_numeric = StringIndexer(inputCol='rating', outputCol='label')\n",
    "Disney_Assembler = VectorAssembler(inputCols=['Disney_tfidf','title_length'], outputCol='features')"
   ]
  },
  {
   "cell_type": "code",
   "execution_count": 44,
   "id": "98c32abe",
   "metadata": {},
   "outputs": [],
   "source": [
    "from pyspark.ml import Pipeline\n",
    "\n",
    "# Creaing data pipeline\n",
    "Disney_pipeline = Pipeline(stages=[Disney_numeric, tokenizer1, Disney_remover, Disney_cv, Disney_idf, Disney_Assembler])\n",
    "                        #tokenizer2, remover2, Disney_cv2, Disney_idf2, Disney_Assembler2])"
   ]
  },
  {
   "cell_type": "code",
   "execution_count": 45,
   "id": "b18ff753",
   "metadata": {},
   "outputs": [],
   "source": [
    "Disney_fit = Disney_pipeline.fit(Disney4)\n",
    "Disney_clean = Disney_fit.transform(Disney4)\n",
    "Disney_cleaned = Disney_clean.select('label', 'features')"
   ]
  },
  {
   "cell_type": "code",
   "execution_count": 28,
   "id": "d793f018",
   "metadata": {},
   "outputs": [
    {
     "name": "stdout",
     "output_type": "stream",
     "text": [
      "root\n",
      " |-- title: string (nullable = true)\n",
      " |-- director: array (nullable = true)\n",
      " |    |-- element: string (containsNull = true)\n",
      " |-- cast: array (nullable = true)\n",
      " |    |-- element: string (containsNull = true)\n",
      " |-- rating: string (nullable = true)\n",
      " |-- listed_in: array (nullable = true)\n",
      " |    |-- element: string (containsNull = true)\n",
      " |-- description: string (nullable = true)\n",
      " |-- title_length: integer (nullable = true)\n",
      "\n"
     ]
    }
   ],
   "source": [
    "Disney4.printSchema()"
   ]
  },
  {
   "cell_type": "code",
   "execution_count": 47,
   "id": "26b31520",
   "metadata": {},
   "outputs": [
    {
     "name": "stdout",
     "output_type": "stream",
     "text": [
      "+-----+--------------------+\n",
      "|label|            features|\n",
      "+-----+--------------------+\n",
      "|  0.0|(1857,[8,14,37,55...|\n",
      "|  3.0|(1857,[14,1574,16...|\n",
      "|  0.0|(1857,[14,59,96,1...|\n",
      "|  1.0|(1857,[58,173,590...|\n",
      "|  6.0|(1857,[370,1579,1...|\n",
      "|  5.0|(1857,[1035,1856]...|\n",
      "|  5.0|(1857,[243,607,13...|\n",
      "|  1.0|(1857,[18,122,139...|\n",
      "|  2.0|(1857,[14,41,112,...|\n",
      "|  1.0|(1857,[0,72,98,50...|\n",
      "|  0.0|(1857,[273,1434,1...|\n",
      "|  2.0|(1857,[6,153,1856...|\n",
      "|  1.0|(1857,[77,464,111...|\n",
      "|  1.0|(1857,[30,670,185...|\n",
      "|  0.0|(1857,[681,1856],...|\n",
      "|  1.0|(1857,[764,1710,1...|\n",
      "|  1.0|(1857,[0,255,534,...|\n",
      "|  1.0|(1857,[0,1630,185...|\n",
      "|  3.0|(1857,[385,1856],...|\n",
      "|  2.0|(1857,[1217,1856]...|\n",
      "+-----+--------------------+\n",
      "only showing top 20 rows\n",
      "\n"
     ]
    }
   ],
   "source": [
    "Disney_cleaned.show()"
   ]
  },
  {
   "cell_type": "markdown",
   "id": "06f80c3b",
   "metadata": {},
   "source": [
    "Naive Bayes Classifier"
   ]
  },
  {
   "cell_type": "code",
   "execution_count": 81,
   "id": "0b13d6e9",
   "metadata": {},
   "outputs": [],
   "source": [
    "# Building the model\n",
    "NB = NaiveBayes()"
   ]
  },
  {
   "cell_type": "code",
   "execution_count": 82,
   "id": "ede95fbb",
   "metadata": {},
   "outputs": [],
   "source": [
    "# Splitting data into training and testing datasets \n",
    "Disney_train, Disney_test = Disney_cleaned.randomSplit([0.7, 0.3])"
   ]
  },
  {
   "cell_type": "code",
   "execution_count": 83,
   "id": "f6291248",
   "metadata": {},
   "outputs": [
    {
     "name": "stdout",
     "output_type": "stream",
     "text": [
      "+-----+--------------------+--------------------+--------------------+----------+\n",
      "|label|            features|       rawPrediction|         probability|prediction|\n",
      "+-----+--------------------+--------------------+--------------------+----------+\n",
      "|  0.0|(4373,[0,1,2,8,24...|[-300.65705534359...|[0.99990897564269...|       0.0|\n",
      "|  0.0|(4373,[0,1,2,8,34...|[-358.80728188929...|[0.99999998597869...|       0.0|\n",
      "|  0.0|(4373,[0,1,2,9,22...|[-242.99858610923...|[0.99999999999619...|       0.0|\n",
      "|  0.0|(4373,[0,1,2,15,3...|[-385.87033757774...|[1.51270410802234...|       1.0|\n",
      "|  0.0|(4373,[0,1,2,15,4...|[-247.22642363918...|[0.99999999958346...|       0.0|\n",
      "+-----+--------------------+--------------------+--------------------+----------+\n",
      "only showing top 5 rows\n",
      "\n"
     ]
    }
   ],
   "source": [
    "# Fitting the Naive Bayes model\n",
    "Disney_model = NB.fit(Disney_train)\n",
    "Disney_results = Disney_model.transform(Disney_test)\n",
    "Disney_results.show(5)"
   ]
  },
  {
   "cell_type": "markdown",
   "id": "05f71f1e",
   "metadata": {},
   "source": [
    "# Model Evaluation"
   ]
  },
  {
   "cell_type": "code",
   "execution_count": 84,
   "id": "d6c8ef0a",
   "metadata": {},
   "outputs": [],
   "source": [
    "from pyspark.ml.evaluation import MulticlassClassificationEvaluator"
   ]
  },
  {
   "cell_type": "code",
   "execution_count": 85,
   "id": "79c7338f",
   "metadata": {},
   "outputs": [],
   "source": [
    "# Evaluating NB model\n",
    "accuracy_eval = MulticlassClassificationEvaluator()\n",
    "\n"
   ]
  },
  {
   "cell_type": "code",
   "execution_count": 86,
   "id": "9db65a9d",
   "metadata": {},
   "outputs": [
    {
     "name": "stdout",
     "output_type": "stream",
     "text": [
      "0.3138789630307071\n"
     ]
    }
   ],
   "source": [
    "accuracy = accuracy_eval.evaluate(Disney_results)\n",
    "print(accuracy)"
   ]
  },
  {
   "cell_type": "markdown",
   "id": "a461c924",
   "metadata": {},
   "source": [
    "Building model on rating as label and description column as feature"
   ]
  },
  {
   "cell_type": "code",
   "execution_count": 87,
   "id": "6aeb75d1",
   "metadata": {},
   "outputs": [],
   "source": [
    "# Remove stopwords in tokenized Disney_tokens column\n",
    "remover2 = StopWordsRemover(inputCol='Disney_tokens', outputCol='filtered_description')\n",
    "removed_Disney = remover2.transform(removed_Dis)\n",
    "\n",
    "# Processing description column\n",
    "Disney_cv2 = CountVectorizer(inputCol='filtered_description', outputCol='vec_description')\n",
    "Disney_idf2 = IDF(inputCol='vec_description', outputCol='Disney_tfidf2')\n",
    "Disney_numeric2 = StringIndexer(inputCol='rating', outputCol='label')\n",
    "Disney_Assembler2 = VectorAssembler(inputCols=['Disney_tfidf2','title_length'], outputCol='features')"
   ]
  },
  {
   "cell_type": "code",
   "execution_count": 88,
   "id": "0a90e7cd",
   "metadata": {},
   "outputs": [],
   "source": [
    "# Creaing data pipeline\n",
    "Disney_pipeline = Pipeline(stages=[Disney_numeric2, tokenizer2, remover2, Disney_cv2, Disney_idf2, Disney_Assembler2])                        "
   ]
  },
  {
   "cell_type": "code",
   "execution_count": 89,
   "id": "5e4d7527",
   "metadata": {},
   "outputs": [],
   "source": [
    "Disney_fit2 = Disney_pipeline.fit(Disney4)\n",
    "Disney_clean2 = Disney_fit2.transform(Disney4)\n",
    "Disney_cleaned2 = Disney_clean2.select('label', 'features')"
   ]
  },
  {
   "cell_type": "code",
   "execution_count": 90,
   "id": "17670f0b",
   "metadata": {},
   "outputs": [],
   "source": [
    "# Splitting data into training and testing datasets \n",
    "Disney_train2, Disney_test2 = Disney_cleaned2.randomSplit([0.7, 0.3])"
   ]
  },
  {
   "cell_type": "code",
   "execution_count": 91,
   "id": "a05ad06a",
   "metadata": {},
   "outputs": [
    {
     "name": "stdout",
     "output_type": "stream",
     "text": [
      "+-----+--------------------+--------------------+--------------------+----------+\n",
      "|label|            features|       rawPrediction|         probability|prediction|\n",
      "+-----+--------------------+--------------------+--------------------+----------+\n",
      "|  0.0|(4373,[0,1,2,8,34...|[-365.62661739659...|[0.99999946297615...|       0.0|\n",
      "|  0.0|(4373,[0,1,2,9,22...|[-234.29006985565...|[0.99999999999999...|       0.0|\n",
      "|  0.0|(4373,[0,1,2,10,1...|[-316.19606082521...|[0.79078415137162...|       0.0|\n",
      "|  0.0|(4373,[0,1,2,10,1...|[-402.56173510099...|[1.35681568698504...|       4.0|\n",
      "|  0.0|(4373,[0,1,2,15,5...|[-399.64235703781...|[1.52659887630714...|       4.0|\n",
      "+-----+--------------------+--------------------+--------------------+----------+\n",
      "only showing top 5 rows\n",
      "\n"
     ]
    }
   ],
   "source": [
    "# Fitting the Naive Bayes model\n",
    "Disney_model2 = NB.fit(Disney_train2)\n",
    "Disney_results2 = Disney_model2.transform(Disney_test2)\n",
    "Disney_results2.show(5)"
   ]
  },
  {
   "cell_type": "code",
   "execution_count": 92,
   "id": "87e70f16",
   "metadata": {},
   "outputs": [
    {
     "name": "stdout",
     "output_type": "stream",
     "text": [
      "0.34431647400515286\n"
     ]
    }
   ],
   "source": [
    "# Evaluating NB model\n",
    "accuracy2 = accuracy_eval.evaluate(Disney_results2)\n",
    "print(accuracy2)"
   ]
  },
  {
   "cell_type": "markdown",
   "id": "3f34e318",
   "metadata": {},
   "source": [
    "Netflix Data"
   ]
  },
  {
   "cell_type": "code",
   "execution_count": 93,
   "id": "001946c3",
   "metadata": {},
   "outputs": [
    {
     "name": "stdout",
     "output_type": "stream",
     "text": [
      "+--------------------+--------------------+--------------------+------+--------------------+--------------------+\n",
      "|               title|            director|                cast|rating|           listed_in|         description|\n",
      "+--------------------+--------------------+--------------------+------+--------------------+--------------------+\n",
      "|Dick Johnson Is Dead|   [Kirsten Johnson]|                null| PG-13|     [Documentaries]|As her father nea...|\n",
      "|       Blood & Water|                null|[Ama Qamata,  Kho...| TV-MA|[International TV...|After crossing pa...|\n",
      "|           Ganglands|   [Julien Leclercq]|[Sami Bouajila,  ...| TV-MA|[Crime TV Shows, ...|To protect his fa...|\n",
      "|Jailbirds New Orl...|                null|                null| TV-MA|[Docuseries,  Rea...|Feuds, flirtation...|\n",
      "|        Kota Factory|                null|[Mayur More,  Jit...| TV-MA|[International TV...|In a city of coac...|\n",
      "|       Midnight Mass|     [Mike Flanagan]|[Kate Siegel,  Za...| TV-MA|[TV Dramas,  TV H...|The arrival of a ...|\n",
      "|My Little Pony: A...|[Robert Cullen,  ...|[Vanessa Hudgens,...|    PG|[Children & Famil...|Equestria's divid...|\n",
      "|             Sankofa|      [Haile Gerima]|[Kofi Ghanaba,  O...| TV-MA|[Dramas,  Indepen...|On a photo shoot ...|\n",
      "|The Great British...|   [Andy Devonshire]|[Mel Giedroyc,  S...| TV-14|[British TV Shows...|A talented batch ...|\n",
      "|        The Starling|    [Theodore Melfi]|[Melissa McCarthy...| PG-13| [Comedies,  Dramas]|A woman adjusting...|\n",
      "|Vendetta: Truth, ...|                null|                null| TV-MA|[Crime TV Shows, ...|\"Sicily boasts a ...|\n",
      "|    Bangkok Breaking| [Kongkiat Komesiri]|[Sukollawat Kanar...| TV-MA|[Crime TV Shows, ...|Struggling to ear...|\n",
      "|        Je Suis Karl|[Christian Schwoc...|[Luna Wedler,  Ja...| TV-MA|[Dramas,  Interna...|After most of her...|\n",
      "|Confessions of an...|     [Bruno Garotti]|[Klara Castanho, ...| TV-PG|[Children & Famil...|When the clever b...|\n",
      "|Crime Stories: In...|                null|                null| TV-MA|[British TV Shows...|Cameras following...|\n",
      "|   Dear White People|                null|[Logan Browning, ...| TV-MA|[TV Comedies,  TV...|\"Students of colo...|\n",
      "|Europe's Most Dan...|[Pedro de Echave ...|                null| TV-MA|[Documentaries,  ...|Declassified docu...|\n",
      "|     Falsa identidad|                null|[Luis Ernesto Fra...| TV-MA|[Crime TV Shows, ...|Strangers Diego a...|\n",
      "|           Intrusion|        [Adam Salky]|[Freida Pinto,  L...| TV-14|         [Thrillers]|After a deadly ho...|\n",
      "|              Jaguar|                null|[Blanca Suárez,  ...| TV-MA|[International TV...|In the 1960s, a H...|\n",
      "+--------------------+--------------------+--------------------+------+--------------------+--------------------+\n",
      "only showing top 20 rows\n",
      "\n"
     ]
    }
   ],
   "source": [
    "Netflix3 = netflix_clean_nulls.select(\"title\", \"director\", \"cast\", \"rating\", \"listed_in\", \"description\")\n",
    "Netflix3.show()"
   ]
  },
  {
   "cell_type": "code",
   "execution_count": 94,
   "id": "08a59124",
   "metadata": {},
   "outputs": [
    {
     "name": "stdout",
     "output_type": "stream",
     "text": [
      "+--------------------+\n",
      "|              rating|\n",
      "+--------------------+\n",
      "|    November 1, 2020|\n",
      "|    Shavidee Trotter|\n",
      "|       Adriane Lenox|\n",
      "|                TV-Y|\n",
      "|       Maury Chaykin|\n",
      "|                2019|\n",
      "|                2017|\n",
      "|                  UR|\n",
      "| Keppy Ekpenyong ...|\n",
      "|      Benn Northover|\n",
      "|                  PG|\n",
      "|         Jide Kosoko|\n",
      "|               TV-MA|\n",
      "|     Jowharah Jones\"|\n",
      "|            TV-Y7-FV|\n",
      "|                2006|\n",
      "|      Itziar Aizpuru|\n",
      "|                  NR|\n",
      "|               TV-PG|\n",
      "|               NC-17|\n",
      "+--------------------+\n",
      "only showing top 20 rows\n",
      "\n"
     ]
    }
   ],
   "source": [
    "Netflix3.select(\"rating\").distinct().show()"
   ]
  },
  {
   "cell_type": "code",
   "execution_count": 95,
   "id": "aaa2eade",
   "metadata": {},
   "outputs": [
    {
     "name": "stdout",
     "output_type": "stream",
     "text": [
      "+--------------------+\n",
      "|           listed_in|\n",
      "+--------------------+\n",
      "|[Kids' TV,  Korea...|\n",
      "|[Comedies,  Drama...|\n",
      "|[Kids' TV,  TV Th...|\n",
      "|[International TV...|\n",
      "|[TV Dramas,  TV S...|\n",
      "|[Action & Adventu...|\n",
      "|[Classic Movies, ...|\n",
      "|[Classic Movies, ...|\n",
      "|            [71 min]|\n",
      "|[ Janeane Garofalo\"]|\n",
      "|[Crime TV Shows, ...|\n",
      "|[Comedies,  Inter...|\n",
      "|[Kids' TV,  TV Sc...|\n",
      "|[Comedies,  Music...|\n",
      "|     [ Margaret Cho]|\n",
      "|[Action & Adventure]|\n",
      "|[Action & Adventu...|\n",
      "|[Comedies,  Roman...|\n",
      "|[Action & Adventu...|\n",
      "|[Independent Movi...|\n",
      "|[Reality TV,  TV ...|\n",
      "|[Anime Features, ...|\n",
      "|[Action & Adventu...|\n",
      "|     [Documentaries]|\n",
      "|[British TV Shows...|\n",
      "|          [TV Shows]|\n",
      "|[Crime TV Shows, ...|\n",
      "|[TV Dramas,  TV S...|\n",
      "|[British TV Shows...|\n",
      "|[Comedies,  Cult ...|\n",
      "|[Dramas,  Interna...|\n",
      "|[Kids' TV,  Reali...|\n",
      "|          [Comedies]|\n",
      "|[Comedies,  LGBTQ...|\n",
      "|[Action & Adventu...|\n",
      "|[International Mo...|\n",
      "|[Documentaries,  ...|\n",
      "|[Children & Famil...|\n",
      "|[Dramas,  Faith &...|\n",
      "|[TV Comedies,  TV...|\n",
      "|[International TV...|\n",
      "|[Classic Movies, ...|\n",
      "|[Comedies,  Drama...|\n",
      "|[Dramas,  Interna...|\n",
      "|[Horror Movies,  ...|\n",
      "|[Action & Adventu...|\n",
      "|[Docuseries,  Sci...|\n",
      "|[Action & Adventu...|\n",
      "|[Comedies,  Sport...|\n",
      "|[British TV Shows...|\n",
      "+--------------------+\n",
      "only showing top 50 rows\n",
      "\n"
     ]
    }
   ],
   "source": [
    "Netflix3.select(\"listed_in\").distinct().show(50)"
   ]
  },
  {
   "cell_type": "code",
   "execution_count": 96,
   "id": "38b45026",
   "metadata": {},
   "outputs": [
    {
     "name": "stdout",
     "output_type": "stream",
     "text": [
      "+--------------------+-----------------+--------------------+------+--------------------+--------------------+------------+\n",
      "|               title|         director|                cast|rating|           listed_in|         description|title_length|\n",
      "+--------------------+-----------------+--------------------+------+--------------------+--------------------+------------+\n",
      "|Dick Johnson Is Dead|[Kirsten Johnson]|                null| PG-13|     [Documentaries]|As her father nea...|          20|\n",
      "|       Blood & Water|             null|[Ama Qamata,  Kho...| TV-MA|[International TV...|After crossing pa...|          13|\n",
      "|           Ganglands|[Julien Leclercq]|[Sami Bouajila,  ...| TV-MA|[Crime TV Shows, ...|To protect his fa...|           9|\n",
      "+--------------------+-----------------+--------------------+------+--------------------+--------------------+------------+\n",
      "only showing top 3 rows\n",
      "\n"
     ]
    }
   ],
   "source": [
    "Netflix4 = Netflix3.withColumn('title_length', length(Netflix3['title']))\n",
    "Netflix4.show(3)"
   ]
  },
  {
   "cell_type": "code",
   "execution_count": 98,
   "id": "f412a51f",
   "metadata": {},
   "outputs": [
    {
     "name": "stdout",
     "output_type": "stream",
     "text": [
      "+--------------------+-----------------+--------------------+------+--------------------+--------------------+--------------------+--------------------+\n",
      "|               title|         director|                cast|rating|           listed_in|         description|           Net_words|          Net_tokens|\n",
      "+--------------------+-----------------+--------------------+------+--------------------+--------------------+--------------------+--------------------+\n",
      "|Dick Johnson Is Dead|[Kirsten Johnson]|                null| PG-13|     [Documentaries]|As her father nea...|[dick, johnson, i...|[as, her, father,...|\n",
      "|       Blood & Water|             null|[Ama Qamata,  Kho...| TV-MA|[International TV...|After crossing pa...|      [blood, water]|[after, crossing,...|\n",
      "|           Ganglands|[Julien Leclercq]|[Sami Bouajila,  ...| TV-MA|[Crime TV Shows, ...|To protect his fa...|         [ganglands]|[to, protect, his...|\n",
      "+--------------------+-----------------+--------------------+------+--------------------+--------------------+--------------------+--------------------+\n",
      "only showing top 3 rows\n",
      "\n"
     ]
    }
   ],
   "source": [
    "# Tokenize words in title column\n",
    "reg_tokenizer3 = RegexTokenizer(inputCol=\"title\", outputCol=\"Net_words\", pattern='\\\\W')\n",
    "reg_tokenized3 = reg_tokenizer3.transform(Netflix3)\n",
    "\n",
    "# Tokenize words in description column\n",
    "reg_tokenizer4 = RegexTokenizer(inputCol=\"description\", outputCol=\"Net_tokens\", pattern='\\\\W')\n",
    "reg_tokenized4 = reg_tokenizer4.transform(reg_tokenized3)\n",
    "\n",
    "reg_tokenized4.show(3)"
   ]
  },
  {
   "cell_type": "markdown",
   "id": "85572865",
   "metadata": {},
   "source": [
    "Running model on Netflix title column"
   ]
  },
  {
   "cell_type": "code",
   "execution_count": 100,
   "id": "0a29229a",
   "metadata": {},
   "outputs": [],
   "source": [
    "# Remove stopwords in tokenized words column\n",
    "Netflix_remover = StopWordsRemover(inputCol='Net_words', outputCol='filtered_title')\n",
    "Netflix_removed = Netflix_remover.transform(reg_tokenized4)\n",
    "\n",
    "# Processing title column\n",
    "Netflix_cv = CountVectorizer(inputCol='filtered_title', outputCol='vec_title')\n",
    "Netflix_idf = IDF(inputCol='vec_title', outputCol='Netflix_tfidf')\n",
    "Netflix_numeric = StringIndexer(inputCol='rating', outputCol='label')\n",
    "Netflix_Assembler = VectorAssembler(inputCols=['Netflix_tfidf','title_length'], outputCol='features')"
   ]
  },
  {
   "cell_type": "code",
   "execution_count": 102,
   "id": "71227674",
   "metadata": {},
   "outputs": [],
   "source": [
    "# Creaing data pipeline\n",
    "Netflix_pipeline = Pipeline(stages=[Netflix_numeric, reg_tokenizer3, Netflix_remover, Netflix_cv, Netflix_idf, Netflix_Assembler])   "
   ]
  },
  {
   "cell_type": "code",
   "execution_count": 103,
   "id": "faf27e95",
   "metadata": {},
   "outputs": [],
   "source": [
    "Netflix_fit = Netflix_pipeline.fit(Netflix4)\n",
    "Netflix_clean = Netflix_fit.transform(Netflix4)\n",
    "Netflix_cleaned = Netflix_clean.select('label', 'features')"
   ]
  },
  {
   "cell_type": "code",
   "execution_count": 104,
   "id": "1d41a23a",
   "metadata": {},
   "outputs": [],
   "source": [
    "# Splitting data into training and testing datasets \n",
    "Netflix_train, Netflix_test = Netflix_cleaned.randomSplit([0.7, 0.3])"
   ]
  },
  {
   "cell_type": "code",
   "execution_count": 105,
   "id": "cb453db2",
   "metadata": {},
   "outputs": [
    {
     "name": "stdout",
     "output_type": "stream",
     "text": [
      "+-----+--------------------+--------------------+--------------------+----------+\n",
      "|label|            features|       rawPrediction|         probability|prediction|\n",
      "+-----+--------------------+--------------------+--------------------+----------+\n",
      "|  0.0|(8786,[0,6,306,87...|[-133.00964010522...|[0.99608505909534...|       0.0|\n",
      "|  0.0|(8786,[0,14,84,87...|[-119.27701652726...|[0.89907596148904...|       0.0|\n",
      "|  0.0|(8786,[0,20,647,8...|[-145.66312945080...|[0.08215241394413...|       3.0|\n",
      "|  0.0|(8786,[0,54,87,38...|[-190.37203731860...|[0.99999999999954...|       0.0|\n",
      "|  0.0|(8786,[0,66,2204,...|[-180.16328493820...|[4.36707716673711...|       3.0|\n",
      "+-----+--------------------+--------------------+--------------------+----------+\n",
      "only showing top 5 rows\n",
      "\n"
     ]
    }
   ],
   "source": [
    "# Fitting the Naive Bayes model 3\n",
    "Netflix_model = NB.fit(Netflix_train)\n",
    "Netflix_results = Netflix_model.transform(Netflix_test)\n",
    "Netflix_results.show(5)"
   ]
  },
  {
   "cell_type": "markdown",
   "id": "995c61f9",
   "metadata": {},
   "source": [
    "Model Evaluation"
   ]
  },
  {
   "cell_type": "code",
   "execution_count": 106,
   "id": "8fdd5b07",
   "metadata": {},
   "outputs": [
    {
     "name": "stdout",
     "output_type": "stream",
     "text": [
      "0.27992713411574566\n"
     ]
    }
   ],
   "source": [
    "# Evaluating NB model 3\n",
    "accuracy3 = accuracy_eval.evaluate(Netflix_results)\n",
    "print(accuracy3)"
   ]
  },
  {
   "cell_type": "markdown",
   "id": "2daef332",
   "metadata": {},
   "source": [
    "Running model on description column"
   ]
  },
  {
   "cell_type": "code",
   "execution_count": 107,
   "id": "69c394a1",
   "metadata": {},
   "outputs": [],
   "source": [
    "# Remove stopwords in tokenized Net_tokens column\n",
    "Netflix_remover2 = StopWordsRemover(inputCol='Net_tokens', outputCol='filtered_description')\n",
    "removed_Netflix = Netflix_remover2.transform(Netflix_removed)\n",
    "\n",
    "# Processing Netflix description column\n",
    "Netflix_cv2 = CountVectorizer(inputCol='filtered_description', outputCol='vec_description')\n",
    "Netflix_idf2 = IDF(inputCol='vec_description', outputCol='Netflix_tfidf2')\n",
    "Netflix_numeric2 = StringIndexer(inputCol='rating', outputCol='label')\n",
    "Netflix_Assembler2 = VectorAssembler(inputCols=['Netflix_tfidf2','title_length'], outputCol='features')"
   ]
  },
  {
   "cell_type": "code",
   "execution_count": 108,
   "id": "000d4cdc",
   "metadata": {},
   "outputs": [],
   "source": [
    "# Creaing data pipeline\n",
    "Netflix_pipeline2 = Pipeline(stages=[Netflix_numeric2, reg_tokenizer4, Netflix_remover2, Netflix_cv2, Netflix_idf2, Netflix_Assembler2]) "
   ]
  },
  {
   "cell_type": "code",
   "execution_count": 109,
   "id": "7eccb454",
   "metadata": {},
   "outputs": [],
   "source": [
    "Netflix_fit2 = Netflix_pipeline2.fit(Netflix4)\n",
    "Netflix_clean2 = Netflix_fit2.transform(Netflix4)\n",
    "Netflix_cleaned2 = Netflix_clean2.select('label', 'features')"
   ]
  },
  {
   "cell_type": "code",
   "execution_count": 110,
   "id": "cef0cf16",
   "metadata": {},
   "outputs": [],
   "source": [
    "# Splitting data into training and testing datasets \n",
    "Netflix_train2, Netflix_test2 = Netflix_cleaned2.randomSplit([0.7, 0.3])"
   ]
  },
  {
   "cell_type": "code",
   "execution_count": 111,
   "id": "8ccbf2fd",
   "metadata": {},
   "outputs": [
    {
     "name": "stdout",
     "output_type": "stream",
     "text": [
      "+-----+--------------------+--------------------+--------------------+----------+\n",
      "|label|            features|       rawPrediction|         probability|prediction|\n",
      "+-----+--------------------+--------------------+--------------------+----------+\n",
      "|  0.0|(18945,[0,1,2,8,1...|[-500.08243614814...|[0.99999999985188...|       0.0|\n",
      "|  0.0|(18945,[0,1,2,18,...|[-963.59648177771...|[2.16964423154668...|       1.0|\n",
      "|  0.0|(18945,[0,1,19,23...|[-741.98563489087...|[5.69095791750769...|       1.0|\n",
      "|  0.0|(18945,[0,2,7,29,...|[-666.41727468452...|[1.0,2.5928826361...|       0.0|\n",
      "|  0.0|(18945,[0,2,9,81,...|[-919.24359865525...|[8.60055443255628...|       1.0|\n",
      "+-----+--------------------+--------------------+--------------------+----------+\n",
      "only showing top 5 rows\n",
      "\n"
     ]
    }
   ],
   "source": [
    "# Fitting the Naive Bayes model 4\n",
    "Netflix_model2 = NB.fit(Netflix_train2)\n",
    "Netflix_results2 = Netflix_model2.transform(Netflix_test2)\n",
    "Netflix_results2.show(5)"
   ]
  },
  {
   "cell_type": "code",
   "execution_count": 112,
   "id": "60b49604",
   "metadata": {},
   "outputs": [
    {
     "name": "stdout",
     "output_type": "stream",
     "text": [
      "0.34025981924791665\n"
     ]
    }
   ],
   "source": [
    "# Evaluating NB model 3\n",
    "accuracy4 = accuracy_eval.evaluate(Netflix_results2)\n",
    "print(accuracy4)"
   ]
  }
 ],
 "metadata": {
  "kernelspec": {
   "display_name": "Python 3 (ipykernel)",
   "language": "python",
   "name": "python3"
  },
  "language_info": {
   "codemirror_mode": {
    "name": "ipython",
    "version": 3
   },
   "file_extension": ".py",
   "mimetype": "text/x-python",
   "name": "python",
   "nbconvert_exporter": "python",
   "pygments_lexer": "ipython3",
   "version": "3.8.7"
  }
 },
 "nbformat": 4,
 "nbformat_minor": 5
}
