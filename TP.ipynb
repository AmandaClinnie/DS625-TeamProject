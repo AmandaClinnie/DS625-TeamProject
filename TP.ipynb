{
 "cells": [
  {
   "cell_type": "code",
   "execution_count": 1,
   "id": "f8b8d720-4feb-40b7-a6cc-35b62ad6f421",
   "metadata": {},
   "outputs": [
    {
     "data": {
      "text/html": [
       "\n",
       "            <div>\n",
       "                <p><b>SparkSession - in-memory</b></p>\n",
       "                \n",
       "        <div>\n",
       "            <p><b>SparkContext</b></p>\n",
       "\n",
       "            <p><a href=\"http://CatDesktop:4041\">Spark UI</a></p>\n",
       "\n",
       "            <dl>\n",
       "              <dt>Version</dt>\n",
       "                <dd><code>v3.2.0</code></dd>\n",
       "              <dt>Master</dt>\n",
       "                <dd><code>local[*]</code></dd>\n",
       "              <dt>AppName</dt>\n",
       "                <dd><code>TP</code></dd>\n",
       "            </dl>\n",
       "        </div>\n",
       "        \n",
       "            </div>\n",
       "        "
      ],
      "text/plain": [
       "<pyspark.sql.session.SparkSession at 0x21ffa20ca90>"
      ]
     },
     "execution_count": 1,
     "metadata": {},
     "output_type": "execute_result"
    }
   ],
   "source": [
    "# Importing the necessary modules\n",
    "import findspark\n",
    "findspark.init()\n",
    "\n",
    "# Initialize a SparkSession\n",
    "from pyspark.sql import SparkSession\n",
    "\n",
    "# Creating SparkSession\n",
    "spark = SparkSession.builder.appName('TP').getOrCreate()\n",
    "\n",
    "# Calling the session variable object\n",
    "spark"
   ]
  },
  {
   "cell_type": "markdown",
   "id": "9349b33b",
   "metadata": {},
   "source": [
    "Loading data sets"
   ]
  },
  {
   "cell_type": "code",
   "execution_count": 2,
   "id": "d845c259-a3b7-46fe-a989-6392ad24c3ce",
   "metadata": {},
   "outputs": [],
   "source": [
    "netflix_url = \"https://raw.githubusercontent.com/AmandaClinnie/DS625-TeamProject/main/netflix_titles.csv\"\n",
    "disney_url = \"https://raw.githubusercontent.com/AmandaClinnie/DS625-TeamProject/main/disney_plus_titles.csv\"\n",
    "\n",
    "from pyspark import SparkFiles\n",
    "spark.sparkContext.addFile(netflix_url)\n",
    "spark.sparkContext.addFile(disney_url)\n",
    "\n",
    "netflix_df = spark.read.csv(\"file:///\"+SparkFiles.get(\"netflix_titles.csv\"), header=True, inferSchema= True)\n",
    "disney_df = spark.read.csv(\"file:///\"+SparkFiles.get(\"disney_plus_titles.csv\"), header=True, inferSchema= True)"
   ]
  },
  {
   "cell_type": "code",
   "execution_count": 3,
   "id": "78dd188a-306b-4a3e-b15a-75745ed1acd4",
   "metadata": {},
   "outputs": [
    {
     "name": "stdout",
     "output_type": "stream",
     "text": [
      "root\n",
      " |-- show_id: string (nullable = true)\n",
      " |-- type: string (nullable = true)\n",
      " |-- title: string (nullable = true)\n",
      " |-- director: string (nullable = true)\n",
      " |-- cast: string (nullable = true)\n",
      " |-- country: string (nullable = true)\n",
      " |-- date_added: string (nullable = true)\n",
      " |-- release_year: string (nullable = true)\n",
      " |-- rating: string (nullable = true)\n",
      " |-- duration: string (nullable = true)\n",
      " |-- listed_in: string (nullable = true)\n",
      " |-- description: string (nullable = true)\n",
      "\n",
      "root\n",
      " |-- show_id: string (nullable = true)\n",
      " |-- type: string (nullable = true)\n",
      " |-- title: string (nullable = true)\n",
      " |-- director: string (nullable = true)\n",
      " |-- cast: string (nullable = true)\n",
      " |-- country: string (nullable = true)\n",
      " |-- date_added: string (nullable = true)\n",
      " |-- release_year: string (nullable = true)\n",
      " |-- rating: string (nullable = true)\n",
      " |-- duration: string (nullable = true)\n",
      " |-- listed_in: string (nullable = true)\n",
      " |-- description: string (nullable = true)\n",
      "\n"
     ]
    }
   ],
   "source": [
    "netflix_df.printSchema()\n",
    "disney_df.printSchema()"
   ]
  },
  {
   "cell_type": "code",
   "execution_count": 4,
   "id": "5c6f6d42-d52d-4bc4-8294-4d981f36ca6f",
   "metadata": {},
   "outputs": [
    {
     "name": "stdout",
     "output_type": "stream",
     "text": [
      "+-------+-------+--------------------+---------------+--------------------+-------------+------------------+------------+------+---------+--------------------+--------------------+\n",
      "|show_id|   type|               title|       director|                cast|      country|        date_added|release_year|rating| duration|           listed_in|         description|\n",
      "+-------+-------+--------------------+---------------+--------------------+-------------+------------------+------------+------+---------+--------------------+--------------------+\n",
      "|     s1|  Movie|Dick Johnson Is Dead|Kirsten Johnson|                null|United States|September 25, 2021|        2020| PG-13|   90 min|       Documentaries|As her father nea...|\n",
      "|     s2|TV Show|       Blood & Water|           null|Ama Qamata, Khosi...| South Africa|September 24, 2021|        2021| TV-MA|2 Seasons|International TV ...|After crossing pa...|\n",
      "|     s3|TV Show|           Ganglands|Julien Leclercq|Sami Bouajila, Tr...|         null|September 24, 2021|        2021| TV-MA| 1 Season|Crime TV Shows, I...|To protect his fa...|\n",
      "+-------+-------+--------------------+---------------+--------------------+-------------+------------------+------------+------+---------+--------------------+--------------------+\n",
      "only showing top 3 rows\n",
      "\n",
      "+-------+-----+--------------------+--------------------+--------------------+-------------+-----------------+------------+------+--------+--------------------+--------------------+\n",
      "|show_id| type|               title|            director|                cast|      country|       date_added|release_year|rating|duration|           listed_in|         description|\n",
      "+-------+-----+--------------------+--------------------+--------------------+-------------+-----------------+------------+------+--------+--------------------+--------------------+\n",
      "|     s1|Movie|Duck the Halls: A...|Alonso Ramirez Ra...|Chris Diamantopou...|         null|November 26, 2021|        2016|  TV-G|  23 min|   Animation, Family|Join Mickey and t...|\n",
      "|     s2|Movie|Ernest Saves Chri...|         John Cherry|Jim Varney, Noell...|         null|November 26, 2021|        1988|    PG|  91 min|              Comedy|Santa Claus passe...|\n",
      "|     s3|Movie|Ice Age: A Mammot...|        Karen Disher|Raymond Albert Ro...|United States|November 26, 2021|        2011|  TV-G|  23 min|Animation, Comedy...|Sid the Sloth is ...|\n",
      "+-------+-----+--------------------+--------------------+--------------------+-------------+-----------------+------------+------+--------+--------------------+--------------------+\n",
      "only showing top 3 rows\n",
      "\n"
     ]
    }
   ],
   "source": [
    "netflix_df.show(3)\n",
    "disney_df.show(3)"
   ]
  },
  {
   "cell_type": "code",
   "execution_count": 5,
   "id": "8c67cbed-ccc5-40a7-8cd6-1c1c86127cc0",
   "metadata": {},
   "outputs": [],
   "source": [
    "netflix_df.createOrReplaceTempView(\"Netflix\")\n",
    "disney_df.createOrReplaceTempView(\"Disney\")"
   ]
  },
  {
   "cell_type": "markdown",
   "id": "4a967c24",
   "metadata": {},
   "source": [
    "# Data Cleaning"
   ]
  },
  {
   "cell_type": "code",
   "execution_count": 6,
   "id": "049e914d-da12-4681-b99b-5290294b952f",
   "metadata": {},
   "outputs": [],
   "source": [
    "# remove (do not select) show_id and date_added columns\n",
    "# convert columns with multiple values to arrays\n",
    "netflix_clean = spark.sql(\"SELECT type, \\\n",
    "                  title, \\\n",
    "                  SPLIT(director, ',') AS director, \\\n",
    "                  SPLIT(cast, ',') AS cast, \\\n",
    "                  SPLIT(country, ',') AS country, \\\n",
    "                  release_year, \\\n",
    "                  rating, \\\n",
    "                  duration, \\\n",
    "                  SPLIT(listed_in, ',') AS listed_in, \\\n",
    "                  description \\\n",
    "                  FROM Netflix\")\n",
    "netflix_clean.createOrReplaceTempView(\"Netflix1\")\n",
    "\n",
    "disney_clean = spark.sql(\"SELECT type, \\\n",
    "                  title, \\\n",
    "                  SPLIT(director, ',') AS director, \\\n",
    "                  SPLIT(cast, ',') AS cast, \\\n",
    "                  SPLIT(country, ',') AS country, \\\n",
    "                  release_year, \\\n",
    "                  rating, \\\n",
    "                  duration, \\\n",
    "                  SPLIT(listed_in, ',') AS listed_in, \\\n",
    "                  description \\\n",
    "                  FROM Disney\")\n",
    "disney_clean.createOrReplaceTempView(\"Disney1\")"
   ]
  },
  {
   "cell_type": "code",
   "execution_count": 7,
   "id": "c0152fcf-7c38-4da6-ab44-c3f747bed655",
   "metadata": {},
   "outputs": [
    {
     "name": "stdout",
     "output_type": "stream",
     "text": [
      "+----------------+---------+---------+--------------------------------------------------------+-----------------------------------------------------+\n",
      "|title           |duration |duration |listed_in                                               |listed_in                                            |\n",
      "+----------------+---------+---------+--------------------------------------------------------+-----------------------------------------------------+\n",
      "|PJ Masks        |3 Seasons|5 Seasons|[Kids' TV]                                              |[Action-Adventure,  Animation,  Kids]                |\n",
      "|Once Upon a Time|1 Season |7 Seasons|[International TV Shows,  Romantic TV Shows,  TV Dramas]|[Action-Adventure,  Fantasy,  Soap Opera / Melodrama]|\n",
      "|Gigantosaurus   |1 Season |2 Seasons|[Kids' TV]                                              |[Action-Adventure,  Animation,  Kids]                |\n",
      "|Becoming        |89 min   |1 Season |[Documentaries]                                         |[Anthology,  Docuseries,  Family]                    |\n",
      "|Genius          |96 min   |86 min   |[Dramas,  Independent Movies,  International Movies]    |[Comedy,  Coming of Age]                             |\n",
      "+----------------+---------+---------+--------------------------------------------------------+-----------------------------------------------------+\n",
      "only showing top 5 rows\n",
      "\n"
     ]
    }
   ],
   "source": [
    "# test duration and listed_in columns to see if they vary between platforms\n",
    "overlap = spark.sql(\"SELECT Netflix1.title, Netflix1.duration, Disney1.duration,\\\n",
    "                     Netflix1.listed_in, Disney1.listed_in FROM Netflix1 \\\n",
    "                     INNER JOIN Disney1 ON Netflix1.title = Disney1.title\")\n",
    "overlap.show(5, truncate=False)\n",
    "# there is variation - worth keeping each dataset separate"
   ]
  },
  {
   "cell_type": "code",
   "execution_count": 8,
   "id": "2769df0a-2dbf-4cf4-8363-7aea61876ac0",
   "metadata": {},
   "outputs": [
    {
     "name": "stdout",
     "output_type": "stream",
     "text": [
      "+----------+\n",
      "|type_nulls|\n",
      "+----------+\n",
      "|         1|\n",
      "+----------+\n",
      "\n",
      "+-----------+\n",
      "|title_nulls|\n",
      "+-----------+\n",
      "|          2|\n",
      "+-----------+\n",
      "\n",
      "+--------------+\n",
      "|director_nulls|\n",
      "+--------------+\n",
      "|          2636|\n",
      "+--------------+\n",
      "\n",
      "+----------+\n",
      "|cast_nulls|\n",
      "+----------+\n",
      "|       826|\n",
      "+----------+\n",
      "\n",
      "+-------------+\n",
      "|country_nulls|\n",
      "+-------------+\n",
      "|          832|\n",
      "+-------------+\n",
      "\n",
      "+------------------+\n",
      "|release_year_nulls|\n",
      "+------------------+\n",
      "|                 2|\n",
      "+------------------+\n",
      "\n",
      "+------------+\n",
      "|rating_nulls|\n",
      "+------------+\n",
      "|           6|\n",
      "+------------+\n",
      "\n",
      "+--------------+\n",
      "|duration_nulls|\n",
      "+--------------+\n",
      "|             5|\n",
      "+--------------+\n",
      "\n",
      "+---------------+\n",
      "|listed_in_nulls|\n",
      "+---------------+\n",
      "|              3|\n",
      "+---------------+\n",
      "\n",
      "+-----------------+\n",
      "|desctiption_nulls|\n",
      "+-----------------+\n",
      "|                3|\n",
      "+-----------------+\n",
      "\n"
     ]
    }
   ],
   "source": [
    "netflix_nulls = spark.sql(\"SELECT COUNT (*) AS type_nulls FROM Netflix1 WHERE type IS NULL\")\n",
    "netflix_nulls.show()\n",
    "\n",
    "netflix_nulls = spark.sql(\"SELECT COUNT (*) AS title_nulls FROM Netflix1 WHERE title IS NULL\")\n",
    "netflix_nulls.show()\n",
    "\n",
    "netflix_nulls = spark.sql(\"SELECT COUNT (*) AS director_nulls FROM Netflix1 WHERE director IS NULL\")\n",
    "netflix_nulls.show()\n",
    "\n",
    "netflix_nulls = spark.sql(\"SELECT COUNT (*) AS cast_nulls FROM Netflix1 WHERE cast IS NULL\")\n",
    "netflix_nulls.show()\n",
    "\n",
    "netflix_nulls = spark.sql(\"SELECT COUNT (*) AS country_nulls FROM Netflix1 WHERE country IS NULL\")\n",
    "netflix_nulls.show()\n",
    "\n",
    "netflix_nulls = spark.sql(\"SELECT COUNT (*) AS release_year_nulls FROM Netflix1 WHERE release_year IS NULL\")\n",
    "netflix_nulls.show()\n",
    "\n",
    "netflix_nulls = spark.sql(\"SELECT COUNT (*) AS rating_nulls FROM Netflix1 WHERE rating IS NULL\")\n",
    "netflix_nulls.show()\n",
    "\n",
    "netflix_nulls = spark.sql(\"SELECT COUNT (*) AS duration_nulls FROM Netflix1 WHERE duration IS NULL\")\n",
    "netflix_nulls.show()\n",
    "\n",
    "netflix_nulls = spark.sql(\"SELECT COUNT (*) AS listed_in_nulls FROM Netflix1 WHERE listed_in IS NULL\")\n",
    "netflix_nulls.show()\n",
    "\n",
    "netflix_nulls = spark.sql(\"SELECT COUNT (*) AS desctiption_nulls FROM Netflix1 WHERE description IS NULL\")\n",
    "netflix_nulls.show()"
   ]
  },
  {
   "cell_type": "code",
   "execution_count": 9,
   "id": "f073564e-92e1-4acd-87e3-980b10591238",
   "metadata": {},
   "outputs": [],
   "source": [
    "# remove rows for columns having <10 null values\n",
    "# director, cast & country columns not as important to be NOT NULL/\n",
    "#  can be dealt with later\n",
    "netflix_clean_nulls = spark.sql(\"SELECT type, \\\n",
    "                  title, \\\n",
    "                  director, \\\n",
    "                  cast, \\\n",
    "                  country, \\\n",
    "                  release_year, \\\n",
    "                  rating, \\\n",
    "                  duration, \\\n",
    "                  listed_in, \\\n",
    "                  description \\\n",
    "                  FROM Netflix1 \\\n",
    "                  WHERE type IS NOT NULL AND \\\n",
    "                  title IS NOT NULL AND \\\n",
    "                  release_year IS NOT NULL AND \\\n",
    "                  rating IS NOT NULL AND \\\n",
    "                  duration IS NOT NULL AND \\\n",
    "                  listed_in IS NOT NULL AND \\\n",
    "                  description IS NOT NULL\")\n",
    "netflix_clean_nulls.createOrReplaceTempView(\"Netflix2\")"
   ]
  },
  {
   "cell_type": "code",
   "execution_count": 10,
   "id": "0514f349-3e36-48da-9a16-60d2628641f0",
   "metadata": {},
   "outputs": [
    {
     "name": "stdout",
     "output_type": "stream",
     "text": [
      "+----------+\n",
      "|type_nulls|\n",
      "+----------+\n",
      "|         0|\n",
      "+----------+\n",
      "\n",
      "+-----------+\n",
      "|title_nulls|\n",
      "+-----------+\n",
      "|          0|\n",
      "+-----------+\n",
      "\n",
      "+--------------+\n",
      "|director_nulls|\n",
      "+--------------+\n",
      "|           473|\n",
      "+--------------+\n",
      "\n",
      "+----------+\n",
      "|cast_nulls|\n",
      "+----------+\n",
      "|       190|\n",
      "+----------+\n",
      "\n",
      "+-------------+\n",
      "|country_nulls|\n",
      "+-------------+\n",
      "|          218|\n",
      "+-------------+\n",
      "\n",
      "+------------------+\n",
      "|release_year_nulls|\n",
      "+------------------+\n",
      "|                 0|\n",
      "+------------------+\n",
      "\n",
      "+------------+\n",
      "|rating_nulls|\n",
      "+------------+\n",
      "|           3|\n",
      "+------------+\n",
      "\n",
      "+--------------+\n",
      "|duration_nulls|\n",
      "+--------------+\n",
      "|             0|\n",
      "+--------------+\n",
      "\n",
      "+---------------+\n",
      "|listed_in_nulls|\n",
      "+---------------+\n",
      "|              1|\n",
      "+---------------+\n",
      "\n",
      "+-----------------+\n",
      "|desctiption_nulls|\n",
      "+-----------------+\n",
      "|                0|\n",
      "+-----------------+\n",
      "\n"
     ]
    }
   ],
   "source": [
    "disney_nulls = spark.sql(\"SELECT COUNT (*) AS type_nulls FROM Disney1 WHERE type IS NULL\")\n",
    "disney_nulls.show()\n",
    "\n",
    "disney_nulls = spark.sql(\"SELECT COUNT (*) AS title_nulls FROM Disney1 WHERE title IS NULL\")\n",
    "disney_nulls.show()\n",
    "\n",
    "disney_nulls = spark.sql(\"SELECT COUNT (*) AS director_nulls FROM Disney1 WHERE director IS NULL\")\n",
    "disney_nulls.show()\n",
    "\n",
    "disney_nulls = spark.sql(\"SELECT COUNT (*) AS cast_nulls FROM Disney1 WHERE cast IS NULL\")\n",
    "disney_nulls.show()\n",
    "\n",
    "disney_nulls = spark.sql(\"SELECT COUNT (*) AS country_nulls FROM Disney1 WHERE country IS NULL\")\n",
    "disney_nulls.show()\n",
    "\n",
    "disney_nulls = spark.sql(\"SELECT COUNT (*) AS release_year_nulls FROM Disney1 WHERE release_year IS NULL\")\n",
    "disney_nulls.show()\n",
    "\n",
    "disney_nulls = spark.sql(\"SELECT COUNT (*) AS rating_nulls FROM Disney1 WHERE rating IS NULL\")\n",
    "disney_nulls.show()\n",
    "\n",
    "disney_nulls = spark.sql(\"SELECT COUNT (*) AS duration_nulls FROM Disney1 WHERE duration IS NULL\")\n",
    "disney_nulls.show()\n",
    "\n",
    "disney_nulls = spark.sql(\"SELECT COUNT (*) AS listed_in_nulls FROM Disney1 WHERE listed_in IS NULL\")\n",
    "disney_nulls.show()\n",
    "\n",
    "disney_nulls = spark.sql(\"SELECT COUNT (*) AS desctiption_nulls FROM Disney1 WHERE description IS NULL\")\n",
    "disney_nulls.show()"
   ]
  },
  {
   "cell_type": "code",
   "execution_count": 11,
   "id": "a597bf44-bc88-47be-b643-1b028a744d99",
   "metadata": {},
   "outputs": [],
   "source": [
    "# remove rows for columns having <10 null values\n",
    "# director, cast & country columns not as important to be NOT NULL/\n",
    "#  can be dealt with later\n",
    "disney_clean_nulls = spark.sql(\"SELECT type, \\\n",
    "                  title, \\\n",
    "                  director, \\\n",
    "                  cast, \\\n",
    "                  country, \\\n",
    "                  release_year, \\\n",
    "                  rating, \\\n",
    "                  duration, \\\n",
    "                  listed_in, \\\n",
    "                  description \\\n",
    "                  FROM Disney1 \\\n",
    "                  WHERE rating IS NOT NULL AND \\\n",
    "                  listed_in IS NOT NULL\")\n",
    "disney_clean_nulls.createOrReplaceTempView(\"Disney2\")"
   ]
  },
  {
   "cell_type": "markdown",
   "id": "d32f0ecf-9695-4b2b-b970-e37f119c10e5",
   "metadata": {},
   "source": [
    "NETFLIX table: Netflix2\n",
    "\n",
    "DISNEY table: Disney2"
   ]
  },
  {
   "cell_type": "code",
   "execution_count": 12,
   "id": "c25f192f-4060-444f-9aa6-8093cdc247a9",
   "metadata": {},
   "outputs": [
    {
     "name": "stdout",
     "output_type": "stream",
     "text": [
      "+--------+\n",
      "|count(1)|\n",
      "+--------+\n",
      "|    8799|\n",
      "+--------+\n",
      "\n",
      "+--------+\n",
      "|count(1)|\n",
      "+--------+\n",
      "|    1446|\n",
      "+--------+\n",
      "\n"
     ]
    }
   ],
   "source": [
    "# table counts\n",
    "spark.sql(\"SELECT COUNT (*) FROM Netflix2\").show()\n",
    "spark.sql(\"SELECT COUNT (*) FROM Disney2\").show()"
   ]
  },
  {
   "cell_type": "markdown",
   "id": "904129e9",
   "metadata": {},
   "source": [
    "# Data Exploration and Analysis"
   ]
  },
  {
   "cell_type": "code",
   "execution_count": 13,
   "id": "c4c3d883",
   "metadata": {},
   "outputs": [
    {
     "name": "stdout",
     "output_type": "stream",
     "text": [
      "+-------+--------------------+--------------------+--------------------+--------------------+------------+------+----------+--------------------+--------------------+\n",
      "|   type|               title|            director|                cast|             country|release_year|rating|  duration|           listed_in|         description|\n",
      "+-------+--------------------+--------------------+--------------------+--------------------+------------+------+----------+--------------------+--------------------+\n",
      "|  Movie|Duck the Halls: A...|[Alonso Ramirez R...|[Chris Diamantopo...|                null|        2016|  TV-G|    23 min|[Animation,  Family]|Join Mickey and t...|\n",
      "|  Movie|Ernest Saves Chri...|       [John Cherry]|[Jim Varney,  Noe...|                null|        1988|    PG|    91 min|            [Comedy]|Santa Claus passe...|\n",
      "|  Movie|Ice Age: A Mammot...|      [Karen Disher]|[Raymond Albert R...|     [United States]|        2011|  TV-G|    23 min|[Animation,  Come...|Sid the Sloth is ...|\n",
      "|  Movie|The Queen Family ...|   [Hamish Hamilton]|[Darren Criss,  A...|                null|        2021| TV-PG|    41 min|           [Musical]|This is real life...|\n",
      "|  Movie|   Becoming Cousteau|        [Liz Garbus]|[Jacques Yves Cou...|     [United States]|        2021| PG-13|    94 min|[Biographical,  D...|An inside look at...|\n",
      "|TV Show|             Hawkeye|                null|[Jeremy Renner,  ...|                null|        2021| TV-14|  1 Season|[Action-Adventure...|Clint Barton/Hawk...|\n",
      "|TV Show|Port Protection A...|                null|[Gary Muehlberger...|     [United States]|        2015| TV-14| 2 Seasons|[Docuseries,  Rea...|Residents of Port...|\n",
      "|TV Show|Secrets of the Zo...|                null|[Dr. Ray Ball,  D...|     [United States]|        2019| TV-PG| 2 Seasons|[Animals & Nature...|A day in the life...|\n",
      "|  Movie|A Muppets Christm...|  [Kirk R. Thatcher]|[Steve Whitmire, ...|     [United States]|        2008|     G|    45 min|[Comedy,  Family,...|Celebrate the hol...|\n",
      "|  Movie|Adventure Thru th...|        [John Gleim]|[Don Hahn,  Kathr...|                null|        2020| TV-PG|    59 min|       [Documentary]|Explore the treas...|\n",
      "|  Movie|  Puppy for Hanukkah|                null|                null|                null|        2020|  TV-G|     4 min|[Comedy,  Family,...|\"Check out Daveed...|\n",
      "|  Movie|     The Pixar Story|     [Leslie Iwerks]|[Stacy Keach,  Jo...|     [United States]|        2007|     G|    91 min|[Documentary,  Fa...|A groundbreaking ...|\n",
      "|TV Show|Dr. Oakley, Yukon...|                null|[Dr. Michelle Oak...|     [United States]|        2013| TV-PG|10 Seasons|[Action-Adventure...|Meet Dr. Michelle...|\n",
      "|  Movie|America the Beaut...|                null| [Michael B. Jordan]|                null|        2021| TV-PG|     2 min|  [Animals & Nature]|Epic, grand portr...|\n",
      "|  Movie|             Baymax!|                null|                null|                null|        2021|  TV-G|     1 min|         [Animation]|“Baymax!” premier...|\n",
      "|  Movie|        Ciao Alberto|    [McKenna Harris]|[Jack Dylan Graze...|                null|        2021| TV-PG|     8 min|[Animation,  Come...|Fun-loving sea mo...|\n",
      "|TV Show|  Disney Fancy Nancy|                null|[Mia Jenness,  Al...|[United States,  ...|        2018| TV-PG| 3 Seasons|  [Animation,  Kids]|Nancy makes every...|\n",
      "|TV Show|  Disney Intertwined|                null|[Carolina Domenec...|                null|        2021| TV-PG|  1 Season|[Comedy,  Coming ...|Allegra is ready ...|\n",
      "|  Movie|           Enchanted|        [Kevin Lima]|[Amy Adams,  Patr...|     [United States]|        2007|    PG|   110 min|[Comedy,  Family,...|An animated princ...|\n",
      "|  Movie|               Feast|   [Patrick Osborne]|[Stephen Apostoli...|     [United States]|        2014|     G|     8 min|[Animation,  Come...|One man's love li...|\n",
      "+-------+--------------------+--------------------+--------------------+--------------------+------------+------+----------+--------------------+--------------------+\n",
      "only showing top 20 rows\n",
      "\n"
     ]
    }
   ],
   "source": [
    "spark.sql(\"SELECT * FROM Disney2\").show()"
   ]
  },
  {
   "cell_type": "code",
   "execution_count": 14,
   "id": "df2d368b",
   "metadata": {},
   "outputs": [
    {
     "name": "stdout",
     "output_type": "stream",
     "text": [
      "+------------------------------+\n",
      "|Number_of_PG_Movies_On_Netflix|\n",
      "+------------------------------+\n",
      "|                           286|\n",
      "+------------------------------+\n",
      "\n",
      "+-----------------------------+\n",
      "|Number_of_PG_Movies_On_Disney|\n",
      "+-----------------------------+\n",
      "|                          234|\n",
      "+-----------------------------+\n",
      "\n"
     ]
    }
   ],
   "source": [
    "spark.sql(\"SELECT COUNT (*) AS Number_of_PG_Movies_On_Netflix FROM Netflix2 WHERE rating == 'PG' AND type == 'Movie'\").show()\n",
    "spark.sql(\"SELECT COUNT (*) AS Number_of_PG_Movies_On_Disney FROM Disney2 WHERE rating == 'PG'AND type == 'Movie'\").show()"
   ]
  },
  {
   "cell_type": "code",
   "execution_count": 15,
   "id": "1b997c4e",
   "metadata": {},
   "outputs": [
    {
     "name": "stdout",
     "output_type": "stream",
     "text": [
      "+-----------------+---------------------------+\n",
      "|           rating|Number_of_Movies_On_Netflix|\n",
      "+-----------------+---------------------------+\n",
      "|            TV-MA|                       2052|\n",
      "|            TV-14|                       1426|\n",
      "|                R|                        794|\n",
      "|            TV-PG|                        539|\n",
      "|            PG-13|                        489|\n",
      "|               PG|                        286|\n",
      "|            TV-Y7|                        139|\n",
      "|             TV-Y|                        131|\n",
      "|             TV-G|                        126|\n",
      "|               NR|                         75|\n",
      "|                G|                         41|\n",
      "|         TV-Y7-FV|                          5|\n",
      "|               UR|                          3|\n",
      "|            NC-17|                          3|\n",
      "|             2021|                          2|\n",
      "| November 1, 2020|                          1|\n",
      "| Shavidee Trotter|                          1|\n",
      "|    Maury Chaykin|                          1|\n",
      "|             2017|                          1|\n",
      "|             2019|                          1|\n",
      "+-----------------+---------------------------+\n",
      "only showing top 20 rows\n",
      "\n"
     ]
    }
   ],
   "source": [
    "mpaaNetflix = spark.sql(\"SELECT rating, COUNT (*) AS Number_of_Movies_On_Netflix FROM Netflix2 WHERE type == 'Movie' GROUP BY rating ORDER BY Number_of_Movies_On_Netflix DESC\")\n",
    "\n",
    "mpaaNetflix.show()"
   ]
  },
  {
   "cell_type": "code",
   "execution_count": 16,
   "id": "48dff87f",
   "metadata": {},
   "outputs": [
    {
     "name": "stdout",
     "output_type": "stream",
     "text": [
      "+--------------------+--------+\n",
      "|               title|duration|\n",
      "+--------------------+--------+\n",
      "|Duck the Halls: A...|  23 min|\n",
      "|Ernest Saves Chri...|  91 min|\n",
      "|Ice Age: A Mammot...|  23 min|\n",
      "|The Queen Family ...|  41 min|\n",
      "|   Becoming Cousteau|  94 min|\n",
      "|A Muppets Christm...|  45 min|\n",
      "|Adventure Thru th...|  59 min|\n",
      "|  Puppy for Hanukkah|   4 min|\n",
      "|     The Pixar Story|  91 min|\n",
      "|America the Beaut...|   2 min|\n",
      "|             Baymax!|   1 min|\n",
      "|        Ciao Alberto|   8 min|\n",
      "|           Enchanted| 110 min|\n",
      "|               Feast|   8 min|\n",
      "|        Frozen Fever|  11 min|\n",
      "|        Get a Horse!|   7 min|\n",
      "|Home Sweet Home A...|  95 min|\n",
      "|       Jungle Cruise| 129 min|\n",
      "|Limitless with Ch...|   2 min|\n",
      "|Marvel Studios’ 2...|  14 min|\n",
      "+--------------------+--------+\n",
      "only showing top 20 rows\n",
      "\n"
     ]
    }
   ],
   "source": [
    "Disney_Movies = spark.sql(\"SELECT title, duration FROM Disney2 WHERE type == 'Movie'\")\n",
    "\n",
    "Disney_Movies.show()"
   ]
  },
  {
   "cell_type": "code",
   "execution_count": 17,
   "id": "7afe9112",
   "metadata": {},
   "outputs": [],
   "source": [
    "from pyspark.sql.functions import col, concat_ws"
   ]
  },
  {
   "cell_type": "code",
   "execution_count": 18,
   "id": "cf0c1759",
   "metadata": {},
   "outputs": [],
   "source": [
    "disneyEDA = disney_clean_nulls"
   ]
  },
  {
   "cell_type": "code",
   "execution_count": 19,
   "id": "5c26b795",
   "metadata": {},
   "outputs": [
    {
     "name": "stdout",
     "output_type": "stream",
     "text": [
      "root\n",
      " |-- type: string (nullable = true)\n",
      " |-- title: string (nullable = true)\n",
      " |-- director: string (nullable = false)\n",
      " |-- cast: string (nullable = false)\n",
      " |-- country: string (nullable = false)\n",
      " |-- release_year: string (nullable = true)\n",
      " |-- rating: string (nullable = true)\n",
      " |-- duration: string (nullable = true)\n",
      " |-- listed_in: string (nullable = false)\n",
      " |-- description: string (nullable = true)\n",
      "\n"
     ]
    }
   ],
   "source": [
    "disneyEDA = disneyEDA.withColumn(\"director\", concat_ws(\",\", col(\"director\")))\n",
    "disneyEDA = disneyEDA.withColumn(\"cast\", concat_ws(\",\", col(\"cast\")))\n",
    "disneyEDA = disneyEDA.withColumn(\"country\", concat_ws(\",\", col(\"country\")))\n",
    "disneyEDA = disneyEDA.withColumn(\"listed_in\", concat_ws(\",\", col(\"listed_in\")))\n",
    "disneyEDA.printSchema()\n",
    "\n",
    "disneyEDA.createOrReplaceTempView(\"DisneyEDA\")"
   ]
  },
  {
   "cell_type": "code",
   "execution_count": 20,
   "id": "cf674ce5",
   "metadata": {},
   "outputs": [
    {
     "name": "stdout",
     "output_type": "stream",
     "text": [
      "+-------+--------------------+--------------------+--------------------+--------------------+------------+------+----------+--------------------+--------------------+\n",
      "|   type|               title|            director|                cast|             country|release_year|rating|  duration|           listed_in|         description|\n",
      "+-------+--------------------+--------------------+--------------------+--------------------+------------+------+----------+--------------------+--------------------+\n",
      "|  Movie|Duck the Halls: A...|Alonso Ramirez Ra...|Chris Diamantopou...|                    |        2016|  TV-G|    23 min|   Animation, Family|Join Mickey and t...|\n",
      "|  Movie|Ernest Saves Chri...|         John Cherry|Jim Varney, Noell...|                    |        1988|    PG|    91 min|              Comedy|Santa Claus passe...|\n",
      "|  Movie|Ice Age: A Mammot...|        Karen Disher|Raymond Albert Ro...|       United States|        2011|  TV-G|    23 min|Animation, Comedy...|Sid the Sloth is ...|\n",
      "|  Movie|The Queen Family ...|     Hamish Hamilton|Darren Criss, Ada...|                    |        2021| TV-PG|    41 min|             Musical|This is real life...|\n",
      "|  Movie|   Becoming Cousteau|          Liz Garbus|Jacques Yves Cous...|       United States|        2021| PG-13|    94 min|Biographical, Doc...|An inside look at...|\n",
      "|TV Show|             Hawkeye|                    |Jeremy Renner, Ha...|                    |        2021| TV-14|  1 Season|Action-Adventure,...|Clint Barton/Hawk...|\n",
      "|TV Show|Port Protection A...|                    |Gary Muehlberger,...|       United States|        2015| TV-14| 2 Seasons|Docuseries, Reali...|Residents of Port...|\n",
      "|TV Show|Secrets of the Zo...|                    |Dr. Ray Ball, Dr....|       United States|        2019| TV-PG| 2 Seasons|Animals & Nature,...|A day in the life...|\n",
      "|  Movie|A Muppets Christm...|    Kirk R. Thatcher|Steve Whitmire, D...|       United States|        2008|     G|    45 min|Comedy, Family, M...|Celebrate the hol...|\n",
      "|  Movie|Adventure Thru th...|          John Gleim|Don Hahn, Kathryn...|                    |        2020| TV-PG|    59 min|         Documentary|Explore the treas...|\n",
      "|  Movie|  Puppy for Hanukkah|                    |                    |                    |        2020|  TV-G|     4 min|Comedy, Family, M...|\"Check out Daveed...|\n",
      "|  Movie|     The Pixar Story|       Leslie Iwerks|Stacy Keach, John...|       United States|        2007|     G|    91 min| Documentary, Family|A groundbreaking ...|\n",
      "|TV Show|Dr. Oakley, Yukon...|                    |Dr. Michelle Oakl...|       United States|        2013| TV-PG|10 Seasons|Action-Adventure,...|Meet Dr. Michelle...|\n",
      "|  Movie|America the Beaut...|                    |   Michael B. Jordan|                    |        2021| TV-PG|     2 min|    Animals & Nature|Epic, grand portr...|\n",
      "|  Movie|             Baymax!|                    |                    |                    |        2021|  TV-G|     1 min|           Animation|“Baymax!” premier...|\n",
      "|  Movie|        Ciao Alberto|      McKenna Harris|Jack Dylan Grazer...|                    |        2021| TV-PG|     8 min|Animation, Comedy...|Fun-loving sea mo...|\n",
      "|TV Show|  Disney Fancy Nancy|                    |Mia Jenness, Alys...|United States, Ca...|        2018| TV-PG| 3 Seasons|     Animation, Kids|Nancy makes every...|\n",
      "|TV Show|  Disney Intertwined|                    |Carolina Domenech...|                    |        2021| TV-PG|  1 Season|Comedy, Coming of...|Allegra is ready ...|\n",
      "|  Movie|           Enchanted|          Kevin Lima|Amy Adams, Patric...|       United States|        2007|    PG|   110 min|Comedy, Family, F...|An animated princ...|\n",
      "|  Movie|               Feast|     Patrick Osborne|Stephen Apostolin...|       United States|        2014|     G|     8 min|Animation, Comedy...|One man's love li...|\n",
      "+-------+--------------------+--------------------+--------------------+--------------------+------------+------+----------+--------------------+--------------------+\n",
      "only showing top 20 rows\n",
      "\n"
     ]
    }
   ],
   "source": [
    "spark.sql(\"SELECT * FROM DisneyEDA\").show()"
   ]
  },
  {
   "cell_type": "code",
   "execution_count": 21,
   "id": "959c4ab0",
   "metadata": {},
   "outputs": [
    {
     "name": "stdout",
     "output_type": "stream",
     "text": [
      "+-----+--------------------+-----------+--------------------+-------+------------+------+--------+---------+--------------------+\n",
      "| type|               title|   director|                cast|country|release_year|rating|duration|listed_in|         description|\n",
      "+-----+--------------------+-----------+--------------------+-------+------------+------+--------+---------+--------------------+\n",
      "|Movie|Ernest Saves Chri...|John Cherry|Jim Varney, Noell...|       |        1988|    PG|  91 min|   Comedy|Santa Claus passe...|\n",
      "+-----+--------------------+-----------+--------------------+-------+------------+------+--------+---------+--------------------+\n",
      "\n"
     ]
    }
   ],
   "source": [
    "disneyEDA.where(col(\"director\") == \"John Cherry\").show()"
   ]
  },
  {
   "cell_type": "code",
   "execution_count": 22,
   "id": "5a0f9786",
   "metadata": {},
   "outputs": [
    {
     "name": "stdout",
     "output_type": "stream",
     "text": [
      "+-----------------+--------------------------+\n",
      "|           rating|Number_of_Movies_On_Disney|\n",
      "+-----------------+--------------------------+\n",
      "|                G|                       253|\n",
      "|               PG|                       234|\n",
      "|             TV-G|                       233|\n",
      "|            TV-PG|                       181|\n",
      "|            PG-13|                        66|\n",
      "|            TV-14|                        37|\n",
      "|            TV-Y7|                        36|\n",
      "|         TV-Y7-FV|                         6|\n",
      "|             TV-Y|                         3|\n",
      "|December 25, 2020|                         1|\n",
      "+-----------------+--------------------------+\n",
      "\n"
     ]
    }
   ],
   "source": [
    "mpaaDisney = spark.sql(\"SELECT rating, COUNT (*) AS Number_of_Movies_On_Disney FROM Disney2 WHERE type == 'Movie' GROUP BY rating ORDER BY Number_of_Movies_On_Disney DESC\")\n",
    "\n",
    "mpaaDisney.show()"
   ]
  },
  {
   "cell_type": "code",
   "execution_count": 23,
   "id": "24cf6a41",
   "metadata": {},
   "outputs": [
    {
     "name": "stdout",
     "output_type": "stream",
     "text": [
      "+-------+--------------------+------------+--------------------+--------------------+------------+------+---------+---------+--------------------+\n",
      "|   type|               title|    director|                cast|             country|release_year|rating| duration|listed_in|         description|\n",
      "+-------+--------------------+------------+--------------------+--------------------+------------+------+---------+---------+--------------------+\n",
      "|  Movie|Ernest Saves Chri...| John Cherry|Jim Varney, Noell...|                    |        1988|    PG|   91 min|   Comedy|Santa Claus passe...|\n",
      "|  Movie|Just Roll With It...|            |Tobie Windham, Su...|                    |        2019|     G|   52 min|   Comedy|The Bennett-Blatt...|\n",
      "|  Movie|Far Away From Rav...|            |Raven-Symoné, Iss...|                    |        2021|  TV-G|   11 min|   Comedy|Our gang is off f...|\n",
      "|TV Show|  Wander Over Yonder|            |Jack McBrayer, Ap...|United States, Ca...|        2013| TV-Y7|2 Seasons|   Comedy|Best friends trav...|\n",
      "|TV Show|   Pickle and Peanut|            |Johnny Pemberton,...|       United States|        2015| TV-Y7|2 Seasons|   Comedy|The freewheeling ...|\n",
      "|  Movie|           You Again|Andy Fickman|Kristen Bell, Sig...|       United States|        2010|    PG|  106 min|   Comedy|An unlikely reuni...|\n",
      "|  Movie|        Big Business|Jim Abrahams|Bette Midler, Lil...|       United States|        1988|    PG|   98 min|   Comedy|Two sets of ident...|\n",
      "|TV Show|The Muppets (Series)|            |Bill Barretta, Da...|       United States|        2015| TV-PG| 1 Season|   Comedy|\"\"\"The Muppets\"\" ...|\n",
      "+-------+--------------------+------------+--------------------+--------------------+------------+------+---------+---------+--------------------+\n",
      "\n"
     ]
    }
   ],
   "source": [
    "disneyEDA.where(col(\"listed_in\") == \"Comedy\").show()"
   ]
  },
  {
   "cell_type": "code",
   "execution_count": 24,
   "id": "ef6547fe",
   "metadata": {},
   "outputs": [],
   "source": [
    "#spark.sql(\"SELECT listed_in, COUNT (*) AS Numbers_per_Genre FROM DisneyEDA WHERE type == 'Movie' GROUP BY rating ORDER BY Number_of_Movies_On_Disney DESC\").show()"
   ]
  },
  {
   "cell_type": "code",
   "execution_count": 25,
   "id": "2dae9b6f",
   "metadata": {},
   "outputs": [],
   "source": [
    "#Future iterations will have this query working so that we can search the 'listed_in' array for the total count of different types of genres per platform. \n",
    "\n",
    "#Cat_Disney = spark.sql(\"SELECT ARRAY_TO_STRING(listed_in, ', ') AS String_Categories FROM Disney2\")"
   ]
  },
  {
   "cell_type": "code",
   "execution_count": 26,
   "id": "e897a1ff",
   "metadata": {},
   "outputs": [
    {
     "name": "stdout",
     "output_type": "stream",
     "text": [
      "root\n",
      " |-- type: string (nullable = true)\n",
      " |-- title: string (nullable = true)\n",
      " |-- director: array (nullable = true)\n",
      " |    |-- element: string (containsNull = true)\n",
      " |-- cast: array (nullable = true)\n",
      " |    |-- element: string (containsNull = true)\n",
      " |-- country: array (nullable = true)\n",
      " |    |-- element: string (containsNull = true)\n",
      " |-- release_year: string (nullable = true)\n",
      " |-- rating: string (nullable = true)\n",
      " |-- duration: string (nullable = true)\n",
      " |-- listed_in: array (nullable = true)\n",
      " |    |-- element: string (containsNull = true)\n",
      " |-- description: string (nullable = true)\n",
      "\n"
     ]
    }
   ],
   "source": [
    "netflixEDA = netflix_clean_nulls\n",
    "netflixEDA.printSchema()"
   ]
  },
  {
   "cell_type": "code",
   "execution_count": 27,
   "id": "2e8988b9",
   "metadata": {},
   "outputs": [
    {
     "name": "stdout",
     "output_type": "stream",
     "text": [
      "root\n",
      " |-- type: string (nullable = true)\n",
      " |-- title: string (nullable = true)\n",
      " |-- director: string (nullable = false)\n",
      " |-- cast: string (nullable = false)\n",
      " |-- country: string (nullable = false)\n",
      " |-- release_year: string (nullable = true)\n",
      " |-- rating: string (nullable = true)\n",
      " |-- duration: string (nullable = true)\n",
      " |-- listed_in: string (nullable = false)\n",
      " |-- description: string (nullable = true)\n",
      "\n"
     ]
    }
   ],
   "source": [
    "# Converting list to Strings\n",
    "netflixEDA = netflixEDA.withColumn(\"director\", concat_ws(\",\", col(\"director\")))\n",
    "netflixEDA = netflixEDA.withColumn(\"cast\", concat_ws(\",\", col(\"cast\")))\n",
    "netflixEDA = netflixEDA.withColumn(\"country\", concat_ws(\",\", col(\"country\")))\n",
    "netflixEDA = netflixEDA.withColumn(\"listed_in\", concat_ws(\",\", col(\"listed_in\")))\n",
    "netflixEDA.printSchema()"
   ]
  },
  {
   "cell_type": "markdown",
   "id": "3f939e5b",
   "metadata": {},
   "source": [
    "# Machine Learning"
   ]
  },
  {
   "cell_type": "code",
   "execution_count": 28,
   "id": "bb9f3faa-d975-4edf-afc4-326b22157f0c",
   "metadata": {},
   "outputs": [],
   "source": [
    "# Importing necessary modules\n",
    "\n",
    "from pyspark.ml.feature import (CountVectorizer, RegexTokenizer, StopWordsRemover, IDF, StringIndexer, VectorAssembler)\n",
    "from pyspark.ml import Pipeline\n",
    "from pyspark.ml.classification import NaiveBayes\n",
    "from pyspark.ml.evaluation import MulticlassClassificationEvaluator\n",
    "from pyspark.sql.functions import col"
   ]
  },
  {
   "cell_type": "markdown",
   "id": "1cb58ff2",
   "metadata": {},
   "source": [
    "# A. Disney Data"
   ]
  },
  {
   "cell_type": "code",
   "execution_count": 29,
   "id": "bca6d00b",
   "metadata": {},
   "outputs": [
    {
     "name": "stdout",
     "output_type": "stream",
     "text": [
      "+-------+--------------------+--------------------+--------------------+------+--------------------+--------------------+\n",
      "|   type|               title|            director|                cast|rating|           listed_in|         description|\n",
      "+-------+--------------------+--------------------+--------------------+------+--------------------+--------------------+\n",
      "|  Movie|Duck the Halls: A...|Alonso Ramirez Ra...|Chris Diamantopou...|  TV-G|   Animation, Family|Join Mickey and t...|\n",
      "|  Movie|Ernest Saves Chri...|         John Cherry|Jim Varney, Noell...|    PG|              Comedy|Santa Claus passe...|\n",
      "|  Movie|Ice Age: A Mammot...|        Karen Disher|Raymond Albert Ro...|  TV-G|Animation, Comedy...|Sid the Sloth is ...|\n",
      "|  Movie|The Queen Family ...|     Hamish Hamilton|Darren Criss, Ada...| TV-PG|             Musical|This is real life...|\n",
      "|  Movie|   Becoming Cousteau|          Liz Garbus|Jacques Yves Cous...| PG-13|Biographical, Doc...|An inside look at...|\n",
      "|TV Show|             Hawkeye|                    |Jeremy Renner, Ha...| TV-14|Action-Adventure,...|Clint Barton/Hawk...|\n",
      "|TV Show|Port Protection A...|                    |Gary Muehlberger,...| TV-14|Docuseries, Reali...|Residents of Port...|\n",
      "|TV Show|Secrets of the Zo...|                    |Dr. Ray Ball, Dr....| TV-PG|Animals & Nature,...|A day in the life...|\n",
      "|  Movie|A Muppets Christm...|    Kirk R. Thatcher|Steve Whitmire, D...|     G|Comedy, Family, M...|Celebrate the hol...|\n",
      "|  Movie|Adventure Thru th...|          John Gleim|Don Hahn, Kathryn...| TV-PG|         Documentary|Explore the treas...|\n",
      "|  Movie|  Puppy for Hanukkah|                    |                    |  TV-G|Comedy, Family, M...|\"Check out Daveed...|\n",
      "|  Movie|     The Pixar Story|       Leslie Iwerks|Stacy Keach, John...|     G| Documentary, Family|A groundbreaking ...|\n",
      "|TV Show|Dr. Oakley, Yukon...|                    |Dr. Michelle Oakl...| TV-PG|Action-Adventure,...|Meet Dr. Michelle...|\n",
      "|  Movie|America the Beaut...|                    |   Michael B. Jordan| TV-PG|    Animals & Nature|Epic, grand portr...|\n",
      "|  Movie|             Baymax!|                    |                    |  TV-G|           Animation|“Baymax!” premier...|\n",
      "|  Movie|        Ciao Alberto|      McKenna Harris|Jack Dylan Grazer...| TV-PG|Animation, Comedy...|Fun-loving sea mo...|\n",
      "|TV Show|  Disney Fancy Nancy|                    |Mia Jenness, Alys...| TV-PG|     Animation, Kids|Nancy makes every...|\n",
      "|TV Show|  Disney Intertwined|                    |Carolina Domenech...| TV-PG|Comedy, Coming of...|Allegra is ready ...|\n",
      "|  Movie|           Enchanted|          Kevin Lima|Amy Adams, Patric...|    PG|Comedy, Family, F...|An animated princ...|\n",
      "|  Movie|               Feast|     Patrick Osborne|Stephen Apostolin...|     G|Animation, Comedy...|One man's love li...|\n",
      "+-------+--------------------+--------------------+--------------------+------+--------------------+--------------------+\n",
      "only showing top 20 rows\n",
      "\n"
     ]
    }
   ],
   "source": [
    "# Selecting a subset of the Disney dataset \n",
    "DisneyML = disneyEDA.select(\"type\", \"title\", \"director\", \"cast\", \"rating\", \"listed_in\", \"description\")\n",
    "DisneyML.show()"
   ]
  },
  {
   "cell_type": "code",
   "execution_count": 30,
   "id": "f46babf6",
   "metadata": {},
   "outputs": [
    {
     "name": "stdout",
     "output_type": "stream",
     "text": [
      "+-----------------+\n",
      "|           rating|\n",
      "+-----------------+\n",
      "|             TV-Y|\n",
      "|December 25, 2020|\n",
      "|               PG|\n",
      "|    United States|\n",
      "|         TV-Y7-FV|\n",
      "|            TV-PG|\n",
      "|                G|\n",
      "|            TV-14|\n",
      "|             TV-G|\n",
      "|            TV-Y7|\n",
      "|            PG-13|\n",
      "+-----------------+\n",
      "\n"
     ]
    },
    {
     "data": {
      "text/plain": [
       "11"
      ]
     },
     "execution_count": 30,
     "metadata": {},
     "output_type": "execute_result"
    }
   ],
   "source": [
    "# Checking distinct elements from the rating feature and potentially use it as the label for NaiveBayes model\n",
    "DisneyML.select(\"rating\").distinct().show()\n",
    "DisneyML.select(\"rating\").distinct().count()"
   ]
  },
  {
   "cell_type": "markdown",
   "id": "033be1a7",
   "metadata": {},
   "source": [
    "# A.1 Model Building"
   ]
  },
  {
   "cell_type": "markdown",
   "id": "6cb230b7",
   "metadata": {},
   "source": [
    "a. Natural Language Processing"
   ]
  },
  {
   "cell_type": "code",
   "execution_count": 31,
   "id": "a3bcaa81",
   "metadata": {},
   "outputs": [
    {
     "name": "stdout",
     "output_type": "stream",
     "text": [
      "+-----+--------------------+--------------------+--------------------+------+--------------------+--------------------+------------+\n",
      "| type|               title|            director|                cast|rating|           listed_in|         description|title_length|\n",
      "+-----+--------------------+--------------------+--------------------+------+--------------------+--------------------+------------+\n",
      "|Movie|Duck the Halls: A...|Alonso Ramirez Ra...|Chris Diamantopou...|  TV-G|   Animation, Family|Join Mickey and t...|          48|\n",
      "|Movie|Ernest Saves Chri...|         John Cherry|Jim Varney, Noell...|    PG|              Comedy|Santa Claus passe...|          22|\n",
      "|Movie|Ice Age: A Mammot...|        Karen Disher|Raymond Albert Ro...|  TV-G|Animation, Comedy...|Sid the Sloth is ...|          28|\n",
      "+-----+--------------------+--------------------+--------------------+------+--------------------+--------------------+------------+\n",
      "only showing top 3 rows\n",
      "\n"
     ]
    }
   ],
   "source": [
    "from pyspark.sql.functions import length\n",
    "\n",
    "# Using title length for transforming features later on\n",
    "DisneyNLP = DisneyML.withColumn('title_length', length(DisneyML['title']))\n",
    "DisneyNLP.show(3)"
   ]
  },
  {
   "cell_type": "markdown",
   "id": "874433c5",
   "metadata": {},
   "source": [
    "Model 1: Using title and title word count as features and rating as label"
   ]
  },
  {
   "cell_type": "code",
   "execution_count": 32,
   "id": "63012f4b",
   "metadata": {},
   "outputs": [
    {
     "name": "stdout",
     "output_type": "stream",
     "text": [
      "+-----+--------------------+--------------------+--------------------+------+--------------------+--------------------+------------+--------------------+\n",
      "| type|               title|            director|                cast|rating|           listed_in|         description|title_length|      disney_t_words|\n",
      "+-----+--------------------+--------------------+--------------------+------+--------------------+--------------------+------------+--------------------+\n",
      "|Movie|Duck the Halls: A...|Alonso Ramirez Ra...|Chris Diamantopou...|  TV-G|   Animation, Family|Join Mickey and t...|          48|[duck, the, halls...|\n",
      "|Movie|Ernest Saves Chri...|         John Cherry|Jim Varney, Noell...|    PG|              Comedy|Santa Claus passe...|          22|[ernest, saves, c...|\n",
      "|Movie|Ice Age: A Mammot...|        Karen Disher|Raymond Albert Ro...|  TV-G|Animation, Comedy...|Sid the Sloth is ...|          28|[ice, age, a, mam...|\n",
      "|Movie|The Queen Family ...|     Hamish Hamilton|Darren Criss, Ada...| TV-PG|             Musical|This is real life...|          26|[the, queen, fami...|\n",
      "|Movie|   Becoming Cousteau|          Liz Garbus|Jacques Yves Cous...| PG-13|Biographical, Doc...|An inside look at...|          17|[becoming, cousteau]|\n",
      "+-----+--------------------+--------------------+--------------------+------+--------------------+--------------------+------------+--------------------+\n",
      "only showing top 5 rows\n",
      "\n"
     ]
    }
   ],
   "source": [
    "# Tokenize words in title column\n",
    "tokenizer1 = RegexTokenizer(inputCol= 'title', outputCol='disney_t_words', pattern='\\\\W')\n",
    "tokenized1 = tokenizer1.transform(DisneyNLP)\n",
    "tokenized1.show(5)\n",
    "\n",
    "# Remove stopwords in tokenized Disney_words column\n",
    "Disney_remover = StopWordsRemover(inputCol='disney_t_words', outputCol='filtered_title')\n",
    "removed_Dis = Disney_remover.transform(tokenized1)\n",
    "\n",
    "# Processing title column\n",
    "Disney_cv = CountVectorizer(inputCol='filtered_title', outputCol='vec_title')\n",
    "Disney_idf = IDF(inputCol='vec_title', outputCol='Disney_tfidf')\n",
    "Disney_numeric = StringIndexer(inputCol='rating', outputCol='label')\n",
    "Disney_Assembler = VectorAssembler(inputCols=['Disney_tfidf','title_length'], outputCol='features')"
   ]
  },
  {
   "cell_type": "code",
   "execution_count": 33,
   "id": "26b31520",
   "metadata": {},
   "outputs": [
    {
     "name": "stdout",
     "output_type": "stream",
     "text": [
      "+-----+--------------------+\n",
      "|label|            features|\n",
      "+-----+--------------------+\n",
      "|  0.0|(1857,[8,14,37,55...|\n",
      "|  3.0|(1857,[14,1574,16...|\n",
      "|  0.0|(1857,[14,59,96,1...|\n",
      "|  1.0|(1857,[58,173,590...|\n",
      "|  6.0|(1857,[370,1579,1...|\n",
      "+-----+--------------------+\n",
      "only showing top 5 rows\n",
      "\n"
     ]
    }
   ],
   "source": [
    "# Creaing data pipeline\n",
    "Disney_pipeline = Pipeline(stages=[Disney_numeric, tokenizer1, Disney_remover, Disney_cv, Disney_idf, Disney_Assembler])\n",
    "\n",
    "Disney_fit = Disney_pipeline.fit(DisneyNLP)\n",
    "Disney_clean = Disney_fit.transform(DisneyNLP)\n",
    "Disney_cleaned = Disney_clean.select('label', 'features')\n",
    "Disney_cleaned.show(5)"
   ]
  },
  {
   "cell_type": "markdown",
   "id": "a461c924",
   "metadata": {},
   "source": [
    "Model 2: Using rating as label, description column and description word count as features"
   ]
  },
  {
   "cell_type": "code",
   "execution_count": 34,
   "id": "aa9be677",
   "metadata": {},
   "outputs": [
    {
     "name": "stdout",
     "output_type": "stream",
     "text": [
      "+-----+--------------------+--------------------+--------------------+------+--------------------+--------------------+------------+------------------+\n",
      "| type|               title|            director|                cast|rating|           listed_in|         description|title_length|description_length|\n",
      "+-----+--------------------+--------------------+--------------------+------+--------------------+--------------------+------------+------------------+\n",
      "|Movie|Duck the Halls: A...|Alonso Ramirez Ra...|Chris Diamantopou...|  TV-G|   Animation, Family|Join Mickey and t...|          48|                48|\n",
      "|Movie|Ernest Saves Chri...|         John Cherry|Jim Varney, Noell...|    PG|              Comedy|Santa Claus passe...|          22|                50|\n",
      "|Movie|Ice Age: A Mammot...|        Karen Disher|Raymond Albert Ro...|  TV-G|Animation, Comedy...|Sid the Sloth is ...|          28|                41|\n",
      "+-----+--------------------+--------------------+--------------------+------+--------------------+--------------------+------------+------------------+\n",
      "only showing top 3 rows\n",
      "\n"
     ]
    }
   ],
   "source": [
    "# Using description length for transforming features later on\n",
    "DisneyNLP = DisneyNLP.withColumn('description_length', length(DisneyNLP['description']))\n",
    "DisneyNLP.show(3)"
   ]
  },
  {
   "cell_type": "code",
   "execution_count": 35,
   "id": "5c7c68ff",
   "metadata": {},
   "outputs": [
    {
     "name": "stdout",
     "output_type": "stream",
     "text": [
      "+-----+--------------------+--------------------+--------------------+------+--------------------+--------------------+------------+--------------------+--------------------+\n",
      "| type|               title|            director|                cast|rating|           listed_in|         description|title_length|      disney_t_words|     disney_d_tokens|\n",
      "+-----+--------------------+--------------------+--------------------+------+--------------------+--------------------+------------+--------------------+--------------------+\n",
      "|Movie|Duck the Halls: A...|Alonso Ramirez Ra...|Chris Diamantopou...|  TV-G|   Animation, Family|Join Mickey and t...|          48|[duck, the, halls...|[join, mickey, an...|\n",
      "|Movie|Ernest Saves Chri...|         John Cherry|Jim Varney, Noell...|    PG|              Comedy|Santa Claus passe...|          22|[ernest, saves, c...|[santa, claus, pa...|\n",
      "|Movie|Ice Age: A Mammot...|        Karen Disher|Raymond Albert Ro...|  TV-G|Animation, Comedy...|Sid the Sloth is ...|          28|[ice, age, a, mam...|[sid, the, sloth,...|\n",
      "|Movie|The Queen Family ...|     Hamish Hamilton|Darren Criss, Ada...| TV-PG|             Musical|This is real life...|          26|[the, queen, fami...|[this, is, real, ...|\n",
      "|Movie|   Becoming Cousteau|          Liz Garbus|Jacques Yves Cous...| PG-13|Biographical, Doc...|An inside look at...|          17|[becoming, cousteau]|[an, inside, look...|\n",
      "+-----+--------------------+--------------------+--------------------+------+--------------------+--------------------+------------+--------------------+--------------------+\n",
      "only showing top 5 rows\n",
      "\n"
     ]
    }
   ],
   "source": [
    "# Tokenize words in description column\n",
    "tokenizer2 = RegexTokenizer(inputCol= 'description', outputCol='disney_d_tokens', pattern='\\\\W')\n",
    "tokenized2 = tokenizer2.transform(tokenized1)\n",
    "tokenized2.show(5)\n",
    "\n",
    "# Remove stopwords in tokenized disney_d_tokens column\n",
    "remover2 = StopWordsRemover(inputCol='disney_d_tokens', outputCol='filtered_description')\n",
    "removed_Disney2 = remover2.transform(tokenized2)\n",
    "\n",
    "# Processing description column\n",
    "Disney_cv2 = CountVectorizer(inputCol='filtered_description', outputCol='vec_description')\n",
    "Disney_idf2 = IDF(inputCol='vec_description', outputCol='Disney_tfidf2')\n",
    "\n",
    "# Creating index for rating\n",
    "Disney_numeric2 = StringIndexer(inputCol='rating', outputCol='label')\n",
    "Disney_Assembler2 = VectorAssembler(inputCols=['Disney_tfidf2','description_length'], outputCol='features')"
   ]
  },
  {
   "cell_type": "code",
   "execution_count": 36,
   "id": "5e4d7527",
   "metadata": {},
   "outputs": [
    {
     "name": "stdout",
     "output_type": "stream",
     "text": [
      "+-----+--------------------+\n",
      "|label|            features|\n",
      "+-----+--------------------+\n",
      "|  0.0|(4373,[15,21,83,1...|\n",
      "|  3.0|(4373,[4,121,144,...|\n",
      "|  0.0|(4373,[121,1169,1...|\n",
      "|  1.0|(4373,[6,114,445,...|\n",
      "|  6.0|(4373,[6,49,134,2...|\n",
      "+-----+--------------------+\n",
      "only showing top 5 rows\n",
      "\n"
     ]
    }
   ],
   "source": [
    "# Creaing data pipeline\n",
    "Disney_pipeline2 = Pipeline(stages=[Disney_numeric2, tokenizer2, remover2, Disney_cv2, Disney_idf2, Disney_Assembler2])       \n",
    "Disney_fit2 = Disney_pipeline2.fit(DisneyNLP)\n",
    "Disney_clean2 = Disney_fit2.transform(DisneyNLP)\n",
    "Disney_cleaned2 = Disney_clean2.select('label', 'features')\n",
    "Disney_cleaned2.show(5)"
   ]
  },
  {
   "cell_type": "markdown",
   "id": "ebb56d77",
   "metadata": {},
   "source": [
    "Model 3: Using rating as label and combining title & description in 1 feature column and 5 other features"
   ]
  },
  {
   "cell_type": "code",
   "execution_count": 37,
   "id": "7259cca3",
   "metadata": {},
   "outputs": [
    {
     "name": "stdout",
     "output_type": "stream",
     "text": [
      "+-----+-------------------------------------------------------------------------------------------------+---------------------------------+--------------------------------------------------------------------------------------------+------+-------------------------+\n",
      "|type |title_description                                                                                |director                         |cast                                                                                        |rating|listed_in                |\n",
      "+-----+-------------------------------------------------------------------------------------------------+---------------------------------+--------------------------------------------------------------------------------------------+------+-------------------------+\n",
      "|Movie|Duck the Halls: A Mickey Mouse Christmas Special Join Mickey and the gang as they duck the halls!|Alonso Ramirez Ramos, Dave Wasson|Chris Diamantopoulos, Tony Anselmo, Tress MacNeille, Bill Farmer, Russi Taylor, Corey Burton|TV-G  |Animation, Family        |\n",
      "|Movie|Ernest Saves Christmas Santa Claus passes his magic bag to a new St. Nic.                        |John Cherry                      |Jim Varney, Noelle Parker, Douglas Seale                                                    |PG    |Comedy                   |\n",
      "|Movie|Ice Age: A Mammoth Christmas Sid the Sloth is on Santa's naughty list.                           |Karen Disher                     |Raymond Albert Romano, John Leguizamo, Denis Leary, Queen Latifah                           |TV-G  |Animation, Comedy, Family|\n",
      "|Movie|The Queen Family Singalong This is real life, not just fantasy!                                  |Hamish Hamilton                  |Darren Criss, Adam Lambert, Derek Hough, Alexander Jean, Fall Out Boy, Jimmie Allen         |TV-PG |Musical                  |\n",
      "|Movie|Becoming Cousteau An inside look at the legendary life of adventurer Jacques-Yves Cousteau.      |Liz Garbus                       |Jacques Yves Cousteau, Vincent Cassel                                                       |PG-13 |Biographical, Documentary|\n",
      "+-----+-------------------------------------------------------------------------------------------------+---------------------------------+--------------------------------------------------------------------------------------------+------+-------------------------+\n",
      "only showing top 5 rows\n",
      "\n",
      "root\n",
      " |-- type: string (nullable = true)\n",
      " |-- title_description: string (nullable = false)\n",
      " |-- director: string (nullable = false)\n",
      " |-- cast: string (nullable = false)\n",
      " |-- rating: string (nullable = true)\n",
      " |-- listed_in: string (nullable = false)\n",
      "\n"
     ]
    }
   ],
   "source": [
    "# Combining Title and description in one column to be used later\n",
    "DisneyML1 = DisneyML.select(\"type\", concat_ws(' ',DisneyML.title,DisneyML.description)\n",
    "              .alias(\"title_description\"),\"director\",\"cast\",\"rating\", \"listed_in\")\n",
    "DisneyML1.show(5, truncate=False)\n",
    "DisneyML1.printSchema()"
   ]
  },
  {
   "cell_type": "code",
   "execution_count": 38,
   "id": "95ec756d",
   "metadata": {},
   "outputs": [
    {
     "name": "stdout",
     "output_type": "stream",
     "text": [
      "+-----+--------------------+--------------------+--------------------+------+--------------------+------------------------+\n",
      "| type|   title_description|            director|                cast|rating|           listed_in|disney_title_desc_tokens|\n",
      "+-----+--------------------+--------------------+--------------------+------+--------------------+------------------------+\n",
      "|Movie|Duck the Halls: A...|Alonso Ramirez Ra...|Chris Diamantopou...|  TV-G|   Animation, Family|    [duck, the, halls...|\n",
      "|Movie|Ernest Saves Chri...|         John Cherry|Jim Varney, Noell...|    PG|              Comedy|    [ernest, saves, c...|\n",
      "|Movie|Ice Age: A Mammot...|        Karen Disher|Raymond Albert Ro...|  TV-G|Animation, Comedy...|    [ice, age, a, mam...|\n",
      "|Movie|The Queen Family ...|     Hamish Hamilton|Darren Criss, Ada...| TV-PG|             Musical|    [the, queen, fami...|\n",
      "|Movie|Becoming Cousteau...|          Liz Garbus|Jacques Yves Cous...| PG-13|Biographical, Doc...|    [becoming, couste...|\n",
      "+-----+--------------------+--------------------+--------------------+------+--------------------+------------------------+\n",
      "only showing top 5 rows\n",
      "\n",
      "+-------+--------------------+--------------------+--------------------+------+--------------------+------------------------+--------------------------+\n",
      "|   type|   title_description|            director|                cast|rating|           listed_in|disney_title_desc_tokens|filtered_title_description|\n",
      "+-------+--------------------+--------------------+--------------------+------+--------------------+------------------------+--------------------------+\n",
      "|  Movie|Duck the Halls: A...|Alonso Ramirez Ra...|Chris Diamantopou...|  TV-G|   Animation, Family|    [duck, the, halls...|      [duck, halls, mic...|\n",
      "|  Movie|Ernest Saves Chri...|         John Cherry|Jim Varney, Noell...|    PG|              Comedy|    [ernest, saves, c...|      [ernest, saves, c...|\n",
      "|  Movie|Ice Age: A Mammot...|        Karen Disher|Raymond Albert Ro...|  TV-G|Animation, Comedy...|    [ice, age, a, mam...|      [ice, age, mammot...|\n",
      "|  Movie|The Queen Family ...|     Hamish Hamilton|Darren Criss, Ada...| TV-PG|             Musical|    [the, queen, fami...|      [queen, family, s...|\n",
      "|  Movie|Becoming Cousteau...|          Liz Garbus|Jacques Yves Cous...| PG-13|Biographical, Doc...|    [becoming, couste...|      [becoming, couste...|\n",
      "|TV Show|Hawkeye Clint Bar...|                    |Jeremy Renner, Ha...| TV-14|Action-Adventure,...|    [hawkeye, clint, ...|      [hawkeye, clint, ...|\n",
      "|TV Show|Port Protection A...|                    |Gary Muehlberger,...| TV-14|Docuseries, Reali...|    [port, protection...|      [port, protection...|\n",
      "|TV Show|Secrets of the Zo...|                    |Dr. Ray Ball, Dr....| TV-PG|Animals & Nature,...|    [secrets, of, the...|      [secrets, zoo, ta...|\n",
      "|  Movie|A Muppets Christm...|    Kirk R. Thatcher|Steve Whitmire, D...|     G|Comedy, Family, M...|    [a, muppets, chri...|      [muppets, christm...|\n",
      "|  Movie|Adventure Thru th...|          John Gleim|Don Hahn, Kathryn...| TV-PG|         Documentary|    [adventure, thru,...|      [adventure, thru,...|\n",
      "|  Movie|Puppy for Hanukka...|                    |                    |  TV-G|Comedy, Family, M...|    [puppy, for, hanu...|      [puppy, hanukkah,...|\n",
      "|  Movie|The Pixar Story A...|       Leslie Iwerks|Stacy Keach, John...|     G| Documentary, Family|    [the, pixar, stor...|      [pixar, story, gr...|\n",
      "|TV Show|Dr. Oakley, Yukon...|                    |Dr. Michelle Oakl...| TV-PG|Action-Adventure,...|    [dr, oakley, yuko...|      [dr, oakley, yuko...|\n",
      "|  Movie|America the Beaut...|                    |   Michael B. Jordan| TV-PG|    Animals & Nature|    [america, the, be...|      [america, beautif...|\n",
      "|  Movie|Baymax! “Baymax!”...|                    |                    |  TV-G|           Animation|    [baymax, baymax, ...|      [baymax, baymax, ...|\n",
      "|  Movie|Ciao Alberto Fun-...|      McKenna Harris|Jack Dylan Grazer...| TV-PG|Animation, Comedy...|    [ciao, alberto, f...|      [ciao, alberto, f...|\n",
      "|TV Show|Disney Fancy Nanc...|                    |Mia Jenness, Alys...| TV-PG|     Animation, Kids|    [disney, fancy, n...|      [disney, fancy, n...|\n",
      "|TV Show|Disney Intertwine...|                    |Carolina Domenech...| TV-PG|Comedy, Coming of...|    [disney, intertwi...|      [disney, intertwi...|\n",
      "|  Movie|Enchanted An anim...|          Kevin Lima|Amy Adams, Patric...|    PG|Comedy, Family, F...|    [enchanted, an, a...|      [enchanted, anima...|\n",
      "|  Movie|Feast One man's l...|     Patrick Osborne|Stephen Apostolin...|     G|Animation, Comedy...|    [feast, one, man,...|      [feast, one, man,...|\n",
      "+-------+--------------------+--------------------+--------------------+------+--------------------+------------------------+--------------------------+\n",
      "only showing top 20 rows\n",
      "\n",
      "+-------+--------------------+--------------------+--------------------+------+--------------------+------------------------+--------------------------+--------------------+\n",
      "|   type|   title_description|            director|                cast|rating|           listed_in|disney_title_desc_tokens|filtered_title_description|    vectorized_words|\n",
      "+-------+--------------------+--------------------+--------------------+------+--------------------+------------------------+--------------------------+--------------------+\n",
      "|  Movie|Duck the Halls: A...|Alonso Ramirez Ra...|Chris Diamantopou...|  TV-G|   Animation, Family|    [duck, the, halls...|      [duck, halls, mic...|(4977,[11,26,38,1...|\n",
      "|  Movie|Ernest Saves Chri...|         John Cherry|Jim Varney, Noell...|    PG|              Comedy|    [ernest, saves, c...|      [ernest, saves, c...|(4977,[5,26,75,93...|\n",
      "|  Movie|Ice Age: A Mammot...|        Karen Disher|Raymond Albert Ro...|  TV-G|Animation, Comedy...|    [ice, age, a, mam...|      [ice, age, mammot...|(4977,[26,75,132,...|\n",
      "|  Movie|The Queen Family ...|     Hamish Hamilton|Darren Criss, Ada...| TV-PG|             Musical|    [the, queen, fami...|      [queen, family, s...|(4977,[6,8,119,30...|\n",
      "|  Movie|Becoming Cousteau...|          Liz Garbus|Jacques Yves Cous...| PG-13|Biographical, Doc...|    [becoming, couste...|      [becoming, couste...|(4977,[6,82,209,2...|\n",
      "|TV Show|Hawkeye Clint Bar...|                    |Jeremy Renner, Ha...| TV-14|Action-Adventure,...|    [hawkeye, clint, ...|      [hawkeye, clint, ...|(4977,[16,18,1443...|\n",
      "|TV Show|Port Protection A...|                    |Gary Muehlberger,...| TV-14|Docuseries, Reali...|    [port, protection...|      [port, protection...|(4977,[16,464,522...|\n",
      "|TV Show|Secrets of the Zo...|                    |Dr. Ray Ball, Dr....| TV-PG|Animals & Nature,...|    [secrets, of, the...|      [secrets, zoo, ta...|(4977,[6,42,58,19...|\n",
      "|  Movie|A Muppets Christm...|    Kirk R. Thatcher|Steve Whitmire, D...|     G|Comedy, Family, M...|    [a, muppets, chri...|      [muppets, christm...|(4977,[26,75,171,...|\n",
      "|  Movie|Adventure Thru th...|          John Gleim|Don Hahn, Kathryn...| TV-PG|         Documentary|    [adventure, thru,...|      [adventure, thru,...|(4977,[0,22,98,12...|\n",
      "|  Movie|Puppy for Hanukka...|                    |                    |  TV-G|Comedy, Family, M...|    [puppy, for, hanu...|      [puppy, hanukkah,...|(4977,[60,341,433...|\n",
      "|  Movie|The Pixar Story A...|       Leslie Iwerks|Stacy Keach, John...|     G| Documentary, Family|    [the, pixar, stor...|      [pixar, story, gr...|(4977,[9,155,193,...|\n",
      "|TV Show|Dr. Oakley, Yukon...|                    |Dr. Michelle Oakl...| TV-PG|Action-Adventure,...|    [dr, oakley, yuko...|      [dr, oakley, yuko...|(4977,[69,92,270,...|\n",
      "|  Movie|America the Beaut...|                    |   Michael B. Jordan| TV-PG|    Animals & Nature|    [america, the, be...|      [america, beautif...|(4977,[62,95,99,1...|\n",
      "|  Movie|Baymax! “Baymax!”...|                    |                    |  TV-G|           Animation|    [baymax, baymax, ...|      [baymax, baymax, ...|(4977,[0,186,492,...|\n",
      "|  Movie|Ciao Alberto Fun-...|      McKenna Harris|Jack Dylan Grazer...| TV-PG|Animation, Comedy...|    [ciao, alberto, f...|      [ciao, alberto, f...|(4977,[141,174,22...|\n",
      "|TV Show|Disney Fancy Nanc...|                    |Mia Jenness, Alys...| TV-PG|     Animation, Kids|    [disney, fancy, n...|      [disney, fancy, n...|(4977,[0,42,195,2...|\n",
      "|TV Show|Disney Intertwine...|                    |Carolina Domenech...| TV-PG|Comedy, Coming of...|    [disney, intertwi...|      [disney, intertwi...|(4977,[0,162,463,...|\n",
      "|  Movie|Enchanted An anim...|          Kevin Lima|Amy Adams, Patric...|    PG|Comedy, Family, F...|    [enchanted, an, a...|      [enchanted, anima...|(4977,[4,42,71,11...|\n",
      "|  Movie|Feast One man's l...|     Patrick Osborne|Stephen Apostolin...|     G|Animation, Comedy...|    [feast, one, man,...|      [feast, one, man,...|(4977,[6,14,27,28...|\n",
      "+-------+--------------------+--------------------+--------------------+------+--------------------+------------------------+--------------------------+--------------------+\n",
      "only showing top 20 rows\n",
      "\n",
      "+-------+--------------------+--------------------+--------------------+------+--------------------+------------------------+--------------------------+--------------------+--------------------+\n",
      "|   type|   title_description|            director|                cast|rating|           listed_in|disney_title_desc_tokens|filtered_title_description|    vectorized_words|        Disney_tfidf|\n",
      "+-------+--------------------+--------------------+--------------------+------+--------------------+------------------------+--------------------------+--------------------+--------------------+\n",
      "|  Movie|Duck the Halls: A...|Alonso Ramirez Ra...|Chris Diamantopou...|  TV-G|   Animation, Family|    [duck, the, halls...|      [duck, halls, mic...|(4977,[11,26,38,1...|(4977,[11,26,38,1...|\n",
      "|  Movie|Ernest Saves Chri...|         John Cherry|Jim Varney, Noell...|    PG|              Comedy|    [ernest, saves, c...|      [ernest, saves, c...|(4977,[5,26,75,93...|(4977,[5,26,75,93...|\n",
      "|  Movie|Ice Age: A Mammot...|        Karen Disher|Raymond Albert Ro...|  TV-G|Animation, Comedy...|    [ice, age, a, mam...|      [ice, age, mammot...|(4977,[26,75,132,...|(4977,[26,75,132,...|\n",
      "|  Movie|The Queen Family ...|     Hamish Hamilton|Darren Criss, Ada...| TV-PG|             Musical|    [the, queen, fami...|      [queen, family, s...|(4977,[6,8,119,30...|(4977,[6,8,119,30...|\n",
      "|  Movie|Becoming Cousteau...|          Liz Garbus|Jacques Yves Cous...| PG-13|Biographical, Doc...|    [becoming, couste...|      [becoming, couste...|(4977,[6,82,209,2...|(4977,[6,82,209,2...|\n",
      "|TV Show|Hawkeye Clint Bar...|                    |Jeremy Renner, Ha...| TV-14|Action-Adventure,...|    [hawkeye, clint, ...|      [hawkeye, clint, ...|(4977,[16,18,1443...|(4977,[16,18,1443...|\n",
      "|TV Show|Port Protection A...|                    |Gary Muehlberger,...| TV-14|Docuseries, Reali...|    [port, protection...|      [port, protection...|(4977,[16,464,522...|(4977,[16,464,522...|\n",
      "|TV Show|Secrets of the Zo...|                    |Dr. Ray Ball, Dr....| TV-PG|Animals & Nature,...|    [secrets, of, the...|      [secrets, zoo, ta...|(4977,[6,42,58,19...|(4977,[6,42,58,19...|\n",
      "|  Movie|A Muppets Christm...|    Kirk R. Thatcher|Steve Whitmire, D...|     G|Comedy, Family, M...|    [a, muppets, chri...|      [muppets, christm...|(4977,[26,75,171,...|(4977,[26,75,171,...|\n",
      "|  Movie|Adventure Thru th...|          John Gleim|Don Hahn, Kathryn...| TV-PG|         Documentary|    [adventure, thru,...|      [adventure, thru,...|(4977,[0,22,98,12...|(4977,[0,22,98,12...|\n",
      "|  Movie|Puppy for Hanukka...|                    |                    |  TV-G|Comedy, Family, M...|    [puppy, for, hanu...|      [puppy, hanukkah,...|(4977,[60,341,433...|(4977,[60,341,433...|\n",
      "|  Movie|The Pixar Story A...|       Leslie Iwerks|Stacy Keach, John...|     G| Documentary, Family|    [the, pixar, stor...|      [pixar, story, gr...|(4977,[9,155,193,...|(4977,[9,155,193,...|\n",
      "|TV Show|Dr. Oakley, Yukon...|                    |Dr. Michelle Oakl...| TV-PG|Action-Adventure,...|    [dr, oakley, yuko...|      [dr, oakley, yuko...|(4977,[69,92,270,...|(4977,[69,92,270,...|\n",
      "|  Movie|America the Beaut...|                    |   Michael B. Jordan| TV-PG|    Animals & Nature|    [america, the, be...|      [america, beautif...|(4977,[62,95,99,1...|(4977,[62,95,99,1...|\n",
      "|  Movie|Baymax! “Baymax!”...|                    |                    |  TV-G|           Animation|    [baymax, baymax, ...|      [baymax, baymax, ...|(4977,[0,186,492,...|(4977,[0,186,492,...|\n",
      "|  Movie|Ciao Alberto Fun-...|      McKenna Harris|Jack Dylan Grazer...| TV-PG|Animation, Comedy...|    [ciao, alberto, f...|      [ciao, alberto, f...|(4977,[141,174,22...|(4977,[141,174,22...|\n",
      "|TV Show|Disney Fancy Nanc...|                    |Mia Jenness, Alys...| TV-PG|     Animation, Kids|    [disney, fancy, n...|      [disney, fancy, n...|(4977,[0,42,195,2...|(4977,[0,42,195,2...|\n",
      "|TV Show|Disney Intertwine...|                    |Carolina Domenech...| TV-PG|Comedy, Coming of...|    [disney, intertwi...|      [disney, intertwi...|(4977,[0,162,463,...|(4977,[0,162,463,...|\n",
      "|  Movie|Enchanted An anim...|          Kevin Lima|Amy Adams, Patric...|    PG|Comedy, Family, F...|    [enchanted, an, a...|      [enchanted, anima...|(4977,[4,42,71,11...|(4977,[4,42,71,11...|\n",
      "|  Movie|Feast One man's l...|     Patrick Osborne|Stephen Apostolin...|     G|Animation, Comedy...|    [feast, one, man,...|      [feast, one, man,...|(4977,[6,14,27,28...|(4977,[6,14,27,28...|\n",
      "+-------+--------------------+--------------------+--------------------+------+--------------------+------------------------+--------------------------+--------------------+--------------------+\n",
      "only showing top 20 rows\n",
      "\n"
     ]
    }
   ],
   "source": [
    "# Tokenize words in title_description column\n",
    "tokenizer3 = RegexTokenizer(inputCol= 'title_description', outputCol='disney_title_desc_tokens', pattern='\\\\W')\n",
    "tokenized3 = tokenizer3.transform(DisneyML1)\n",
    "tokenized3.show(5)\n",
    "\n",
    "# Remove stopwords in tokenized disney_title_desc_token column\n",
    "Disney_remover3 = StopWordsRemover(inputCol='disney_title_desc_tokens', outputCol='filtered_title_description')\n",
    "cleaned_Disney3 = Disney_remover3.transform(tokenized3)\n",
    "cleaned_Disney3.show()\n",
    "\n",
    "# Count Vectorization on filtered_title_description column\n",
    "Disney_cv3 = CountVectorizer(inputCol='filtered_title_description', outputCol='vectorized_words')\n",
    "vectorized3 = Disney_cv3.fit(cleaned_Disney3)\n",
    "vectorized3 = vectorized3.transform(cleaned_Disney3)\n",
    "vectorized3.show()\n",
    "\n",
    "# Get the TF-IDF\n",
    "Disney_idf3 = IDF(inputCol='vectorized_words', outputCol='Disney_tfidf')\n",
    "Disney_TF_IDF3 =Disney_idf3.fit(vectorized3).transform(vectorized3)\n",
    "Disney_TF_IDF3.show()"
   ]
  },
  {
   "cell_type": "code",
   "execution_count": 39,
   "id": "d04c9a9d",
   "metadata": {},
   "outputs": [
    {
     "name": "stdout",
     "output_type": "stream",
     "text": [
      "+-----+--------------------+--------------------+--------------------+------+--------------------+------------------------+--------------------------+--------------------+--------------------+-----+\n",
      "| type|   title_description|            director|                cast|rating|           listed_in|disney_title_desc_tokens|filtered_title_description|    vectorized_words|        Disney_tfidf|label|\n",
      "+-----+--------------------+--------------------+--------------------+------+--------------------+------------------------+--------------------------+--------------------+--------------------+-----+\n",
      "|Movie|Duck the Halls: A...|Alonso Ramirez Ra...|Chris Diamantopou...|  TV-G|   Animation, Family|    [duck, the, halls...|      [duck, halls, mic...|(4977,[11,26,38,1...|(4977,[11,26,38,1...|  0.0|\n",
      "|Movie|Ernest Saves Chri...|         John Cherry|Jim Varney, Noell...|    PG|              Comedy|    [ernest, saves, c...|      [ernest, saves, c...|(4977,[5,26,75,93...|(4977,[5,26,75,93...|  3.0|\n",
      "|Movie|Ice Age: A Mammot...|        Karen Disher|Raymond Albert Ro...|  TV-G|Animation, Comedy...|    [ice, age, a, mam...|      [ice, age, mammot...|(4977,[26,75,132,...|(4977,[26,75,132,...|  0.0|\n",
      "|Movie|The Queen Family ...|     Hamish Hamilton|Darren Criss, Ada...| TV-PG|             Musical|    [the, queen, fami...|      [queen, family, s...|(4977,[6,8,119,30...|(4977,[6,8,119,30...|  1.0|\n",
      "|Movie|Becoming Cousteau...|          Liz Garbus|Jacques Yves Cous...| PG-13|Biographical, Doc...|    [becoming, couste...|      [becoming, couste...|(4977,[6,82,209,2...|(4977,[6,82,209,2...|  6.0|\n",
      "+-----+--------------------+--------------------+--------------------+------+--------------------+------------------------+--------------------------+--------------------+--------------------+-----+\n",
      "only showing top 5 rows\n",
      "\n",
      "+-----+--------------------+--------------------+--------------------+------+--------------------+------------------------+--------------------------+--------------------+--------------------+-----+----------+\n",
      "| type|   title_description|            director|                cast|rating|           listed_in|disney_title_desc_tokens|filtered_title_description|    vectorized_words|        Disney_tfidf|label|type_index|\n",
      "+-----+--------------------+--------------------+--------------------+------+--------------------+------------------------+--------------------------+--------------------+--------------------+-----+----------+\n",
      "|Movie|Duck the Halls: A...|Alonso Ramirez Ra...|Chris Diamantopou...|  TV-G|   Animation, Family|    [duck, the, halls...|      [duck, halls, mic...|(4977,[11,26,38,1...|(4977,[11,26,38,1...|  0.0|       0.0|\n",
      "|Movie|Ernest Saves Chri...|         John Cherry|Jim Varney, Noell...|    PG|              Comedy|    [ernest, saves, c...|      [ernest, saves, c...|(4977,[5,26,75,93...|(4977,[5,26,75,93...|  3.0|       0.0|\n",
      "|Movie|Ice Age: A Mammot...|        Karen Disher|Raymond Albert Ro...|  TV-G|Animation, Comedy...|    [ice, age, a, mam...|      [ice, age, mammot...|(4977,[26,75,132,...|(4977,[26,75,132,...|  0.0|       0.0|\n",
      "|Movie|The Queen Family ...|     Hamish Hamilton|Darren Criss, Ada...| TV-PG|             Musical|    [the, queen, fami...|      [queen, family, s...|(4977,[6,8,119,30...|(4977,[6,8,119,30...|  1.0|       0.0|\n",
      "|Movie|Becoming Cousteau...|          Liz Garbus|Jacques Yves Cous...| PG-13|Biographical, Doc...|    [becoming, couste...|      [becoming, couste...|(4977,[6,82,209,2...|(4977,[6,82,209,2...|  6.0|       0.0|\n",
      "+-----+--------------------+--------------------+--------------------+------+--------------------+------------------------+--------------------------+--------------------+--------------------+-----+----------+\n",
      "only showing top 5 rows\n",
      "\n",
      "+-----+--------------------+--------------------+--------------------+------+--------------------+------------------------+--------------------------+--------------------+--------------------+-----+----------+--------------+\n",
      "| type|   title_description|            director|                cast|rating|           listed_in|disney_title_desc_tokens|filtered_title_description|    vectorized_words|        Disney_tfidf|label|type_index|director_index|\n",
      "+-----+--------------------+--------------------+--------------------+------+--------------------+------------------------+--------------------------+--------------------+--------------------+-----+----------+--------------+\n",
      "|Movie|Duck the Halls: A...|Alonso Ramirez Ra...|Chris Diamantopou...|  TV-G|   Animation, Family|    [duck, the, halls...|      [duck, halls, mic...|(4977,[11,26,38,1...|(4977,[11,26,38,1...|  0.0|       0.0|         163.0|\n",
      "|Movie|Ernest Saves Chri...|         John Cherry|Jim Varney, Noell...|    PG|              Comedy|    [ernest, saves, c...|      [ernest, saves, c...|(4977,[5,26,75,93...|(4977,[5,26,75,93...|  3.0|       0.0|         367.0|\n",
      "|Movie|Ice Age: A Mammot...|        Karen Disher|Raymond Albert Ro...|  TV-G|Animation, Comedy...|    [ice, age, a, mam...|      [ice, age, mammot...|(4977,[26,75,132,...|(4977,[26,75,132,...|  0.0|       0.0|         388.0|\n",
      "|Movie|The Queen Family ...|     Hamish Hamilton|Darren Criss, Ada...| TV-PG|             Musical|    [the, queen, fami...|      [queen, family, s...|(4977,[6,8,119,30...|(4977,[6,8,119,30...|  1.0|       0.0|          97.0|\n",
      "|Movie|Becoming Cousteau...|          Liz Garbus|Jacques Yves Cous...| PG-13|Biographical, Doc...|    [becoming, couste...|      [becoming, couste...|(4977,[6,82,209,2...|(4977,[6,82,209,2...|  6.0|       0.0|         418.0|\n",
      "+-----+--------------------+--------------------+--------------------+------+--------------------+------------------------+--------------------------+--------------------+--------------------+-----+----------+--------------+\n",
      "only showing top 5 rows\n",
      "\n",
      "+-----+--------------------+--------------------+--------------------+------+--------------------+------------------------+--------------------------+--------------------+--------------------+-----+----------+--------------+----------+\n",
      "| type|   title_description|            director|                cast|rating|           listed_in|disney_title_desc_tokens|filtered_title_description|    vectorized_words|        Disney_tfidf|label|type_index|director_index|cast_index|\n",
      "+-----+--------------------+--------------------+--------------------+------+--------------------+------------------------+--------------------------+--------------------+--------------------+-----+----------+--------------+----------+\n",
      "|Movie|Duck the Halls: A...|Alonso Ramirez Ra...|Chris Diamantopou...|  TV-G|   Animation, Family|    [duck, the, halls...|      [duck, halls, mic...|(4977,[11,26,38,1...|(4977,[11,26,38,1...|  0.0|       0.0|         163.0|     245.0|\n",
      "|Movie|Ernest Saves Chri...|         John Cherry|Jim Varney, Noell...|    PG|              Comedy|    [ernest, saves, c...|      [ernest, saves, c...|(4977,[5,26,75,93...|(4977,[5,26,75,93...|  3.0|       0.0|         367.0|     603.0|\n",
      "|Movie|Ice Age: A Mammot...|        Karen Disher|Raymond Albert Ro...|  TV-G|Animation, Comedy...|    [ice, age, a, mam...|      [ice, age, mammot...|(4977,[26,75,132,...|(4977,[26,75,132,...|  0.0|       0.0|         388.0|      30.0|\n",
      "|Movie|The Queen Family ...|     Hamish Hamilton|Darren Criss, Ada...| TV-PG|             Musical|    [the, queen, fami...|      [queen, family, s...|(4977,[6,8,119,30...|(4977,[6,8,119,30...|  1.0|       0.0|          97.0|     308.0|\n",
      "|Movie|Becoming Cousteau...|          Liz Garbus|Jacques Yves Cous...| PG-13|Biographical, Doc...|    [becoming, couste...|      [becoming, couste...|(4977,[6,82,209,2...|(4977,[6,82,209,2...|  6.0|       0.0|         418.0|     530.0|\n",
      "+-----+--------------------+--------------------+--------------------+------+--------------------+------------------------+--------------------------+--------------------+--------------------+-----+----------+--------------+----------+\n",
      "only showing top 5 rows\n",
      "\n",
      "+-----+--------------------+--------------------+--------------------+------+--------------------+------------------------+--------------------------+--------------------+--------------------+-----+----------+--------------+----------+-----------+\n",
      "| type|   title_description|            director|                cast|rating|           listed_in|disney_title_desc_tokens|filtered_title_description|    vectorized_words|        Disney_tfidf|label|type_index|director_index|cast_index|genre_index|\n",
      "+-----+--------------------+--------------------+--------------------+------+--------------------+------------------------+--------------------------+--------------------+--------------------+-----+----------+--------------+----------+-----------+\n",
      "|Movie|Duck the Halls: A...|Alonso Ramirez Ra...|Chris Diamantopou...|  TV-G|   Animation, Family|    [duck, the, halls...|      [duck, halls, mic...|(4977,[11,26,38,1...|(4977,[11,26,38,1...|  0.0|       0.0|         163.0|     245.0|        9.0|\n",
      "|Movie|Ernest Saves Chri...|         John Cherry|Jim Varney, Noell...|    PG|              Comedy|    [ernest, saves, c...|      [ernest, saves, c...|(4977,[5,26,75,93...|(4977,[5,26,75,93...|  3.0|       0.0|         367.0|     603.0|       38.0|\n",
      "|Movie|Ice Age: A Mammot...|        Karen Disher|Raymond Albert Ro...|  TV-G|Animation, Comedy...|    [ice, age, a, mam...|      [ice, age, mammot...|(4977,[26,75,132,...|(4977,[26,75,132,...|  0.0|       0.0|         388.0|      30.0|        0.0|\n",
      "|Movie|The Queen Family ...|     Hamish Hamilton|Darren Criss, Ada...| TV-PG|             Musical|    [the, queen, fami...|      [queen, family, s...|(4977,[6,8,119,30...|(4977,[6,8,119,30...|  1.0|       0.0|          97.0|     308.0|      324.0|\n",
      "|Movie|Becoming Cousteau...|          Liz Garbus|Jacques Yves Cous...| PG-13|Biographical, Doc...|    [becoming, couste...|      [becoming, couste...|(4977,[6,82,209,2...|(4977,[6,82,209,2...|  6.0|       0.0|         418.0|     530.0|       37.0|\n",
      "+-----+--------------------+--------------------+--------------------+------+--------------------+------------------------+--------------------------+--------------------+--------------------+-----+----------+--------------+----------+-----------+\n",
      "only showing top 5 rows\n",
      "\n"
     ]
    }
   ],
   "source": [
    "# Convert rating to numeric and assign as label\n",
    "Disney_numeric3 = StringIndexer(inputCol=\"rating\", outputCol = \"label\")\n",
    "Dis_label_index = Disney_numeric3.fit(Disney_TF_IDF3).transform(Disney_TF_IDF3)\n",
    "Dis_label_index.show(5)\n",
    "\n",
    "# Convert type column to numeric\n",
    "Disney_type_indexers = StringIndexer(inputCol='type', outputCol='type_index')\n",
    "Dis_type_index = Disney_type_indexers.fit(Dis_label_index).transform(Dis_label_index)\n",
    "Dis_type_index.show(5)\n",
    "\n",
    "# Convert director column to numeric\n",
    "Disney_dir_indexers = StringIndexer(inputCol='director', outputCol='director_index')\n",
    "Dis_dir_index = Disney_dir_indexers.fit(Dis_type_index).transform(Dis_type_index)\n",
    "Dis_dir_index.show(5)\n",
    "\n",
    "# Convert cast column to numeric\n",
    "Disney_cast_indexers = StringIndexer(inputCol='cast', outputCol='cast_index')\n",
    "Dis_cast_index = Disney_cast_indexers.fit(Dis_dir_index).transform(Dis_dir_index)\n",
    "Dis_cast_index.show(5)\n",
    "\n",
    "# Convert listed_in column to numeric\n",
    "Disney_genre_indexers = StringIndexer(inputCol='listed_in', outputCol='genre_index')\n",
    "Dis_genre_index = Disney_genre_indexers.fit(Dis_cast_index).transform(Dis_cast_index)\n",
    "Dis_genre_index.show(5)"
   ]
  },
  {
   "cell_type": "code",
   "execution_count": 40,
   "id": "5ff5638b",
   "metadata": {},
   "outputs": [
    {
     "data": {
      "image/png": "[encoded data removed]",
      "text/plain": [
       "<Figure size 432x288 with 2 Axes>"
      ]
     },
     "metadata": {
      "needs_background": "light"
     },
     "output_type": "display_data"
    }
   ],
   "source": [
    "import pandas as pd\n",
    "import seaborn as sns\n",
    "\n",
    "# See correlation of the features to label\n",
    "data = Dis_genre_index.select('label', 'type_index', 'director_index', 'cast_index', 'genre_index').toPandas()\n",
    "sns.heatmap(data.corr(), annot=True); # output shows that type feature has the highest positive correlation to ratings"
   ]
  },
  {
   "cell_type": "code",
   "execution_count": 41,
   "id": "fb1d3450",
   "metadata": {},
   "outputs": [
    {
     "name": "stdout",
     "output_type": "stream",
     "text": [
      "+-------+--------------------+--------------------+--------------------+------+--------------------+------------------------+--------------------------+--------------------+--------------------+-----+----------+--------------+----------+-----------+--------------------+\n",
      "|   type|   title_description|            director|                cast|rating|           listed_in|disney_title_desc_tokens|filtered_title_description|    vectorized_words|        Disney_tfidf|label|type_index|director_index|cast_index|genre_index|            features|\n",
      "+-------+--------------------+--------------------+--------------------+------+--------------------+------------------------+--------------------------+--------------------+--------------------+-----+----------+--------------+----------+-----------+--------------------+\n",
      "|  Movie|Duck the Halls: A...|Alonso Ramirez Ra...|Chris Diamantopou...|  TV-G|   Animation, Family|    [duck, the, halls...|      [duck, halls, mic...|(4977,[11,26,38,1...|(4977,[11,26,38,1...|  0.0|       0.0|         163.0|     245.0|        9.0|(4981,[11,26,38,1...|\n",
      "|  Movie|Ernest Saves Chri...|         John Cherry|Jim Varney, Noell...|    PG|              Comedy|    [ernest, saves, c...|      [ernest, saves, c...|(4977,[5,26,75,93...|(4977,[5,26,75,93...|  3.0|       0.0|         367.0|     603.0|       38.0|(4981,[5,26,75,93...|\n",
      "|  Movie|Ice Age: A Mammot...|        Karen Disher|Raymond Albert Ro...|  TV-G|Animation, Comedy...|    [ice, age, a, mam...|      [ice, age, mammot...|(4977,[26,75,132,...|(4977,[26,75,132,...|  0.0|       0.0|         388.0|      30.0|        0.0|(4981,[26,75,132,...|\n",
      "|  Movie|The Queen Family ...|     Hamish Hamilton|Darren Criss, Ada...| TV-PG|             Musical|    [the, queen, fami...|      [queen, family, s...|(4977,[6,8,119,30...|(4977,[6,8,119,30...|  1.0|       0.0|          97.0|     308.0|      324.0|(4981,[6,8,119,30...|\n",
      "|  Movie|Becoming Cousteau...|          Liz Garbus|Jacques Yves Cous...| PG-13|Biographical, Doc...|    [becoming, couste...|      [becoming, couste...|(4977,[6,82,209,2...|(4977,[6,82,209,2...|  6.0|       0.0|         418.0|     530.0|       37.0|(4981,[6,82,209,2...|\n",
      "|TV Show|Hawkeye Clint Bar...|                    |Jeremy Renner, Ha...| TV-14|Action-Adventure,...|    [hawkeye, clint, ...|      [hawkeye, clint, ...|(4977,[16,18,1443...|(4977,[16,18,1443...|  5.0|       1.0|           0.0|     582.0|      196.0|(4981,[16,18,1443...|\n",
      "|TV Show|Port Protection A...|                    |Gary Muehlberger,...| TV-14|Docuseries, Reali...|    [port, protection...|      [port, protection...|(4977,[16,464,522...|(4977,[16,464,522...|  5.0|       1.0|           0.0|     460.0|      103.0|(4981,[16,464,522...|\n",
      "|TV Show|Secrets of the Zo...|                    |Dr. Ray Ball, Dr....| TV-PG|Animals & Nature,...|    [secrets, of, the...|      [secrets, zoo, ta...|(4977,[6,42,58,19...|(4977,[6,42,58,19...|  1.0|       1.0|           0.0|     389.0|        5.0|(4981,[6,42,58,19...|\n",
      "|  Movie|A Muppets Christm...|    Kirk R. Thatcher|Steve Whitmire, D...|     G|Comedy, Family, M...|    [a, muppets, chri...|      [muppets, christm...|(4977,[26,75,171,...|(4977,[26,75,171,...|  2.0|       0.0|         401.0|    1046.0|      141.0|(4981,[26,75,171,...|\n",
      "|  Movie|Adventure Thru th...|          John Gleim|Don Hahn, Kathryn...| TV-PG|         Documentary|    [adventure, thru,...|      [adventure, thru,...|(4977,[0,22,98,12...|(4977,[0,22,98,12...|  1.0|       0.0|         368.0|     366.0|       10.0|(4981,[0,22,98,12...|\n",
      "|  Movie|Puppy for Hanukka...|                    |                    |  TV-G|Comedy, Family, M...|    [puppy, for, hanu...|      [puppy, hanukkah,...|(4977,[60,341,433...|(4977,[60,341,433...|  0.0|       0.0|           0.0|       0.0|       80.0|(4981,[60,341,433...|\n",
      "|  Movie|The Pixar Story A...|       Leslie Iwerks|Stacy Keach, John...|     G| Documentary, Family|    [the, pixar, stor...|      [pixar, story, gr...|(4977,[9,155,193,...|(4977,[9,155,193,...|  2.0|       0.0|         414.0|    1030.0|       23.0|(4981,[9,155,193,...|\n",
      "|TV Show|Dr. Oakley, Yukon...|                    |Dr. Michelle Oakl...| TV-PG|Action-Adventure,...|    [dr, oakley, yuko...|      [dr, oakley, yuko...|(4977,[69,92,270,...|(4977,[69,92,270,...|  1.0|       1.0|           0.0|     387.0|       26.0|(4981,[69,92,270,...|\n",
      "|  Movie|America the Beaut...|                    |   Michael B. Jordan| TV-PG|    Animals & Nature|    [america, the, be...|      [america, beautif...|(4977,[62,95,99,1...|(4977,[62,95,99,1...|  1.0|       0.0|           0.0|     805.0|      198.0|(4981,[62,95,99,1...|\n",
      "|  Movie|Baymax! “Baymax!”...|                    |                    |  TV-G|           Animation|    [baymax, baymax, ...|      [baymax, baymax, ...|(4977,[0,186,492,...|(4977,[0,186,492,...|  0.0|       0.0|           0.0|       0.0|      121.0|(4981,[0,186,492,...|\n",
      "|  Movie|Ciao Alberto Fun-...|      McKenna Harris|Jack Dylan Grazer...| TV-PG|Animation, Comedy...|    [ciao, alberto, f...|      [ciao, alberto, f...|(4977,[141,174,22...|(4977,[141,174,22...|  1.0|       0.0|         444.0|     524.0|        0.0|(4981,[141,174,22...|\n",
      "|TV Show|Disney Fancy Nanc...|                    |Mia Jenness, Alys...| TV-PG|     Animation, Kids|    [disney, fancy, n...|      [disney, fancy, n...|(4977,[0,42,195,2...|(4977,[0,42,195,2...|  1.0|       1.0|           0.0|     803.0|       15.0|(4981,[0,42,195,2...|\n",
      "|TV Show|Disney Intertwine...|                    |Carolina Domenech...| TV-PG|Comedy, Coming of...|    [disney, intertwi...|      [disney, intertwi...|(4977,[0,162,463,...|(4977,[0,162,463,...|  1.0|       1.0|           0.0|     215.0|       22.0|(4981,[0,162,463,...|\n",
      "|  Movie|Enchanted An anim...|          Kevin Lima|Amy Adams, Patric...|    PG|Comedy, Family, F...|    [enchanted, an, a...|      [enchanted, anima...|(4977,[4,42,71,11...|(4977,[4,42,71,11...|  3.0|       0.0|          54.0|      79.0|       12.0|(4981,[4,42,71,11...|\n",
      "|  Movie|Feast One man's l...|     Patrick Osborne|Stephen Apostolin...|     G|Animation, Comedy...|    [feast, one, man,...|      [feast, one, man,...|(4977,[6,14,27,28...|(4977,[6,14,27,28...|  2.0|       0.0|         477.0|    1032.0|       91.0|(4981,[6,14,27,28...|\n",
      "+-------+--------------------+--------------------+--------------------+------+--------------------+------------------------+--------------------------+--------------------+--------------------+-----+----------+--------------+----------+-----------+--------------------+\n",
      "only showing top 20 rows\n",
      "\n"
     ]
    }
   ],
   "source": [
    "# Transform several columns as one Feature column\n",
    "Disney_Assembler = VectorAssembler(inputCols=['Disney_tfidf', 'type_index', 'director_index', 'cast_index', 'genre_index'], outputCol='features')\n",
    "Disney_features = Disney_Assembler.transform(Dis_genre_index)\n",
    "Disney_features.show()"
   ]
  },
  {
   "cell_type": "code",
   "execution_count": 42,
   "id": "67eb5f98",
   "metadata": {},
   "outputs": [
    {
     "name": "stdout",
     "output_type": "stream",
     "text": [
      "+-----+--------------------+\n",
      "|label|            features|\n",
      "+-----+--------------------+\n",
      "|  0.0|(1860,[8,14,37,55...|\n",
      "|  3.0|(1860,[14,1574,16...|\n",
      "|  0.0|(1860,[14,59,96,1...|\n",
      "|  1.0|(1860,[58,173,590...|\n",
      "|  6.0|(1860,[370,1579,1...|\n",
      "|  5.0|(1860,[1035,1856,...|\n",
      "|  5.0|(1860,[243,607,13...|\n",
      "|  1.0|(1860,[18,122,139...|\n",
      "|  2.0|(1860,[14,41,112,...|\n",
      "|  1.0|(1860,[0,72,98,50...|\n",
      "|  0.0|(1860,[273,1434,1...|\n",
      "|  2.0|(1860,[6,153,1857...|\n",
      "|  1.0|(1860,[77,464,111...|\n",
      "|  1.0|(1860,[30,670,185...|\n",
      "|  0.0|(1860,[681,1859],...|\n",
      "|  1.0|(1860,[764,1710,1...|\n",
      "|  1.0|(1860,[0,255,534,...|\n",
      "|  1.0|(1860,[0,1630,185...|\n",
      "|  3.0|(1860,[385,1857,1...|\n",
      "|  2.0|(1860,[1217,1857,...|\n",
      "+-----+--------------------+\n",
      "only showing top 20 rows\n",
      "\n"
     ]
    }
   ],
   "source": [
    "# Creaing data pipeline\n",
    "Disney_pipeline3 = Pipeline(stages=[Disney_numeric3, Disney_type_indexers, Disney_dir_indexers, Disney_cast_indexers, Disney_genre_indexers, tokenizer1, Disney_remover, Disney_cv, Disney_idf, Disney_Assembler])\n",
    "\n",
    "# Fitting data to pipeline\n",
    "Disney_fit3 = Disney_pipeline3.fit(DisneyNLP)\n",
    "Disney_clean3 = Disney_fit3.transform(DisneyNLP)\n",
    "Disney_cleaned3 = Disney_clean3.select('label', 'features')\n",
    "Disney_cleaned3.show()"
   ]
  },
  {
   "cell_type": "markdown",
   "id": "bae320b5",
   "metadata": {},
   "source": [
    "Model 4: Using 2 features(director, title_description) against rating as label"
   ]
  },
  {
   "cell_type": "code",
   "execution_count": 43,
   "id": "01702b25",
   "metadata": {},
   "outputs": [
    {
     "name": "stdout",
     "output_type": "stream",
     "text": [
      "+-----+--------------------+--------------------+--------------------+------+--------------------+------------------------+--------------------------+--------------------+--------------------+-----+--------------+\n",
      "| type|   title_description|            director|                cast|rating|           listed_in|disney_title_desc_tokens|filtered_title_description|    vectorized_words|        Disney_tfidf|label|director_index|\n",
      "+-----+--------------------+--------------------+--------------------+------+--------------------+------------------------+--------------------------+--------------------+--------------------+-----+--------------+\n",
      "|Movie|Duck the Halls: A...|Alonso Ramirez Ra...|Chris Diamantopou...|  TV-G|   Animation, Family|    [duck, the, halls...|      [duck, halls, mic...|(4977,[11,26,38,1...|(4977,[11,26,38,1...|  0.0|         163.0|\n",
      "|Movie|Ernest Saves Chri...|         John Cherry|Jim Varney, Noell...|    PG|              Comedy|    [ernest, saves, c...|      [ernest, saves, c...|(4977,[5,26,75,93...|(4977,[5,26,75,93...|  3.0|         367.0|\n",
      "|Movie|Ice Age: A Mammot...|        Karen Disher|Raymond Albert Ro...|  TV-G|Animation, Comedy...|    [ice, age, a, mam...|      [ice, age, mammot...|(4977,[26,75,132,...|(4977,[26,75,132,...|  0.0|         388.0|\n",
      "|Movie|The Queen Family ...|     Hamish Hamilton|Darren Criss, Ada...| TV-PG|             Musical|    [the, queen, fami...|      [queen, family, s...|(4977,[6,8,119,30...|(4977,[6,8,119,30...|  1.0|          97.0|\n",
      "|Movie|Becoming Cousteau...|          Liz Garbus|Jacques Yves Cous...| PG-13|Biographical, Doc...|    [becoming, couste...|      [becoming, couste...|(4977,[6,82,209,2...|(4977,[6,82,209,2...|  6.0|         418.0|\n",
      "+-----+--------------------+--------------------+--------------------+------+--------------------+------------------------+--------------------------+--------------------+--------------------+-----+--------------+\n",
      "only showing top 5 rows\n",
      "\n"
     ]
    }
   ],
   "source": [
    "# Convert type column to numeric\n",
    "Disney_dir_indexers = StringIndexer(inputCol='director', outputCol='director_index')\n",
    "Dis_dir_index = Disney_dir_indexers.fit(Dis_label_index).transform(Dis_label_index)\n",
    "Dis_dir_index.show(5)"
   ]
  },
  {
   "cell_type": "code",
   "execution_count": 44,
   "id": "db83533e",
   "metadata": {},
   "outputs": [
    {
     "name": "stdout",
     "output_type": "stream",
     "text": [
      "+-----+--------------------+--------------------+--------------------+------+--------------------+------------------------+--------------------------+--------------------+--------------------+-----+--------------+--------------------+\n",
      "| type|   title_description|            director|                cast|rating|           listed_in|disney_title_desc_tokens|filtered_title_description|    vectorized_words|        Disney_tfidf|label|director_index|            features|\n",
      "+-----+--------------------+--------------------+--------------------+------+--------------------+------------------------+--------------------------+--------------------+--------------------+-----+--------------+--------------------+\n",
      "|Movie|Duck the Halls: A...|Alonso Ramirez Ra...|Chris Diamantopou...|  TV-G|   Animation, Family|    [duck, the, halls...|      [duck, halls, mic...|(4977,[11,26,38,1...|(4977,[11,26,38,1...|  0.0|         163.0|(4978,[11,26,38,1...|\n",
      "|Movie|Ernest Saves Chri...|         John Cherry|Jim Varney, Noell...|    PG|              Comedy|    [ernest, saves, c...|      [ernest, saves, c...|(4977,[5,26,75,93...|(4977,[5,26,75,93...|  3.0|         367.0|(4978,[5,26,75,93...|\n",
      "|Movie|Ice Age: A Mammot...|        Karen Disher|Raymond Albert Ro...|  TV-G|Animation, Comedy...|    [ice, age, a, mam...|      [ice, age, mammot...|(4977,[26,75,132,...|(4977,[26,75,132,...|  0.0|         388.0|(4978,[26,75,132,...|\n",
      "|Movie|The Queen Family ...|     Hamish Hamilton|Darren Criss, Ada...| TV-PG|             Musical|    [the, queen, fami...|      [queen, family, s...|(4977,[6,8,119,30...|(4977,[6,8,119,30...|  1.0|          97.0|(4978,[6,8,119,30...|\n",
      "|Movie|Becoming Cousteau...|          Liz Garbus|Jacques Yves Cous...| PG-13|Biographical, Doc...|    [becoming, couste...|      [becoming, couste...|(4977,[6,82,209,2...|(4977,[6,82,209,2...|  6.0|         418.0|(4978,[6,82,209,2...|\n",
      "+-----+--------------------+--------------------+--------------------+------+--------------------+------------------------+--------------------------+--------------------+--------------------+-----+--------------+--------------------+\n",
      "only showing top 5 rows\n",
      "\n"
     ]
    }
   ],
   "source": [
    "# Create single feature vector by combining 2 features\n",
    "Disney_Assembler4 = VectorAssembler(inputCols=['Disney_tfidf', 'director_index'], outputCol='features')\n",
    "Disney_features4 = Disney_Assembler4.transform(Dis_dir_index)\n",
    "Disney_features4.show(5)"
   ]
  },
  {
   "cell_type": "code",
   "execution_count": 45,
   "id": "6bf6ef72",
   "metadata": {},
   "outputs": [
    {
     "name": "stdout",
     "output_type": "stream",
     "text": [
      "+-----+--------------------+\n",
      "|label|            features|\n",
      "+-----+--------------------+\n",
      "|  0.0|(4978,[11,26,38,1...|\n",
      "|  3.0|(4978,[5,26,75,93...|\n",
      "|  0.0|(4978,[26,75,132,...|\n",
      "|  1.0|(4978,[6,8,119,30...|\n",
      "|  6.0|(4978,[6,82,209,2...|\n",
      "+-----+--------------------+\n",
      "only showing top 5 rows\n",
      "\n"
     ]
    }
   ],
   "source": [
    "# Creaing data pipeline\n",
    "Disney_pipeline4 = Pipeline(stages=[Disney_numeric3, Disney_dir_indexers, tokenizer3, Disney_remover3, Disney_cv3, Disney_idf3, Disney_Assembler4])\n",
    "Disney_fit4 = Disney_pipeline4.fit(DisneyML1)\n",
    "Disney_clean4 = Disney_fit4.transform(DisneyML1)\n",
    "Disney_cleaned4 = Disney_clean4.select('label', 'features')\n",
    "Disney_cleaned4.show(5)"
   ]
  },
  {
   "cell_type": "markdown",
   "id": "2d63004b",
   "metadata": {},
   "source": [
    "Model 5: Using cast column and director as features and rating as label"
   ]
  },
  {
   "cell_type": "code",
   "execution_count": 52,
   "id": "35912387",
   "metadata": {},
   "outputs": [
    {
     "name": "stdout",
     "output_type": "stream",
     "text": [
      "+-----+--------------------+--------------------+--------------------+------+--------------------+--------------------+-----+\n",
      "| type|               title|            director|                cast|rating|           listed_in|         description|label|\n",
      "+-----+--------------------+--------------------+--------------------+------+--------------------+--------------------+-----+\n",
      "|Movie|Duck the Halls: A...|Alonso Ramirez Ra...|Chris Diamantopou...|  TV-G|   Animation, Family|Join Mickey and t...|  0.0|\n",
      "|Movie|Ernest Saves Chri...|         John Cherry|Jim Varney, Noell...|    PG|              Comedy|Santa Claus passe...|  3.0|\n",
      "|Movie|Ice Age: A Mammot...|        Karen Disher|Raymond Albert Ro...|  TV-G|Animation, Comedy...|Sid the Sloth is ...|  0.0|\n",
      "|Movie|The Queen Family ...|     Hamish Hamilton|Darren Criss, Ada...| TV-PG|             Musical|This is real life...|  1.0|\n",
      "|Movie|   Becoming Cousteau|          Liz Garbus|Jacques Yves Cous...| PG-13|Biographical, Doc...|An inside look at...|  6.0|\n",
      "+-----+--------------------+--------------------+--------------------+------+--------------------+--------------------+-----+\n",
      "only showing top 5 rows\n",
      "\n",
      "+-----+--------------------+--------------------+--------------------+------+--------------------+--------------------+-----+---------------------+\n",
      "| type|               title|            director|                cast|rating|           listed_in|         description|label|disney_director_index|\n",
      "+-----+--------------------+--------------------+--------------------+------+--------------------+--------------------+-----+---------------------+\n",
      "|Movie|Duck the Halls: A...|Alonso Ramirez Ra...|Chris Diamantopou...|  TV-G|   Animation, Family|Join Mickey and t...|  0.0|                163.0|\n",
      "|Movie|Ernest Saves Chri...|         John Cherry|Jim Varney, Noell...|    PG|              Comedy|Santa Claus passe...|  3.0|                367.0|\n",
      "|Movie|Ice Age: A Mammot...|        Karen Disher|Raymond Albert Ro...|  TV-G|Animation, Comedy...|Sid the Sloth is ...|  0.0|                388.0|\n",
      "|Movie|The Queen Family ...|     Hamish Hamilton|Darren Criss, Ada...| TV-PG|             Musical|This is real life...|  1.0|                 97.0|\n",
      "|Movie|   Becoming Cousteau|          Liz Garbus|Jacques Yves Cous...| PG-13|Biographical, Doc...|An inside look at...|  6.0|                418.0|\n",
      "+-----+--------------------+--------------------+--------------------+------+--------------------+--------------------+-----+---------------------+\n",
      "only showing top 5 rows\n",
      "\n",
      "+-----+--------------------+--------------------+--------------------+------+--------------------+--------------------+-----+---------------------+-----------------+\n",
      "| type|               title|            director|                cast|rating|           listed_in|         description|label|disney_director_index|disney_cast_index|\n",
      "+-----+--------------------+--------------------+--------------------+------+--------------------+--------------------+-----+---------------------+-----------------+\n",
      "|Movie|Duck the Halls: A...|Alonso Ramirez Ra...|Chris Diamantopou...|  TV-G|   Animation, Family|Join Mickey and t...|  0.0|                163.0|            245.0|\n",
      "|Movie|Ernest Saves Chri...|         John Cherry|Jim Varney, Noell...|    PG|              Comedy|Santa Claus passe...|  3.0|                367.0|            603.0|\n",
      "|Movie|Ice Age: A Mammot...|        Karen Disher|Raymond Albert Ro...|  TV-G|Animation, Comedy...|Sid the Sloth is ...|  0.0|                388.0|             30.0|\n",
      "|Movie|The Queen Family ...|     Hamish Hamilton|Darren Criss, Ada...| TV-PG|             Musical|This is real life...|  1.0|                 97.0|            308.0|\n",
      "|Movie|   Becoming Cousteau|          Liz Garbus|Jacques Yves Cous...| PG-13|Biographical, Doc...|An inside look at...|  6.0|                418.0|            530.0|\n",
      "+-----+--------------------+--------------------+--------------------+------+--------------------+--------------------+-----+---------------------+-----------------+\n",
      "only showing top 5 rows\n",
      "\n"
     ]
    }
   ],
   "source": [
    "disney_indexer_label = StringIndexer(inputCol='rating', outputCol='label')\n",
    "disney_indexed_label = disney_indexer_label.fit(DisneyML).transform(DisneyML)\n",
    "disney_indexed_label.show(5)\n",
    "\n",
    "# Create indexes for disney_title_words \n",
    "disney_indexer_director = StringIndexer(inputCol='director', outputCol='disney_director_index')\n",
    "disney_indexed_director = disney_indexer_director.fit(disney_indexed_label).transform(disney_indexed_label)\n",
    "disney_indexed_director.show(5)\n",
    "\n",
    "#Create indexes for disney_description_tokens\n",
    "disney_indexer_cast = StringIndexer(inputCol='cast', outputCol='disney_cast_index')\n",
    "disney_indexed_cast =  disney_indexer_cast.fit(disney_indexed_director).transform(disney_indexed_director)\n",
    "disney_indexed_cast.show(5)"
   ]
  },
  {
   "cell_type": "code",
   "execution_count": 54,
   "id": "4692c70c",
   "metadata": {},
   "outputs": [
    {
     "name": "stdout",
     "output_type": "stream",
     "text": [
      "+-----+-------------+\n",
      "|label|     features|\n",
      "+-----+-------------+\n",
      "|  0.0|[163.0,245.0]|\n",
      "|  3.0|[367.0,603.0]|\n",
      "|  0.0| [388.0,30.0]|\n",
      "|  1.0| [97.0,308.0]|\n",
      "|  6.0|[418.0,530.0]|\n",
      "+-----+-------------+\n",
      "only showing top 5 rows\n",
      "\n"
     ]
    }
   ],
   "source": [
    "# Create singel feature vector\n",
    "Disney_Assembler5 = VectorAssembler(inputCols=['disney_director_index','disney_cast_index'], outputCol='features')\n",
    "\n",
    "# Creaing data pipeline\n",
    "Disney_pipeline5 = Pipeline(stages=[disney_indexer_label, disney_indexer_director, disney_indexer_cast, Disney_Assembler5])       \n",
    "Disney_fit5 = Disney_pipeline5.fit(DisneyML)\n",
    "Disney_clean5 = Disney_fit5.transform(DisneyML)\n",
    "Disney_cleaned5 = Disney_clean5.select('label', 'features')\n",
    "Disney_cleaned5.show(5)"
   ]
  },
  {
   "cell_type": "markdown",
   "id": "2c8f56af",
   "metadata": {},
   "source": [
    "b. Naive Bayes Classifier"
   ]
  },
  {
   "cell_type": "code",
   "execution_count": 55,
   "metadata": {},
   "outputs": [],
   "source": [
    "# Creating the Naive bayes model\n",
    "NB = NaiveBayes(modelType=\"multinomial\")"
   ]
  },
  {
   "cell_type": "code",
   "execution_count": 56,
   "id": "106ea8cd",
   "metadata": {},
   "outputs": [
    {
     "name": "stdout",
     "output_type": "stream",
     "text": [
      "+-----+------+\n",
      "|label|rating|\n",
      "+-----+------+\n",
      "|  0.0|  TV-G|\n",
      "|  3.0|    PG|\n",
      "|  0.0|  TV-G|\n",
      "|  1.0| TV-PG|\n",
      "|  6.0| PG-13|\n",
      "|  5.0| TV-14|\n",
      "|  5.0| TV-14|\n",
      "|  1.0| TV-PG|\n",
      "|  2.0|     G|\n",
      "|  1.0| TV-PG|\n",
      "|  0.0|  TV-G|\n",
      "|  2.0|     G|\n",
      "|  1.0| TV-PG|\n",
      "|  1.0| TV-PG|\n",
      "|  0.0|  TV-G|\n",
      "|  1.0| TV-PG|\n",
      "|  1.0| TV-PG|\n",
      "|  1.0| TV-PG|\n",
      "|  3.0|    PG|\n",
      "|  2.0|     G|\n",
      "+-----+------+\n",
      "only showing top 20 rows\n",
      "\n"
     ]
    }
   ],
   "source": [
    "# To be use for mapping prediction to label and rating (label names)\n",
    "Diney_label_rating = Dis_label_index.select('label', 'rating')\n",
    "Diney_label_rating.show()"
   ]
  },
  {
   "cell_type": "markdown",
   "id": "b3cc2559",
   "metadata": {},
   "source": [
    "Model 1: Building on Disney dataset with rating as label with title and word count as features"
   ]
  },
  {
   "cell_type": "code",
   "execution_count": 57,
   "id": "f1dd11fa",
   "metadata": {},
   "outputs": [
    {
     "name": "stdout",
     "output_type": "stream",
     "text": [
      "+-----+--------------------+--------------------+--------------------+----------+-----+------+\n",
      "|label|            features|       rawPrediction|         probability|prediction|label|rating|\n",
      "+-----+--------------------+--------------------+--------------------+----------+-----+------+\n",
      "|  0.0|(1857,[1805,1856]...|[-69.997390151339...|[0.06760218741973...|       4.0|  0.0|  TV-G|\n",
      "|  0.0|(1857,[1679,1856]...|[-67.684397974847...|[0.03306014266282...|       5.0|  0.0|  TV-G|\n",
      "|  0.0|(1857,[1617,1640,...|[-131.54751584388...|[4.68425670273936...|       7.0|  0.0|  TV-G|\n",
      "|  0.0|(1857,[1309,1856]...|[-69.226392759175...|[0.05521762984835...|       4.0|  0.0|  TV-G|\n",
      "|  0.0|(1857,[1299,1856]...|[-68.455395367011...|[0.04353618316520...|       4.0|  0.0|  TV-G|\n",
      "|  0.0|(1857,[1285,1772,...|[-132.31851323605...|[7.27033257698031...|       5.0|  0.0|  TV-G|\n",
      "|  0.0|(1857,[1271,1856]...|[-66.913400582682...|[0.02415417918244...|       5.0|  0.0|  TV-G|\n",
      "|  0.0|(1857,[1232,1856]...|[-71.539384935667...|[0.09251146244545...|       3.0|  0.0|  TV-G|\n",
      "|  0.0|(1857,[1227,1856]...|[-70.768387543503...|[0.08017451982466...|       4.0|  0.0|  TV-G|\n",
      "|  0.0|(1857,[1191,1856]...|[-69.997390151339...|[0.06760218741973...|       4.0|  0.0|  TV-G|\n",
      "|  0.0|(1857,[1080,1111,...|[-133.08951062821...|[0.00111260255924...|       6.0|  0.0|  TV-G|\n",
      "|  0.0|(1857,[733,948,18...|[-131.54751584388...|[4.68425670273936...|       7.0|  0.0|  TV-G|\n",
      "|  0.0|(1857,[681,1856],...|[-67.684397974847...|[0.03306014266282...|       5.0|  0.0|  TV-G|\n",
      "|  0.0|(1857,[665,785,18...|[-133.86050802038...|[0.00167587028658...|       6.0|  0.0|  TV-G|\n",
      "|  0.0|(1857,[639,1856],...|[-54.846693446725...|[0.99995124917138...|       0.0|  0.0|  TV-G|\n",
      "|  0.0|(1857,[633,1815,1...|[-134.74356413972...|[3.99479500884038...|       1.0|  0.0|  TV-G|\n",
      "|  0.0|(1857,[573,1856],...|[-54.846693446725...|[0.99995124917138...|       0.0|  0.0|  TV-G|\n",
      "|  0.0|(1857,[436,1856],...|[-57.930683015382...|[0.99996863798339...|       0.0|  0.0|  TV-G|\n",
      "|  0.0|(1857,[411,1856],...|[-49.449711701576...|[0.99968987162591...|       0.0|  0.0|  TV-G|\n",
      "|  0.0|(1857,[407,1544,1...|[-117.16781653143...|[0.99684781049042...|       0.0|  0.0|  TV-G|\n",
      "+-----+--------------------+--------------------+--------------------+----------+-----+------+\n",
      "only showing top 20 rows\n",
      "\n"
     ]
    }
   ],
   "source": [
    "# Splitting data into training and testing datasets \n",
    "Disney_train, Disney_test = Disney_cleaned.randomSplit([0.7, 0.3], 42)\n",
    "\n",
    "# Fitting the Naive Bayes model\n",
    "Disney_model = NB.fit(Disney_train)\n",
    "Disney_results = Disney_model.transform(Disney_test)\n",
    "\n",
    "# Mapping result with label to rating\n",
    "Disney_df = Disney_results.join(Diney_label_rating, Diney_label_rating.label == Disney_results.label)\n",
    "Disney_df.show()\n",
    "#Disney_results.show()"
   ]
  },
  {
   "cell_type": "markdown",
   "id": "37f377fb",
   "metadata": {},
   "source": [
    "Model 2: Building on Disney dataset with rating as label with description and word count as features"
   ]
  },
  {
   "cell_type": "code",
   "execution_count": 58,
   "id": "22b45bb5",
   "metadata": {},
   "outputs": [
    {
     "name": "stdout",
     "output_type": "stream",
     "text": [
      "+-----+--------------------+--------------------+--------------------+----------+-----+------+\n",
      "|label|            features|       rawPrediction|         probability|prediction|label|rating|\n",
      "+-----+--------------------+--------------------+--------------------+----------+-----+------+\n",
      "|  0.0|(4373,[1178,1227,...|[-435.42347293362...|[2.57037175956110...|       6.0|  0.0|  TV-G|\n",
      "|  0.0|(4373,[520,553,94...|[-463.97905722742...|[0.99874000118779...|       0.0|  0.0|  TV-G|\n",
      "|  0.0|(4373,[371,1227,1...|[-492.48633033931...|[1.70246309947075...|       3.0|  0.0|  TV-G|\n",
      "|  0.0|(4373,[204,409,65...|[-403.71408972295...|[1.0,1.4111074198...|       0.0|  0.0|  TV-G|\n",
      "|  0.0|(4373,[196,213,58...|[-402.49385324326...|[1.04096983662785...|       2.0|  0.0|  TV-G|\n",
      "|  0.0|(4373,[179,308,53...|[-547.22426725874...|[0.99999901392323...|       0.0|  0.0|  TV-G|\n",
      "|  0.0|(4373,[179,234,26...|[-532.51700928049...|[0.94337930536603...|       0.0|  0.0|  TV-G|\n",
      "|  0.0|(4373,[173,179,26...|[-502.00231971896...|[0.99999996455141...|       0.0|  0.0|  TV-G|\n",
      "|  0.0|(4373,[171,177,22...|[-744.00904731922...|[2.16102817290024...|       6.0|  0.0|  TV-G|\n",
      "|  0.0|(4373,[151,1332,1...|[-337.36859836090...|[2.81008724477029...|       1.0|  0.0|  TV-G|\n",
      "|  0.0|(4373,[133,151,17...|[-624.09739280013...|[0.00765321082502...|       6.0|  0.0|  TV-G|\n",
      "|  0.0|(4373,[99,168,504...|[-524.03766347701...|[2.02070786236272...|       3.0|  0.0|  TV-G|\n",
      "|  0.0|(4373,[98,115,333...|[-319.74238096687...|[0.99999922577537...|       0.0|  0.0|  TV-G|\n",
      "|  0.0|(4373,[91,106,160...|[-533.28179163947...|[0.02687231674637...|       1.0|  0.0|  TV-G|\n",
      "|  0.0|(4373,[80,104,358...|[-545.53973664819...|[4.10530866194686...|       2.0|  0.0|  TV-G|\n",
      "|  0.0|(4373,[73,102,371...|[-269.02449487221...|[0.00179904819905...|       2.0|  0.0|  TV-G|\n",
      "|  0.0|(4373,[68,396,592...|[-301.77773100070...|[0.01022893407567...|       1.0|  0.0|  TV-G|\n",
      "|  0.0|(4373,[56,74,263,...|[-376.91664093146...|[5.32117872765837...|       1.0|  0.0|  TV-G|\n",
      "|  0.0|(4373,[48,91,114,...|[-481.36331665950...|[0.99999999817195...|       0.0|  0.0|  TV-G|\n",
      "|  0.0|(4373,[47,304,384...|[-477.27572349520...|[1.42097703687468...|       5.0|  0.0|  TV-G|\n",
      "+-----+--------------------+--------------------+--------------------+----------+-----+------+\n",
      "only showing top 20 rows\n",
      "\n"
     ]
    }
   ],
   "source": [
    "# Splitting data into training and testing datasets \n",
    "Disney_train2, Disney_test2 = Disney_cleaned2.randomSplit([0.7, 0.3], 42)\n",
    "\n",
    "# Fitting the Naive Bayes model\n",
    "Disney_model2 = NB.fit(Disney_train2)\n",
    "Disney_results2 = Disney_model2.transform(Disney_test2)\n",
    "\n",
    "# Mapping result with label to rating\n",
    "Disney_df2 = Disney_results2.join(Diney_label_rating, Diney_label_rating.label == Disney_results2.label)\n",
    "Disney_df2.show()"
   ]
  },
  {
   "cell_type": "markdown",
   "id": "ff9e6c46",
   "metadata": {},
   "source": [
    "Model 3: Building on Disney dataset with rating as label with combined title_description, type, director, cast, and listed_in as features"
   ]
  },
  {
   "cell_type": "code",
   "execution_count": 59,
   "id": "e7a883bb",
   "metadata": {},
   "outputs": [
    {
     "name": "stdout",
     "output_type": "stream",
     "text": [
      "+-----+--------------------+--------------------+----------+-----+------+\n",
      "|label|            features|         probability|prediction|label|rating|\n",
      "+-----+--------------------+--------------------+----------+-----+------+\n",
      "|  0.0|(1860,[1805,1856,...|[1.37534353435164...|       4.0|  0.0|  TV-G|\n",
      "|  0.0|(1860,[1679,1856,...|[5.53320936961734...|       7.0|  0.0|  TV-G|\n",
      "|  0.0|(1860,[1617,1640,...|[2.72483557738442...|       3.0|  0.0|  TV-G|\n",
      "|  0.0|(1860,[1309,1856,...|[2.15929501221204...|       7.0|  0.0|  TV-G|\n",
      "|  0.0|(1860,[1299,1856,...|[2.32172652153523...|       7.0|  0.0|  TV-G|\n",
      "|  0.0|(1860,[1285,1772,...|[7.46538776802552...|       3.0|  0.0|  TV-G|\n",
      "|  0.0|(1860,[1271,1857,...|[5.14152621483803...|       2.0|  0.0|  TV-G|\n",
      "|  0.0|(1860,[1232,1857,...|[2.00743312433090...|       9.0|  0.0|  TV-G|\n",
      "|  0.0|(1860,[1227,1856,...|[6.30856548098974...|       7.0|  0.0|  TV-G|\n",
      "|  0.0|(1860,[1191,1856,...|[6.91131224002622...|       5.0|  0.0|  TV-G|\n",
      "|  0.0|(1860,[1080,1111,...|[9.38564483376867...|       4.0|  0.0|  TV-G|\n",
      "|  0.0|(1860,[733,948,18...|[1.91773331137443...|       3.0|  0.0|  TV-G|\n",
      "|  0.0|(1860,[681,1859],...|[6.61427544705398...|       9.0|  0.0|  TV-G|\n",
      "|  0.0|(1860,[665,785,18...|[6.44346865776190...|       7.0|  0.0|  TV-G|\n",
      "|  0.0|(1860,[639,1857,1...|[0.80530394956773...|       0.0|  0.0|  TV-G|\n",
      "|  0.0|(1860,[633,1815,1...|[1.41629163825796...|       3.0|  0.0|  TV-G|\n",
      "|  0.0|(1860,[573,1856,1...|[0.99679974096764...|       0.0|  0.0|  TV-G|\n",
      "|  0.0|(1860,[436,1857,1...|[6.88988729638509...|       2.0|  0.0|  TV-G|\n",
      "|  0.0|(1860,[411,1857,1...|[8.47224509504166...|       5.0|  0.0|  TV-G|\n",
      "|  0.0|(1860,[407,1544,1...|[2.67449241828107...|       8.0|  0.0|  TV-G|\n",
      "+-----+--------------------+--------------------+----------+-----+------+\n",
      "only showing top 20 rows\n",
      "\n"
     ]
    }
   ],
   "source": [
    "# Splitting data into training and testing datasets \n",
    "Disney_train3, Disney_test3 = Disney_cleaned3.randomSplit([0.7, 0.3], 42)\n",
    "\n",
    "# Fitting the Naive Bayes model\n",
    "Disney_model3 = NB.fit(Disney_train3)\n",
    "Disney_results3 = Disney_model3.transform(Disney_test3)\n",
    "Disney_results3 = Disney_results3.select('label', 'features', 'probability', 'prediction')\n",
    "\n",
    "# Mapping result with label to rating\n",
    "Disney_df3 = Disney_results3.join(Diney_label_rating, Diney_label_rating.label == Disney_results3.label)\n",
    "Disney_df3.show()"
   ]
  },
  {
   "cell_type": "markdown",
   "id": "f3a3a138",
   "metadata": {},
   "source": [
    "Model 4: Building on Disney dataset with rating as label with combined title_description, and director as features"
   ]
  },
  {
   "cell_type": "code",
   "execution_count": 60,
   "id": "5123187f",
   "metadata": {},
   "outputs": [
    {
     "name": "stdout",
     "output_type": "stream",
     "text": [
      "+-----+--------------------+--------------------+----------+-----+------+\n",
      "|label|            features|         probability|prediction|label|rating|\n",
      "+-----+--------------------+--------------------+----------+-----+------+\n",
      "|  0.0|(4978,[424,607,10...|[1.31846408711039...|       3.0|  0.0|  TV-G|\n",
      "|  0.0|(4978,[293,309,58...|[2.06400109453335...|       9.0|  0.0|  TV-G|\n",
      "|  0.0|(4978,[287,406,10...|[7.38305453166451...|      10.0|  0.0|  TV-G|\n",
      "|  0.0|(4978,[139,140,24...|[3.04784821212518...|       7.0|  0.0|  TV-G|\n",
      "|  0.0|(4978,[136,183,22...|[2.10700468215555...|       3.0|  0.0|  TV-G|\n",
      "|  0.0|(4978,[123,317,50...|[1.33772768274242...|       9.0|  0.0|  TV-G|\n",
      "|  0.0|(4978,[112,274,74...|[5.28754885792644...|       2.0|  0.0|  TV-G|\n",
      "|  0.0|(4978,[110,133,21...|[1.07993775688854...|       2.0|  0.0|  TV-G|\n",
      "|  0.0|(4978,[99,199,621...|[2.04257521461063...|       3.0|  0.0|  TV-G|\n",
      "|  0.0|(4978,[96,227,237...|[2.99169147680280...|       8.0|  0.0|  TV-G|\n",
      "|  0.0|(4978,[89,463,896...|[8.02630437842713...|      10.0|  0.0|  TV-G|\n",
      "|  0.0|(4978,[71,270,397...|[6.53166671578213...|       2.0|  0.0|  TV-G|\n",
      "|  0.0|(4978,[68,427,572...|[1.24956255370643...|      10.0|  0.0|  TV-G|\n",
      "|  0.0|(4978,[66,300,989...|[6.25539891272015...|       6.0|  0.0|  TV-G|\n",
      "|  0.0|(4978,[60,136,186...|[1.03763304142016...|       3.0|  0.0|  TV-G|\n",
      "|  0.0|(4978,[56,235,301...|[4.62167917230223...|       5.0|  0.0|  TV-G|\n",
      "|  0.0|(4978,[50,66,73,1...|[1.73543205699583...|      10.0|  0.0|  TV-G|\n",
      "|  0.0|(4978,[37,139,112...|[1.45574928537491...|      10.0|  0.0|  TV-G|\n",
      "|  0.0|(4978,[33,48,244,...|[4.13181976424149...|       9.0|  0.0|  TV-G|\n",
      "|  0.0|(4978,[31,34,167,...|[0.28681149707763...|       8.0|  0.0|  TV-G|\n",
      "+-----+--------------------+--------------------+----------+-----+------+\n",
      "only showing top 20 rows\n",
      "\n"
     ]
    }
   ],
   "source": [
    "# Splitting data into training and testing datasets \n",
    "Disney_train4, Disney_test4 = Disney_cleaned4.randomSplit([0.7, 0.3], 42)\n",
    "\n",
    "# Fitting the Naive Bayes model\n",
    "Disney_model4 = NB.fit(Disney_train4)\n",
    "Disney_results4 = Disney_model4.transform(Disney_test4)\n",
    "Disney_results4 = Disney_results4.select('label', 'features', 'probability', 'prediction')\n",
    "\n",
    "# Mapping result with label to rating\n",
    "Disney_df4 = Disney_results4.join(Diney_label_rating, Diney_label_rating.label == Disney_results4.label)\n",
    "Disney_df4.show()"
   ]
  },
  {
   "cell_type": "markdown",
   "id": "60773056",
   "metadata": {},
   "source": [
    "Model 5: Using director column and word count as features and rating as label"
   ]
  },
  {
   "cell_type": "code",
   "execution_count": 61,
   "id": "f4a8e96f",
   "metadata": {},
   "outputs": [
    {
     "name": "stdout",
     "output_type": "stream",
     "text": [
      "+-----+--------------+--------------------+----------+-----+------+\n",
      "|label|      features|         probability|prediction|label|rating|\n",
      "+-----+--------------+--------------------+----------+-----+------+\n",
      "|  0.0| [608.0,724.0]|[6.08348464226433...|       9.0|  0.0|  TV-G|\n",
      "|  0.0| [573.0,134.0]|[2.52532798113609...|       9.0|  0.0|  TV-G|\n",
      "|  0.0| [557.0,693.0]|[1.95635246814880...|       9.0|  0.0|  TV-G|\n",
      "|  0.0| [476.0,198.0]|[9.0076648916105E...|       9.0|  0.0|  TV-G|\n",
      "|  0.0| [471.0,204.0]|[1.24878296480178...|       9.0|  0.0|  TV-G|\n",
      "|  0.0| [459.0,604.0]|[6.45746253409383...|       9.0|  0.0|  TV-G|\n",
      "|  0.0|   [452.0,0.0]|[2.23762609600578...|       9.0|  0.0|  TV-G|\n",
      "|  0.0| [449.0,618.0]|[2.83526003842072...|       9.0|  0.0|  TV-G|\n",
      "|  0.0|[448.0,1036.0]|[3.16898587900903...|       3.0|  0.0|  TV-G|\n",
      "|  0.0| [433.0,512.0]|[1.11395954621255...|       9.0|  0.0|  TV-G|\n",
      "|  0.0| [398.0,213.0]|[7.37470770490985...|       9.0|  0.0|  TV-G|\n",
      "|  0.0|   [264.0,0.0]|[1.03210373833920...|       9.0|  0.0|  TV-G|\n",
      "|  0.0|[238.0,1184.0]|[0.99933013357990...|       0.0|  0.0|  TV-G|\n",
      "|  0.0|[215.0,1115.0]|[0.99978568131321...|       0.0|  0.0|  TV-G|\n",
      "|  0.0|[196.0,1059.0]|[0.99991973639363...|       0.0|  0.0|  TV-G|\n",
      "|  0.0|   [171.0,0.0]|[2.70760449135404...|       9.0|  0.0|  TV-G|\n",
      "|  0.0| [162.0,348.0]|[1.34699113689935...|       3.0|  0.0|  TV-G|\n",
      "|  0.0| [121.0,950.0]|[0.74762795945315...|       0.0|  0.0|  TV-G|\n",
      "|  0.0|  [85.0,370.0]|[0.58581414219460...|       0.0|  0.0|  TV-G|\n",
      "|  0.0|    [83.0,0.0]|[6.10825124593114...|       9.0|  0.0|  TV-G|\n",
      "+-----+--------------+--------------------+----------+-----+------+\n",
      "only showing top 20 rows\n",
      "\n"
     ]
    }
   ],
   "source": [
    "# Splitting data into training and testing datasets \n",
    "Disney_train5, Disney_test5 = Disney_cleaned5.randomSplit([0.7, 0.3], 42)\n",
    "\n",
    "# Fitting the Naive Bayes model\n",
    "Disney_model5 = NB.fit(Disney_train5)\n",
    "Disney_results5 = Disney_model5.transform(Disney_test5)\n",
    "Disney_results5 = Disney_results5.select('label', 'features', 'probability', 'prediction')\n",
    "\n",
    "# Mapping result with label to rating\n",
    "Disney_df5 = Disney_results5.join(Diney_label_rating, Diney_label_rating.label == Disney_results5.label)\n",
    "Disney_df5.show()"
   ]
  },
  {
   "cell_type": "markdown",
   "id": "ec3c7f11",
   "metadata": {},
   "source": [
    "# A.2 Model Evaluation"
   ]
  },
  {
   "cell_type": "code",
   "execution_count": 62,
   "id": "b28af551",
   "metadata": {},
   "outputs": [
    {
     "name": "stdout",
     "output_type": "stream",
     "text": [
      "0.3568553206421365\n"
     ]
    }
   ],
   "source": [
    "# Evaluating NB model 1\n",
    "accuracy_eval = MulticlassClassificationEvaluator()\n",
    "accuracy = accuracy_eval.evaluate(Disney_results)\n",
    "print(accuracy)"
   ]
  },
  {
   "cell_type": "code",
   "execution_count": 63,
   "id": "87e70f16",
   "metadata": {},
   "outputs": [
    {
     "name": "stdout",
     "output_type": "stream",
     "text": [
      "0.3393782383419689\n"
     ]
    }
   ],
   "source": [
    "# Evaluating NB model 2\n",
    "accuracy_eval2 = MulticlassClassificationEvaluator(labelCol=\"label\", predictionCol=\"prediction\", metricName=\"accuracy\")\n",
    "accuracy2 = accuracy_eval2.evaluate(Disney_results2)\n",
    "print(accuracy2)"
   ]
  },
  {
   "cell_type": "code",
   "execution_count": 64,
   "id": "bd85fb75",
   "metadata": {},
   "outputs": [
    {
     "name": "stdout",
     "output_type": "stream",
     "text": [
      "0.19430051813471502\n"
     ]
    }
   ],
   "source": [
    "# Evaluating NB model 3\n",
    "accuracy_eval3 = MulticlassClassificationEvaluator(labelCol=\"label\", predictionCol=\"prediction\", metricName=\"accuracy\")\n",
    "accuracy3 = accuracy_eval3.evaluate(Disney_results3)\n",
    "print(accuracy3)"
   ]
  },
  {
   "cell_type": "code",
   "execution_count": 65,
   "id": "2c49fe5b",
   "metadata": {},
   "outputs": [
    {
     "name": "stdout",
     "output_type": "stream",
     "text": [
      "0.31088082901554404\n"
     ]
    }
   ],
   "source": [
    "# Evaluating NB model 4\n",
    "accuracy_eval4 = MulticlassClassificationEvaluator(labelCol=\"label\", predictionCol=\"prediction\", metricName=\"accuracy\")\n",
    "accuracy4 = accuracy_eval4.evaluate(Disney_results4)\n",
    "print(accuracy4)"
   ]
  },
  {
   "cell_type": "code",
   "execution_count": 66,
   "id": "09851303",
   "metadata": {},
   "outputs": [
    {
     "name": "stdout",
     "output_type": "stream",
     "text": [
      "0.12953367875647667\n"
     ]
    }
   ],
   "source": [
    "# Evaluating NB model 5\n",
    "accuracy_eval5 = MulticlassClassificationEvaluator(labelCol=\"label\", predictionCol=\"prediction\", metricName=\"accuracy\")\n",
    "accuracy5 = accuracy_eval5.evaluate(Disney_results5)\n",
    "print(accuracy5)"
   ]
  },
  {
   "cell_type": "markdown",
   "id": "3f34e318",
   "metadata": {},
   "source": [
    "# B. Netflix Data"
   ]
  },
  {
   "cell_type": "code",
   "execution_count": 67,
   "id": "001946c3",
   "metadata": {},
   "outputs": [
    {
     "name": "stdout",
     "output_type": "stream",
     "text": [
      "+-------+--------------------+--------------------+--------------------+------+--------------------+--------------------+\n",
      "|   type|               title|            director|                cast|rating|           listed_in|         description|\n",
      "+-------+--------------------+--------------------+--------------------+------+--------------------+--------------------+\n",
      "|  Movie|Dick Johnson Is Dead|     Kirsten Johnson|                    | PG-13|       Documentaries|As her father nea...|\n",
      "|TV Show|       Blood & Water|                    |Ama Qamata, Khosi...| TV-MA|International TV ...|After crossing pa...|\n",
      "|TV Show|           Ganglands|     Julien Leclercq|Sami Bouajila, Tr...| TV-MA|Crime TV Shows, I...|To protect his fa...|\n",
      "|TV Show|Jailbirds New Orl...|                    |                    | TV-MA|Docuseries, Reali...|Feuds, flirtation...|\n",
      "|TV Show|        Kota Factory|                    |Mayur More, Jiten...| TV-MA|International TV ...|In a city of coac...|\n",
      "|TV Show|       Midnight Mass|       Mike Flanagan|Kate Siegel, Zach...| TV-MA|TV Dramas, TV Hor...|The arrival of a ...|\n",
      "|  Movie|My Little Pony: A...|Robert Cullen, Jo...|Vanessa Hudgens, ...|    PG|Children & Family...|Equestria's divid...|\n",
      "|  Movie|             Sankofa|        Haile Gerima|Kofi Ghanaba, Oya...| TV-MA|Dramas, Independe...|On a photo shoot ...|\n",
      "|TV Show|The Great British...|     Andy Devonshire|Mel Giedroyc, Sue...| TV-14|British TV Shows,...|A talented batch ...|\n",
      "|  Movie|        The Starling|      Theodore Melfi|Melissa McCarthy,...| PG-13|    Comedies, Dramas|A woman adjusting...|\n",
      "|TV Show|Vendetta: Truth, ...|                    |                    | TV-MA|Crime TV Shows, D...|\"Sicily boasts a ...|\n",
      "|TV Show|    Bangkok Breaking|   Kongkiat Komesiri|Sukollawat Kanaro...| TV-MA|Crime TV Shows, I...|Struggling to ear...|\n",
      "|  Movie|        Je Suis Karl| Christian Schwochow|Luna Wedler, Jann...| TV-MA|Dramas, Internati...|After most of her...|\n",
      "|  Movie|Confessions of an...|       Bruno Garotti|Klara Castanho, L...| TV-PG|Children & Family...|When the clever b...|\n",
      "|TV Show|Crime Stories: In...|                    |                    | TV-MA|British TV Shows,...|Cameras following...|\n",
      "|TV Show|   Dear White People|                    |Logan Browning, B...| TV-MA|TV Comedies, TV D...|\"Students of colo...|\n",
      "|  Movie|Europe's Most Dan...|Pedro de Echave G...|                    | TV-MA|Documentaries, In...|Declassified docu...|\n",
      "|TV Show|     Falsa identidad|                    |Luis Ernesto Fran...| TV-MA|Crime TV Shows, S...|Strangers Diego a...|\n",
      "|  Movie|           Intrusion|          Adam Salky|Freida Pinto, Log...| TV-14|           Thrillers|After a deadly ho...|\n",
      "|TV Show|              Jaguar|                    |Blanca Suárez, Iv...| TV-MA|International TV ...|In the 1960s, a H...|\n",
      "+-------+--------------------+--------------------+--------------------+------+--------------------+--------------------+\n",
      "only showing top 20 rows\n",
      "\n"
     ]
    }
   ],
   "source": [
    "NetflixML = netflixEDA.select(\"type\", \"title\", \"director\", \"cast\", \"rating\", \"listed_in\", \"description\")\n",
    "NetflixML.show()"
   ]
  },
  {
   "cell_type": "code",
   "execution_count": 68,
   "id": "08a59124",
   "metadata": {},
   "outputs": [
    {
     "name": "stdout",
     "output_type": "stream",
     "text": [
      "+--------------------+\n",
      "|              rating|\n",
      "+--------------------+\n",
      "|    November 1, 2020|\n",
      "|    Shavidee Trotter|\n",
      "|       Adriane Lenox|\n",
      "|                TV-Y|\n",
      "|       Maury Chaykin|\n",
      "|                2019|\n",
      "|                2017|\n",
      "|                  UR|\n",
      "| Keppy Ekpenyong ...|\n",
      "|      Benn Northover|\n",
      "|                  PG|\n",
      "|         Jide Kosoko|\n",
      "|               TV-MA|\n",
      "|     Jowharah Jones\"|\n",
      "|            TV-Y7-FV|\n",
      "|                2006|\n",
      "|      Itziar Aizpuru|\n",
      "|                  NR|\n",
      "|               TV-PG|\n",
      "|               NC-17|\n",
      "+--------------------+\n",
      "only showing top 20 rows\n",
      "\n"
     ]
    },
    {
     "data": {
      "text/plain": [
       "32"
      ]
     },
     "execution_count": 68,
     "metadata": {},
     "output_type": "execute_result"
    }
   ],
   "source": [
    "NetflixML.select(\"rating\").distinct().show()\n",
    "NetflixML.select(\"rating\").distinct().count()"
   ]
  },
  {
   "cell_type": "markdown",
   "id": "86224480",
   "metadata": {},
   "source": [
    "# B.1 Model Building"
   ]
  },
  {
   "cell_type": "markdown",
   "id": "7a5f9b2e",
   "metadata": {},
   "source": [
    "a. Natural Language Processing"
   ]
  },
  {
   "cell_type": "markdown",
   "id": "d4bed2e4",
   "metadata": {},
   "source": [
    "Model 6: Running model on Netflix title column and word count as features"
   ]
  },
  {
   "cell_type": "code",
   "execution_count": 69,
   "id": "0dcd725e",
   "metadata": {},
   "outputs": [
    {
     "name": "stdout",
     "output_type": "stream",
     "text": [
      "+-------+--------------------+---------------+--------------------+------+--------------------+--------------------+-----+\n",
      "|   type|               title|       director|                cast|rating|           listed_in|         description|label|\n",
      "+-------+--------------------+---------------+--------------------+------+--------------------+--------------------+-----+\n",
      "|  Movie|Dick Johnson Is Dead|Kirsten Johnson|                    | PG-13|       Documentaries|As her father nea...|  4.0|\n",
      "|TV Show|       Blood & Water|               |Ama Qamata, Khosi...| TV-MA|International TV ...|After crossing pa...|  0.0|\n",
      "|TV Show|           Ganglands|Julien Leclercq|Sami Bouajila, Tr...| TV-MA|Crime TV Shows, I...|To protect his fa...|  0.0|\n",
      "+-------+--------------------+---------------+--------------------+------+--------------------+--------------------+-----+\n",
      "only showing top 3 rows\n",
      "\n"
     ]
    }
   ],
   "source": [
    "# Creating index for rating\n",
    "Netflix_numeric = StringIndexer(inputCol='rating', outputCol='label')\n",
    "Netflix_label_index = Netflix_numeric.fit(NetflixML).transform(NetflixML)\n",
    "Netflix_label_index.show(3)"
   ]
  },
  {
   "cell_type": "code",
   "execution_count": 70,
   "id": "38b45026",
   "metadata": {},
   "outputs": [
    {
     "name": "stdout",
     "output_type": "stream",
     "text": [
      "+-------+--------------------+---------------+--------------------+------+--------------------+--------------------+------------+\n",
      "|   type|               title|       director|                cast|rating|           listed_in|         description|title_length|\n",
      "+-------+--------------------+---------------+--------------------+------+--------------------+--------------------+------------+\n",
      "|  Movie|Dick Johnson Is Dead|Kirsten Johnson|                    | PG-13|       Documentaries|As her father nea...|          20|\n",
      "|TV Show|       Blood & Water|               |Ama Qamata, Khosi...| TV-MA|International TV ...|After crossing pa...|          13|\n",
      "|TV Show|           Ganglands|Julien Leclercq|Sami Bouajila, Tr...| TV-MA|Crime TV Shows, I...|To protect his fa...|           9|\n",
      "|TV Show|Jailbirds New Orl...|               |                    | TV-MA|Docuseries, Reali...|Feuds, flirtation...|          21|\n",
      "|TV Show|        Kota Factory|               |Mayur More, Jiten...| TV-MA|International TV ...|In a city of coac...|          12|\n",
      "+-------+--------------------+---------------+--------------------+------+--------------------+--------------------+------------+\n",
      "only showing top 5 rows\n",
      "\n"
     ]
    }
   ],
   "source": [
    "NetflixNLP = NetflixML.withColumn('title_length', length(NetflixML['title']))\n",
    "NetflixNLP.show(5)"
   ]
  },
  {
   "cell_type": "code",
   "execution_count": 71,
   "id": "f412a51f",
   "metadata": {},
   "outputs": [
    {
     "name": "stdout",
     "output_type": "stream",
     "text": [
      "+-------+--------------------+---------------+--------------------+------+--------------------+--------------------+------------+--------------------+--------------------+--------------------+\n",
      "|   type|               title|       director|                cast|rating|           listed_in|         description|title_length|           Net_words|      filtered_title|           vec_title|\n",
      "+-------+--------------------+---------------+--------------------+------+--------------------+--------------------+------------+--------------------+--------------------+--------------------+\n",
      "|  Movie|Dick Johnson Is Dead|Kirsten Johnson|                    | PG-13|       Documentaries|As her father nea...|          20|[dick, johnson, i...|[dick, johnson, d...|(8785,[87,853,140...|\n",
      "|TV Show|       Blood & Water|               |Ama Qamata, Khosi...| TV-MA|International TV ...|After crossing pa...|          13|      [blood, water]|      [blood, water]|(8785,[89,159],[1...|\n",
      "|TV Show|           Ganglands|Julien Leclercq|Sami Bouajila, Tr...| TV-MA|Crime TV Shows, I...|To protect his fa...|           9|         [ganglands]|         [ganglands]| (8785,[4587],[1.0])|\n",
      "|TV Show|Jailbirds New Orl...|               |                    | TV-MA|Docuseries, Reali...|Feuds, flirtation...|          21|[jailbirds, new, ...|[jailbirds, new, ...|(8785,[27,2626,81...|\n",
      "|TV Show|        Kota Factory|               |Mayur More, Jiten...| TV-MA|International TV ...|In a city of coac...|          12|     [kota, factory]|     [kota, factory]|(8785,[479,4220],...|\n",
      "+-------+--------------------+---------------+--------------------+------+--------------------+--------------------+------------+--------------------+--------------------+--------------------+\n",
      "only showing top 5 rows\n",
      "\n"
     ]
    }
   ],
   "source": [
    "# Tokenize words in title column\n",
    "Net_tokenizer1 = RegexTokenizer(inputCol=\"title\", outputCol=\"Net_words\", pattern='\\\\W')\n",
    "Net_tokenized1 = Net_tokenizer1.transform(NetflixNLP)\n",
    "\n",
    "# Remove stopwords in tokenized words column\n",
    "Netflix_remover = StopWordsRemover(inputCol='Net_words', outputCol='filtered_title')\n",
    "removed_Netflix = Netflix_remover.transform(Net_tokenized1)\n",
    "\n",
    "# Processing title column\n",
    "Netflix_cv1 = CountVectorizer(inputCol='filtered_title', outputCol='vec_title')\n",
    "Net_vectorized1 = Netflix_cv1.fit(removed_Netflix).transform(removed_Netflix)\n",
    "Net_vectorized1.show(5)\n",
    "\n",
    "Netflix_idf1 = IDF(inputCol='vec_title', outputCol='Netflix_tfidf')\n",
    "Netflix_TF_IDF1 = Netflix_idf1.fit(Net_vectorized1).transform(Net_vectorized1)\n",
    "\n",
    "# Create single feature vector features\n",
    "Netflix_Assembler = VectorAssembler(inputCols=['Netflix_tfidf','title_length'], outputCol='features')"
   ]
  },
  {
   "cell_type": "code",
   "execution_count": 72,
   "id": "a61f1fba",
   "metadata": {},
   "outputs": [
    {
     "name": "stdout",
     "output_type": "stream",
     "text": [
      "+-------+--------------------+---------------+--------------------+------+--------------------+--------------------+------------+------------------+\n",
      "|   type|               title|       director|                cast|rating|           listed_in|         description|title_length|description_length|\n",
      "+-------+--------------------+---------------+--------------------+------+--------------------+--------------------+------------+------------------+\n",
      "|  Movie|Dick Johnson Is Dead|Kirsten Johnson|                    | PG-13|       Documentaries|As her father nea...|          20|               152|\n",
      "|TV Show|       Blood & Water|               |Ama Qamata, Khosi...| TV-MA|International TV ...|After crossing pa...|          13|               147|\n",
      "|TV Show|           Ganglands|Julien Leclercq|Sami Bouajila, Tr...| TV-MA|Crime TV Shows, I...|To protect his fa...|           9|               146|\n",
      "|TV Show|Jailbirds New Orl...|               |                    | TV-MA|Docuseries, Reali...|Feuds, flirtation...|          21|               147|\n",
      "|TV Show|        Kota Factory|               |Mayur More, Jiten...| TV-MA|International TV ...|In a city of coac...|          12|               152|\n",
      "+-------+--------------------+---------------+--------------------+------+--------------------+--------------------+------------+------------------+\n",
      "only showing top 5 rows\n",
      "\n"
     ]
    }
   ],
   "source": [
    "# Using description length for transforming features later on\n",
    "NetflixNLP = NetflixNLP.withColumn('description_length', length(NetflixNLP['description']))\n",
    "NetflixNLP.show(5)"
   ]
  },
  {
   "cell_type": "code",
   "execution_count": 73,
   "id": "f000df30",
   "metadata": {},
   "outputs": [
    {
     "name": "stdout",
     "output_type": "stream",
     "text": [
      "+-----+--------------------+\n",
      "|label|            features|\n",
      "+-----+--------------------+\n",
      "|  4.0|(8786,[87,853,140...|\n",
      "|  0.0|(8786,[89,159,878...|\n",
      "|  0.0|(8786,[4587,8785]...|\n",
      "|  0.0|(8786,[27,2626,81...|\n",
      "|  0.0|(8786,[479,4220,8...|\n",
      "+-----+--------------------+\n",
      "only showing top 5 rows\n",
      "\n"
     ]
    }
   ],
   "source": [
    "# Building data pipeline and fitting to data\n",
    "Netflix_pipeline1 = Pipeline(stages=[Netflix_numeric, Net_tokenizer1, Netflix_remover, Netflix_cv1, Netflix_idf1, Netflix_Assembler])  \n",
    "Netflix_fit1 = Netflix_pipeline1.fit(NetflixNLP)\n",
    "Netflix_clean1 = Netflix_fit1.transform(NetflixNLP)\n",
    "Netflix_cleaned1 = Netflix_clean1.select('label', 'features')\n",
    "Netflix_cleaned1.show(5)"
   ]
  },
  {
   "cell_type": "markdown",
   "id": "80e1c703",
   "metadata": {},
   "source": [
    "Model 7: Running on Netflix data using description column and word count as features"
   ]
  },
  {
   "cell_type": "code",
   "execution_count": 74,
   "metadata": {},
   "outputs": [
    {
     "name": "stdout",
     "output_type": "stream",
     "text": [
      "+-------+--------------------+---------------+--------------------+------+--------------------+--------------------+------------+--------------------+--------------------+\n",
      "|   type|               title|       director|                cast|rating|           listed_in|         description|title_length|           Net_words|          Net_tokens|\n",
      "+-------+--------------------+---------------+--------------------+------+--------------------+--------------------+------------+--------------------+--------------------+\n",
      "|  Movie|Dick Johnson Is Dead|Kirsten Johnson|                    | PG-13|       Documentaries|As her father nea...|          20|[dick, johnson, i...|[as, her, father,...|\n",
      "|TV Show|       Blood & Water|               |Ama Qamata, Khosi...| TV-MA|International TV ...|After crossing pa...|          13|      [blood, water]|[after, crossing,...|\n",
      "|TV Show|           Ganglands|Julien Leclercq|Sami Bouajila, Tr...| TV-MA|Crime TV Shows, I...|To protect his fa...|           9|         [ganglands]|[to, protect, his...|\n",
      "|TV Show|Jailbirds New Orl...|               |                    | TV-MA|Docuseries, Reali...|Feuds, flirtation...|          21|[jailbirds, new, ...|[feuds, flirtatio...|\n",
      "|TV Show|        Kota Factory|               |Mayur More, Jiten...| TV-MA|International TV ...|In a city of coac...|          12|     [kota, factory]|[in, a, city, of,...|\n",
      "+-------+--------------------+---------------+--------------------+------+--------------------+--------------------+------------+--------------------+--------------------+\n",
      "only showing top 5 rows\n",
      "\n",
      "+-------+--------------------+---------------+--------------------+------+--------------------+--------------------+------------+--------------------+--------------------+--------------------+--------------------+\n",
      "|   type|               title|       director|                cast|rating|           listed_in|         description|title_length|           Net_words|          Net_tokens|filtered_description|     vec_description|\n",
      "+-------+--------------------+---------------+--------------------+------+--------------------+--------------------+------------+--------------------+--------------------+--------------------+--------------------+\n",
      "|  Movie|Dick Johnson Is Dead|Kirsten Johnson|                    | PG-13|       Documentaries|As her father nea...|          20|[dick, johnson, i...|[as, her, father,...|[father, nears, e...|(18944,[0,16,22,4...|\n",
      "|TV Show|       Blood & Water|               |Ama Qamata, Khosi...| TV-MA|International TV ...|After crossing pa...|          13|      [blood, water]|[after, crossing,...|[crossing, paths,...|(18944,[15,33,35,...|\n",
      "|TV Show|           Ganglands|Julien Leclercq|Sami Bouajila, Tr...| TV-MA|Crime TV Shows, I...|To protect his fa...|           9|         [ganglands]|[to, protect, his...|[protect, family,...|(18944,[3,41,42,9...|\n",
      "|TV Show|Jailbirds New Orl...|               |                    | TV-MA|Docuseries, Reali...|Feuds, flirtation...|          21|[jailbirds, new, ...|[feuds, flirtatio...|[feuds, flirtatio...|(18944,[2,11,56,1...|\n",
      "|TV Show|        Kota Factory|               |Mayur More, Jiten...| TV-MA|International TV ...|In a city of coac...|          12|     [kota, factory]|[in, a, city, of,...|[city, coaching, ...|(18944,[0,9,31,68...|\n",
      "+-------+--------------------+---------------+--------------------+------+--------------------+--------------------+------------+--------------------+--------------------+--------------------+--------------------+\n",
      "only showing top 5 rows\n",
      "\n"
     ]
    }
   ],
   "source": [
    "# Tokenize words in description column\n",
    "Net_tokenizer2 = RegexTokenizer(inputCol=\"description\", outputCol=\"Net_tokens\", pattern='\\\\W')\n",
    "Net_tokenized2 = Net_tokenizer2.transform(Net_tokenized1)\n",
    "Net_tokenized2.show(5)\n",
    "\n",
    "# Remove stopwords in tokenized Net_tokens column\n",
    "Netflix_remover2 = StopWordsRemover(inputCol='Net_tokens', outputCol='filtered_description')\n",
    "removed_Netflix2 = Netflix_remover2.transform(Net_tokenized2)\n",
    "\n",
    "# Processing Netflix description column\n",
    "Netflix_cv2 = CountVectorizer(inputCol='filtered_description', outputCol='vec_description')\n",
    "Net_vectorized2 = Netflix_cv2.fit(removed_Netflix2).transform(removed_Netflix2)\n",
    "Net_vectorized2.show(5)\n",
    "\n",
    "Netflix_idf2 = IDF(inputCol='vec_description', outputCol='Netflix_tfidf2')\n",
    "Netflix_TF_IDF2 = Netflix_idf2.fit(Net_vectorized2).transform(Net_vectorized2)\n",
    "\n",
    "# Creating index for rating\n",
    "Netflix_numeric2 = StringIndexer(inputCol='rating', outputCol='label')\n",
    "\n",
    "# Vectorized features in single vector\n",
    "Netflix_Assembler2 = VectorAssembler(inputCols=['Netflix_tfidf2','description_length'], outputCol='features')\n"
   ]
  },
  {
   "cell_type": "code",
   "execution_count": 75,
   "id": "910f7985",
   "metadata": {},
   "outputs": [
    {
     "name": "stdout",
     "output_type": "stream",
     "text": [
      "+-----+--------------------+\n",
      "|label|            features|\n",
      "+-----+--------------------+\n",
      "|  4.0|(18945,[0,16,22,4...|\n",
      "|  0.0|(18945,[15,33,35,...|\n",
      "|  0.0|(18945,[3,41,42,9...|\n",
      "|  0.0|(18945,[2,11,56,1...|\n",
      "|  0.0|(18945,[0,9,31,68...|\n",
      "|  0.0|(18945,[1,33,258,...|\n",
      "|  7.0|(18945,[121,163,1...|\n",
      "|  0.0|(18945,[29,43,46,...|\n",
      "|  1.0|(18945,[52,114,18...|\n",
      "|  4.0|(18945,[0,8,14,62...|\n",
      "|  0.0|(18945,[55,224,24...|\n",
      "|  0.0|(18945,[5,10,147,...|\n",
      "|  0.0|(18945,[1,3,8,25,...|\n",
      "|  2.0|(18945,[2,15,238,...|\n",
      "|  0.0|(18945,[40,55,85,...|\n",
      "|  0.0|(18945,[0,105,178...|\n",
      "|  0.0|(18945,[0,4,432,5...|\n",
      "|  0.0|(18945,[17,73,95,...|\n",
      "|  1.0|(18945,[2,17,47,7...|\n",
      "|  0.0|(18945,[25,182,23...|\n",
      "+-----+--------------------+\n",
      "only showing top 20 rows\n",
      "\n"
     ]
    }
   ],
   "source": [
    "# Creaing data pipeline\n",
    "Netflix_pipeline2 = Pipeline(stages=[Netflix_numeric2, Net_tokenizer2, Netflix_remover2, Netflix_cv2, Netflix_idf2, Netflix_Assembler2]) \n",
    "Netflix_fit2 = Netflix_pipeline2.fit(NetflixNLP)\n",
    "Netflix_clean2 = Netflix_fit2.transform(NetflixNLP)\n",
    "Netflix_cleaned2 = Netflix_clean2.select('label', 'features')\n",
    "Netflix_cleaned2.show()"
   ]
  },
  {
   "cell_type": "markdown",
   "id": "85572865",
   "metadata": {},
   "source": [
    "Model 8: Building model on rating as label and combining title & description column and actor column as features"
   ]
  },
  {
   "cell_type": "code",
   "execution_count": 76,
   "id": "26e193fd",
   "metadata": {},
   "outputs": [
    {
     "name": "stdout",
     "output_type": "stream",
     "text": [
      "+-------+-----------------------------------------------------------------------------------------------------------------------------------------------------------------------------+---------------+---------------------------------------------------------------------------------------------------------------------------------------------------------------------------------------------------------------------------------------------------------------------------------------------------------------+------+-------------------------------------------------------------+\n",
      "|type   |title_description                                                                                                                                                            |director       |cast                                                                                                                                                                                                                                                                                                           |rating|listed_in                                                    |\n",
      "+-------+-----------------------------------------------------------------------------------------------------------------------------------------------------------------------------+---------------+---------------------------------------------------------------------------------------------------------------------------------------------------------------------------------------------------------------------------------------------------------------------------------------------------------------+------+-------------------------------------------------------------+\n",
      "|Movie  |Dick Johnson Is Dead As her father nears the end of his life, filmmaker Kirsten Johnson stages his death in inventive and comical ways to help them both face the inevitable.|Kirsten Johnson|                                                                                                                                                                                                                                                                                                               |PG-13 |Documentaries                                                |\n",
      "|TV Show|Blood & Water After crossing paths at a party, a Cape Town teen sets out to prove whether a private-school swimming star is her sister who was abducted at birth.            |               |Ama Qamata, Khosi Ngema, Gail Mabalane, Thabang Molaba, Dillon Windvogel, Natasha Thahane, Arno Greeff, Xolile Tshabalala, Getmore Sithole, Cindy Mahlangu, Ryle De Morny, Greteli Fincham, Sello Maake Ka-Ncube, Odwa Gwanya, Mekaila Mathys, Sandi Schultz, Duane Williams, Shamilla Miller, Patrick Mofokeng|TV-MA |International TV Shows, TV Dramas, TV Mysteries              |\n",
      "|TV Show|Ganglands To protect his family from a powerful drug lord, skilled thief Mehdi and his expert team of robbers are pulled into a violent and deadly turf war.                 |Julien Leclercq|Sami Bouajila, Tracy Gotoas, Samuel Jouy, Nabiha Akkari, Sofia Lesaffre, Salim Kechiouche, Noureddine Farihi, Geert Van Rampelberg, Bakary Diombera                                                                                                                                                            |TV-MA |Crime TV Shows, International TV Shows, TV Action & Adventure|\n",
      "|TV Show|Jailbirds New Orleans Feuds, flirtations and toilet talk go down among the incarcerated women at the Orleans Justice Center in New Orleans on this gritty reality series.    |               |                                                                                                                                                                                                                                                                                                               |TV-MA |Docuseries, Reality TV                                       |\n",
      "|TV Show|Kota Factory In a city of coaching centers known to train India’s finest collegiate minds, an earnest but unexceptional student and his friends navigate campus life.        |               |Mayur More, Jitendra Kumar, Ranjan Raj, Alam Khan, Ahsaas Channa, Revathi Pillai, Urvi Singh, Arun Kumar                                                                                                                                                                                                       |TV-MA |International TV Shows, Romantic TV Shows, TV Comedies       |\n",
      "+-------+-----------------------------------------------------------------------------------------------------------------------------------------------------------------------------+---------------+---------------------------------------------------------------------------------------------------------------------------------------------------------------------------------------------------------------------------------------------------------------------------------------------------------------+------+-------------------------------------------------------------+\n",
      "only showing top 5 rows\n",
      "\n",
      "root\n",
      " |-- type: string (nullable = true)\n",
      " |-- title_description: string (nullable = false)\n",
      " |-- director: string (nullable = false)\n",
      " |-- cast: string (nullable = false)\n",
      " |-- rating: string (nullable = true)\n",
      " |-- listed_in: string (nullable = false)\n",
      "\n"
     ]
    }
   ],
   "source": [
    "# Combining Title and description in one column to be used later\n",
    "NetflixML1 = NetflixML.select(\"type\", concat_ws(' ',NetflixML.title, NetflixML.description)\n",
    "              .alias(\"title_description\"),\"director\",\"cast\",\"rating\", \"listed_in\")\n",
    "NetflixML1.show(5, truncate=False)\n",
    "NetflixML1.printSchema()"
   ]
  },
  {
   "cell_type": "code",
   "execution_count": 77,
   "id": "7e2d1a86",
   "metadata": {},
   "outputs": [
    {
     "name": "stdout",
     "output_type": "stream",
     "text": [
      "+-------+--------------------+---------------+--------------------+------+--------------------+--------------------+\n",
      "|   type|   title_description|       director|                cast|rating|           listed_in|      Netflix_tokens|\n",
      "+-------+--------------------+---------------+--------------------+------+--------------------+--------------------+\n",
      "|  Movie|Dick Johnson Is D...|Kirsten Johnson|                    | PG-13|       Documentaries|[dick, johnson, i...|\n",
      "|TV Show|Blood & Water Aft...|               |Ama Qamata, Khosi...| TV-MA|International TV ...|[blood, water, af...|\n",
      "|TV Show|Ganglands To prot...|Julien Leclercq|Sami Bouajila, Tr...| TV-MA|Crime TV Shows, I...|[ganglands, to, p...|\n",
      "|TV Show|Jailbirds New Orl...|               |                    | TV-MA|Docuseries, Reali...|[jailbirds, new, ...|\n",
      "|TV Show|Kota Factory In a...|               |Mayur More, Jiten...| TV-MA|International TV ...|[kota, factory, i...|\n",
      "+-------+--------------------+---------------+--------------------+------+--------------------+--------------------+\n",
      "only showing top 5 rows\n",
      "\n",
      "+-------+--------------------+---------------+--------------------+------+--------------------+--------------------+--------------------------+\n",
      "|   type|   title_description|       director|                cast|rating|           listed_in|      Netflix_tokens|filtered_title_description|\n",
      "+-------+--------------------+---------------+--------------------+------+--------------------+--------------------+--------------------------+\n",
      "|  Movie|Dick Johnson Is D...|Kirsten Johnson|                    | PG-13|       Documentaries|[dick, johnson, i...|      [dick, johnson, d...|\n",
      "|TV Show|Blood & Water Aft...|               |Ama Qamata, Khosi...| TV-MA|International TV ...|[blood, water, af...|      [blood, water, cr...|\n",
      "|TV Show|Ganglands To prot...|Julien Leclercq|Sami Bouajila, Tr...| TV-MA|Crime TV Shows, I...|[ganglands, to, p...|      [ganglands, prote...|\n",
      "|TV Show|Jailbirds New Orl...|               |                    | TV-MA|Docuseries, Reali...|[jailbirds, new, ...|      [jailbirds, new, ...|\n",
      "|TV Show|Kota Factory In a...|               |Mayur More, Jiten...| TV-MA|International TV ...|[kota, factory, i...|      [kota, factory, c...|\n",
      "+-------+--------------------+---------------+--------------------+------+--------------------+--------------------+--------------------------+\n",
      "only showing top 5 rows\n",
      "\n",
      "+-------+--------------------+---------------+--------------------+------+--------------------+--------------------+--------------------------+--------------------+\n",
      "|   type|   title_description|       director|                cast|rating|           listed_in|      Netflix_tokens|filtered_title_description|    vectorized_words|\n",
      "+-------+--------------------+---------------+--------------------+------+--------------------+--------------------+--------------------------+--------------------+\n",
      "|  Movie|Dick Johnson Is D...|Kirsten Johnson|                    | PG-13|       Documentaries|[dick, johnson, i...|      [dick, johnson, d...|(22363,[0,18,22,4...|\n",
      "|TV Show|Blood & Water Aft...|               |Ama Qamata, Khosi...| TV-MA|International TV ...|[blood, water, af...|      [blood, water, cr...|(22363,[13,37,48,...|\n",
      "|TV Show|Ganglands To prot...|Julien Leclercq|Sami Bouajila, Tr...| TV-MA|Crime TV Shows, I...|[ganglands, to, p...|      [ganglands, prote...|(22363,[4,34,45,1...|\n",
      "|TV Show|Jailbirds New Orl...|               |                    | TV-MA|Docuseries, Reali...|[jailbirds, new, ...|      [jailbirds, new, ...|(22363,[1,11,57,8...|\n",
      "|TV Show|Kota Factory In a...|               |Mayur More, Jiten...| TV-MA|International TV ...|[kota, factory, i...|      [kota, factory, c...|(22363,[0,9,26,73...|\n",
      "+-------+--------------------+---------------+--------------------+------+--------------------+--------------------+--------------------------+--------------------+\n",
      "only showing top 5 rows\n",
      "\n",
      "+-------+--------------------+---------------+--------------------+------+--------------------+--------------------+--------------------------+--------------------+--------------------+\n",
      "|   type|   title_description|       director|                cast|rating|           listed_in|      Netflix_tokens|filtered_title_description|    vectorized_words|       Netflix_tfidf|\n",
      "+-------+--------------------+---------------+--------------------+------+--------------------+--------------------+--------------------------+--------------------+--------------------+\n",
      "|  Movie|Dick Johnson Is D...|Kirsten Johnson|                    | PG-13|       Documentaries|[dick, johnson, i...|      [dick, johnson, d...|(22363,[0,18,22,4...|(22363,[0,18,22,4...|\n",
      "|TV Show|Blood & Water Aft...|               |Ama Qamata, Khosi...| TV-MA|International TV ...|[blood, water, af...|      [blood, water, cr...|(22363,[13,37,48,...|(22363,[13,37,48,...|\n",
      "|TV Show|Ganglands To prot...|Julien Leclercq|Sami Bouajila, Tr...| TV-MA|Crime TV Shows, I...|[ganglands, to, p...|      [ganglands, prote...|(22363,[4,34,45,1...|(22363,[4,34,45,1...|\n",
      "|TV Show|Jailbirds New Orl...|               |                    | TV-MA|Docuseries, Reali...|[jailbirds, new, ...|      [jailbirds, new, ...|(22363,[1,11,57,8...|(22363,[1,11,57,8...|\n",
      "|TV Show|Kota Factory In a...|               |Mayur More, Jiten...| TV-MA|International TV ...|[kota, factory, i...|      [kota, factory, c...|(22363,[0,9,26,73...|(22363,[0,9,26,73...|\n",
      "+-------+--------------------+---------------+--------------------+------+--------------------+--------------------+--------------------------+--------------------+--------------------+\n",
      "only showing top 5 rows\n",
      "\n"
     ]
    }
   ],
   "source": [
    "# Tokenize words in title_description column\n",
    "Net_tokenizer3 = RegexTokenizer(inputCol= 'title_description', outputCol='Netflix_tokens', pattern='\\\\W')\n",
    "tokenized3 = Net_tokenizer3.transform(NetflixML1)\n",
    "tokenized3.show(5)\n",
    "\n",
    "# Remove stopwords in tokenized Netflix_tokens column\n",
    "Netflix_remover3 = StopWordsRemover(inputCol='Netflix_tokens', outputCol='filtered_title_description')\n",
    "removed_Netflix = Netflix_remover3.transform(tokenized3)\n",
    "removed_Netflix.show(5)\n",
    "\n",
    "# Count Vectorization on filtered_title_description column\n",
    "Netflix_cv3 = CountVectorizer(inputCol='filtered_title_description', outputCol='vectorized_words')\n",
    "vectorized_Net3 = Netflix_cv3.fit(removed_Netflix).transform(removed_Netflix)\n",
    "vectorized_Net3.show(5)\n",
    "\n",
    "# Get the TF-IDF\n",
    "Netflix_idf3 = IDF(inputCol='vectorized_words', outputCol='Netflix_tfidf')\n",
    "Netflix_TF_IDF3 = Netflix_idf3.fit(vectorized_Net3).transform(vectorized_Net3)\n",
    "Netflix_TF_IDF3.show(5)"
   ]
  },
  {
   "cell_type": "code",
   "execution_count": 78,
   "id": "4055f47e",
   "metadata": {},
   "outputs": [
    {
     "name": "stdout",
     "output_type": "stream",
     "text": [
      "+-------+--------------------+---------------+--------------------+------+--------------------+--------------------+--------------------------+--------------------+--------------------+--------------+\n",
      "|   type|   title_description|       director|                cast|rating|           listed_in|      Netflix_tokens|filtered_title_description|    vectorized_words|       Netflix_tfidf|director_index|\n",
      "+-------+--------------------+---------------+--------------------+------+--------------------+--------------------+--------------------------+--------------------+--------------------+--------------+\n",
      "|  Movie|Dick Johnson Is D...|Kirsten Johnson|                    | PG-13|       Documentaries|[dick, johnson, i...|      [dick, johnson, d...|(22363,[0,18,22,4...|(22363,[0,18,22,4...|        2756.0|\n",
      "|TV Show|Blood & Water Aft...|               |Ama Qamata, Khosi...| TV-MA|International TV ...|[blood, water, af...|      [blood, water, cr...|(22363,[13,37,48,...|(22363,[13,37,48,...|           0.0|\n",
      "|TV Show|Ganglands To prot...|Julien Leclercq|Sami Bouajila, Tr...| TV-MA|Crime TV Shows, I...|[ganglands, to, p...|      [ganglands, prote...|(22363,[4,34,45,1...|(22363,[4,34,45,1...|         237.0|\n",
      "|TV Show|Jailbirds New Orl...|               |                    | TV-MA|Docuseries, Reali...|[jailbirds, new, ...|      [jailbirds, new, ...|(22363,[1,11,57,8...|(22363,[1,11,57,8...|           0.0|\n",
      "|TV Show|Kota Factory In a...|               |Mayur More, Jiten...| TV-MA|International TV ...|[kota, factory, i...|      [kota, factory, c...|(22363,[0,9,26,73...|(22363,[0,9,26,73...|           0.0|\n",
      "+-------+--------------------+---------------+--------------------+------+--------------------+--------------------+--------------------------+--------------------+--------------------+--------------+\n",
      "only showing top 5 rows\n",
      "\n"
     ]
    }
   ],
   "source": [
    "# Convert type column to numeric\n",
    "Netflix_dir_indexers2 = StringIndexer(inputCol='director', outputCol='director_index')\n",
    "Netflix_dir_index2 = Netflix_dir_indexers2.fit(Netflix_TF_IDF3).transform(Netflix_TF_IDF3)\n",
    "Netflix_dir_index2.show(5)"
   ]
  },
  {
   "cell_type": "code",
   "execution_count": 79,
   "id": "e442df00",
   "metadata": {},
   "outputs": [
    {
     "name": "stdout",
     "output_type": "stream",
     "text": [
      "+-------+--------------------+---------------+--------------------+------+--------------------+--------------------+--------------------------+--------------------+--------------------+--------------+--------------------+\n",
      "|   type|   title_description|       director|                cast|rating|           listed_in|      Netflix_tokens|filtered_title_description|    vectorized_words|       Netflix_tfidf|director_index|            features|\n",
      "+-------+--------------------+---------------+--------------------+------+--------------------+--------------------+--------------------------+--------------------+--------------------+--------------+--------------------+\n",
      "|  Movie|Dick Johnson Is D...|Kirsten Johnson|                    | PG-13|       Documentaries|[dick, johnson, i...|      [dick, johnson, d...|(22363,[0,18,22,4...|(22363,[0,18,22,4...|        2756.0|(22364,[0,18,22,4...|\n",
      "|TV Show|Blood & Water Aft...|               |Ama Qamata, Khosi...| TV-MA|International TV ...|[blood, water, af...|      [blood, water, cr...|(22363,[13,37,48,...|(22363,[13,37,48,...|           0.0|(22364,[13,37,48,...|\n",
      "|TV Show|Ganglands To prot...|Julien Leclercq|Sami Bouajila, Tr...| TV-MA|Crime TV Shows, I...|[ganglands, to, p...|      [ganglands, prote...|(22363,[4,34,45,1...|(22363,[4,34,45,1...|         237.0|(22364,[4,34,45,1...|\n",
      "|TV Show|Jailbirds New Orl...|               |                    | TV-MA|Docuseries, Reali...|[jailbirds, new, ...|      [jailbirds, new, ...|(22363,[1,11,57,8...|(22363,[1,11,57,8...|           0.0|(22364,[1,11,57,8...|\n",
      "|TV Show|Kota Factory In a...|               |Mayur More, Jiten...| TV-MA|International TV ...|[kota, factory, i...|      [kota, factory, c...|(22363,[0,9,26,73...|(22363,[0,9,26,73...|           0.0|(22364,[0,9,26,73...|\n",
      "+-------+--------------------+---------------+--------------------+------+--------------------+--------------------+--------------------------+--------------------+--------------------+--------------+--------------------+\n",
      "only showing top 5 rows\n",
      "\n"
     ]
    }
   ],
   "source": [
    "# Transform several columns as one Feature column\n",
    "Netflix_Assembler3 = VectorAssembler(inputCols=['Netflix_tfidf', 'director_index'], outputCol='features')\n",
    "Netflix_features3 = Netflix_Assembler3.transform(Netflix_dir_index2)\n",
    "Netflix_features3.show(5)"
   ]
  },
  {
   "cell_type": "code",
   "execution_count": 80,
   "id": "b4e9edca",
   "metadata": {},
   "outputs": [
    {
     "name": "stdout",
     "output_type": "stream",
     "text": [
      "+-----+--------------------+\n",
      "|label|            features|\n",
      "+-----+--------------------+\n",
      "|  4.0|(22364,[0,18,22,4...|\n",
      "|  0.0|(22364,[13,37,48,...|\n",
      "|  0.0|(22364,[4,34,45,1...|\n",
      "|  0.0|(22364,[1,11,57,8...|\n",
      "|  0.0|(22364,[0,9,26,73...|\n",
      "|  0.0|(22364,[2,37,305,...|\n",
      "|  7.0|(22364,[1,98,109,...|\n",
      "|  0.0|(22364,[29,30,52,...|\n",
      "|  1.0|(22364,[43,51,123...|\n",
      "|  4.0|(22364,[0,8,16,65...|\n",
      "|  0.0|(22364,[54,217,25...|\n",
      "|  0.0|(22364,[6,12,154,...|\n",
      "|  0.0|(22364,[2,4,8,27,...|\n",
      "|  2.0|(22364,[1,13,23,2...|\n",
      "|  0.0|(22364,[46,54,61,...|\n",
      "|  0.0|(22364,[0,99,117,...|\n",
      "|  0.0|(22364,[0,5,6,162...|\n",
      "|  0.0|(22364,[17,83,107...|\n",
      "|  1.0|(22364,[1,17,55,8...|\n",
      "|  0.0|(22364,[27,211,27...|\n",
      "+-----+--------------------+\n",
      "only showing top 20 rows\n",
      "\n"
     ]
    }
   ],
   "source": [
    "# Creaing data pipeline\n",
    "Netflix_pipeline3 = Pipeline(stages=[Netflix_numeric, Netflix_dir_indexers2, Net_tokenizer3, Netflix_remover3, Netflix_cv3, Netflix_idf3, Netflix_Assembler3])\n",
    "Netflix_fit3 = Netflix_pipeline3.fit(NetflixML1)\n",
    "Netflix_clean3 = Netflix_fit3.transform(NetflixML1)\n",
    "Netflix_cleaned3 = Netflix_clean3.select('label', 'features')\n",
    "Netflix_cleaned3.show()"
   ]
  },
  {
   "cell_type": "code",
   "execution_count": 81,
   "id": "a94091fd",
   "metadata": {},
   "outputs": [
    {
     "name": "stdout",
     "output_type": "stream",
     "text": [
      "+-----+------+\n",
      "|label|rating|\n",
      "+-----+------+\n",
      "|  4.0| PG-13|\n",
      "|  0.0| TV-MA|\n",
      "|  0.0| TV-MA|\n",
      "|  0.0| TV-MA|\n",
      "|  0.0| TV-MA|\n",
      "|  0.0| TV-MA|\n",
      "|  7.0|    PG|\n",
      "|  0.0| TV-MA|\n",
      "|  1.0| TV-14|\n",
      "|  4.0| PG-13|\n",
      "|  0.0| TV-MA|\n",
      "|  0.0| TV-MA|\n",
      "|  0.0| TV-MA|\n",
      "|  2.0| TV-PG|\n",
      "|  0.0| TV-MA|\n",
      "|  0.0| TV-MA|\n",
      "|  0.0| TV-MA|\n",
      "|  0.0| TV-MA|\n",
      "|  1.0| TV-14|\n",
      "|  0.0| TV-MA|\n",
      "+-----+------+\n",
      "only showing top 20 rows\n",
      "\n"
     ]
    }
   ],
   "source": [
    "# Used for mapping prediction to label name (rating)\n",
    "Netflix_label_rating = Netflix_label_index.select('label', 'rating')\n",
    "Netflix_label_rating.show()"
   ]
  },
  {
   "cell_type": "markdown",
   "id": "9c43c6ab",
   "metadata": {},
   "source": [
    "b. Naive bayes Models"
   ]
  },
  {
   "cell_type": "markdown",
   "id": "b0975ba5",
   "metadata": {},
   "source": [
    "Model 6: title and title word count as features and rating as label"
   ]
  },
  {
   "cell_type": "code",
   "execution_count": 82,
   "id": "0e7ef0c9",
   "metadata": {},
   "outputs": [
    {
     "name": "stdout",
     "output_type": "stream",
     "text": [
      "+-----+--------------------+--------------------+--------------------+----------+-----+------+\n",
      "|label|            features|       rawPrediction|         probability|prediction|label|rating|\n",
      "+-----+--------------------+--------------------+--------------------+----------+-----+------+\n",
      "|  4.0|(8786,[8765,8785]...|[-98.790549651699...|[1.33494917815511...|       7.0|  4.0| PG-13|\n",
      "|  4.0|(8786,[8710,8785]...|[-102.78351452892...|[2.30084349139422...|       4.0|  4.0| PG-13|\n",
      "|  4.0|(8786,[8708,8785]...|[-100.38773560258...|[4.78350212460469...|       7.0|  4.0| PG-13|\n",
      "|  4.0|(8786,[8446,8785]...|[-103.58210750436...|[3.69733464027266...|       4.0|  4.0| PG-13|\n",
      "|  4.0|(8786,[8332,8785]...|[-106.77647940614...|[0.00196987267806...|       3.0|  4.0| PG-13|\n",
      "|  4.0|(8786,[7792,8785]...|[-102.78351452892...|[2.30084349139422...|       4.0|  4.0| PG-13|\n",
      "|  4.0|(8786,[7524,8785]...|[-106.77647940614...|[0.00196987267806...|       3.0|  4.0| PG-13|\n",
      "|  4.0|(8786,[7304,8785]...|[-103.58210750436...|[3.69733464027266...|       4.0|  4.0| PG-13|\n",
      "|  4.0|(8786,[7176,8785]...|[-104.38070047981...|[5.80693676109769...|       4.0|  4.0| PG-13|\n",
      "|  4.0|(8786,[6960,8785]...|[-99.589142627143...|[2.63986699857055...|       7.0|  4.0| PG-13|\n",
      "|  4.0|(8786,[6621,7805,...|[-203.75498160207...|[2.33273938300896...|       4.0|  4.0| PG-13|\n",
      "|  4.0|(8786,[6059,8785]...|[-101.18632857803...|[8.29870444502000...|       4.0|  4.0| PG-13|\n",
      "|  4.0|(8786,[5734,8785]...|[-104.38070047981...|[5.80693676109769...|       4.0|  4.0| PG-13|\n",
      "|  4.0|(8786,[5386,8785]...|[-103.58210750436...|[3.69733464027266...|       4.0|  4.0| PG-13|\n",
      "|  4.0|(8786,[5379,8785]...|[-101.98492155347...|[1.39882686003176...|       4.0|  4.0| PG-13|\n",
      "|  4.0|(8786,[5068,5975,...|[-303.92785569978...|[1.11611985240474...|       7.0|  4.0| PG-13|\n",
      "|  4.0|(8786,[4872,4899,...|[-216.53246920919...|[2.17808908662186...|       3.0|  4.0| PG-13|\n",
      "|  4.0|(8786,[4475,8785]...|[-102.78351452892...|[2.30084349139422...|       4.0|  4.0| PG-13|\n",
      "|  4.0|(8786,[3982,8785]...|[-104.38070047981...|[5.80693676109769...|       4.0|  4.0| PG-13|\n",
      "|  4.0|(8786,[3855,4352,...|[-206.15076052840...|[1.11940503329872...|       4.0|  4.0| PG-13|\n",
      "+-----+--------------------+--------------------+--------------------+----------+-----+------+\n",
      "only showing top 20 rows\n",
      "\n"
     ]
    }
   ],
   "source": [
    "# Splitting data into training and testing datasets \n",
    "Netflix_train1, Netflix_test1 = Netflix_cleaned1.randomSplit([0.7, 0.3])\n",
    "\n",
    "# Fitting the Naive Bayes model 7\n",
    "Netflix_model1 = NB.fit(Netflix_train1)\n",
    "Netflix_results1 = Netflix_model1.transform(Netflix_test1)\n",
    "\n",
    "# Mapping result with label to rating\n",
    "Netflix_df1 = Netflix_results1.join(Netflix_label_rating, Netflix_label_rating.label == Netflix_results1.label)\n",
    "Netflix_df1.show()"
   ]
  },
  {
   "cell_type": "markdown",
   "id": "6d15541f",
   "metadata": {},
   "source": [
    "Model 7: description and description word count as features"
   ]
  },
  {
   "cell_type": "code",
   "execution_count": 84,
   "id": "507b87b1",
   "metadata": {},
   "outputs": [
    {
     "name": "stdout",
     "output_type": "stream",
     "text": [
      "+-----+--------------------+--------------------+--------------------+----------+-----+------+\n",
      "|label|            features|       rawPrediction|         probability|prediction|label|rating|\n",
      "+-----+--------------------+--------------------+--------------------+----------+-----+------+\n",
      "|  4.0|(18945,[297,336,4...|[-684.45287426184...|[0.99999988091962...|       0.0|  4.0| PG-13|\n",
      "|  4.0|(18945,[212,497,8...|[-1118.7422496824...|[1.11505878430671...|       1.0|  4.0| PG-13|\n",
      "|  4.0|(18945,[186,530,6...|[-671.03812192589...|[2.17528516856941...|       4.0|  4.0| PG-13|\n",
      "|  4.0|(18945,[171,205,4...|[-1130.7084310643...|[1.61013531601169...|       1.0|  4.0| PG-13|\n",
      "|  4.0|(18945,[125,193,2...|[-1048.8259509249...|[0.00370360515768...|       4.0|  4.0| PG-13|\n",
      "|  4.0|(18945,[108,187,2...|[-954.85335981954...|[2.18955480513479...|       1.0|  4.0| PG-13|\n",
      "|  4.0|(18945,[103,176,2...|[-943.14903155856...|[1.61173459208490...|       1.0|  4.0| PG-13|\n",
      "|  4.0|(18945,[101,179,4...|[-772.67258775880...|[1.79904494022296...|       2.0|  4.0| PG-13|\n",
      "|  4.0|(18945,[98,215,28...|[-1102.9833552198...|[5.55487122331196...|       2.0|  4.0| PG-13|\n",
      "|  4.0|(18945,[98,108,15...|[-982.76180930098...|[1.37572536780258...|       4.0|  4.0| PG-13|\n",
      "|  4.0|(18945,[89,238,32...|[-922.76520940115...|[9.14883976578705...|       1.0|  4.0| PG-13|\n",
      "|  4.0|(18945,[89,235,56...|[-1267.4223927474...|[2.68793632966377...|       7.0|  4.0| PG-13|\n",
      "|  4.0|(18945,[83,194,27...|[-807.01634352967...|[0.99999999971242...|       0.0|  4.0| PG-13|\n",
      "|  4.0|(18945,[81,683,90...|[-1050.0328409352...|[3.43389286646789...|       4.0|  4.0| PG-13|\n",
      "|  4.0|(18945,[74,215,24...|[-998.10156742917...|[1.69173834856002...|       7.0|  4.0| PG-13|\n",
      "|  4.0|(18945,[71,87,186...|[-1137.9647458997...|[9.99309729100427...|       4.0|  4.0| PG-13|\n",
      "|  4.0|(18945,[70,142,29...|[-1037.3537357266...|[9.07862020816866...|       4.0|  4.0| PG-13|\n",
      "|  4.0|(18945,[70,111,19...|[-1073.2303861926...|[0.99999991860355...|       0.0|  4.0| PG-13|\n",
      "|  4.0|(18945,[69,105,15...|[-941.69022884508...|[2.55001011040310...|       1.0|  4.0| PG-13|\n",
      "|  4.0|(18945,[68,228,30...|[-1095.6277878451...|[6.12105215168579...|       8.0|  4.0| PG-13|\n",
      "+-----+--------------------+--------------------+--------------------+----------+-----+------+\n",
      "only showing top 20 rows\n",
      "\n"
     ]
    }
   ],
   "source": [
    "# Splitting data into training and testing datasets \n",
    "Netflix_train2, Netflix_test2 = Netflix_cleaned2.randomSplit([0.7, 0.3])\n",
    "\n",
    "# Fitting the Naive Bayes model 8\n",
    "Netflix_model2 = NB.fit(Netflix_train2)\n",
    "Netflix_results2 = Netflix_model2.transform(Netflix_test2)\n",
    "\n",
    "# Mapping result with label to rating\n",
    "Netflix_df2 = Netflix_results2.join(Netflix_label_rating, Netflix_label_rating.label == Netflix_results2.label)\n",
    "Netflix_df2.show()"
   ]
  },
  {
   "cell_type": "markdown",
   "id": "25e8e332",
   "metadata": {},
   "source": [
    "Model 8: Combined title_description and actor as features"
   ]
  },
  {
   "cell_type": "code",
   "execution_count": 85,
   "id": "e9bfed9f",
   "metadata": {},
   "outputs": [
    {
     "name": "stdout",
     "output_type": "stream",
     "text": [
      "+-----+--------------------+--------------------+--------------------+----------+-----+------+\n",
      "|label|            features|       rawPrediction|         probability|prediction|label|rating|\n",
      "+-----+--------------------+--------------------+--------------------+----------+-----+------+\n",
      "|  4.0|(22364,[211,354,1...|[-1295.9619390406...|[2.74895961377885...|       4.0|  4.0| PG-13|\n",
      "|  4.0|(22364,[191,505,5...|[-960.87294915471...|[1.08096892487348...|       4.0|  4.0| PG-13|\n",
      "|  4.0|(22364,[168,427,6...|[-1368.6058897986...|[3.00278877463818...|       9.0|  4.0| PG-13|\n",
      "|  4.0|(22364,[168,234,4...|[-1470.7408090510...|[2.18324239519605...|      13.0|  4.0| PG-13|\n",
      "|  4.0|(22364,[151,158,1...|[-1210.3062935609...|[1.78200434533065...|       5.0|  4.0| PG-13|\n",
      "|  4.0|(22364,[140,143,2...|[-971.79142476006...|[8.80570998623846...|       3.0|  4.0| PG-13|\n",
      "|  4.0|(22364,[111,143,1...|[-1171.4212040708...|[3.89329377619403...|       1.0|  4.0| PG-13|\n",
      "|  4.0|(22364,[111,136,1...|[-1430.7415957566...|[1.89033576903222...|      13.0|  4.0| PG-13|\n",
      "|  4.0|(22364,[103,422,5...|[-1280.8658672974...|[2.69901437378829...|       4.0|  4.0| PG-13|\n",
      "|  4.0|(22364,[101,591,1...|[-1169.5264378123...|[0.99999999999941...|       0.0|  4.0| PG-13|\n",
      "|  4.0|(22364,[101,112,2...|[-1403.4149249664...|[3.11522255498337...|       5.0|  4.0| PG-13|\n",
      "|  4.0|(22364,[99,122,22...|[-1349.5347067554...|[3.07706617308294...|      13.0|  4.0| PG-13|\n",
      "|  4.0|(22364,[94,204,29...|[-1452.7695715547...|[4.53129814486189...|       3.0|  4.0| PG-13|\n",
      "|  4.0|(22364,[78,128,26...|[-1642.3833953546...|[1.12484457739754...|       4.0|  4.0| PG-13|\n",
      "|  4.0|(22364,[73,261,33...|[-1487.3954439897...|[1.0,3.0904338108...|       0.0|  4.0| PG-13|\n",
      "|  4.0|(22364,[70,112,54...|[-1617.7044558768...|[0.85257367718142...|       0.0|  4.0| PG-13|\n",
      "|  4.0|(22364,[61,74,174...|[-1890.7750621389...|[1.06760865864530...|       4.0|  4.0| PG-13|\n",
      "|  4.0|(22364,[48,102,14...|[-1406.4183910030...|[2.58846191037015...|       4.0|  4.0| PG-13|\n",
      "|  4.0|(22364,[48,84,578...|[-1668.4066901084...|[4.08529812424036...|       1.0|  4.0| PG-13|\n",
      "|  4.0|(22364,[47,123,27...|[-1361.8952640306...|[9.38214186583199...|       8.0|  4.0| PG-13|\n",
      "+-----+--------------------+--------------------+--------------------+----------+-----+------+\n",
      "only showing top 20 rows\n",
      "\n"
     ]
    }
   ],
   "source": [
    "# Splitting data into training and testing datasets \n",
    "Netflix_train3, Netflix_test3 = Netflix_cleaned3.randomSplit([0.7, 0.3])\n",
    "\n",
    "# Fitting the Naive Bayes model 9\n",
    "Netflix_model3 = NB.fit(Netflix_train3)\n",
    "Netflix_results3 = Netflix_model3.transform(Netflix_test3)\n",
    "\n",
    "# Mapping result with label to rating\n",
    "Netflix_df3 = Netflix_results3.join(Netflix_label_rating, Netflix_label_rating.label == Netflix_results3.label)\n",
    "Netflix_df3.show()"
   ]
  },
  {
   "cell_type": "markdown",
   "id": "e56cf37c",
   "metadata": {},
   "source": [
    "# B.2 Model Evaluation"
   ]
  },
  {
   "cell_type": "markdown",
   "id": "d8f164c3",
   "metadata": {},
   "source": [
    "Model 6: Running NB model on Netflix title column"
   ]
  },
  {
   "cell_type": "code",
   "execution_count": 86,
   "id": "8fdd5b07",
   "metadata": {},
   "outputs": [
    {
     "name": "stdout",
     "output_type": "stream",
     "text": [
      "0.24216959511077157\n"
     ]
    }
   ],
   "source": [
    "# Evaluating NB model 6\n",
    "accuracy_eval6 = MulticlassClassificationEvaluator(labelCol=\"label\", predictionCol=\"prediction\", metricName=\"accuracy\")\n",
    "accuracy6 = accuracy_eval6.evaluate(Netflix_results1)\n",
    "print(accuracy6)"
   ]
  },
  {
   "cell_type": "markdown",
   "id": "2daef332",
   "metadata": {},
   "source": [
    "Model 7: Running NB model on Netflix description column"
   ]
  },
  {
   "cell_type": "code",
   "execution_count": 87,
   "id": "5b743b45",
   "metadata": {},
   "outputs": [
    {
     "name": "stdout",
     "output_type": "stream",
     "text": [
      "0.3530297327813323\n"
     ]
    }
   ],
   "source": [
    "accuracy_eval7 = MulticlassClassificationEvaluator(labelCol=\"label\", predictionCol=\"prediction\", metricName=\"accuracy\")\n",
    "accuracy7 = accuracy_eval7.evaluate(Netflix_results2)\n",
    "print(accuracy7)"
   ]
  },
  {
   "cell_type": "markdown",
   "id": "74ce25e1",
   "metadata": {},
   "source": [
    "Model 8: Running NB model on Netflix combined title_description and actor columns"
   ]
  },
  {
   "cell_type": "code",
   "execution_count": 88,
   "id": "9a9af288",
   "metadata": {},
   "outputs": [
    {
     "name": "stdout",
     "output_type": "stream",
     "text": [
      "0.2019723865877712\n"
     ]
    }
   ],
   "source": [
    "accuracy_eval8 = MulticlassClassificationEvaluator(labelCol=\"label\", predictionCol=\"prediction\", metricName=\"accuracy\")\n",
    "accuracy8 = accuracy_eval8.evaluate(Netflix_results3)\n",
    "print(accuracy8)"
   ]
  }
 ],
 "metadata": {
  "kernelspec": {
   "display_name": "Python 3 (ipykernel)",
   "language": "python",
   "name": "python3"
  },
  "language_info": {
   "codemirror_mode": {
    "name": "ipython",
    "version": 3
   },
   "file_extension": ".py",
   "mimetype": "text/x-python",
   "name": "python",
   "nbconvert_exporter": "python",
   "pygments_lexer": "ipython3",
   "version": "3.8.7"
  }
 },
 "nbformat": 4,
 "nbformat_minor": 5
}
