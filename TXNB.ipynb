{
  "cells": [
    {
      "cell_type": "code",
      "source": [
        "pip install pyspark"
      ],
      "metadata": {
        "colab": {
          "base_uri": "https://localhost:8080/"
        },
        "id": "S2Pi_67xclb6",
        "outputId": "334b5a5f-9226-41a0-b8c1-73a7db3332f4"
      },
      "id": "S2Pi_67xclb6",
      "execution_count": 4,
      "outputs": [
        {
          "output_type": "stream",
          "name": "stdout",
          "text": [
            "Collecting pyspark\n",
            "  Downloading pyspark-3.2.1.tar.gz (281.4 MB)\n",
            "\u001b[K     |████████████████████████████████| 281.4 MB 35 kB/s \n",
            "\u001b[?25hCollecting py4j==0.10.9.3\n",
            "  Downloading py4j-0.10.9.3-py2.py3-none-any.whl (198 kB)\n",
            "\u001b[K     |████████████████████████████████| 198 kB 36.9 MB/s \n",
            "\u001b[?25hBuilding wheels for collected packages: pyspark\n",
            "  Building wheel for pyspark (setup.py) ... \u001b[?25l\u001b[?25hdone\n",
            "  Created wheel for pyspark: filename=pyspark-3.2.1-py2.py3-none-any.whl size=281853642 sha256=5b05561dd3a8c3229930dd86dac1b4e69d348cee0833d78faf050af193c6fde2\n",
            "  Stored in directory: /root/.cache/pip/wheels/9f/f5/07/7cd8017084dce4e93e84e92efd1e1d5334db05f2e83bcef74f\n",
            "Successfully built pyspark\n",
            "Installing collected packages: py4j, pyspark\n",
            "Successfully installed py4j-0.10.9.3 pyspark-3.2.1\n"
          ]
        }
      ]
    },
    {
      "cell_type": "code",
      "source": [
        "pip install findspark"
      ],
      "metadata": {
        "colab": {
          "base_uri": "https://localhost:8080/"
        },
        "id": "xHLhDcoycL_z",
        "outputId": "833666b0-e8e5-47d7-e9b8-a8607dd10216"
      },
      "id": "xHLhDcoycL_z",
      "execution_count": 5,
      "outputs": [
        {
          "output_type": "stream",
          "name": "stdout",
          "text": [
            "Requirement already satisfied: findspark in /usr/local/lib/python3.7/dist-packages (2.0.1)\n"
          ]
        }
      ]
    },
    {
      "cell_type": "code",
      "execution_count": 6,
      "id": "f8b8d720-4feb-40b7-a6cc-35b62ad6f421",
      "metadata": {
        "colab": {
          "base_uri": "https://localhost:8080/",
          "height": 222
        },
        "id": "f8b8d720-4feb-40b7-a6cc-35b62ad6f421",
        "outputId": "5eadd95c-9797-4a74-925c-e9d56105d56f"
      },
      "outputs": [
        {
          "output_type": "execute_result",
          "data": {
            "text/html": [
              "\n",
              "            <div>\n",
              "                <p><b>SparkSession - in-memory</b></p>\n",
              "                \n",
              "        <div>\n",
              "            <p><b>SparkContext</b></p>\n",
              "\n",
              "            <p><a href=\"http://a1acc1936393:4040\">Spark UI</a></p>\n",
              "\n",
              "            <dl>\n",
              "              <dt>Version</dt>\n",
              "                <dd><code>v3.2.1</code></dd>\n",
              "              <dt>Master</dt>\n",
              "                <dd><code>local[*]</code></dd>\n",
              "              <dt>AppName</dt>\n",
              "                <dd><code>TP</code></dd>\n",
              "            </dl>\n",
              "        </div>\n",
              "        \n",
              "            </div>\n",
              "        "
            ],
            "text/plain": [
              "<pyspark.sql.session.SparkSession at 0x7f4e3b10bc50>"
            ]
          },
          "metadata": {},
          "execution_count": 6
        }
      ],
      "source": [
        "# Importing the necessary modules\n",
        "import findspark\n",
        "findspark.init()\n",
        "\n",
        "# Initialize a SparkSession\n",
        "from pyspark.sql import SparkSession\n",
        "\n",
        "# Creating SparkSession\n",
        "spark = SparkSession.builder.appName('TP').getOrCreate()\n",
        "\n",
        "# Calling the session variable object\n",
        "spark"
      ]
    },
    {
      "cell_type": "code",
      "execution_count": 7,
      "id": "d845c259-a3b7-46fe-a989-6392ad24c3ce",
      "metadata": {
        "id": "d845c259-a3b7-46fe-a989-6392ad24c3ce"
      },
      "outputs": [],
      "source": [
        "netflix_url = \"https://raw.githubusercontent.com/AmandaClinnie/DS625-TeamProject/main/netflix_titles.csv\"\n",
        "disney_url = \"https://raw.githubusercontent.com/AmandaClinnie/DS625-TeamProject/main/disney_plus_titles.csv\"\n",
        "\n",
        "from pyspark import SparkFiles\n",
        "spark.sparkContext.addFile(netflix_url)\n",
        "spark.sparkContext.addFile(disney_url)\n",
        "\n",
        "netflix_df = spark.read.csv(\"file:///\"+SparkFiles.get(\"netflix_titles.csv\"), header=True, inferSchema= True)\n",
        "disney_df = spark.read.csv(\"file:///\"+SparkFiles.get(\"disney_plus_titles.csv\"), header=True, inferSchema= True)"
      ]
    },
    {
      "cell_type": "code",
      "execution_count": null,
      "id": "99bf012c",
      "metadata": {
        "id": "99bf012c"
      },
      "outputs": [],
      "source": [
        ""
      ]
    },
    {
      "cell_type": "code",
      "execution_count": null,
      "id": "51b687b1",
      "metadata": {
        "id": "51b687b1"
      },
      "outputs": [],
      "source": [
        ""
      ]
    },
    {
      "cell_type": "code",
      "execution_count": 8,
      "id": "78dd188a-306b-4a3e-b15a-75745ed1acd4",
      "metadata": {
        "id": "78dd188a-306b-4a3e-b15a-75745ed1acd4",
        "outputId": "57a5dd4c-c55b-48c8-9cac-66b2c34e2023",
        "colab": {
          "base_uri": "https://localhost:8080/"
        }
      },
      "outputs": [
        {
          "output_type": "stream",
          "name": "stdout",
          "text": [
            "root\n",
            " |-- show_id: string (nullable = true)\n",
            " |-- type: string (nullable = true)\n",
            " |-- title: string (nullable = true)\n",
            " |-- director: string (nullable = true)\n",
            " |-- cast: string (nullable = true)\n",
            " |-- country: string (nullable = true)\n",
            " |-- date_added: string (nullable = true)\n",
            " |-- release_year: string (nullable = true)\n",
            " |-- rating: string (nullable = true)\n",
            " |-- duration: string (nullable = true)\n",
            " |-- listed_in: string (nullable = true)\n",
            " |-- description: string (nullable = true)\n",
            "\n",
            "root\n",
            " |-- show_id: string (nullable = true)\n",
            " |-- type: string (nullable = true)\n",
            " |-- title: string (nullable = true)\n",
            " |-- director: string (nullable = true)\n",
            " |-- cast: string (nullable = true)\n",
            " |-- country: string (nullable = true)\n",
            " |-- date_added: string (nullable = true)\n",
            " |-- release_year: string (nullable = true)\n",
            " |-- rating: string (nullable = true)\n",
            " |-- duration: string (nullable = true)\n",
            " |-- listed_in: string (nullable = true)\n",
            " |-- description: string (nullable = true)\n",
            "\n"
          ]
        }
      ],
      "source": [
        "netflix_df.printSchema()\n",
        "disney_df.printSchema()"
      ]
    },
    {
      "cell_type": "code",
      "execution_count": 9,
      "id": "5c6f6d42-d52d-4bc4-8294-4d981f36ca6f",
      "metadata": {
        "id": "5c6f6d42-d52d-4bc4-8294-4d981f36ca6f",
        "outputId": "22082c37-3505-4606-ade4-7a7626708eab",
        "colab": {
          "base_uri": "https://localhost:8080/"
        }
      },
      "outputs": [
        {
          "output_type": "stream",
          "name": "stdout",
          "text": [
            "+-------+-------+--------------------+---------------+--------------------+-------------+------------------+------------+------+---------+--------------------+--------------------+\n",
            "|show_id|   type|               title|       director|                cast|      country|        date_added|release_year|rating| duration|           listed_in|         description|\n",
            "+-------+-------+--------------------+---------------+--------------------+-------------+------------------+------------+------+---------+--------------------+--------------------+\n",
            "|     s1|  Movie|Dick Johnson Is Dead|Kirsten Johnson|                null|United States|September 25, 2021|        2020| PG-13|   90 min|       Documentaries|As her father nea...|\n",
            "|     s2|TV Show|       Blood & Water|           null|Ama Qamata, Khosi...| South Africa|September 24, 2021|        2021| TV-MA|2 Seasons|International TV ...|After crossing pa...|\n",
            "|     s3|TV Show|           Ganglands|Julien Leclercq|Sami Bouajila, Tr...|         null|September 24, 2021|        2021| TV-MA| 1 Season|Crime TV Shows, I...|To protect his fa...|\n",
            "+-------+-------+--------------------+---------------+--------------------+-------------+------------------+------------+------+---------+--------------------+--------------------+\n",
            "only showing top 3 rows\n",
            "\n",
            "+-------+-----+--------------------+--------------------+--------------------+-------------+-----------------+------------+------+--------+--------------------+--------------------+\n",
            "|show_id| type|               title|            director|                cast|      country|       date_added|release_year|rating|duration|           listed_in|         description|\n",
            "+-------+-----+--------------------+--------------------+--------------------+-------------+-----------------+------------+------+--------+--------------------+--------------------+\n",
            "|     s1|Movie|Duck the Halls: A...|Alonso Ramirez Ra...|Chris Diamantopou...|         null|November 26, 2021|        2016|  TV-G|  23 min|   Animation, Family|Join Mickey and t...|\n",
            "|     s2|Movie|Ernest Saves Chri...|         John Cherry|Jim Varney, Noell...|         null|November 26, 2021|        1988|    PG|  91 min|              Comedy|Santa Claus passe...|\n",
            "|     s3|Movie|Ice Age: A Mammot...|        Karen Disher|Raymond Albert Ro...|United States|November 26, 2021|        2011|  TV-G|  23 min|Animation, Comedy...|Sid the Sloth is ...|\n",
            "+-------+-----+--------------------+--------------------+--------------------+-------------+-----------------+------------+------+--------+--------------------+--------------------+\n",
            "only showing top 3 rows\n",
            "\n"
          ]
        }
      ],
      "source": [
        "netflix_df.show(3)\n",
        "disney_df.show(3)"
      ]
    },
    {
      "cell_type": "code",
      "execution_count": 10,
      "id": "93390c70",
      "metadata": {
        "id": "93390c70",
        "outputId": "eff1184e-8abf-4228-e0f1-3b2d0d9909e8",
        "colab": {
          "base_uri": "https://localhost:8080/"
        }
      },
      "outputs": [
        {
          "output_type": "execute_result",
          "data": {
            "text/plain": [
              "1450"
            ]
          },
          "metadata": {},
          "execution_count": 10
        }
      ],
      "source": [
        "disney_df.count()\n",
        "#netflix_df.count()"
      ]
    },
    {
      "cell_type": "code",
      "execution_count": 11,
      "id": "53b51f72",
      "metadata": {
        "id": "53b51f72",
        "outputId": "e9d5ad44-9d81-4d83-a4f3-279fb49f8184",
        "colab": {
          "base_uri": "https://localhost:8080/"
        }
      },
      "outputs": [
        {
          "output_type": "stream",
          "name": "stdout",
          "text": [
            "+-------+-------+--------------------+--------+--------------------+--------------+------------------+------------+------+---------+--------------------+--------------------+\n",
            "|show_id|   type|               title|director|                cast|       country|        date_added|release_year|rating| duration|           listed_in|         description|\n",
            "+-------+-------+--------------------+--------+--------------------+--------------+------------------+------------+------+---------+--------------------+--------------------+\n",
            "|     s2|TV Show|       Blood & Water|    null|Ama Qamata, Khosi...|  South Africa|September 24, 2021|        2021| TV-MA|2 Seasons|International TV ...|After crossing pa...|\n",
            "|     s4|TV Show|Jailbirds New Orl...|    null|                null|          null|September 24, 2021|        2021| TV-MA| 1 Season|Docuseries, Reali...|Feuds, flirtation...|\n",
            "|     s5|TV Show|        Kota Factory|    null|Mayur More, Jiten...|         India|September 24, 2021|        2021| TV-MA|2 Seasons|International TV ...|In a city of coac...|\n",
            "|    s11|TV Show|Vendetta: Truth, ...|    null|                null|          null|September 24, 2021|        2021| TV-MA| 1 Season|Crime TV Shows, D...|\"Sicily boasts a ...|\n",
            "|    s15|TV Show|Crime Stories: In...|    null|                null|          null|September 22, 2021|        2021| TV-MA| 1 Season|British TV Shows,...|Cameras following...|\n",
            "|    s16|TV Show|   Dear White People|    null|Logan Browning, B...| United States|September 22, 2021|        2021| TV-MA|4 Seasons|TV Comedies, TV D...|\"Students of colo...|\n",
            "|    s18|TV Show|     Falsa identidad|    null|Luis Ernesto Fran...|        Mexico|September 22, 2021|        2020| TV-MA|2 Seasons|Crime TV Shows, S...|Strangers Diego a...|\n",
            "|    s20|TV Show|              Jaguar|    null|Blanca Suárez, Iv...|          null|September 22, 2021|        2021| TV-MA| 1 Season|International TV ...|In the 1960s, a H...|\n",
            "|    s22|TV Show|Resurrection: Ert...|    null|Engin Altan Düzya...|        Turkey|September 22, 2021|        2018| TV-14|5 Seasons|International TV ...|When a good deed ...|\n",
            "|    s26|TV Show|Love on the Spectrum|    null|    Brooke Satchwell|     Australia|September 21, 2021|        2021| TV-14|2 Seasons|Docuseries, Inter...|Finding love can ...|\n",
            "|    s32|TV Show|  Chicago Party Aunt|    null|Lauren Ash, Rory ...|          null|September 17, 2021|        2021| TV-MA| 1 Season|         TV Comedies|Chicago Party Aun...|\n",
            "|    s33|TV Show|       Sex Education|    null|Asa Butterfield, ...|United Kingdom|September 17, 2021|        2020| TV-MA|3 Seasons|British TV Shows,...|Insecure Otis has...|\n",
            "|    s34|TV Show|          Squid Game|    null|Lee Jung-jae, Par...|          null|September 17, 2021|        2021| TV-MA| 1 Season|International TV ...|Hundreds of cash-...|\n",
            "|    s35|TV Show|Tayo and Little W...|    null|Dami Lee, Jason L...|          null|September 17, 2021|        2020| TV-Y7| 1 Season|            Kids' TV|Tayo speeds into ...|\n",
            "|    s38|TV Show|         Angry Birds|    null|Antti Pääkkönen, ...|       Finland|September 16, 2021|        2018| TV-Y7| 1 Season|Kids' TV, TV Come...|Birds Red, Chuck ...|\n",
            "|    s40|TV Show|        Chhota Bheem|    null|Vatsal Dubey, Jul...|         India|September 16, 2021|        2021| TV-Y7|3 Seasons|            Kids' TV|A brave, energeti...|\n",
            "|    s41|TV Show|He-Man and the Ma...|    null|Yuri Lowenthal, K...| United States|September 16, 2021|        2021| TV-Y7| 1 Season|Kids' TV, TV Sci-...|Mighty teen Adam ...|\n",
            "|    s50|TV Show|   Castle and Castle|    null|Richard Mofe-Dami...|       Nigeria|September 15, 2021|        2021| TV-MA|2 Seasons|International TV ...|A pair of high-po...|\n",
            "|    s51|TV Show|       Dharmakshetra|    null|Kashmira Irani, C...|         India|September 15, 2021|        2014| TV-PG| 1 Season|International TV ...|After the ancient...|\n",
            "|    s56|TV Show|           Nailed It|    null|Nicole Byer, Jacq...| United States|September 15, 2021|        2021| TV-PG|6 Seasons|          Reality TV|Home bakers with ...|\n",
            "+-------+-------+--------------------+--------+--------------------+--------------+------------------+------------+------+---------+--------------------+--------------------+\n",
            "only showing top 20 rows\n",
            "\n"
          ]
        }
      ],
      "source": [
        "\n",
        "netflix_df.filter(netflix_df.director.isNull()).show()"
      ]
    },
    {
      "cell_type": "code",
      "execution_count": 12,
      "id": "3cc49a03",
      "metadata": {
        "id": "3cc49a03"
      },
      "outputs": [],
      "source": [
        "disney_cl01 = disney_df.filter(disney_df.director.isNotNull())"
      ]
    },
    {
      "cell_type": "code",
      "execution_count": 13,
      "id": "59ca7826",
      "metadata": {
        "id": "59ca7826"
      },
      "outputs": [],
      "source": [
        "disney_cl02 = disney_cl01.filter(disney_cl01.release_year.isNotNull())"
      ]
    },
    {
      "cell_type": "code",
      "execution_count": 14,
      "id": "e63a93f5",
      "metadata": {
        "id": "e63a93f5"
      },
      "outputs": [],
      "source": [
        "disney_cl03 = disney_cl02.filter(disney_cl02.cast.isNotNull())"
      ]
    },
    {
      "cell_type": "code",
      "execution_count": 15,
      "id": "3d485657",
      "metadata": {
        "id": "3d485657"
      },
      "outputs": [],
      "source": [
        "disney_nb = disney_cl03.filter(disney_cl01.rating.isNotNull())"
      ]
    },
    {
      "cell_type": "code",
      "execution_count": 16,
      "id": "3670c214",
      "metadata": {
        "id": "3670c214",
        "outputId": "0d938309-b704-43b6-d095-938f0e7bd2ea",
        "colab": {
          "base_uri": "https://localhost:8080/"
        }
      },
      "outputs": [
        {
          "output_type": "execute_result",
          "data": {
            "text/plain": [
              "879"
            ]
          },
          "metadata": {},
          "execution_count": 16
        }
      ],
      "source": [
        "disney_nb.count()"
      ]
    },
    {
      "cell_type": "code",
      "execution_count": 17,
      "id": "09429829",
      "metadata": {
        "id": "09429829"
      },
      "outputs": [],
      "source": [
        "from pyspark.sql import SparkSession \n",
        "from pyspark.sql.functions import * \n",
        "from pyspark.ml import Pipeline \n",
        "from pyspark.ml.feature import VectorAssembler \n",
        "from pyspark.ml.feature import StringIndexer \n",
        "from pyspark.ml.classification import NaiveBayes \n",
        "from pyspark.ml.evaluation import MulticlassClassificationEvaluator"
      ]
    },
    {
      "cell_type": "code",
      "execution_count": 18,
      "id": "4b5e91f0",
      "metadata": {
        "id": "4b5e91f0"
      },
      "outputs": [],
      "source": [
        "\n",
        "indexers = [\n",
        "StringIndexer(inputCol=\"rating\", outputCol = \"rating_index\"),  \n",
        "StringIndexer(inputCol=\"cast\", outputCol = \"cast_index\"),\n",
        "StringIndexer(inputCol=\"release_year\", outputCol = \"year_index\"),\n",
        "StringIndexer(inputCol=\"director\", outputCol = \"label\")]\n",
        "\n",
        "pipeline = Pipeline(stages=indexers) "
      ]
    },
    {
      "cell_type": "code",
      "execution_count": 19,
      "id": "800f1496",
      "metadata": {
        "id": "800f1496",
        "outputId": "79b002e4-1d13-47ba-eb25-dbc2e60304e1",
        "colab": {
          "base_uri": "https://localhost:8080/"
        }
      },
      "outputs": [
        {
          "output_type": "stream",
          "name": "stdout",
          "text": [
            "+-------+-----+------------------------------------------------+---------------------------------+--------------------------------------------------------------------------------------------+-------------+-----------------+------------+------+--------+-------------------------+-------------------------------------------------------------------------+------------+----------+----------+-----+\n",
            "|show_id|type |title                                           |director                         |cast                                                                                        |country      |date_added       |release_year|rating|duration|listed_in                |description                                                              |rating_index|cast_index|year_index|label|\n",
            "+-------+-----+------------------------------------------------+---------------------------------+--------------------------------------------------------------------------------------------+-------------+-----------------+------------+------+--------+-------------------------+-------------------------------------------------------------------------+------------+----------+----------+-----+\n",
            "|s1     |Movie|Duck the Halls: A Mickey Mouse Christmas Special|Alonso Ramirez Ramos, Dave Wasson|Chris Diamantopoulos, Tony Anselmo, Tress MacNeille, Bill Farmer, Russi Taylor, Corey Burton|null         |November 26, 2021|2016        |TV-G  |23 min  |Animation, Family        |Join Mickey and the gang as they duck the halls!                         |2.0         |168.0     |12.0      |153.0|\n",
            "|s2     |Movie|Ernest Saves Christmas                          |John Cherry                      |Jim Varney, Noelle Parker, Douglas Seale                                                    |null         |November 26, 2021|1988        |PG    |91 min  |Comedy                   |Santa Claus passes his magic bag to a new St. Nic.                       |1.0         |420.0     |37.0      |345.0|\n",
            "|s3     |Movie|Ice Age: A Mammoth Christmas                    |Karen Disher                     |Raymond Albert Romano, John Leguizamo, Denis Leary, Queen Latifah                           |United States|November 26, 2021|2011        |TV-G  |23 min  |Animation, Comedy, Family|Sid the Sloth is on Santa's naughty list.                                |2.0         |11.0      |3.0       |365.0|\n",
            "|s4     |Movie|The Queen Family Singalong                      |Hamish Hamilton                  |Darren Criss, Adam Lambert, Derek Hough, Alexander Jean, Fall Out Boy, Jimmie Allen         |null         |November 26, 2021|2021        |TV-PG |41 min  |Musical                  |This is real life, not just fantasy!                                     |3.0         |212.0     |0.0       |89.0 |\n",
            "|s6     |Movie|Becoming Cousteau                               |Liz Garbus                       |Jacques Yves Cousteau, Vincent Cassel                                                       |United States|November 24, 2021|2021        |PG-13 |94 min  |Biographical, Documentary|An inside look at the legendary life of adventurer Jacques-Yves Cousteau.|4.0         |370.0     |0.0       |396.0|\n",
            "+-------+-----+------------------------------------------------+---------------------------------+--------------------------------------------------------------------------------------------+-------------+-----------------+------------+------+--------+-------------------------+-------------------------------------------------------------------------+------------+----------+----------+-----+\n",
            "only showing top 5 rows\n",
            "\n"
          ]
        }
      ],
      "source": [
        "indexed_disney = pipeline.fit(disney_nb).transform(disney_nb) \n",
        "indexed_disney.show(5,False) \n",
        "#We have given False for turn off default truncation"
      ]
    },
    {
      "cell_type": "code",
      "execution_count": null,
      "id": "f87e5d73",
      "metadata": {
        "id": "f87e5d73"
      },
      "outputs": [],
      "source": [
        ""
      ]
    },
    {
      "cell_type": "code",
      "execution_count": null,
      "id": "a0cdbd93",
      "metadata": {
        "id": "a0cdbd93"
      },
      "outputs": [],
      "source": [
        ""
      ]
    },
    {
      "cell_type": "code",
      "execution_count": 20,
      "id": "8df34627",
      "metadata": {
        "scrolled": true,
        "id": "8df34627",
        "outputId": "84a688f3-5afa-4bf7-ed1f-9ae596892d60",
        "colab": {
          "base_uri": "https://localhost:8080/"
        }
      },
      "outputs": [
        {
          "output_type": "stream",
          "name": "stdout",
          "text": [
            "+-------+-----+------------------------------------------------+---------------------------------+--------------------------------------------------------------------------------------------+-------------+-----------------+------------+------+--------+-------------------------+-------------------------------------------------------------------------+------------+----------+----------+-----+----------------+\n",
            "|show_id|type |title                                           |director                         |cast                                                                                        |country      |date_added       |release_year|rating|duration|listed_in                |description                                                              |rating_index|cast_index|year_index|label|features        |\n",
            "+-------+-----+------------------------------------------------+---------------------------------+--------------------------------------------------------------------------------------------+-------------+-----------------+------------+------+--------+-------------------------+-------------------------------------------------------------------------+------------+----------+----------+-----+----------------+\n",
            "|s1     |Movie|Duck the Halls: A Mickey Mouse Christmas Special|Alonso Ramirez Ramos, Dave Wasson|Chris Diamantopoulos, Tony Anselmo, Tress MacNeille, Bill Farmer, Russi Taylor, Corey Burton|null         |November 26, 2021|2016        |TV-G  |23 min  |Animation, Family        |Join Mickey and the gang as they duck the halls!                         |2.0         |168.0     |12.0      |153.0|[2.0,12.0,168.0]|\n",
            "|s2     |Movie|Ernest Saves Christmas                          |John Cherry                      |Jim Varney, Noelle Parker, Douglas Seale                                                    |null         |November 26, 2021|1988        |PG    |91 min  |Comedy                   |Santa Claus passes his magic bag to a new St. Nic.                       |1.0         |420.0     |37.0      |345.0|[1.0,37.0,420.0]|\n",
            "|s3     |Movie|Ice Age: A Mammoth Christmas                    |Karen Disher                     |Raymond Albert Romano, John Leguizamo, Denis Leary, Queen Latifah                           |United States|November 26, 2021|2011        |TV-G  |23 min  |Animation, Comedy, Family|Sid the Sloth is on Santa's naughty list.                                |2.0         |11.0      |3.0       |365.0|[2.0,3.0,11.0]  |\n",
            "|s4     |Movie|The Queen Family Singalong                      |Hamish Hamilton                  |Darren Criss, Adam Lambert, Derek Hough, Alexander Jean, Fall Out Boy, Jimmie Allen         |null         |November 26, 2021|2021        |TV-PG |41 min  |Musical                  |This is real life, not just fantasy!                                     |3.0         |212.0     |0.0       |89.0 |[3.0,0.0,212.0] |\n",
            "|s6     |Movie|Becoming Cousteau                               |Liz Garbus                       |Jacques Yves Cousteau, Vincent Cassel                                                       |United States|November 24, 2021|2021        |PG-13 |94 min  |Biographical, Documentary|An inside look at the legendary life of adventurer Jacques-Yves Cousteau.|4.0         |370.0     |0.0       |396.0|[4.0,0.0,370.0] |\n",
            "+-------+-----+------------------------------------------------+---------------------------------+--------------------------------------------------------------------------------------------+-------------+-----------------+------------+------+--------+-------------------------+-------------------------------------------------------------------------+------------+----------+----------+-----+----------------+\n",
            "only showing top 5 rows\n",
            "\n"
          ]
        }
      ],
      "source": [
        "vectorAssembler = VectorAssembler(inputCols = [\"rating_index\", \"year_index\", \"cast_index\"],outputCol = \"features\") \n",
        "vindexed_disney = vectorAssembler.transform(indexed_disney) \n",
        "vindexed_disney.show(5, False)"
      ]
    },
    {
      "cell_type": "code",
      "execution_count": 21,
      "id": "5c7a0aa6",
      "metadata": {
        "id": "5c7a0aa6"
      },
      "outputs": [],
      "source": [
        "splits = vindexed_disney.randomSplit([0.6,0.4], 42) \n",
        "# optional value 42 is seed for sampling \n",
        "train_df = splits[0] \n",
        "test_df = splits[1]"
      ]
    },
    {
      "cell_type": "code",
      "execution_count": 22,
      "id": "5b6bffe3",
      "metadata": {
        "id": "5b6bffe3"
      },
      "outputs": [],
      "source": [
        "nb = NaiveBayes(modelType=\"multinomial\")"
      ]
    },
    {
      "cell_type": "code",
      "execution_count": 23,
      "id": "81e3cfaa",
      "metadata": {
        "id": "81e3cfaa"
      },
      "outputs": [],
      "source": [
        "nbmodel = nb.fit(train_df)"
      ]
    },
    {
      "cell_type": "code",
      "execution_count": 24,
      "id": "02c4a100",
      "metadata": {
        "id": "02c4a100",
        "outputId": "3b9b83cf-f3ae-4ddf-f8d2-9fa9f69136ac",
        "colab": {
          "base_uri": "https://localhost:8080/"
        }
      },
      "outputs": [
        {
          "output_type": "stream",
          "name": "stdout",
          "text": [
            "+-------+-----+--------------------+--------------------+--------------------+-------------+------------------+------------+------+--------+--------------------+--------------------+------------+----------+----------+-----+----------------+--------------------+--------------------+----------+\n",
            "|show_id| type|               title|            director|                cast|      country|        date_added|release_year|rating|duration|           listed_in|         description|rating_index|cast_index|year_index|label|        features|       rawPrediction|         probability|prediction|\n",
            "+-------+-----+--------------------+--------------------+--------------------+-------------+------------------+------------+------+--------+--------------------+--------------------+------------+----------+----------+-----+----------------+--------------------+--------------------+----------+\n",
            "|     s1|Movie|Duck the Halls: A...|Alonso Ramirez Ra...|Chris Diamantopou...|         null| November 26, 2021|        2016|  TV-G|  23 min|   Animation, Family|Join Mickey and t...|         2.0|     168.0|      12.0|153.0|[2.0,12.0,168.0]|[-65.890208534394...|[2.01052946798326...|       6.0|\n",
            "|   s100|Movie|Confessions of a ...|          P.J. Hogan|Isla Fisher, Hugh...|United States|September 17, 2021|        2009|    PG| 106 min|Comedy, Romance, ...|Becky writes a pe...|         1.0|     363.0|       5.0|448.0| [1.0,5.0,363.0]|[-38.574213154917...|[0.04069421904806...|       0.0|\n",
            "|  s1008|Movie|LEGO Star Wars: T...|      Michael Hegner|Tom Kane, Anthony...|United States| November 12, 2019|        2014| TV-Y7|  24 min|Action-Adventure,...|The enraged Emper...|         6.0|       5.0|       4.0| 15.0|   [6.0,4.0,5.0]|[-52.434484762738...|[2.22999561755989...|      15.0|\n",
            "|   s101|Movie|Descendants: Roya...|       Salvador Simó|Dove Cameron, Sof...|         null|September 17, 2021|        2021|  TV-G|  22 min|Animation, Fantas...|Mal and Ben’s wed...|         2.0|     264.0|       0.0|499.0| [2.0,0.0,264.0]|[-22.131290328435...|[0.00101012083746...|     172.0|\n",
            "|  s1011|Movie|LEGO Star Wars: T...|      Michael Hegner|Tom Kane, Anthony...|United States| November 12, 2019|        2014| TV-Y7|  24 min|Action-Adventure,...|Yoda and Obi-Wan ...|         6.0|     783.0|       4.0| 15.0| [6.0,4.0,783.0]|[-72.669695636379...|[1.18453235440279...|     144.0|\n",
            "+-------+-----+--------------------+--------------------+--------------------+-------------+------------------+------------+------+--------+--------------------+--------------------+------------+----------+----------+-----+----------------+--------------------+--------------------+----------+\n",
            "only showing top 5 rows\n",
            "\n"
          ]
        }
      ],
      "source": [
        "predictions_df = nbmodel.transform(test_df)\n",
        "predictions_df.show(5, True)"
      ]
    },
    {
      "cell_type": "code",
      "execution_count": 25,
      "id": "b9575ec7",
      "metadata": {
        "id": "b9575ec7",
        "outputId": "d6aa54cb-824b-4c32-ba8d-970af216acd9",
        "colab": {
          "base_uri": "https://localhost:8080/"
        }
      },
      "outputs": [
        {
          "output_type": "stream",
          "name": "stdout",
          "text": [
            "+--------------------+--------------------+------+-----+\n",
            "|            director|                cast|rating|label|\n",
            "+--------------------+--------------------+------+-----+\n",
            "|Alonso Ramirez Ra...|Chris Diamantopou...|  TV-G|153.0|\n",
            "|          P.J. Hogan|Isla Fisher, Hugh...|    PG|448.0|\n",
            "|      Michael Hegner|Tom Kane, Anthony...| TV-Y7| 15.0|\n",
            "|       Salvador Simó|Dove Cameron, Sof...|  TV-G|499.0|\n",
            "|      Michael Hegner|Tom Kane, Anthony...| TV-Y7| 15.0|\n",
            "|      Michael Hegner|Tom Kane, Anthony...| TV-Y7| 15.0|\n",
            "|Roberts Gannaway,...|Daveigh Chase, Ch...|     G|488.0|\n",
            "|        Charles Haid|Kyle Massey, Kay ...|  TV-G| 62.0|\n",
            "|        James Lapine|Michael Fox, Nath...|    PG|314.0|\n",
            "|     Steven Tsuchida|Tyra Banks, Franc...| TV-14|531.0|\n",
            "|Christopher Sande...|Daveigh Chase, Ch...| TV-PG|219.0|\n",
            "|           Paul Hoen|Paul Kiernan, Tim...|  TV-G|  0.0|\n",
            "| Katie Bauer Murdock|       Devin E. Haqq| TV-PG|103.0|\n",
            "|         Peyton Reed|Paul Rudd, Evange...| PG-13|125.0|\n",
            "|         Joss Whedon|Robert Downey Jr....| PG-13|102.0|\n",
            "|Anthony Russo, Jo...|Chris Evans, Scar...| PG-13| 17.0|\n",
            "|Anna Boden, Ryan ...|Brie Larson, Samu...| PG-13|161.0|\n",
            "|    Scott Derrickson|Benedict Cumberba...| PG-13|505.0|\n",
            "|          James Gunn|Chris Pratt, Brad...| PG-13| 93.0|\n",
            "|         Jon Favreau|Robert Downey Jr....| PG-13| 24.0|\n",
            "+--------------------+--------------------+------+-----+\n",
            "only showing top 20 rows\n",
            "\n"
          ]
        }
      ],
      "source": [
        "predictions_df.select([c for c in predictions_df.columns if c in ['director','rating','label','cast']]).show()"
      ]
    },
    {
      "cell_type": "code",
      "execution_count": 26,
      "id": "ed10c8a4",
      "metadata": {
        "id": "ed10c8a4",
        "outputId": "2bcc6171-1c57-4ee1-c8e3-091b737bb6b0",
        "colab": {
          "base_uri": "https://localhost:8080/"
        }
      },
      "outputs": [
        {
          "output_type": "execute_result",
          "data": {
            "text/plain": [
              "8809"
            ]
          },
          "metadata": {},
          "execution_count": 26
        }
      ],
      "source": [
        "netflix_df.count()"
      ]
    },
    {
      "cell_type": "code",
      "execution_count": 27,
      "id": "bf218b2e",
      "metadata": {
        "id": "bf218b2e"
      },
      "outputs": [],
      "source": [
        "netflix_cl01 = netflix_df.filter(netflix_df.director.isNotNull())"
      ]
    },
    {
      "cell_type": "code",
      "execution_count": 28,
      "id": "209e6f80",
      "metadata": {
        "id": "209e6f80"
      },
      "outputs": [],
      "source": [
        "netflix_cl02 = netflix_cl01.filter(netflix_cl01.release_year.isNotNull())"
      ]
    },
    {
      "cell_type": "code",
      "execution_count": 29,
      "id": "97226287",
      "metadata": {
        "id": "97226287"
      },
      "outputs": [],
      "source": [
        "netflix_cl03 = netflix_cl02.filter(netflix_cl02.cast.isNotNull())"
      ]
    },
    {
      "cell_type": "code",
      "execution_count": 30,
      "id": "fcd1bcc0",
      "metadata": {
        "id": "fcd1bcc0"
      },
      "outputs": [],
      "source": [
        "netflix_nb = netflix_cl03.filter(netflix_cl01.rating.isNotNull())"
      ]
    },
    {
      "cell_type": "code",
      "execution_count": 31,
      "metadata": {
        "id": "OGt8EIoacDgG",
        "outputId": "0173aa9e-c344-4e85-ec4d-88a93074698e",
        "colab": {
          "base_uri": "https://localhost:8080/"
        }
      },
      "outputs": [
        {
          "output_type": "execute_result",
          "data": {
            "text/plain": [
              "5700"
            ]
          },
          "metadata": {},
          "execution_count": 31
        }
      ],
      "source": [
        "netflix_nb.count()"
      ],
      "id": "OGt8EIoacDgG"
    },
    {
      "cell_type": "code",
      "execution_count": null,
      "id": "f275f2cf",
      "metadata": {
        "id": "f275f2cf"
      },
      "outputs": [],
      "source": [
        ""
      ]
    },
    {
      "cell_type": "code",
      "execution_count": 32,
      "id": "2598b0f1",
      "metadata": {
        "id": "2598b0f1"
      },
      "outputs": [],
      "source": [
        "\n",
        "\n",
        "indexersN = [\n",
        "\n",
        "StringIndexer(inputCol=\"rating\", outputCol = \"rating_index\"),  \n",
        "\n",
        "StringIndexer(inputCol=\"cast\", outputCol = \"cast_index\"),\n",
        "\n",
        "StringIndexer(inputCol=\"release_year\", outputCol = \"year_index\"),\n",
        "\n",
        "StringIndexer(inputCol=\"director\", outputCol = \"label\")]\n",
        "\n",
        "\n",
        "\n",
        "pipelineN = Pipeline(stages=indexersN) \n",
        "\n"
      ]
    },
    {
      "cell_type": "code",
      "execution_count": 33,
      "id": "7b04dbc7",
      "metadata": {
        "id": "7b04dbc7",
        "outputId": "add78337-2b33-4155-a7ca-5817d41d9f3a",
        "colab": {
          "base_uri": "https://localhost:8080/"
        }
      },
      "outputs": [
        {
          "output_type": "stream",
          "name": "stdout",
          "text": [
            "+-------+-------+--------------------------------+-----------------------------+----------------------------------------------------------------------------------------------------------------------------------------------------------------------------------------------------------------------------------------+---------------------------------------------------------------------+------------------+------------+------+---------+-------------------------------------------------------------+---------------------------------------------------------------------------------------------------------------------------------------------------------+------------+----------+----------+------+\n",
            "|show_id|type   |title                           |director                     |cast                                                                                                                                                                                                                                    |country                                                              |date_added        |release_year|rating|duration |listed_in                                                    |description                                                                                                                                              |rating_index|cast_index|year_index|label |\n",
            "+-------+-------+--------------------------------+-----------------------------+----------------------------------------------------------------------------------------------------------------------------------------------------------------------------------------------------------------------------------------+---------------------------------------------------------------------+------------------+------------+------+---------+-------------------------------------------------------------+---------------------------------------------------------------------------------------------------------------------------------------------------------+------------+----------+----------+------+\n",
            "|s3     |TV Show|Ganglands                       |Julien Leclercq              |Sami Bouajila, Tracy Gotoas, Samuel Jouy, Nabiha Akkari, Sofia Lesaffre, Salim Kechiouche, Noureddine Farihi, Geert Van Rampelberg, Bakary Diombera                                                                                     |null                                                                 |September 24, 2021|2021        |TV-MA |1 Season |Crime TV Shows, International TV Shows, TV Action & Adventure|To protect his family from a powerful drug lord, skilled thief Mehdi and his expert team of robbers are pulled into a violent and deadly turf war.       |0.0         |4549.0    |6.0       |223.0 |\n",
            "|s6     |TV Show|Midnight Mass                   |Mike Flanagan                |Kate Siegel, Zach Gilford, Hamish Linklater, Henry Thomas, Kristin Lehman, Samantha Sloyan, Igby Rigney, Rahul Kohli, Annarah Cymone, Annabeth Gish, Alex Essoe, Rahul Abburi, Matt Biedel, Michael Trucco, Crystal Balint, Louis Oliver|null                                                                 |September 24, 2021|2021        |TV-MA |1 Season |TV Dramas, TV Horror, TV Mysteries                           |The arrival of a charismatic young priest brings glorious miracles, ominous mysteries and renewed religious fervor to a dying town desperate to believe. |0.0         |2784.0    |6.0       |125.0 |\n",
            "|s7     |Movie  |My Little Pony: A New Generation|Robert Cullen, José Luis Ucha|Vanessa Hudgens, Kimiko Glenn, James Marsden, Sofia Carson, Liza Koshy, Ken Jeong, Elizabeth Perkins, Jane Krakowski, Michael McKean, Phil LaMarr                                                                                       |null                                                                 |September 24, 2021|2021        |PG    |91 min   |Children & Family Movies                                     |Equestria's divided. But a bright-eyed hero believes Earth Ponies, Pegasi and Unicorns should be pals — and, hoof to heart, she’s determined to prove it.|5.0         |5247.0    |6.0       |3442.0|\n",
            "|s8     |Movie  |Sankofa                         |Haile Gerima                 |Kofi Ghanaba, Oyafunmike Ogunlano, Alexandra Duah, Nick Medley, Mutabaruka, Afemo Omilami, Reggie Carter, Mzuri                                                                                                                         |United States, Ghana, Burkina Faso, United Kingdom, Germany, Ethiopia|September 24, 2021|1993        |TV-MA |125 min  |Dramas, Independent Movies, International Movies             |On a photo shoot in Ghana, an American model slips back in time, becomes enslaved on a plantation and bears witness to the agony of her ancestral past.  |0.0         |2936.0    |25.0      |1940.0|\n",
            "|s9     |TV Show|The Great British Baking Show   |Andy Devonshire              |Mel Giedroyc, Sue Perkins, Mary Berry, Paul Hollywood                                                                                                                                                                                   |United Kingdom                                                       |September 24, 2021|2021        |TV-14 |9 Seasons|British TV Shows, Reality TV                                 |A talented batch of amateur bakers face off in a 10-week competition, whipping up their best dishes in the hopes of being named the U.K.'s best.         |1.0         |3497.0    |6.0       |1031.0|\n",
            "+-------+-------+--------------------------------+-----------------------------+----------------------------------------------------------------------------------------------------------------------------------------------------------------------------------------------------------------------------------------+---------------------------------------------------------------------+------------------+------------+------+---------+-------------------------------------------------------------+---------------------------------------------------------------------------------------------------------------------------------------------------------+------------+----------+----------+------+\n",
            "only showing top 5 rows\n",
            "\n"
          ]
        }
      ],
      "source": [
        "indexed_netflix = pipelineN.fit(netflix_nb).transform(netflix_nb) \n",
        "indexed_netflix.show(5,False) "
      ]
    },
    {
      "cell_type": "code",
      "execution_count": 34,
      "id": "b049b06a",
      "metadata": {
        "id": "b049b06a",
        "outputId": "2619f69c-c151-4088-a61e-ded6a5de51f1",
        "colab": {
          "base_uri": "https://localhost:8080/"
        }
      },
      "outputs": [
        {
          "output_type": "stream",
          "name": "stdout",
          "text": [
            "+-------+-------+--------------------------------+-----------------------------+----------------------------------------------------------------------------------------------------------------------------------------------------------------------------------------------------------------------------------------+---------------------------------------------------------------------+------------------+------------+------+---------+-------------------------------------------------------------+---------------------------------------------------------------------------------------------------------------------------------------------------------+------------+----------+----------+------+-----------------+\n",
            "|show_id|type   |title                           |director                     |cast                                                                                                                                                                                                                                    |country                                                              |date_added        |release_year|rating|duration |listed_in                                                    |description                                                                                                                                              |rating_index|cast_index|year_index|label |features         |\n",
            "+-------+-------+--------------------------------+-----------------------------+----------------------------------------------------------------------------------------------------------------------------------------------------------------------------------------------------------------------------------------+---------------------------------------------------------------------+------------------+------------+------+---------+-------------------------------------------------------------+---------------------------------------------------------------------------------------------------------------------------------------------------------+------------+----------+----------+------+-----------------+\n",
            "|s3     |TV Show|Ganglands                       |Julien Leclercq              |Sami Bouajila, Tracy Gotoas, Samuel Jouy, Nabiha Akkari, Sofia Lesaffre, Salim Kechiouche, Noureddine Farihi, Geert Van Rampelberg, Bakary Diombera                                                                                     |null                                                                 |September 24, 2021|2021        |TV-MA |1 Season |Crime TV Shows, International TV Shows, TV Action & Adventure|To protect his family from a powerful drug lord, skilled thief Mehdi and his expert team of robbers are pulled into a violent and deadly turf war.       |0.0         |4549.0    |6.0       |223.0 |[0.0,6.0,4549.0] |\n",
            "|s6     |TV Show|Midnight Mass                   |Mike Flanagan                |Kate Siegel, Zach Gilford, Hamish Linklater, Henry Thomas, Kristin Lehman, Samantha Sloyan, Igby Rigney, Rahul Kohli, Annarah Cymone, Annabeth Gish, Alex Essoe, Rahul Abburi, Matt Biedel, Michael Trucco, Crystal Balint, Louis Oliver|null                                                                 |September 24, 2021|2021        |TV-MA |1 Season |TV Dramas, TV Horror, TV Mysteries                           |The arrival of a charismatic young priest brings glorious miracles, ominous mysteries and renewed religious fervor to a dying town desperate to believe. |0.0         |2784.0    |6.0       |125.0 |[0.0,6.0,2784.0] |\n",
            "|s7     |Movie  |My Little Pony: A New Generation|Robert Cullen, José Luis Ucha|Vanessa Hudgens, Kimiko Glenn, James Marsden, Sofia Carson, Liza Koshy, Ken Jeong, Elizabeth Perkins, Jane Krakowski, Michael McKean, Phil LaMarr                                                                                       |null                                                                 |September 24, 2021|2021        |PG    |91 min   |Children & Family Movies                                     |Equestria's divided. But a bright-eyed hero believes Earth Ponies, Pegasi and Unicorns should be pals — and, hoof to heart, she’s determined to prove it.|5.0         |5247.0    |6.0       |3442.0|[5.0,6.0,5247.0] |\n",
            "|s8     |Movie  |Sankofa                         |Haile Gerima                 |Kofi Ghanaba, Oyafunmike Ogunlano, Alexandra Duah, Nick Medley, Mutabaruka, Afemo Omilami, Reggie Carter, Mzuri                                                                                                                         |United States, Ghana, Burkina Faso, United Kingdom, Germany, Ethiopia|September 24, 2021|1993        |TV-MA |125 min  |Dramas, Independent Movies, International Movies             |On a photo shoot in Ghana, an American model slips back in time, becomes enslaved on a plantation and bears witness to the agony of her ancestral past.  |0.0         |2936.0    |25.0      |1940.0|[0.0,25.0,2936.0]|\n",
            "|s9     |TV Show|The Great British Baking Show   |Andy Devonshire              |Mel Giedroyc, Sue Perkins, Mary Berry, Paul Hollywood                                                                                                                                                                                   |United Kingdom                                                       |September 24, 2021|2021        |TV-14 |9 Seasons|British TV Shows, Reality TV                                 |A talented batch of amateur bakers face off in a 10-week competition, whipping up their best dishes in the hopes of being named the U.K.'s best.         |1.0         |3497.0    |6.0       |1031.0|[1.0,6.0,3497.0] |\n",
            "+-------+-------+--------------------------------+-----------------------------+----------------------------------------------------------------------------------------------------------------------------------------------------------------------------------------------------------------------------------------+---------------------------------------------------------------------+------------------+------------+------+---------+-------------------------------------------------------------+---------------------------------------------------------------------------------------------------------------------------------------------------------+------------+----------+----------+------+-----------------+\n",
            "only showing top 5 rows\n",
            "\n"
          ]
        }
      ],
      "source": [
        "vectorAssembler = VectorAssembler(inputCols = [\"rating_index\", \"year_index\", \"cast_index\"],outputCol = \"features\") \n",
        "vindexed_netflix = vectorAssembler.transform(indexed_netflix) \n",
        "vindexed_netflix.show(5, False)"
      ]
    },
    {
      "cell_type": "code",
      "execution_count": 35,
      "metadata": {
        "id": "mkx-g_g4cDgM"
      },
      "outputs": [],
      "source": [
        "splits = vindexed_netflix.randomSplit([0.6,0.4], 42) \n",
        "# optional value 42 is seed for sampling \n",
        "train_df = splits[0] \n",
        "test_df = splits[1]"
      ],
      "id": "mkx-g_g4cDgM"
    },
    {
      "cell_type": "code",
      "execution_count": 36,
      "metadata": {
        "id": "bCSiBcsJcDgN"
      },
      "outputs": [],
      "source": [
        "nbN = NaiveBayes(modelType=\"multinomial\")"
      ],
      "id": "bCSiBcsJcDgN"
    },
    {
      "cell_type": "code",
      "execution_count": 37,
      "metadata": {
        "id": "kB8tgePfcDgO"
      },
      "outputs": [],
      "source": [
        "nbmodelN = nbN.fit(train_df)"
      ],
      "id": "kB8tgePfcDgO"
    },
    {
      "cell_type": "code",
      "execution_count": 38,
      "metadata": {
        "id": "o9Hh_Tf9cDgP",
        "outputId": "390c3a35-64f9-40ed-9327-3b358ac53728",
        "colab": {
          "base_uri": "https://localhost:8080/"
        }
      },
      "outputs": [
        {
          "output_type": "stream",
          "name": "stdout",
          "text": [
            "+----------------+-------------+--------------------+-------------+--------------------+--------------------+--------------+------------+--------------------+--------------------+--------------------+--------------------+------------+----------+----------+------+------------------+--------------------+--------------------+----------+\n",
            "|         show_id|         type|               title|     director|                cast|             country|    date_added|release_year|              rating|            duration|           listed_in|         description|rating_index|cast_index|year_index| label|          features|       rawPrediction|         probability|prediction|\n",
            "+----------------+-------------+--------------------+-------------+--------------------+--------------------+--------------+------------+--------------------+--------------------+--------------------+--------------------+------------+----------+----------+------+------------------+--------------------+--------------------+----------+\n",
            "|Flying Fortress\"|William Wyler|                null|United States|      March 31, 2017|                1944|         TV-PG|      40 min|Classic Movies, D...|This documentary ...|                null|                null|        32.0|    3332.0|      84.0|3982.0|[32.0,84.0,3332.0]|[-985.92915795417...|[3.26190053732330...|     269.0|\n",
            "|           s1000|        Movie|            Stowaway|    Joe Penna|Anna Kendrick, To...|Germany, United S...|April 22, 2021|        2021|               TV-MA|             116 min|Dramas, Internati...|A three-person cr...|         0.0|     581.0|       6.0|2253.0|   [0.0,6.0,581.0]|[-55.199458407174...|[5.69020415303774...|       7.0|\n",
            "|           s1002|        Movie|            Oloibiri|Curtis Graham|Olu Jacobs, Richa...|Canada, Nigeria, ...|April 21, 2021|        2015|               TV-14|              86 min|Dramas, Internati...|After drilling de...|         1.0|    3921.0|       5.0|1460.0|  [1.0,5.0,3921.0]|[-57.607810431266...|[2.78162389310812...|       2.0|\n",
            "|           s1007|        Movie|Motu Patlu Dino I...|  Suhas Kadav|Sourav Chakrabort...|                null|April 20, 2021|        2018|               TV-Y7|              80 min|Children & Family...|A time machine se...|         6.0|    4863.0|       0.0|   5.0|  [6.0,0.0,4863.0]|[-63.470265536514...|[4.66334236682527...|      25.0|\n",
            "|           s1009|        Movie|Motu Patlu VS Rob...|  Suhas Kadav|Sourav Chakrabort...|                null|April 20, 2021|        2019|                TV-Y|              84 min|Children & Family...|For Motu, facing ...|         7.0|    4862.0|       3.0|   5.0|  [7.0,3.0,4862.0]|[-97.095588801984...|[9.18219558568965...|     311.0|\n",
            "+----------------+-------------+--------------------+-------------+--------------------+--------------------+--------------+------------+--------------------+--------------------+--------------------+--------------------+------------+----------+----------+------+------------------+--------------------+--------------------+----------+\n",
            "only showing top 5 rows\n",
            "\n"
          ]
        }
      ],
      "source": [
        "predictionsN_df = nbmodelN.transform(test_df)\n",
        "predictionsN_df.show(5, True)"
      ],
      "id": "o9Hh_Tf9cDgP"
    },
    {
      "cell_type": "code",
      "execution_count": 39,
      "id": "9cf29b1b",
      "metadata": {
        "id": "9cf29b1b",
        "outputId": "06f62e5f-5d05-4b52-df86-15efc0467f2b",
        "colab": {
          "base_uri": "https://localhost:8080/"
        }
      },
      "outputs": [
        {
          "output_type": "stream",
          "name": "stdout",
          "text": [
            "+--------------------+--------------------+--------------------+------+\n",
            "|            director|                cast|              rating| label|\n",
            "+--------------------+--------------------+--------------------+------+\n",
            "|       United States|      March 31, 2017|Classic Movies, D...|3982.0|\n",
            "|           Joe Penna|Anna Kendrick, To...|               TV-MA|2253.0|\n",
            "|       Curtis Graham|Olu Jacobs, Richa...|               TV-14|1460.0|\n",
            "|         Suhas Kadav|Sourav Chakrabort...|               TV-Y7|   5.0|\n",
            "|         Suhas Kadav|Sourav Chakrabort...|                TV-Y|   5.0|\n",
            "|Akshay Sanjeev Ch...|Shailendra Pandey...|               TV-Y7| 893.0|\n",
            "|  Edward James Olmos|Edward James Olmo...|                   R|1667.0|\n",
            "|           Kiran Rao|Aamir Khan, Monic...|               TV-MA|2520.0|\n",
            "|      Abbas Tyrewala|Imran Khan, Genel...|               TV-14| 823.0|\n",
            "|  Ashutosh Gowariker|Aamir Khan, Gracy...|                  PG|  34.0|\n",
            "|Anusha Rizvi, Mah...|Omkar Das Manikpu...|               TV-MA|1082.0|\n",
            "|Shashank Khaitan,...|Fatima Sana Shaik...|               TV-MA|3672.0|\n",
            "|       Cassi Simonds|America Young, Ca...|                TV-Y|1319.0|\n",
            "|          Tony Abulu|Isaiah Washington...|               TV-MA|3946.0|\n",
            "|    Mae Czarina Cruz|Alexa Ilacad, Cha...|               TV-MA|  26.0|\n",
            "|           Niki Caro|Jessica Chastain,...|               PG-13|3080.0|\n",
            "|Mark Dennis, Ben ...|Andrew Wilson, Ca...|               TV-14|2781.0|\n",
            "|     Taranveer Singh|Anmol Thakeria Dh...|               TV-14|3853.0|\n",
            "|       TT The Artist|Uneek, Mighty Mar...|               TV-MA|3833.0|\n",
            "|         Glenn Weiss|        Garth Brooks|               TV-PG|1896.0|\n",
            "+--------------------+--------------------+--------------------+------+\n",
            "only showing top 20 rows\n",
            "\n"
          ]
        }
      ],
      "source": [
        "predictionsN_df.select([c for c in predictionsN_df.columns if c in ['director','rating','label','cast']]).show()"
      ]
    },
    {
      "cell_type": "code",
      "execution_count": null,
      "id": "bb9be04e",
      "metadata": {
        "id": "bb9be04e"
      },
      "outputs": [],
      "source": [
        ""
      ]
    }
  ],
  "metadata": {
    "kernelspec": {
      "display_name": "Python 3 (ipykernel)",
      "language": "python",
      "name": "python3"
    },
    "language_info": {
      "codemirror_mode": {
        "name": "ipython",
        "version": 3
      },
      "file_extension": ".py",
      "mimetype": "text/x-python",
      "name": "python",
      "nbconvert_exporter": "python",
      "pygments_lexer": "ipython3",
      "version": "3.9.7"
    },
    "colab": {
      "name": "TXNB.ipynb",
      "provenance": []
    }
  },
  "nbformat": 4,
  "nbformat_minor": 5
}